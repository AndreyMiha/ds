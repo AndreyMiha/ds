{
  "cells": [
    {
      "cell_type": "markdown",
      "metadata": {
        "id": "_Yx1Mi7abuht"
      },
      "source": [
        "# План домашних заданий"
      ]
    },
    {
      "cell_type": "markdown",
      "metadata": {
        "id": "_HK3X8tveQhH"
      },
      "source": [
        "\n",
        "- Описание задачи и знакомство с данными\n",
        "- Домашнее задание 1. Генерация и фильтрация признаков\n",
        "- Домашнее задание 2. Прогноз времени и вида поломки машин, настройка ML-модели\n",
        "- Дополнительное задание. Визуализация прогнозов, ошибок модели и важности признаков\n",
        "- Домашнее задание 3. Оптимизация. Тюнинг гиперпараметров с помощью `Optuna`\n",
        "- Домашнее задание 4. Блендинг\n",
        "- Домашнее задание 5. Парсинг внешних данных и оптимизация памяти\n",
        "- Отправка финального решения на лидерборд на Kaggle"
      ]
    },
    {
      "cell_type": "code",
      "execution_count": 1,
      "metadata": {
        "id": "cfomgq3Sbuht"
      },
      "outputs": [],
      "source": [
        "import pandas as pd\n",
        "import numpy as np\n",
        "import matplotlib.pyplot as plt\n",
        "import seaborn as sns"
      ]
    },
    {
      "cell_type": "markdown",
      "metadata": {
        "id": "fkeIBE5Kbuht"
      },
      "source": [
        "# <center id=\"part0\"> Описание задачи"
      ]
    },
    {
      "cell_type": "markdown",
      "metadata": {
        "id": "MKmknPZbbuht"
      },
      "source": [
        "**Предыстория:**  мы работаем с каршеринговой компанией, которая управляет крупным автопарком машин. Наша цель — предотвратить длительные периоды простоя машин из-за поломок через своевременное обслуживание и ремонт.\n",
        "\n",
        "\n",
        "**Идея для решения проблемы:** создать приоритизированный список обхода машин. Этот список поможет технической бригаде сосредоточиться на автомобилях, которые наиболее вероятно выйдут из строя в ближайшее время.\n",
        "\n",
        "\n",
        "**Как компания решает задачу:**\n",
        "\n",
        "* Собирает данные о поездках и состоянии машин до поломок.\n",
        "\n",
        "* Нанимает Data Scientist, чтобы он смог использовать эти данные для анализа и прогнозирования характера поломок.\n",
        "\n",
        "**Важный момент**: задачи этого специалиста (Data Scientist) предстоит выполнять вам."
      ]
    },
    {
      "cell_type": "markdown",
      "metadata": {
        "id": "-VMB1MVpbuhu"
      },
      "source": [
        "## <center> Знакомство с данными"
      ]
    },
    {
      "cell_type": "markdown",
      "metadata": {
        "id": "TtZE_Frrbuhu"
      },
      "source": [
        "### Информация про машины с таргетом (основной датасет)"
      ]
    },
    {
      "cell_type": "code",
      "execution_count": 2,
      "metadata": {
        "colab": {
          "base_uri": "https://localhost:8080/",
          "height": 206
        },
        "id": "DhA6zYqebuhu",
        "outputId": "7c0d8354-2747-41c2-9308-a5c9f0ecefa5"
      },
      "outputs": [
        {
          "output_type": "execute_result",
          "data": {
            "text/plain": [
              "          car_id            model  car_type fuel_type  car_rating  \\\n",
              "2096  S-6684161s  Hyundai Solaris   economy    petrol        5.40   \n",
              "293   n20592045x       VW Polo VI   economy    petrol        3.78   \n",
              "1741  o-7943338e   Renault Kaptur  standart    petrol        6.70   \n",
              "1243  Y77058654W     Kia Sportage  standart    petrol        4.20   \n",
              "2273  K-1544774T          Kia Rio   economy    petrol        6.82   \n",
              "\n",
              "      year_to_start  riders  year_to_work  target_reg     target_class  \n",
              "2096           2015   87468          2021       38.27  engine_overheat  \n",
              "293            2013   38272          2014       32.58       gear_stick  \n",
              "1741           2012   19252          2019       81.70      another_bug  \n",
              "1243           2011    5777          2020       27.32  engine_overheat  \n",
              "2273           2014   63620          2019       32.94        break_bug  "
            ],
            "text/html": [
              "\n",
              "  <div id=\"df-99c31b97-cf9c-45ad-9e73-936954cdbabf\" class=\"colab-df-container\">\n",
              "    <div>\n",
              "<style scoped>\n",
              "    .dataframe tbody tr th:only-of-type {\n",
              "        vertical-align: middle;\n",
              "    }\n",
              "\n",
              "    .dataframe tbody tr th {\n",
              "        vertical-align: top;\n",
              "    }\n",
              "\n",
              "    .dataframe thead th {\n",
              "        text-align: right;\n",
              "    }\n",
              "</style>\n",
              "<table border=\"1\" class=\"dataframe\">\n",
              "  <thead>\n",
              "    <tr style=\"text-align: right;\">\n",
              "      <th></th>\n",
              "      <th>car_id</th>\n",
              "      <th>model</th>\n",
              "      <th>car_type</th>\n",
              "      <th>fuel_type</th>\n",
              "      <th>car_rating</th>\n",
              "      <th>year_to_start</th>\n",
              "      <th>riders</th>\n",
              "      <th>year_to_work</th>\n",
              "      <th>target_reg</th>\n",
              "      <th>target_class</th>\n",
              "    </tr>\n",
              "  </thead>\n",
              "  <tbody>\n",
              "    <tr>\n",
              "      <th>2096</th>\n",
              "      <td>S-6684161s</td>\n",
              "      <td>Hyundai Solaris</td>\n",
              "      <td>economy</td>\n",
              "      <td>petrol</td>\n",
              "      <td>5.40</td>\n",
              "      <td>2015</td>\n",
              "      <td>87468</td>\n",
              "      <td>2021</td>\n",
              "      <td>38.27</td>\n",
              "      <td>engine_overheat</td>\n",
              "    </tr>\n",
              "    <tr>\n",
              "      <th>293</th>\n",
              "      <td>n20592045x</td>\n",
              "      <td>VW Polo VI</td>\n",
              "      <td>economy</td>\n",
              "      <td>petrol</td>\n",
              "      <td>3.78</td>\n",
              "      <td>2013</td>\n",
              "      <td>38272</td>\n",
              "      <td>2014</td>\n",
              "      <td>32.58</td>\n",
              "      <td>gear_stick</td>\n",
              "    </tr>\n",
              "    <tr>\n",
              "      <th>1741</th>\n",
              "      <td>o-7943338e</td>\n",
              "      <td>Renault Kaptur</td>\n",
              "      <td>standart</td>\n",
              "      <td>petrol</td>\n",
              "      <td>6.70</td>\n",
              "      <td>2012</td>\n",
              "      <td>19252</td>\n",
              "      <td>2019</td>\n",
              "      <td>81.70</td>\n",
              "      <td>another_bug</td>\n",
              "    </tr>\n",
              "    <tr>\n",
              "      <th>1243</th>\n",
              "      <td>Y77058654W</td>\n",
              "      <td>Kia Sportage</td>\n",
              "      <td>standart</td>\n",
              "      <td>petrol</td>\n",
              "      <td>4.20</td>\n",
              "      <td>2011</td>\n",
              "      <td>5777</td>\n",
              "      <td>2020</td>\n",
              "      <td>27.32</td>\n",
              "      <td>engine_overheat</td>\n",
              "    </tr>\n",
              "    <tr>\n",
              "      <th>2273</th>\n",
              "      <td>K-1544774T</td>\n",
              "      <td>Kia Rio</td>\n",
              "      <td>economy</td>\n",
              "      <td>petrol</td>\n",
              "      <td>6.82</td>\n",
              "      <td>2014</td>\n",
              "      <td>63620</td>\n",
              "      <td>2019</td>\n",
              "      <td>32.94</td>\n",
              "      <td>break_bug</td>\n",
              "    </tr>\n",
              "  </tbody>\n",
              "</table>\n",
              "</div>\n",
              "    <div class=\"colab-df-buttons\">\n",
              "\n",
              "  <div class=\"colab-df-container\">\n",
              "    <button class=\"colab-df-convert\" onclick=\"convertToInteractive('df-99c31b97-cf9c-45ad-9e73-936954cdbabf')\"\n",
              "            title=\"Convert this dataframe to an interactive table.\"\n",
              "            style=\"display:none;\">\n",
              "\n",
              "  <svg xmlns=\"http://www.w3.org/2000/svg\" height=\"24px\" viewBox=\"0 -960 960 960\">\n",
              "    <path d=\"M120-120v-720h720v720H120Zm60-500h600v-160H180v160Zm220 220h160v-160H400v160Zm0 220h160v-160H400v160ZM180-400h160v-160H180v160Zm440 0h160v-160H620v160ZM180-180h160v-160H180v160Zm440 0h160v-160H620v160Z\"/>\n",
              "  </svg>\n",
              "    </button>\n",
              "\n",
              "  <style>\n",
              "    .colab-df-container {\n",
              "      display:flex;\n",
              "      gap: 12px;\n",
              "    }\n",
              "\n",
              "    .colab-df-convert {\n",
              "      background-color: #E8F0FE;\n",
              "      border: none;\n",
              "      border-radius: 50%;\n",
              "      cursor: pointer;\n",
              "      display: none;\n",
              "      fill: #1967D2;\n",
              "      height: 32px;\n",
              "      padding: 0 0 0 0;\n",
              "      width: 32px;\n",
              "    }\n",
              "\n",
              "    .colab-df-convert:hover {\n",
              "      background-color: #E2EBFA;\n",
              "      box-shadow: 0px 1px 2px rgba(60, 64, 67, 0.3), 0px 1px 3px 1px rgba(60, 64, 67, 0.15);\n",
              "      fill: #174EA6;\n",
              "    }\n",
              "\n",
              "    .colab-df-buttons div {\n",
              "      margin-bottom: 4px;\n",
              "    }\n",
              "\n",
              "    [theme=dark] .colab-df-convert {\n",
              "      background-color: #3B4455;\n",
              "      fill: #D2E3FC;\n",
              "    }\n",
              "\n",
              "    [theme=dark] .colab-df-convert:hover {\n",
              "      background-color: #434B5C;\n",
              "      box-shadow: 0px 1px 3px 1px rgba(0, 0, 0, 0.15);\n",
              "      filter: drop-shadow(0px 1px 2px rgba(0, 0, 0, 0.3));\n",
              "      fill: #FFFFFF;\n",
              "    }\n",
              "  </style>\n",
              "\n",
              "    <script>\n",
              "      const buttonEl =\n",
              "        document.querySelector('#df-99c31b97-cf9c-45ad-9e73-936954cdbabf button.colab-df-convert');\n",
              "      buttonEl.style.display =\n",
              "        google.colab.kernel.accessAllowed ? 'block' : 'none';\n",
              "\n",
              "      async function convertToInteractive(key) {\n",
              "        const element = document.querySelector('#df-99c31b97-cf9c-45ad-9e73-936954cdbabf');\n",
              "        const dataTable =\n",
              "          await google.colab.kernel.invokeFunction('convertToInteractive',\n",
              "                                                    [key], {});\n",
              "        if (!dataTable) return;\n",
              "\n",
              "        const docLinkHtml = 'Like what you see? Visit the ' +\n",
              "          '<a target=\"_blank\" href=https://colab.research.google.com/notebooks/data_table.ipynb>data table notebook</a>'\n",
              "          + ' to learn more about interactive tables.';\n",
              "        element.innerHTML = '';\n",
              "        dataTable['output_type'] = 'display_data';\n",
              "        await google.colab.output.renderOutput(dataTable, element);\n",
              "        const docLink = document.createElement('div');\n",
              "        docLink.innerHTML = docLinkHtml;\n",
              "        element.appendChild(docLink);\n",
              "      }\n",
              "    </script>\n",
              "  </div>\n",
              "\n",
              "\n",
              "<div id=\"df-ea42e828-41c1-4379-8fcf-339391737a2e\">\n",
              "  <button class=\"colab-df-quickchart\" onclick=\"quickchart('df-ea42e828-41c1-4379-8fcf-339391737a2e')\"\n",
              "            title=\"Suggest charts\"\n",
              "            style=\"display:none;\">\n",
              "\n",
              "<svg xmlns=\"http://www.w3.org/2000/svg\" height=\"24px\"viewBox=\"0 0 24 24\"\n",
              "     width=\"24px\">\n",
              "    <g>\n",
              "        <path d=\"M19 3H5c-1.1 0-2 .9-2 2v14c0 1.1.9 2 2 2h14c1.1 0 2-.9 2-2V5c0-1.1-.9-2-2-2zM9 17H7v-7h2v7zm4 0h-2V7h2v10zm4 0h-2v-4h2v4z\"/>\n",
              "    </g>\n",
              "</svg>\n",
              "  </button>\n",
              "\n",
              "<style>\n",
              "  .colab-df-quickchart {\n",
              "      --bg-color: #E8F0FE;\n",
              "      --fill-color: #1967D2;\n",
              "      --hover-bg-color: #E2EBFA;\n",
              "      --hover-fill-color: #174EA6;\n",
              "      --disabled-fill-color: #AAA;\n",
              "      --disabled-bg-color: #DDD;\n",
              "  }\n",
              "\n",
              "  [theme=dark] .colab-df-quickchart {\n",
              "      --bg-color: #3B4455;\n",
              "      --fill-color: #D2E3FC;\n",
              "      --hover-bg-color: #434B5C;\n",
              "      --hover-fill-color: #FFFFFF;\n",
              "      --disabled-bg-color: #3B4455;\n",
              "      --disabled-fill-color: #666;\n",
              "  }\n",
              "\n",
              "  .colab-df-quickchart {\n",
              "    background-color: var(--bg-color);\n",
              "    border: none;\n",
              "    border-radius: 50%;\n",
              "    cursor: pointer;\n",
              "    display: none;\n",
              "    fill: var(--fill-color);\n",
              "    height: 32px;\n",
              "    padding: 0;\n",
              "    width: 32px;\n",
              "  }\n",
              "\n",
              "  .colab-df-quickchart:hover {\n",
              "    background-color: var(--hover-bg-color);\n",
              "    box-shadow: 0 1px 2px rgba(60, 64, 67, 0.3), 0 1px 3px 1px rgba(60, 64, 67, 0.15);\n",
              "    fill: var(--button-hover-fill-color);\n",
              "  }\n",
              "\n",
              "  .colab-df-quickchart-complete:disabled,\n",
              "  .colab-df-quickchart-complete:disabled:hover {\n",
              "    background-color: var(--disabled-bg-color);\n",
              "    fill: var(--disabled-fill-color);\n",
              "    box-shadow: none;\n",
              "  }\n",
              "\n",
              "  .colab-df-spinner {\n",
              "    border: 2px solid var(--fill-color);\n",
              "    border-color: transparent;\n",
              "    border-bottom-color: var(--fill-color);\n",
              "    animation:\n",
              "      spin 1s steps(1) infinite;\n",
              "  }\n",
              "\n",
              "  @keyframes spin {\n",
              "    0% {\n",
              "      border-color: transparent;\n",
              "      border-bottom-color: var(--fill-color);\n",
              "      border-left-color: var(--fill-color);\n",
              "    }\n",
              "    20% {\n",
              "      border-color: transparent;\n",
              "      border-left-color: var(--fill-color);\n",
              "      border-top-color: var(--fill-color);\n",
              "    }\n",
              "    30% {\n",
              "      border-color: transparent;\n",
              "      border-left-color: var(--fill-color);\n",
              "      border-top-color: var(--fill-color);\n",
              "      border-right-color: var(--fill-color);\n",
              "    }\n",
              "    40% {\n",
              "      border-color: transparent;\n",
              "      border-right-color: var(--fill-color);\n",
              "      border-top-color: var(--fill-color);\n",
              "    }\n",
              "    60% {\n",
              "      border-color: transparent;\n",
              "      border-right-color: var(--fill-color);\n",
              "    }\n",
              "    80% {\n",
              "      border-color: transparent;\n",
              "      border-right-color: var(--fill-color);\n",
              "      border-bottom-color: var(--fill-color);\n",
              "    }\n",
              "    90% {\n",
              "      border-color: transparent;\n",
              "      border-bottom-color: var(--fill-color);\n",
              "    }\n",
              "  }\n",
              "</style>\n",
              "\n",
              "  <script>\n",
              "    async function quickchart(key) {\n",
              "      const quickchartButtonEl =\n",
              "        document.querySelector('#' + key + ' button');\n",
              "      quickchartButtonEl.disabled = true;  // To prevent multiple clicks.\n",
              "      quickchartButtonEl.classList.add('colab-df-spinner');\n",
              "      try {\n",
              "        const charts = await google.colab.kernel.invokeFunction(\n",
              "            'suggestCharts', [key], {});\n",
              "      } catch (error) {\n",
              "        console.error('Error during call to suggestCharts:', error);\n",
              "      }\n",
              "      quickchartButtonEl.classList.remove('colab-df-spinner');\n",
              "      quickchartButtonEl.classList.add('colab-df-quickchart-complete');\n",
              "    }\n",
              "    (() => {\n",
              "      let quickchartButtonEl =\n",
              "        document.querySelector('#df-ea42e828-41c1-4379-8fcf-339391737a2e button');\n",
              "      quickchartButtonEl.style.display =\n",
              "        google.colab.kernel.accessAllowed ? 'block' : 'none';\n",
              "    })();\n",
              "  </script>\n",
              "</div>\n",
              "    </div>\n",
              "  </div>\n"
            ],
            "application/vnd.google.colaboratory.intrinsic+json": {
              "type": "dataframe",
              "summary": "{\n  \"name\": \"car_train\",\n  \"rows\": 5,\n  \"fields\": [\n    {\n      \"column\": \"car_id\",\n      \"properties\": {\n        \"dtype\": \"string\",\n        \"num_unique_values\": 5,\n        \"samples\": [\n          \"n20592045x\",\n          \"K-1544774T\",\n          \"o-7943338e\"\n        ],\n        \"semantic_type\": \"\",\n        \"description\": \"\"\n      }\n    },\n    {\n      \"column\": \"model\",\n      \"properties\": {\n        \"dtype\": \"string\",\n        \"num_unique_values\": 5,\n        \"samples\": [\n          \"VW Polo VI\",\n          \"Kia Rio\",\n          \"Renault Kaptur\"\n        ],\n        \"semantic_type\": \"\",\n        \"description\": \"\"\n      }\n    },\n    {\n      \"column\": \"car_type\",\n      \"properties\": {\n        \"dtype\": \"category\",\n        \"num_unique_values\": 2,\n        \"samples\": [\n          \"standart\",\n          \"economy\"\n        ],\n        \"semantic_type\": \"\",\n        \"description\": \"\"\n      }\n    },\n    {\n      \"column\": \"fuel_type\",\n      \"properties\": {\n        \"dtype\": \"category\",\n        \"num_unique_values\": 1,\n        \"samples\": [\n          \"petrol\"\n        ],\n        \"semantic_type\": \"\",\n        \"description\": \"\"\n      }\n    },\n    {\n      \"column\": \"car_rating\",\n      \"properties\": {\n        \"dtype\": \"number\",\n        \"std\": 1.3936283579204323,\n        \"min\": 3.78,\n        \"max\": 6.82,\n        \"num_unique_values\": 5,\n        \"samples\": [\n          3.78\n        ],\n        \"semantic_type\": \"\",\n        \"description\": \"\"\n      }\n    },\n    {\n      \"column\": \"year_to_start\",\n      \"properties\": {\n        \"dtype\": \"number\",\n        \"std\": 1,\n        \"min\": 2011,\n        \"max\": 2015,\n        \"num_unique_values\": 5,\n        \"samples\": [\n          2013\n        ],\n        \"semantic_type\": \"\",\n        \"description\": \"\"\n      }\n    },\n    {\n      \"column\": \"riders\",\n      \"properties\": {\n        \"dtype\": \"number\",\n        \"std\": 33069,\n        \"min\": 5777,\n        \"max\": 87468,\n        \"num_unique_values\": 5,\n        \"samples\": [\n          38272\n        ],\n        \"semantic_type\": \"\",\n        \"description\": \"\"\n      }\n    },\n    {\n      \"column\": \"year_to_work\",\n      \"properties\": {\n        \"dtype\": \"number\",\n        \"std\": 2,\n        \"min\": 2014,\n        \"max\": 2021,\n        \"num_unique_values\": 4,\n        \"samples\": [\n          2014\n        ],\n        \"semantic_type\": \"\",\n        \"description\": \"\"\n      }\n    },\n    {\n      \"column\": \"target_reg\",\n      \"properties\": {\n        \"dtype\": \"number\",\n        \"std\": 22.219057585775328,\n        \"min\": 27.32,\n        \"max\": 81.7,\n        \"num_unique_values\": 5,\n        \"samples\": [\n          32.58\n        ],\n        \"semantic_type\": \"\",\n        \"description\": \"\"\n      }\n    },\n    {\n      \"column\": \"target_class\",\n      \"properties\": {\n        \"dtype\": \"string\",\n        \"num_unique_values\": 4,\n        \"samples\": [\n          \"gear_stick\"\n        ],\n        \"semantic_type\": \"\",\n        \"description\": \"\"\n      }\n    }\n  ]\n}"
            }
          },
          "metadata": {},
          "execution_count": 2
        }
      ],
      "source": [
        "car_train = pd.read_csv('https://raw.githubusercontent.com/a-milenkin/Competitive_Data_Science/main/data/car_train.csv')\n",
        "car_train.sample(5)"
      ]
    },
    {
      "cell_type": "markdown",
      "metadata": {
        "id": "AWvQSnafbuhu"
      },
      "source": [
        "- `car_id` — идентификатор машины\n",
        "- `model` / `car_type` / `fuel_type` — марка, класс и тип топлива машины\n",
        "- `car_rating` / `riders` — общий рейтинг и общее число поездок к концу 2021 года\n",
        "- `year_to_start` / `year_to_work` — год выпуска машины и год начала работы в автопарке\n",
        "- `target_reg` — количество дней до поломки\n",
        "- `target_class` — класс поломки (всего 9 видов)"
      ]
    },
    {
      "cell_type": "markdown",
      "metadata": {
        "id": "6KWf2LgObuhu"
      },
      "source": [
        "### Информация про поездки"
      ]
    },
    {
      "cell_type": "code",
      "execution_count": 3,
      "metadata": {
        "colab": {
          "base_uri": "https://localhost:8080/",
          "height": 206
        },
        "id": "pDc5gXzbbuhu",
        "outputId": "1e44aaa6-2d45-4d67-fdee-7acf4e1008ae"
      },
      "outputs": [
        {
          "output_type": "execute_result",
          "data": {
            "text/plain": [
              "           user_id      car_id ride_id   ride_date  rating  ride_duration  \\\n",
              "96362   m57542004h  H-1289656m     a1A  2020-03-15    5.01             26   \n",
              "562975  G18233768V  n21726530a     j1X  2020-02-15    3.69          39093   \n",
              "381158  b41635734b  b-1553102t     a1O  2020-02-22    6.35             51   \n",
              "9587    n23016861i  A13983367R     U1K  2020-01-10    2.68             38   \n",
              "610311  z18170513e  r-2626717n     D1G  2020-02-19    5.69             15   \n",
              "\n",
              "        ride_cost  speed_avg   speed_max  stop_times      distance  refueling  \\\n",
              "96362        1295         44   73.000000           2  1.186451e+03          0   \n",
              "562975     312739         46   83.000000           0  1.838520e+06          0   \n",
              "381158        606         64   96.233159           0  3.299896e+03          0   \n",
              "9587         1897         54   70.000000           2  1.708508e+03          0   \n",
              "610311        116         35  121.000000           1  5.171156e+02          0   \n",
              "\n",
              "        user_ride_quality  deviation_normal  \n",
              "96362           14.732978            23.174  \n",
              "562975           2.303623           -39.900  \n",
              "381158           6.321556            -1.190  \n",
              "9587             0.969040             8.587  \n",
              "610311          -9.864849            19.629  "
            ],
            "text/html": [
              "\n",
              "  <div id=\"df-0f9f56e4-e8b6-4df2-a3f7-d743defb2ad7\" class=\"colab-df-container\">\n",
              "    <div>\n",
              "<style scoped>\n",
              "    .dataframe tbody tr th:only-of-type {\n",
              "        vertical-align: middle;\n",
              "    }\n",
              "\n",
              "    .dataframe tbody tr th {\n",
              "        vertical-align: top;\n",
              "    }\n",
              "\n",
              "    .dataframe thead th {\n",
              "        text-align: right;\n",
              "    }\n",
              "</style>\n",
              "<table border=\"1\" class=\"dataframe\">\n",
              "  <thead>\n",
              "    <tr style=\"text-align: right;\">\n",
              "      <th></th>\n",
              "      <th>user_id</th>\n",
              "      <th>car_id</th>\n",
              "      <th>ride_id</th>\n",
              "      <th>ride_date</th>\n",
              "      <th>rating</th>\n",
              "      <th>ride_duration</th>\n",
              "      <th>ride_cost</th>\n",
              "      <th>speed_avg</th>\n",
              "      <th>speed_max</th>\n",
              "      <th>stop_times</th>\n",
              "      <th>distance</th>\n",
              "      <th>refueling</th>\n",
              "      <th>user_ride_quality</th>\n",
              "      <th>deviation_normal</th>\n",
              "    </tr>\n",
              "  </thead>\n",
              "  <tbody>\n",
              "    <tr>\n",
              "      <th>96362</th>\n",
              "      <td>m57542004h</td>\n",
              "      <td>H-1289656m</td>\n",
              "      <td>a1A</td>\n",
              "      <td>2020-03-15</td>\n",
              "      <td>5.01</td>\n",
              "      <td>26</td>\n",
              "      <td>1295</td>\n",
              "      <td>44</td>\n",
              "      <td>73.000000</td>\n",
              "      <td>2</td>\n",
              "      <td>1.186451e+03</td>\n",
              "      <td>0</td>\n",
              "      <td>14.732978</td>\n",
              "      <td>23.174</td>\n",
              "    </tr>\n",
              "    <tr>\n",
              "      <th>562975</th>\n",
              "      <td>G18233768V</td>\n",
              "      <td>n21726530a</td>\n",
              "      <td>j1X</td>\n",
              "      <td>2020-02-15</td>\n",
              "      <td>3.69</td>\n",
              "      <td>39093</td>\n",
              "      <td>312739</td>\n",
              "      <td>46</td>\n",
              "      <td>83.000000</td>\n",
              "      <td>0</td>\n",
              "      <td>1.838520e+06</td>\n",
              "      <td>0</td>\n",
              "      <td>2.303623</td>\n",
              "      <td>-39.900</td>\n",
              "    </tr>\n",
              "    <tr>\n",
              "      <th>381158</th>\n",
              "      <td>b41635734b</td>\n",
              "      <td>b-1553102t</td>\n",
              "      <td>a1O</td>\n",
              "      <td>2020-02-22</td>\n",
              "      <td>6.35</td>\n",
              "      <td>51</td>\n",
              "      <td>606</td>\n",
              "      <td>64</td>\n",
              "      <td>96.233159</td>\n",
              "      <td>0</td>\n",
              "      <td>3.299896e+03</td>\n",
              "      <td>0</td>\n",
              "      <td>6.321556</td>\n",
              "      <td>-1.190</td>\n",
              "    </tr>\n",
              "    <tr>\n",
              "      <th>9587</th>\n",
              "      <td>n23016861i</td>\n",
              "      <td>A13983367R</td>\n",
              "      <td>U1K</td>\n",
              "      <td>2020-01-10</td>\n",
              "      <td>2.68</td>\n",
              "      <td>38</td>\n",
              "      <td>1897</td>\n",
              "      <td>54</td>\n",
              "      <td>70.000000</td>\n",
              "      <td>2</td>\n",
              "      <td>1.708508e+03</td>\n",
              "      <td>0</td>\n",
              "      <td>0.969040</td>\n",
              "      <td>8.587</td>\n",
              "    </tr>\n",
              "    <tr>\n",
              "      <th>610311</th>\n",
              "      <td>z18170513e</td>\n",
              "      <td>r-2626717n</td>\n",
              "      <td>D1G</td>\n",
              "      <td>2020-02-19</td>\n",
              "      <td>5.69</td>\n",
              "      <td>15</td>\n",
              "      <td>116</td>\n",
              "      <td>35</td>\n",
              "      <td>121.000000</td>\n",
              "      <td>1</td>\n",
              "      <td>5.171156e+02</td>\n",
              "      <td>0</td>\n",
              "      <td>-9.864849</td>\n",
              "      <td>19.629</td>\n",
              "    </tr>\n",
              "  </tbody>\n",
              "</table>\n",
              "</div>\n",
              "    <div class=\"colab-df-buttons\">\n",
              "\n",
              "  <div class=\"colab-df-container\">\n",
              "    <button class=\"colab-df-convert\" onclick=\"convertToInteractive('df-0f9f56e4-e8b6-4df2-a3f7-d743defb2ad7')\"\n",
              "            title=\"Convert this dataframe to an interactive table.\"\n",
              "            style=\"display:none;\">\n",
              "\n",
              "  <svg xmlns=\"http://www.w3.org/2000/svg\" height=\"24px\" viewBox=\"0 -960 960 960\">\n",
              "    <path d=\"M120-120v-720h720v720H120Zm60-500h600v-160H180v160Zm220 220h160v-160H400v160Zm0 220h160v-160H400v160ZM180-400h160v-160H180v160Zm440 0h160v-160H620v160ZM180-180h160v-160H180v160Zm440 0h160v-160H620v160Z\"/>\n",
              "  </svg>\n",
              "    </button>\n",
              "\n",
              "  <style>\n",
              "    .colab-df-container {\n",
              "      display:flex;\n",
              "      gap: 12px;\n",
              "    }\n",
              "\n",
              "    .colab-df-convert {\n",
              "      background-color: #E8F0FE;\n",
              "      border: none;\n",
              "      border-radius: 50%;\n",
              "      cursor: pointer;\n",
              "      display: none;\n",
              "      fill: #1967D2;\n",
              "      height: 32px;\n",
              "      padding: 0 0 0 0;\n",
              "      width: 32px;\n",
              "    }\n",
              "\n",
              "    .colab-df-convert:hover {\n",
              "      background-color: #E2EBFA;\n",
              "      box-shadow: 0px 1px 2px rgba(60, 64, 67, 0.3), 0px 1px 3px 1px rgba(60, 64, 67, 0.15);\n",
              "      fill: #174EA6;\n",
              "    }\n",
              "\n",
              "    .colab-df-buttons div {\n",
              "      margin-bottom: 4px;\n",
              "    }\n",
              "\n",
              "    [theme=dark] .colab-df-convert {\n",
              "      background-color: #3B4455;\n",
              "      fill: #D2E3FC;\n",
              "    }\n",
              "\n",
              "    [theme=dark] .colab-df-convert:hover {\n",
              "      background-color: #434B5C;\n",
              "      box-shadow: 0px 1px 3px 1px rgba(0, 0, 0, 0.15);\n",
              "      filter: drop-shadow(0px 1px 2px rgba(0, 0, 0, 0.3));\n",
              "      fill: #FFFFFF;\n",
              "    }\n",
              "  </style>\n",
              "\n",
              "    <script>\n",
              "      const buttonEl =\n",
              "        document.querySelector('#df-0f9f56e4-e8b6-4df2-a3f7-d743defb2ad7 button.colab-df-convert');\n",
              "      buttonEl.style.display =\n",
              "        google.colab.kernel.accessAllowed ? 'block' : 'none';\n",
              "\n",
              "      async function convertToInteractive(key) {\n",
              "        const element = document.querySelector('#df-0f9f56e4-e8b6-4df2-a3f7-d743defb2ad7');\n",
              "        const dataTable =\n",
              "          await google.colab.kernel.invokeFunction('convertToInteractive',\n",
              "                                                    [key], {});\n",
              "        if (!dataTable) return;\n",
              "\n",
              "        const docLinkHtml = 'Like what you see? Visit the ' +\n",
              "          '<a target=\"_blank\" href=https://colab.research.google.com/notebooks/data_table.ipynb>data table notebook</a>'\n",
              "          + ' to learn more about interactive tables.';\n",
              "        element.innerHTML = '';\n",
              "        dataTable['output_type'] = 'display_data';\n",
              "        await google.colab.output.renderOutput(dataTable, element);\n",
              "        const docLink = document.createElement('div');\n",
              "        docLink.innerHTML = docLinkHtml;\n",
              "        element.appendChild(docLink);\n",
              "      }\n",
              "    </script>\n",
              "  </div>\n",
              "\n",
              "\n",
              "<div id=\"df-aaec6bbf-7351-4737-b466-e8204fa348a6\">\n",
              "  <button class=\"colab-df-quickchart\" onclick=\"quickchart('df-aaec6bbf-7351-4737-b466-e8204fa348a6')\"\n",
              "            title=\"Suggest charts\"\n",
              "            style=\"display:none;\">\n",
              "\n",
              "<svg xmlns=\"http://www.w3.org/2000/svg\" height=\"24px\"viewBox=\"0 0 24 24\"\n",
              "     width=\"24px\">\n",
              "    <g>\n",
              "        <path d=\"M19 3H5c-1.1 0-2 .9-2 2v14c0 1.1.9 2 2 2h14c1.1 0 2-.9 2-2V5c0-1.1-.9-2-2-2zM9 17H7v-7h2v7zm4 0h-2V7h2v10zm4 0h-2v-4h2v4z\"/>\n",
              "    </g>\n",
              "</svg>\n",
              "  </button>\n",
              "\n",
              "<style>\n",
              "  .colab-df-quickchart {\n",
              "      --bg-color: #E8F0FE;\n",
              "      --fill-color: #1967D2;\n",
              "      --hover-bg-color: #E2EBFA;\n",
              "      --hover-fill-color: #174EA6;\n",
              "      --disabled-fill-color: #AAA;\n",
              "      --disabled-bg-color: #DDD;\n",
              "  }\n",
              "\n",
              "  [theme=dark] .colab-df-quickchart {\n",
              "      --bg-color: #3B4455;\n",
              "      --fill-color: #D2E3FC;\n",
              "      --hover-bg-color: #434B5C;\n",
              "      --hover-fill-color: #FFFFFF;\n",
              "      --disabled-bg-color: #3B4455;\n",
              "      --disabled-fill-color: #666;\n",
              "  }\n",
              "\n",
              "  .colab-df-quickchart {\n",
              "    background-color: var(--bg-color);\n",
              "    border: none;\n",
              "    border-radius: 50%;\n",
              "    cursor: pointer;\n",
              "    display: none;\n",
              "    fill: var(--fill-color);\n",
              "    height: 32px;\n",
              "    padding: 0;\n",
              "    width: 32px;\n",
              "  }\n",
              "\n",
              "  .colab-df-quickchart:hover {\n",
              "    background-color: var(--hover-bg-color);\n",
              "    box-shadow: 0 1px 2px rgba(60, 64, 67, 0.3), 0 1px 3px 1px rgba(60, 64, 67, 0.15);\n",
              "    fill: var(--button-hover-fill-color);\n",
              "  }\n",
              "\n",
              "  .colab-df-quickchart-complete:disabled,\n",
              "  .colab-df-quickchart-complete:disabled:hover {\n",
              "    background-color: var(--disabled-bg-color);\n",
              "    fill: var(--disabled-fill-color);\n",
              "    box-shadow: none;\n",
              "  }\n",
              "\n",
              "  .colab-df-spinner {\n",
              "    border: 2px solid var(--fill-color);\n",
              "    border-color: transparent;\n",
              "    border-bottom-color: var(--fill-color);\n",
              "    animation:\n",
              "      spin 1s steps(1) infinite;\n",
              "  }\n",
              "\n",
              "  @keyframes spin {\n",
              "    0% {\n",
              "      border-color: transparent;\n",
              "      border-bottom-color: var(--fill-color);\n",
              "      border-left-color: var(--fill-color);\n",
              "    }\n",
              "    20% {\n",
              "      border-color: transparent;\n",
              "      border-left-color: var(--fill-color);\n",
              "      border-top-color: var(--fill-color);\n",
              "    }\n",
              "    30% {\n",
              "      border-color: transparent;\n",
              "      border-left-color: var(--fill-color);\n",
              "      border-top-color: var(--fill-color);\n",
              "      border-right-color: var(--fill-color);\n",
              "    }\n",
              "    40% {\n",
              "      border-color: transparent;\n",
              "      border-right-color: var(--fill-color);\n",
              "      border-top-color: var(--fill-color);\n",
              "    }\n",
              "    60% {\n",
              "      border-color: transparent;\n",
              "      border-right-color: var(--fill-color);\n",
              "    }\n",
              "    80% {\n",
              "      border-color: transparent;\n",
              "      border-right-color: var(--fill-color);\n",
              "      border-bottom-color: var(--fill-color);\n",
              "    }\n",
              "    90% {\n",
              "      border-color: transparent;\n",
              "      border-bottom-color: var(--fill-color);\n",
              "    }\n",
              "  }\n",
              "</style>\n",
              "\n",
              "  <script>\n",
              "    async function quickchart(key) {\n",
              "      const quickchartButtonEl =\n",
              "        document.querySelector('#' + key + ' button');\n",
              "      quickchartButtonEl.disabled = true;  // To prevent multiple clicks.\n",
              "      quickchartButtonEl.classList.add('colab-df-spinner');\n",
              "      try {\n",
              "        const charts = await google.colab.kernel.invokeFunction(\n",
              "            'suggestCharts', [key], {});\n",
              "      } catch (error) {\n",
              "        console.error('Error during call to suggestCharts:', error);\n",
              "      }\n",
              "      quickchartButtonEl.classList.remove('colab-df-spinner');\n",
              "      quickchartButtonEl.classList.add('colab-df-quickchart-complete');\n",
              "    }\n",
              "    (() => {\n",
              "      let quickchartButtonEl =\n",
              "        document.querySelector('#df-aaec6bbf-7351-4737-b466-e8204fa348a6 button');\n",
              "      quickchartButtonEl.style.display =\n",
              "        google.colab.kernel.accessAllowed ? 'block' : 'none';\n",
              "    })();\n",
              "  </script>\n",
              "</div>\n",
              "    </div>\n",
              "  </div>\n"
            ],
            "application/vnd.google.colaboratory.intrinsic+json": {
              "type": "dataframe",
              "repr_error": "0"
            }
          },
          "metadata": {},
          "execution_count": 3
        }
      ],
      "source": [
        "rides_info = pd.read_csv('https://raw.githubusercontent.com/a-milenkin/Competitive_Data_Science/main/data/rides_info.csv')\n",
        "rides_info.sample(5)"
      ]
    },
    {
      "cell_type": "markdown",
      "metadata": {
        "id": "ZAn8S24sbuhv"
      },
      "source": [
        "- `user_id` / `car_id` / `ride_id` — идентификаторы водителя, машины, поездки соответственно\n",
        "- `ride_date` / `rating` — дата поездки и рейтинг, поставленный водителем\n",
        "- `ride_duration` / `distance` / `ride_cost` —  длительность (время),  пройденное расстояние, стоимость поездки\n",
        "- `speed_avg` / `speed_max` — средняя и максимальная скорости поездки соответственно\n",
        "- `stop_times` / `refueling` — количество остановок (паузы) и флаг: была ли дозаправка\n",
        "- `user_ride_quality` — оценка манеры вождения водителя машины, определенная скоринговой ML-системой сервиса\n",
        "- `deviation_normal` — общий показатель датчиков о состоянии машины, относительно эталонных показателей (нормы)"
      ]
    },
    {
      "cell_type": "markdown",
      "metadata": {
        "id": "O0Onuz4ybuhv"
      },
      "source": [
        "### Информация про водителей"
      ]
    },
    {
      "cell_type": "code",
      "execution_count": 4,
      "metadata": {
        "colab": {
          "base_uri": "https://localhost:8080/",
          "height": 206
        },
        "id": "WBEvQXhxbuhv",
        "outputId": "39215899-8f30-4e96-8c34-80105035d4e4"
      },
      "outputs": [
        {
          "output_type": "execute_result",
          "data": {
            "text/plain": [
              "       age  user_rating  user_rides  user_time_accident     user_id  sex  \\\n",
              "5903    34          8.3         913                12.0  V65533867O    0   \n",
              "12535   21          8.2        1116                 9.0  w12340646n    1   \n",
              "10096   42          8.8         415                10.0  S12556539I    0   \n",
              "7972    48          6.7         647                 7.0  W18307109n    0   \n",
              "9482    22          7.4          40                 3.0  Z68671305t    1   \n",
              "\n",
              "      first_ride_date  \n",
              "5903         2021-1-7  \n",
              "12535      2018-10-27  \n",
              "10096       2019-7-26  \n",
              "7972        2019-5-26  \n",
              "9482         2020-2-3  "
            ],
            "text/html": [
              "\n",
              "  <div id=\"df-5c277117-2215-4f23-8edd-8ea78df48721\" class=\"colab-df-container\">\n",
              "    <div>\n",
              "<style scoped>\n",
              "    .dataframe tbody tr th:only-of-type {\n",
              "        vertical-align: middle;\n",
              "    }\n",
              "\n",
              "    .dataframe tbody tr th {\n",
              "        vertical-align: top;\n",
              "    }\n",
              "\n",
              "    .dataframe thead th {\n",
              "        text-align: right;\n",
              "    }\n",
              "</style>\n",
              "<table border=\"1\" class=\"dataframe\">\n",
              "  <thead>\n",
              "    <tr style=\"text-align: right;\">\n",
              "      <th></th>\n",
              "      <th>age</th>\n",
              "      <th>user_rating</th>\n",
              "      <th>user_rides</th>\n",
              "      <th>user_time_accident</th>\n",
              "      <th>user_id</th>\n",
              "      <th>sex</th>\n",
              "      <th>first_ride_date</th>\n",
              "    </tr>\n",
              "  </thead>\n",
              "  <tbody>\n",
              "    <tr>\n",
              "      <th>5903</th>\n",
              "      <td>34</td>\n",
              "      <td>8.3</td>\n",
              "      <td>913</td>\n",
              "      <td>12.0</td>\n",
              "      <td>V65533867O</td>\n",
              "      <td>0</td>\n",
              "      <td>2021-1-7</td>\n",
              "    </tr>\n",
              "    <tr>\n",
              "      <th>12535</th>\n",
              "      <td>21</td>\n",
              "      <td>8.2</td>\n",
              "      <td>1116</td>\n",
              "      <td>9.0</td>\n",
              "      <td>w12340646n</td>\n",
              "      <td>1</td>\n",
              "      <td>2018-10-27</td>\n",
              "    </tr>\n",
              "    <tr>\n",
              "      <th>10096</th>\n",
              "      <td>42</td>\n",
              "      <td>8.8</td>\n",
              "      <td>415</td>\n",
              "      <td>10.0</td>\n",
              "      <td>S12556539I</td>\n",
              "      <td>0</td>\n",
              "      <td>2019-7-26</td>\n",
              "    </tr>\n",
              "    <tr>\n",
              "      <th>7972</th>\n",
              "      <td>48</td>\n",
              "      <td>6.7</td>\n",
              "      <td>647</td>\n",
              "      <td>7.0</td>\n",
              "      <td>W18307109n</td>\n",
              "      <td>0</td>\n",
              "      <td>2019-5-26</td>\n",
              "    </tr>\n",
              "    <tr>\n",
              "      <th>9482</th>\n",
              "      <td>22</td>\n",
              "      <td>7.4</td>\n",
              "      <td>40</td>\n",
              "      <td>3.0</td>\n",
              "      <td>Z68671305t</td>\n",
              "      <td>1</td>\n",
              "      <td>2020-2-3</td>\n",
              "    </tr>\n",
              "  </tbody>\n",
              "</table>\n",
              "</div>\n",
              "    <div class=\"colab-df-buttons\">\n",
              "\n",
              "  <div class=\"colab-df-container\">\n",
              "    <button class=\"colab-df-convert\" onclick=\"convertToInteractive('df-5c277117-2215-4f23-8edd-8ea78df48721')\"\n",
              "            title=\"Convert this dataframe to an interactive table.\"\n",
              "            style=\"display:none;\">\n",
              "\n",
              "  <svg xmlns=\"http://www.w3.org/2000/svg\" height=\"24px\" viewBox=\"0 -960 960 960\">\n",
              "    <path d=\"M120-120v-720h720v720H120Zm60-500h600v-160H180v160Zm220 220h160v-160H400v160Zm0 220h160v-160H400v160ZM180-400h160v-160H180v160Zm440 0h160v-160H620v160ZM180-180h160v-160H180v160Zm440 0h160v-160H620v160Z\"/>\n",
              "  </svg>\n",
              "    </button>\n",
              "\n",
              "  <style>\n",
              "    .colab-df-container {\n",
              "      display:flex;\n",
              "      gap: 12px;\n",
              "    }\n",
              "\n",
              "    .colab-df-convert {\n",
              "      background-color: #E8F0FE;\n",
              "      border: none;\n",
              "      border-radius: 50%;\n",
              "      cursor: pointer;\n",
              "      display: none;\n",
              "      fill: #1967D2;\n",
              "      height: 32px;\n",
              "      padding: 0 0 0 0;\n",
              "      width: 32px;\n",
              "    }\n",
              "\n",
              "    .colab-df-convert:hover {\n",
              "      background-color: #E2EBFA;\n",
              "      box-shadow: 0px 1px 2px rgba(60, 64, 67, 0.3), 0px 1px 3px 1px rgba(60, 64, 67, 0.15);\n",
              "      fill: #174EA6;\n",
              "    }\n",
              "\n",
              "    .colab-df-buttons div {\n",
              "      margin-bottom: 4px;\n",
              "    }\n",
              "\n",
              "    [theme=dark] .colab-df-convert {\n",
              "      background-color: #3B4455;\n",
              "      fill: #D2E3FC;\n",
              "    }\n",
              "\n",
              "    [theme=dark] .colab-df-convert:hover {\n",
              "      background-color: #434B5C;\n",
              "      box-shadow: 0px 1px 3px 1px rgba(0, 0, 0, 0.15);\n",
              "      filter: drop-shadow(0px 1px 2px rgba(0, 0, 0, 0.3));\n",
              "      fill: #FFFFFF;\n",
              "    }\n",
              "  </style>\n",
              "\n",
              "    <script>\n",
              "      const buttonEl =\n",
              "        document.querySelector('#df-5c277117-2215-4f23-8edd-8ea78df48721 button.colab-df-convert');\n",
              "      buttonEl.style.display =\n",
              "        google.colab.kernel.accessAllowed ? 'block' : 'none';\n",
              "\n",
              "      async function convertToInteractive(key) {\n",
              "        const element = document.querySelector('#df-5c277117-2215-4f23-8edd-8ea78df48721');\n",
              "        const dataTable =\n",
              "          await google.colab.kernel.invokeFunction('convertToInteractive',\n",
              "                                                    [key], {});\n",
              "        if (!dataTable) return;\n",
              "\n",
              "        const docLinkHtml = 'Like what you see? Visit the ' +\n",
              "          '<a target=\"_blank\" href=https://colab.research.google.com/notebooks/data_table.ipynb>data table notebook</a>'\n",
              "          + ' to learn more about interactive tables.';\n",
              "        element.innerHTML = '';\n",
              "        dataTable['output_type'] = 'display_data';\n",
              "        await google.colab.output.renderOutput(dataTable, element);\n",
              "        const docLink = document.createElement('div');\n",
              "        docLink.innerHTML = docLinkHtml;\n",
              "        element.appendChild(docLink);\n",
              "      }\n",
              "    </script>\n",
              "  </div>\n",
              "\n",
              "\n",
              "<div id=\"df-da35491b-a2f8-4ebd-9e99-cfb7e089a54b\">\n",
              "  <button class=\"colab-df-quickchart\" onclick=\"quickchart('df-da35491b-a2f8-4ebd-9e99-cfb7e089a54b')\"\n",
              "            title=\"Suggest charts\"\n",
              "            style=\"display:none;\">\n",
              "\n",
              "<svg xmlns=\"http://www.w3.org/2000/svg\" height=\"24px\"viewBox=\"0 0 24 24\"\n",
              "     width=\"24px\">\n",
              "    <g>\n",
              "        <path d=\"M19 3H5c-1.1 0-2 .9-2 2v14c0 1.1.9 2 2 2h14c1.1 0 2-.9 2-2V5c0-1.1-.9-2-2-2zM9 17H7v-7h2v7zm4 0h-2V7h2v10zm4 0h-2v-4h2v4z\"/>\n",
              "    </g>\n",
              "</svg>\n",
              "  </button>\n",
              "\n",
              "<style>\n",
              "  .colab-df-quickchart {\n",
              "      --bg-color: #E8F0FE;\n",
              "      --fill-color: #1967D2;\n",
              "      --hover-bg-color: #E2EBFA;\n",
              "      --hover-fill-color: #174EA6;\n",
              "      --disabled-fill-color: #AAA;\n",
              "      --disabled-bg-color: #DDD;\n",
              "  }\n",
              "\n",
              "  [theme=dark] .colab-df-quickchart {\n",
              "      --bg-color: #3B4455;\n",
              "      --fill-color: #D2E3FC;\n",
              "      --hover-bg-color: #434B5C;\n",
              "      --hover-fill-color: #FFFFFF;\n",
              "      --disabled-bg-color: #3B4455;\n",
              "      --disabled-fill-color: #666;\n",
              "  }\n",
              "\n",
              "  .colab-df-quickchart {\n",
              "    background-color: var(--bg-color);\n",
              "    border: none;\n",
              "    border-radius: 50%;\n",
              "    cursor: pointer;\n",
              "    display: none;\n",
              "    fill: var(--fill-color);\n",
              "    height: 32px;\n",
              "    padding: 0;\n",
              "    width: 32px;\n",
              "  }\n",
              "\n",
              "  .colab-df-quickchart:hover {\n",
              "    background-color: var(--hover-bg-color);\n",
              "    box-shadow: 0 1px 2px rgba(60, 64, 67, 0.3), 0 1px 3px 1px rgba(60, 64, 67, 0.15);\n",
              "    fill: var(--button-hover-fill-color);\n",
              "  }\n",
              "\n",
              "  .colab-df-quickchart-complete:disabled,\n",
              "  .colab-df-quickchart-complete:disabled:hover {\n",
              "    background-color: var(--disabled-bg-color);\n",
              "    fill: var(--disabled-fill-color);\n",
              "    box-shadow: none;\n",
              "  }\n",
              "\n",
              "  .colab-df-spinner {\n",
              "    border: 2px solid var(--fill-color);\n",
              "    border-color: transparent;\n",
              "    border-bottom-color: var(--fill-color);\n",
              "    animation:\n",
              "      spin 1s steps(1) infinite;\n",
              "  }\n",
              "\n",
              "  @keyframes spin {\n",
              "    0% {\n",
              "      border-color: transparent;\n",
              "      border-bottom-color: var(--fill-color);\n",
              "      border-left-color: var(--fill-color);\n",
              "    }\n",
              "    20% {\n",
              "      border-color: transparent;\n",
              "      border-left-color: var(--fill-color);\n",
              "      border-top-color: var(--fill-color);\n",
              "    }\n",
              "    30% {\n",
              "      border-color: transparent;\n",
              "      border-left-color: var(--fill-color);\n",
              "      border-top-color: var(--fill-color);\n",
              "      border-right-color: var(--fill-color);\n",
              "    }\n",
              "    40% {\n",
              "      border-color: transparent;\n",
              "      border-right-color: var(--fill-color);\n",
              "      border-top-color: var(--fill-color);\n",
              "    }\n",
              "    60% {\n",
              "      border-color: transparent;\n",
              "      border-right-color: var(--fill-color);\n",
              "    }\n",
              "    80% {\n",
              "      border-color: transparent;\n",
              "      border-right-color: var(--fill-color);\n",
              "      border-bottom-color: var(--fill-color);\n",
              "    }\n",
              "    90% {\n",
              "      border-color: transparent;\n",
              "      border-bottom-color: var(--fill-color);\n",
              "    }\n",
              "  }\n",
              "</style>\n",
              "\n",
              "  <script>\n",
              "    async function quickchart(key) {\n",
              "      const quickchartButtonEl =\n",
              "        document.querySelector('#' + key + ' button');\n",
              "      quickchartButtonEl.disabled = true;  // To prevent multiple clicks.\n",
              "      quickchartButtonEl.classList.add('colab-df-spinner');\n",
              "      try {\n",
              "        const charts = await google.colab.kernel.invokeFunction(\n",
              "            'suggestCharts', [key], {});\n",
              "      } catch (error) {\n",
              "        console.error('Error during call to suggestCharts:', error);\n",
              "      }\n",
              "      quickchartButtonEl.classList.remove('colab-df-spinner');\n",
              "      quickchartButtonEl.classList.add('colab-df-quickchart-complete');\n",
              "    }\n",
              "    (() => {\n",
              "      let quickchartButtonEl =\n",
              "        document.querySelector('#df-da35491b-a2f8-4ebd-9e99-cfb7e089a54b button');\n",
              "      quickchartButtonEl.style.display =\n",
              "        google.colab.kernel.accessAllowed ? 'block' : 'none';\n",
              "    })();\n",
              "  </script>\n",
              "</div>\n",
              "    </div>\n",
              "  </div>\n"
            ],
            "application/vnd.google.colaboratory.intrinsic+json": {
              "type": "dataframe",
              "repr_error": "0"
            }
          },
          "metadata": {},
          "execution_count": 4
        }
      ],
      "source": [
        "driver_info = pd.read_csv('https://raw.githubusercontent.com/a-milenkin/Competitive_Data_Science/main/data/driver_info.csv')\n",
        "driver_info.sample(5)"
      ]
    },
    {
      "cell_type": "markdown",
      "metadata": {
        "id": "ubFE8w-Kbuhv"
      },
      "source": [
        "- `user_id` / `age` / `sex` — идентификатор, возраст и пол водителя, соответственно\n",
        "- `user_rating` — общий рейтинг пользователя за все поездки к концу 2021 года\n",
        "- `user_rides` — общее количество поездок к концу 2021 года\n",
        "- `user_time_accident` — число инцидентов (это могли быть аварии/штрафы/эвакуация машины)  \n",
        "- `first_ride_date` — дата первой поездки"
      ]
    },
    {
      "cell_type": "markdown",
      "metadata": {
        "id": "cXDdvlHYbuhv"
      },
      "source": [
        "### Информация про ремонт машин"
      ]
    },
    {
      "cell_type": "code",
      "execution_count": 5,
      "metadata": {
        "colab": {
          "base_uri": "https://localhost:8080/",
          "height": 206
        },
        "id": "eVTjvBspbuhv",
        "outputId": "30c90683-dda5-4092-ed70-b0f1f1f19b5c"
      },
      "outputs": [
        {
          "output_type": "execute_result",
          "data": {
            "text/plain": [
              "            car_id worker_id          fix_date  work_type  destroy_degree  \\\n",
              "145465  B30016393c        BG    2019-7-2 19:51     repair             7.2   \n",
              "131564  N39559408S        WR     2020-1-30 1:2  reparking             1.0   \n",
              "117877  v11087640F        JJ  2020-11-17 17:43     repair             4.1   \n",
              "122005  m21197630U        IY     2020-8-4 10:6  reparking             1.0   \n",
              "123236  h-1179139J        UY    2020-3-8 15:58     refuel             1.0   \n",
              "\n",
              "        work_duration  \n",
              "145465             36  \n",
              "131564             21  \n",
              "117877              1  \n",
              "122005             28  \n",
              "123236             30  "
            ],
            "text/html": [
              "\n",
              "  <div id=\"df-9a6542db-3f26-4e27-9ac5-c9d50e426394\" class=\"colab-df-container\">\n",
              "    <div>\n",
              "<style scoped>\n",
              "    .dataframe tbody tr th:only-of-type {\n",
              "        vertical-align: middle;\n",
              "    }\n",
              "\n",
              "    .dataframe tbody tr th {\n",
              "        vertical-align: top;\n",
              "    }\n",
              "\n",
              "    .dataframe thead th {\n",
              "        text-align: right;\n",
              "    }\n",
              "</style>\n",
              "<table border=\"1\" class=\"dataframe\">\n",
              "  <thead>\n",
              "    <tr style=\"text-align: right;\">\n",
              "      <th></th>\n",
              "      <th>car_id</th>\n",
              "      <th>worker_id</th>\n",
              "      <th>fix_date</th>\n",
              "      <th>work_type</th>\n",
              "      <th>destroy_degree</th>\n",
              "      <th>work_duration</th>\n",
              "    </tr>\n",
              "  </thead>\n",
              "  <tbody>\n",
              "    <tr>\n",
              "      <th>145465</th>\n",
              "      <td>B30016393c</td>\n",
              "      <td>BG</td>\n",
              "      <td>2019-7-2 19:51</td>\n",
              "      <td>repair</td>\n",
              "      <td>7.2</td>\n",
              "      <td>36</td>\n",
              "    </tr>\n",
              "    <tr>\n",
              "      <th>131564</th>\n",
              "      <td>N39559408S</td>\n",
              "      <td>WR</td>\n",
              "      <td>2020-1-30 1:2</td>\n",
              "      <td>reparking</td>\n",
              "      <td>1.0</td>\n",
              "      <td>21</td>\n",
              "    </tr>\n",
              "    <tr>\n",
              "      <th>117877</th>\n",
              "      <td>v11087640F</td>\n",
              "      <td>JJ</td>\n",
              "      <td>2020-11-17 17:43</td>\n",
              "      <td>repair</td>\n",
              "      <td>4.1</td>\n",
              "      <td>1</td>\n",
              "    </tr>\n",
              "    <tr>\n",
              "      <th>122005</th>\n",
              "      <td>m21197630U</td>\n",
              "      <td>IY</td>\n",
              "      <td>2020-8-4 10:6</td>\n",
              "      <td>reparking</td>\n",
              "      <td>1.0</td>\n",
              "      <td>28</td>\n",
              "    </tr>\n",
              "    <tr>\n",
              "      <th>123236</th>\n",
              "      <td>h-1179139J</td>\n",
              "      <td>UY</td>\n",
              "      <td>2020-3-8 15:58</td>\n",
              "      <td>refuel</td>\n",
              "      <td>1.0</td>\n",
              "      <td>30</td>\n",
              "    </tr>\n",
              "  </tbody>\n",
              "</table>\n",
              "</div>\n",
              "    <div class=\"colab-df-buttons\">\n",
              "\n",
              "  <div class=\"colab-df-container\">\n",
              "    <button class=\"colab-df-convert\" onclick=\"convertToInteractive('df-9a6542db-3f26-4e27-9ac5-c9d50e426394')\"\n",
              "            title=\"Convert this dataframe to an interactive table.\"\n",
              "            style=\"display:none;\">\n",
              "\n",
              "  <svg xmlns=\"http://www.w3.org/2000/svg\" height=\"24px\" viewBox=\"0 -960 960 960\">\n",
              "    <path d=\"M120-120v-720h720v720H120Zm60-500h600v-160H180v160Zm220 220h160v-160H400v160Zm0 220h160v-160H400v160ZM180-400h160v-160H180v160Zm440 0h160v-160H620v160ZM180-180h160v-160H180v160Zm440 0h160v-160H620v160Z\"/>\n",
              "  </svg>\n",
              "    </button>\n",
              "\n",
              "  <style>\n",
              "    .colab-df-container {\n",
              "      display:flex;\n",
              "      gap: 12px;\n",
              "    }\n",
              "\n",
              "    .colab-df-convert {\n",
              "      background-color: #E8F0FE;\n",
              "      border: none;\n",
              "      border-radius: 50%;\n",
              "      cursor: pointer;\n",
              "      display: none;\n",
              "      fill: #1967D2;\n",
              "      height: 32px;\n",
              "      padding: 0 0 0 0;\n",
              "      width: 32px;\n",
              "    }\n",
              "\n",
              "    .colab-df-convert:hover {\n",
              "      background-color: #E2EBFA;\n",
              "      box-shadow: 0px 1px 2px rgba(60, 64, 67, 0.3), 0px 1px 3px 1px rgba(60, 64, 67, 0.15);\n",
              "      fill: #174EA6;\n",
              "    }\n",
              "\n",
              "    .colab-df-buttons div {\n",
              "      margin-bottom: 4px;\n",
              "    }\n",
              "\n",
              "    [theme=dark] .colab-df-convert {\n",
              "      background-color: #3B4455;\n",
              "      fill: #D2E3FC;\n",
              "    }\n",
              "\n",
              "    [theme=dark] .colab-df-convert:hover {\n",
              "      background-color: #434B5C;\n",
              "      box-shadow: 0px 1px 3px 1px rgba(0, 0, 0, 0.15);\n",
              "      filter: drop-shadow(0px 1px 2px rgba(0, 0, 0, 0.3));\n",
              "      fill: #FFFFFF;\n",
              "    }\n",
              "  </style>\n",
              "\n",
              "    <script>\n",
              "      const buttonEl =\n",
              "        document.querySelector('#df-9a6542db-3f26-4e27-9ac5-c9d50e426394 button.colab-df-convert');\n",
              "      buttonEl.style.display =\n",
              "        google.colab.kernel.accessAllowed ? 'block' : 'none';\n",
              "\n",
              "      async function convertToInteractive(key) {\n",
              "        const element = document.querySelector('#df-9a6542db-3f26-4e27-9ac5-c9d50e426394');\n",
              "        const dataTable =\n",
              "          await google.colab.kernel.invokeFunction('convertToInteractive',\n",
              "                                                    [key], {});\n",
              "        if (!dataTable) return;\n",
              "\n",
              "        const docLinkHtml = 'Like what you see? Visit the ' +\n",
              "          '<a target=\"_blank\" href=https://colab.research.google.com/notebooks/data_table.ipynb>data table notebook</a>'\n",
              "          + ' to learn more about interactive tables.';\n",
              "        element.innerHTML = '';\n",
              "        dataTable['output_type'] = 'display_data';\n",
              "        await google.colab.output.renderOutput(dataTable, element);\n",
              "        const docLink = document.createElement('div');\n",
              "        docLink.innerHTML = docLinkHtml;\n",
              "        element.appendChild(docLink);\n",
              "      }\n",
              "    </script>\n",
              "  </div>\n",
              "\n",
              "\n",
              "<div id=\"df-0ebe18a2-3255-4039-8501-304d8d5cdda4\">\n",
              "  <button class=\"colab-df-quickchart\" onclick=\"quickchart('df-0ebe18a2-3255-4039-8501-304d8d5cdda4')\"\n",
              "            title=\"Suggest charts\"\n",
              "            style=\"display:none;\">\n",
              "\n",
              "<svg xmlns=\"http://www.w3.org/2000/svg\" height=\"24px\"viewBox=\"0 0 24 24\"\n",
              "     width=\"24px\">\n",
              "    <g>\n",
              "        <path d=\"M19 3H5c-1.1 0-2 .9-2 2v14c0 1.1.9 2 2 2h14c1.1 0 2-.9 2-2V5c0-1.1-.9-2-2-2zM9 17H7v-7h2v7zm4 0h-2V7h2v10zm4 0h-2v-4h2v4z\"/>\n",
              "    </g>\n",
              "</svg>\n",
              "  </button>\n",
              "\n",
              "<style>\n",
              "  .colab-df-quickchart {\n",
              "      --bg-color: #E8F0FE;\n",
              "      --fill-color: #1967D2;\n",
              "      --hover-bg-color: #E2EBFA;\n",
              "      --hover-fill-color: #174EA6;\n",
              "      --disabled-fill-color: #AAA;\n",
              "      --disabled-bg-color: #DDD;\n",
              "  }\n",
              "\n",
              "  [theme=dark] .colab-df-quickchart {\n",
              "      --bg-color: #3B4455;\n",
              "      --fill-color: #D2E3FC;\n",
              "      --hover-bg-color: #434B5C;\n",
              "      --hover-fill-color: #FFFFFF;\n",
              "      --disabled-bg-color: #3B4455;\n",
              "      --disabled-fill-color: #666;\n",
              "  }\n",
              "\n",
              "  .colab-df-quickchart {\n",
              "    background-color: var(--bg-color);\n",
              "    border: none;\n",
              "    border-radius: 50%;\n",
              "    cursor: pointer;\n",
              "    display: none;\n",
              "    fill: var(--fill-color);\n",
              "    height: 32px;\n",
              "    padding: 0;\n",
              "    width: 32px;\n",
              "  }\n",
              "\n",
              "  .colab-df-quickchart:hover {\n",
              "    background-color: var(--hover-bg-color);\n",
              "    box-shadow: 0 1px 2px rgba(60, 64, 67, 0.3), 0 1px 3px 1px rgba(60, 64, 67, 0.15);\n",
              "    fill: var(--button-hover-fill-color);\n",
              "  }\n",
              "\n",
              "  .colab-df-quickchart-complete:disabled,\n",
              "  .colab-df-quickchart-complete:disabled:hover {\n",
              "    background-color: var(--disabled-bg-color);\n",
              "    fill: var(--disabled-fill-color);\n",
              "    box-shadow: none;\n",
              "  }\n",
              "\n",
              "  .colab-df-spinner {\n",
              "    border: 2px solid var(--fill-color);\n",
              "    border-color: transparent;\n",
              "    border-bottom-color: var(--fill-color);\n",
              "    animation:\n",
              "      spin 1s steps(1) infinite;\n",
              "  }\n",
              "\n",
              "  @keyframes spin {\n",
              "    0% {\n",
              "      border-color: transparent;\n",
              "      border-bottom-color: var(--fill-color);\n",
              "      border-left-color: var(--fill-color);\n",
              "    }\n",
              "    20% {\n",
              "      border-color: transparent;\n",
              "      border-left-color: var(--fill-color);\n",
              "      border-top-color: var(--fill-color);\n",
              "    }\n",
              "    30% {\n",
              "      border-color: transparent;\n",
              "      border-left-color: var(--fill-color);\n",
              "      border-top-color: var(--fill-color);\n",
              "      border-right-color: var(--fill-color);\n",
              "    }\n",
              "    40% {\n",
              "      border-color: transparent;\n",
              "      border-right-color: var(--fill-color);\n",
              "      border-top-color: var(--fill-color);\n",
              "    }\n",
              "    60% {\n",
              "      border-color: transparent;\n",
              "      border-right-color: var(--fill-color);\n",
              "    }\n",
              "    80% {\n",
              "      border-color: transparent;\n",
              "      border-right-color: var(--fill-color);\n",
              "      border-bottom-color: var(--fill-color);\n",
              "    }\n",
              "    90% {\n",
              "      border-color: transparent;\n",
              "      border-bottom-color: var(--fill-color);\n",
              "    }\n",
              "  }\n",
              "</style>\n",
              "\n",
              "  <script>\n",
              "    async function quickchart(key) {\n",
              "      const quickchartButtonEl =\n",
              "        document.querySelector('#' + key + ' button');\n",
              "      quickchartButtonEl.disabled = true;  // To prevent multiple clicks.\n",
              "      quickchartButtonEl.classList.add('colab-df-spinner');\n",
              "      try {\n",
              "        const charts = await google.colab.kernel.invokeFunction(\n",
              "            'suggestCharts', [key], {});\n",
              "      } catch (error) {\n",
              "        console.error('Error during call to suggestCharts:', error);\n",
              "      }\n",
              "      quickchartButtonEl.classList.remove('colab-df-spinner');\n",
              "      quickchartButtonEl.classList.add('colab-df-quickchart-complete');\n",
              "    }\n",
              "    (() => {\n",
              "      let quickchartButtonEl =\n",
              "        document.querySelector('#df-0ebe18a2-3255-4039-8501-304d8d5cdda4 button');\n",
              "      quickchartButtonEl.style.display =\n",
              "        google.colab.kernel.accessAllowed ? 'block' : 'none';\n",
              "    })();\n",
              "  </script>\n",
              "</div>\n",
              "    </div>\n",
              "  </div>\n"
            ],
            "application/vnd.google.colaboratory.intrinsic+json": {
              "type": "dataframe",
              "repr_error": "0"
            }
          },
          "metadata": {},
          "execution_count": 5
        }
      ],
      "source": [
        "fix_info = pd.read_csv('https://raw.githubusercontent.com/a-milenkin/Competitive_Data_Science/main/data/fix_info.csv')\n",
        "fix_info.sample(5)"
      ]
    },
    {
      "cell_type": "markdown",
      "metadata": {
        "id": "H01U-FFAbuhv"
      },
      "source": [
        "- `worker_id` / `car_id` — идентификатор работника и машины\n",
        "- `work_type` / `work_duration` — тип и длительность (в часах) проводимой работы\n",
        "- `destroy_degree` — степень износа/поврежденности машины в случае поломки\n",
        "- `fix_date` — время начала ремонта (снятия машины с линии)"
      ]
    },
    {
      "cell_type": "markdown",
      "metadata": {
        "id": "qY-lAjlhbuhv"
      },
      "source": [
        "# Домашнее задание 1. Генерация и фильтрация признаков"
      ]
    },
    {
      "cell_type": "markdown",
      "metadata": {
        "id": "9E2N9m5Cbuhv"
      },
      "source": [
        "<center> <img src=\"https://ucarecdn.com/bf4c772d-b67a-42ae-a48b-cfd83910b0a2/\" width=700>"
      ]
    },
    {
      "cell_type": "markdown",
      "metadata": {
        "id": "HaroHWSBbuhw"
      },
      "source": [
        "<div class=\"alert alert-info\">\n",
        "\n",
        "**Цель блока** — сгенерировать признаки из дополнительных датасетов и добавить их к основному датасету, произвести фильтрацию признаков."
      ]
    },
    {
      "cell_type": "markdown",
      "metadata": {
        "id": "wev7E_qlbuhw"
      },
      "source": [
        "    \n",
        "## Задание 1. Генерация признаков из дополнительных датасетов (6 баллов)"
      ]
    },
    {
      "cell_type": "markdown",
      "metadata": {
        "id": "CSX4pA5Kbuhw"
      },
      "source": [
        "<div class=\"alert alert-info\">\n",
        "\n",
        "1. Возьмите датасет `rides_info` с информацией о поездках и проведите группировку по каждой машине отдельно.\n",
        "\n",
        "2. Для каждой машины (то есть для каждого `car_id`) подсчитайте несколько признаков:\n",
        "  - минимальный рейтинг за все поездки;\n",
        "  - средний рейтинг за все поездки;\n",
        "  - общее количество километров, которое машина проехала;\n",
        "  - максимальная скорость;\n",
        "  - общее количество поездок для каждой машины.\n",
        "\n",
        "3. Добавьте минимум 3 признака на свой выбор.\n",
        "\n",
        "4. Сделайте соединение таблиц — вспомните про методы соединения и выберите подходящий для этого случая.\n",
        "\n",
        "5. Подключите информацию про водителей (`driver_info`) и про ремонт машин (`fix_info`). Добавьте минимум 3 любых признака с каждого датасета.\n",
        "\n",
        "\n",
        "<h4> Критерии оценивания </h4>\n",
        "    \n",
        "- Добавлены 5 обязательных и минимум 3 любых признака из датасета `rides_info` — 2 балла.\n",
        "- Добавлены минимум 3 любых признака из датасета `driver_info` — 2 балла.\n",
        "- Добавлены минимум 3 любых признака из датасета `fix_info` — 2 балла.\n",
        "\n",
        "</div>"
      ]
    },
    {
      "cell_type": "markdown",
      "metadata": {
        "id": "kfAs9dZHbuhw"
      },
      "source": [
        "<div class=\"alert alert-success\">\n",
        "    \n",
        "<h4> Советы по Feature Engineering</h4>\n",
        "    \n",
        "- Начинайте с сырых данных.\n",
        "- Используйте все доступные данные. Покрывайте признаками всю имеющуюся информацию в данных.\n",
        "- Формулируйте предположения: от чего зависит таргет?\n",
        "- Смотрите визуально на классы/ошибки и делайте предположения. Какие полезны?\n",
        "- Помните, что слишком много признаков может быть вредно. Потом придется отфильтровывать.\n",
        "    \n",
        "<h4> Полезные источники </h4>\n",
        "    \n",
        "- Занятие про Feature Engineering.\n",
        "- Занятие про Feature Selection.\n",
        "- [Max Kuhn and Kjell Johnson. Feature Engineering and Selection: A Practical Approach for Predictive Models](http://www.feat.engineering/)."
      ]
    },
    {
      "cell_type": "markdown",
      "metadata": {
        "id": "n5pkVaw0eszI"
      },
      "source": [
        "### Пример расчета признака"
      ]
    },
    {
      "cell_type": "code",
      "execution_count": 6,
      "metadata": {
        "colab": {
          "base_uri": "https://localhost:8080/",
          "height": 429
        },
        "id": "kIH9EdaaAitJ",
        "outputId": "74b20f67-62b0-40c2-f3d3-61ed7f459882"
      },
      "outputs": [
        {
          "output_type": "execute_result",
          "data": {
            "text/plain": [
              "       car_id           model car_type fuel_type  car_rating  year_to_start  \\\n",
              "0  y13744087j  Kia Rio X-line  economy    petrol        3.78           2015   \n",
              "1  y13744087j  Kia Rio X-line  economy    petrol        3.78           2015   \n",
              "2  y13744087j  Kia Rio X-line  economy    petrol        3.78           2015   \n",
              "3  y13744087j  Kia Rio X-line  economy    petrol        3.78           2015   \n",
              "4  y13744087j  Kia Rio X-line  economy    petrol        3.78           2015   \n",
              "\n",
              "   riders  year_to_work  target_reg target_class  ...  avg_ride_cost  \\\n",
              "0   76163          2021      108.53  another_bug  ...   20106.873563   \n",
              "1   76163          2021      108.53  another_bug  ...   20106.873563   \n",
              "2   76163          2021      108.53  another_bug  ...   20106.873563   \n",
              "3   76163          2021      108.53  another_bug  ...   20106.873563   \n",
              "4   76163          2021      108.53  another_bug  ...   20106.873563   \n",
              "\n",
              "   avg_speed  mean_distance     user_id  age  user_rating  user_rides  \\\n",
              "0   44.66092   69777.646008  n14703870u   38          7.4         268   \n",
              "1   44.66092   69777.646008  n14703870u   38          7.4         268   \n",
              "2   44.66092   69777.646008  n14703870u   38          7.4         268   \n",
              "3   44.66092   69777.646008  n14703870u   38          7.4         268   \n",
              "4   44.66092   69777.646008  n14703870u   38          7.4         268   \n",
              "\n",
              "   worker_id         fix_date  work_type  \n",
              "0         PG   2019-8-10 9:29  reparking  \n",
              "1         HH   2019-2-9 10:49     repair  \n",
              "2         UF   2020-4-8 10:23  reparking  \n",
              "3         LC  2019-5-23 10:42  reparking  \n",
              "4         AF  2020-7-24 18:32     repair  \n",
              "\n",
              "[5 rows x 25 columns]"
            ],
            "text/html": [
              "\n",
              "  <div id=\"df-ebff92e6-4347-42d9-896f-462bfe061496\" class=\"colab-df-container\">\n",
              "    <div>\n",
              "<style scoped>\n",
              "    .dataframe tbody tr th:only-of-type {\n",
              "        vertical-align: middle;\n",
              "    }\n",
              "\n",
              "    .dataframe tbody tr th {\n",
              "        vertical-align: top;\n",
              "    }\n",
              "\n",
              "    .dataframe thead th {\n",
              "        text-align: right;\n",
              "    }\n",
              "</style>\n",
              "<table border=\"1\" class=\"dataframe\">\n",
              "  <thead>\n",
              "    <tr style=\"text-align: right;\">\n",
              "      <th></th>\n",
              "      <th>car_id</th>\n",
              "      <th>model</th>\n",
              "      <th>car_type</th>\n",
              "      <th>fuel_type</th>\n",
              "      <th>car_rating</th>\n",
              "      <th>year_to_start</th>\n",
              "      <th>riders</th>\n",
              "      <th>year_to_work</th>\n",
              "      <th>target_reg</th>\n",
              "      <th>target_class</th>\n",
              "      <th>...</th>\n",
              "      <th>avg_ride_cost</th>\n",
              "      <th>avg_speed</th>\n",
              "      <th>mean_distance</th>\n",
              "      <th>user_id</th>\n",
              "      <th>age</th>\n",
              "      <th>user_rating</th>\n",
              "      <th>user_rides</th>\n",
              "      <th>worker_id</th>\n",
              "      <th>fix_date</th>\n",
              "      <th>work_type</th>\n",
              "    </tr>\n",
              "  </thead>\n",
              "  <tbody>\n",
              "    <tr>\n",
              "      <th>0</th>\n",
              "      <td>y13744087j</td>\n",
              "      <td>Kia Rio X-line</td>\n",
              "      <td>economy</td>\n",
              "      <td>petrol</td>\n",
              "      <td>3.78</td>\n",
              "      <td>2015</td>\n",
              "      <td>76163</td>\n",
              "      <td>2021</td>\n",
              "      <td>108.53</td>\n",
              "      <td>another_bug</td>\n",
              "      <td>...</td>\n",
              "      <td>20106.873563</td>\n",
              "      <td>44.66092</td>\n",
              "      <td>69777.646008</td>\n",
              "      <td>n14703870u</td>\n",
              "      <td>38</td>\n",
              "      <td>7.4</td>\n",
              "      <td>268</td>\n",
              "      <td>PG</td>\n",
              "      <td>2019-8-10 9:29</td>\n",
              "      <td>reparking</td>\n",
              "    </tr>\n",
              "    <tr>\n",
              "      <th>1</th>\n",
              "      <td>y13744087j</td>\n",
              "      <td>Kia Rio X-line</td>\n",
              "      <td>economy</td>\n",
              "      <td>petrol</td>\n",
              "      <td>3.78</td>\n",
              "      <td>2015</td>\n",
              "      <td>76163</td>\n",
              "      <td>2021</td>\n",
              "      <td>108.53</td>\n",
              "      <td>another_bug</td>\n",
              "      <td>...</td>\n",
              "      <td>20106.873563</td>\n",
              "      <td>44.66092</td>\n",
              "      <td>69777.646008</td>\n",
              "      <td>n14703870u</td>\n",
              "      <td>38</td>\n",
              "      <td>7.4</td>\n",
              "      <td>268</td>\n",
              "      <td>HH</td>\n",
              "      <td>2019-2-9 10:49</td>\n",
              "      <td>repair</td>\n",
              "    </tr>\n",
              "    <tr>\n",
              "      <th>2</th>\n",
              "      <td>y13744087j</td>\n",
              "      <td>Kia Rio X-line</td>\n",
              "      <td>economy</td>\n",
              "      <td>petrol</td>\n",
              "      <td>3.78</td>\n",
              "      <td>2015</td>\n",
              "      <td>76163</td>\n",
              "      <td>2021</td>\n",
              "      <td>108.53</td>\n",
              "      <td>another_bug</td>\n",
              "      <td>...</td>\n",
              "      <td>20106.873563</td>\n",
              "      <td>44.66092</td>\n",
              "      <td>69777.646008</td>\n",
              "      <td>n14703870u</td>\n",
              "      <td>38</td>\n",
              "      <td>7.4</td>\n",
              "      <td>268</td>\n",
              "      <td>UF</td>\n",
              "      <td>2020-4-8 10:23</td>\n",
              "      <td>reparking</td>\n",
              "    </tr>\n",
              "    <tr>\n",
              "      <th>3</th>\n",
              "      <td>y13744087j</td>\n",
              "      <td>Kia Rio X-line</td>\n",
              "      <td>economy</td>\n",
              "      <td>petrol</td>\n",
              "      <td>3.78</td>\n",
              "      <td>2015</td>\n",
              "      <td>76163</td>\n",
              "      <td>2021</td>\n",
              "      <td>108.53</td>\n",
              "      <td>another_bug</td>\n",
              "      <td>...</td>\n",
              "      <td>20106.873563</td>\n",
              "      <td>44.66092</td>\n",
              "      <td>69777.646008</td>\n",
              "      <td>n14703870u</td>\n",
              "      <td>38</td>\n",
              "      <td>7.4</td>\n",
              "      <td>268</td>\n",
              "      <td>LC</td>\n",
              "      <td>2019-5-23 10:42</td>\n",
              "      <td>reparking</td>\n",
              "    </tr>\n",
              "    <tr>\n",
              "      <th>4</th>\n",
              "      <td>y13744087j</td>\n",
              "      <td>Kia Rio X-line</td>\n",
              "      <td>economy</td>\n",
              "      <td>petrol</td>\n",
              "      <td>3.78</td>\n",
              "      <td>2015</td>\n",
              "      <td>76163</td>\n",
              "      <td>2021</td>\n",
              "      <td>108.53</td>\n",
              "      <td>another_bug</td>\n",
              "      <td>...</td>\n",
              "      <td>20106.873563</td>\n",
              "      <td>44.66092</td>\n",
              "      <td>69777.646008</td>\n",
              "      <td>n14703870u</td>\n",
              "      <td>38</td>\n",
              "      <td>7.4</td>\n",
              "      <td>268</td>\n",
              "      <td>AF</td>\n",
              "      <td>2020-7-24 18:32</td>\n",
              "      <td>repair</td>\n",
              "    </tr>\n",
              "  </tbody>\n",
              "</table>\n",
              "<p>5 rows × 25 columns</p>\n",
              "</div>\n",
              "    <div class=\"colab-df-buttons\">\n",
              "\n",
              "  <div class=\"colab-df-container\">\n",
              "    <button class=\"colab-df-convert\" onclick=\"convertToInteractive('df-ebff92e6-4347-42d9-896f-462bfe061496')\"\n",
              "            title=\"Convert this dataframe to an interactive table.\"\n",
              "            style=\"display:none;\">\n",
              "\n",
              "  <svg xmlns=\"http://www.w3.org/2000/svg\" height=\"24px\" viewBox=\"0 -960 960 960\">\n",
              "    <path d=\"M120-120v-720h720v720H120Zm60-500h600v-160H180v160Zm220 220h160v-160H400v160Zm0 220h160v-160H400v160ZM180-400h160v-160H180v160Zm440 0h160v-160H620v160ZM180-180h160v-160H180v160Zm440 0h160v-160H620v160Z\"/>\n",
              "  </svg>\n",
              "    </button>\n",
              "\n",
              "  <style>\n",
              "    .colab-df-container {\n",
              "      display:flex;\n",
              "      gap: 12px;\n",
              "    }\n",
              "\n",
              "    .colab-df-convert {\n",
              "      background-color: #E8F0FE;\n",
              "      border: none;\n",
              "      border-radius: 50%;\n",
              "      cursor: pointer;\n",
              "      display: none;\n",
              "      fill: #1967D2;\n",
              "      height: 32px;\n",
              "      padding: 0 0 0 0;\n",
              "      width: 32px;\n",
              "    }\n",
              "\n",
              "    .colab-df-convert:hover {\n",
              "      background-color: #E2EBFA;\n",
              "      box-shadow: 0px 1px 2px rgba(60, 64, 67, 0.3), 0px 1px 3px 1px rgba(60, 64, 67, 0.15);\n",
              "      fill: #174EA6;\n",
              "    }\n",
              "\n",
              "    .colab-df-buttons div {\n",
              "      margin-bottom: 4px;\n",
              "    }\n",
              "\n",
              "    [theme=dark] .colab-df-convert {\n",
              "      background-color: #3B4455;\n",
              "      fill: #D2E3FC;\n",
              "    }\n",
              "\n",
              "    [theme=dark] .colab-df-convert:hover {\n",
              "      background-color: #434B5C;\n",
              "      box-shadow: 0px 1px 3px 1px rgba(0, 0, 0, 0.15);\n",
              "      filter: drop-shadow(0px 1px 2px rgba(0, 0, 0, 0.3));\n",
              "      fill: #FFFFFF;\n",
              "    }\n",
              "  </style>\n",
              "\n",
              "    <script>\n",
              "      const buttonEl =\n",
              "        document.querySelector('#df-ebff92e6-4347-42d9-896f-462bfe061496 button.colab-df-convert');\n",
              "      buttonEl.style.display =\n",
              "        google.colab.kernel.accessAllowed ? 'block' : 'none';\n",
              "\n",
              "      async function convertToInteractive(key) {\n",
              "        const element = document.querySelector('#df-ebff92e6-4347-42d9-896f-462bfe061496');\n",
              "        const dataTable =\n",
              "          await google.colab.kernel.invokeFunction('convertToInteractive',\n",
              "                                                    [key], {});\n",
              "        if (!dataTable) return;\n",
              "\n",
              "        const docLinkHtml = 'Like what you see? Visit the ' +\n",
              "          '<a target=\"_blank\" href=https://colab.research.google.com/notebooks/data_table.ipynb>data table notebook</a>'\n",
              "          + ' to learn more about interactive tables.';\n",
              "        element.innerHTML = '';\n",
              "        dataTable['output_type'] = 'display_data';\n",
              "        await google.colab.output.renderOutput(dataTable, element);\n",
              "        const docLink = document.createElement('div');\n",
              "        docLink.innerHTML = docLinkHtml;\n",
              "        element.appendChild(docLink);\n",
              "      }\n",
              "    </script>\n",
              "  </div>\n",
              "\n",
              "\n",
              "<div id=\"df-975a1923-0cfa-4d69-ab5f-fa3cf8a27b39\">\n",
              "  <button class=\"colab-df-quickchart\" onclick=\"quickchart('df-975a1923-0cfa-4d69-ab5f-fa3cf8a27b39')\"\n",
              "            title=\"Suggest charts\"\n",
              "            style=\"display:none;\">\n",
              "\n",
              "<svg xmlns=\"http://www.w3.org/2000/svg\" height=\"24px\"viewBox=\"0 0 24 24\"\n",
              "     width=\"24px\">\n",
              "    <g>\n",
              "        <path d=\"M19 3H5c-1.1 0-2 .9-2 2v14c0 1.1.9 2 2 2h14c1.1 0 2-.9 2-2V5c0-1.1-.9-2-2-2zM9 17H7v-7h2v7zm4 0h-2V7h2v10zm4 0h-2v-4h2v4z\"/>\n",
              "    </g>\n",
              "</svg>\n",
              "  </button>\n",
              "\n",
              "<style>\n",
              "  .colab-df-quickchart {\n",
              "      --bg-color: #E8F0FE;\n",
              "      --fill-color: #1967D2;\n",
              "      --hover-bg-color: #E2EBFA;\n",
              "      --hover-fill-color: #174EA6;\n",
              "      --disabled-fill-color: #AAA;\n",
              "      --disabled-bg-color: #DDD;\n",
              "  }\n",
              "\n",
              "  [theme=dark] .colab-df-quickchart {\n",
              "      --bg-color: #3B4455;\n",
              "      --fill-color: #D2E3FC;\n",
              "      --hover-bg-color: #434B5C;\n",
              "      --hover-fill-color: #FFFFFF;\n",
              "      --disabled-bg-color: #3B4455;\n",
              "      --disabled-fill-color: #666;\n",
              "  }\n",
              "\n",
              "  .colab-df-quickchart {\n",
              "    background-color: var(--bg-color);\n",
              "    border: none;\n",
              "    border-radius: 50%;\n",
              "    cursor: pointer;\n",
              "    display: none;\n",
              "    fill: var(--fill-color);\n",
              "    height: 32px;\n",
              "    padding: 0;\n",
              "    width: 32px;\n",
              "  }\n",
              "\n",
              "  .colab-df-quickchart:hover {\n",
              "    background-color: var(--hover-bg-color);\n",
              "    box-shadow: 0 1px 2px rgba(60, 64, 67, 0.3), 0 1px 3px 1px rgba(60, 64, 67, 0.15);\n",
              "    fill: var(--button-hover-fill-color);\n",
              "  }\n",
              "\n",
              "  .colab-df-quickchart-complete:disabled,\n",
              "  .colab-df-quickchart-complete:disabled:hover {\n",
              "    background-color: var(--disabled-bg-color);\n",
              "    fill: var(--disabled-fill-color);\n",
              "    box-shadow: none;\n",
              "  }\n",
              "\n",
              "  .colab-df-spinner {\n",
              "    border: 2px solid var(--fill-color);\n",
              "    border-color: transparent;\n",
              "    border-bottom-color: var(--fill-color);\n",
              "    animation:\n",
              "      spin 1s steps(1) infinite;\n",
              "  }\n",
              "\n",
              "  @keyframes spin {\n",
              "    0% {\n",
              "      border-color: transparent;\n",
              "      border-bottom-color: var(--fill-color);\n",
              "      border-left-color: var(--fill-color);\n",
              "    }\n",
              "    20% {\n",
              "      border-color: transparent;\n",
              "      border-left-color: var(--fill-color);\n",
              "      border-top-color: var(--fill-color);\n",
              "    }\n",
              "    30% {\n",
              "      border-color: transparent;\n",
              "      border-left-color: var(--fill-color);\n",
              "      border-top-color: var(--fill-color);\n",
              "      border-right-color: var(--fill-color);\n",
              "    }\n",
              "    40% {\n",
              "      border-color: transparent;\n",
              "      border-right-color: var(--fill-color);\n",
              "      border-top-color: var(--fill-color);\n",
              "    }\n",
              "    60% {\n",
              "      border-color: transparent;\n",
              "      border-right-color: var(--fill-color);\n",
              "    }\n",
              "    80% {\n",
              "      border-color: transparent;\n",
              "      border-right-color: var(--fill-color);\n",
              "      border-bottom-color: var(--fill-color);\n",
              "    }\n",
              "    90% {\n",
              "      border-color: transparent;\n",
              "      border-bottom-color: var(--fill-color);\n",
              "    }\n",
              "  }\n",
              "</style>\n",
              "\n",
              "  <script>\n",
              "    async function quickchart(key) {\n",
              "      const quickchartButtonEl =\n",
              "        document.querySelector('#' + key + ' button');\n",
              "      quickchartButtonEl.disabled = true;  // To prevent multiple clicks.\n",
              "      quickchartButtonEl.classList.add('colab-df-spinner');\n",
              "      try {\n",
              "        const charts = await google.colab.kernel.invokeFunction(\n",
              "            'suggestCharts', [key], {});\n",
              "      } catch (error) {\n",
              "        console.error('Error during call to suggestCharts:', error);\n",
              "      }\n",
              "      quickchartButtonEl.classList.remove('colab-df-spinner');\n",
              "      quickchartButtonEl.classList.add('colab-df-quickchart-complete');\n",
              "    }\n",
              "    (() => {\n",
              "      let quickchartButtonEl =\n",
              "        document.querySelector('#df-975a1923-0cfa-4d69-ab5f-fa3cf8a27b39 button');\n",
              "      quickchartButtonEl.style.display =\n",
              "        google.colab.kernel.accessAllowed ? 'block' : 'none';\n",
              "    })();\n",
              "  </script>\n",
              "</div>\n",
              "    </div>\n",
              "  </div>\n"
            ],
            "application/vnd.google.colaboratory.intrinsic+json": {
              "type": "dataframe",
              "variable_name": "data"
            }
          },
          "metadata": {},
          "execution_count": 6
        }
      ],
      "source": [
        "# Для каждой машины несколько признаков\n",
        "rides_group = rides_info.groupby('car_id', as_index=False).agg(\n",
        "    mean_rating = ('rating', 'mean'),\n",
        "    min_rating = ('rating', 'min'),\n",
        "    all_distance = ('distance', 'sum'),\n",
        "    speed_max = ('speed_max', 'max'),\n",
        "    alL_rides = ('ride_id', 'count'),\n",
        "\n",
        "    # добавляю сразу признаки на свой выбор\n",
        "    avg_ride_cost = ('ride_cost', 'mean'),\n",
        "    avg_speed = ('speed_avg', 'mean'),\n",
        "    mean_distance = ('distance', 'mean'),\n",
        ")\n",
        "\n",
        "# Cоединение таблиц\n",
        "data = pd.merge(car_train, rides_group, on='car_id')\n",
        "\n",
        "# Подключение информации про водителей и про ремонт машин\n",
        "data = pd.merge(data, rides_info[['car_id', 'user_id']], on='car_id')\n",
        "data = pd.merge(data, driver_info[['user_id', 'age', 'user_rating', 'user_rides']], on='user_id')\n",
        "data = pd.merge(data, fix_info[['car_id', 'worker_id', 'fix_date', 'work_type']], on='car_id')\n",
        "\n",
        "data.head()"
      ]
    },
    {
      "cell_type": "markdown",
      "metadata": {
        "id": "Q6Fa0zupbuhw"
      },
      "source": [
        "## Задание 2. Применение методов фильтрации признаков (4 балла)\n",
        "\n",
        "<center> <img src=\"https://ucarecdn.com/d1b4bc78-fd04-44fb-bdbf-0a63355b7384/\" width=700>"
      ]
    },
    {
      "cell_type": "markdown",
      "metadata": {
        "id": "c910L9jubuhx"
      },
      "source": [
        "1. Выберите и примените любые 3 (можно и больше) метода фильтрации, которые указаны выше или в ноутбуке по фильтрации из полезных ссылок.\n",
        "2. Проинтерпретируйте результаты и сделайте выводы.\n",
        "\n",
        "\n",
        "<h4> Критерии оценивания </h4>\n",
        "    \n",
        "- Применены методы фильтрации — 1 балл за каждый метод, максимум 3 балла.\n",
        "- Сделаны выводы на основе примененных методов —1 балл.\n",
        "</div>"
      ]
    },
    {
      "cell_type": "markdown",
      "metadata": {
        "id": "9flWgKVxf9Q1"
      },
      "source": [
        "### Советы по Feature Selection"
      ]
    },
    {
      "cell_type": "markdown",
      "metadata": {
        "id": "vYr9VNS5buhw"
      },
      "source": [
        "<div class=\"alert alert-info\">\n",
        "\n",
        "<h3><center>Зачем отбирать признаки</center></h3>\n",
        "    \n",
        "**Основные причины**:\n",
        "    \n",
        "- Главная причина: с увеличением количества признаков часто падает точность предсказания модели, а некоторые модели и вовсе перестают адекватно работать. Так происходит, если в данных большое количество мусорных фичей (почти не коррелирующих с таргетом).\n",
        "\n",
        "- Если фичей очень много, то данные перестают помещаться в память и существенно увеличивают время обучения модели, особенно если мы тестируем несколько алгоритмов или ансамбль. Также важно учитывать, что платформы имеют ограничения на длительность одной сессии (в Kaggle — 12 часов) и лимиты по потребляемой памяти.\n",
        "\n",
        "- Даже если точность не снижается, есть риск, что модель опирается на шумные фичи, что снизит стабильность прогноза на приватной выборке.\n"
      ]
    },
    {
      "cell_type": "markdown",
      "metadata": {
        "id": "P4JQwUS3buhw"
      },
      "source": [
        "<b>Что удалить сразу:</b>\n",
        "    \n",
        "- константы;\n",
        "- уникальные значения (в том числе в тесте; как правило, это ID-шники по типу `car_id`).\n",
        "    \n",
        "<b>Какие методы использовать:</b>\n",
        "    \n",
        "- `Линейная корреляция`.\n",
        "- `Phik` — тоже корреляция, но на стероидах ([туториал на Medium](https://towardsdatascience.com/phik-k-get-familiar-with-the-latest-correlation-coefficient-9ba0032b37e7)).\n",
        "- `Permutation importance` (из `scikit-learn`).\n",
        "- `SHAP values` (из библиотеки `shap`).\n",
        "- `CatBoost Feature Selection` (рекурсивные методы).\n",
        "    "
      ]
    },
    {
      "cell_type": "code",
      "execution_count": 7,
      "metadata": {
        "colab": {
          "base_uri": "https://localhost:8080/",
          "height": 429
        },
        "id": "UT2ndUSHbuhx",
        "outputId": "95db412f-1fd0-4613-d021-e985d47e5244"
      },
      "outputs": [
        {
          "output_type": "execute_result",
          "data": {
            "text/plain": [
              "            model car_type fuel_type  car_rating  year_to_start  riders  \\\n",
              "0  Kia Rio X-line  economy    petrol        3.78           2015   76163   \n",
              "1  Kia Rio X-line  economy    petrol        3.78           2015   76163   \n",
              "2  Kia Rio X-line  economy    petrol        3.78           2015   76163   \n",
              "3  Kia Rio X-line  economy    petrol        3.78           2015   76163   \n",
              "4  Kia Rio X-line  economy    petrol        3.78           2015   76163   \n",
              "\n",
              "   year_to_work  target_reg target_class  mean_rating  ...  all_distance  \\\n",
              "0          2021      108.53  another_bug     4.737759  ...  1.214131e+07   \n",
              "1          2021      108.53  another_bug     4.737759  ...  1.214131e+07   \n",
              "2          2021      108.53  another_bug     4.737759  ...  1.214131e+07   \n",
              "3          2021      108.53  another_bug     4.737759  ...  1.214131e+07   \n",
              "4          2021      108.53  another_bug     4.737759  ...  1.214131e+07   \n",
              "\n",
              "    speed_max  avg_ride_cost  avg_speed  mean_distance  age  user_rating  \\\n",
              "0  180.855726   20106.873563   44.66092   69777.646008   38          7.4   \n",
              "1  180.855726   20106.873563   44.66092   69777.646008   38          7.4   \n",
              "2  180.855726   20106.873563   44.66092   69777.646008   38          7.4   \n",
              "3  180.855726   20106.873563   44.66092   69777.646008   38          7.4   \n",
              "4  180.855726   20106.873563   44.66092   69777.646008   38          7.4   \n",
              "\n",
              "   user_rides         fix_date  work_type  \n",
              "0         268   2019-8-10 9:29  reparking  \n",
              "1         268   2019-2-9 10:49     repair  \n",
              "2         268   2020-4-8 10:23  reparking  \n",
              "3         268  2019-5-23 10:42  reparking  \n",
              "4         268  2020-7-24 18:32     repair  \n",
              "\n",
              "[5 rows x 21 columns]"
            ],
            "text/html": [
              "\n",
              "  <div id=\"df-ff2c95f1-f52e-491a-8953-23d753091991\" class=\"colab-df-container\">\n",
              "    <div>\n",
              "<style scoped>\n",
              "    .dataframe tbody tr th:only-of-type {\n",
              "        vertical-align: middle;\n",
              "    }\n",
              "\n",
              "    .dataframe tbody tr th {\n",
              "        vertical-align: top;\n",
              "    }\n",
              "\n",
              "    .dataframe thead th {\n",
              "        text-align: right;\n",
              "    }\n",
              "</style>\n",
              "<table border=\"1\" class=\"dataframe\">\n",
              "  <thead>\n",
              "    <tr style=\"text-align: right;\">\n",
              "      <th></th>\n",
              "      <th>model</th>\n",
              "      <th>car_type</th>\n",
              "      <th>fuel_type</th>\n",
              "      <th>car_rating</th>\n",
              "      <th>year_to_start</th>\n",
              "      <th>riders</th>\n",
              "      <th>year_to_work</th>\n",
              "      <th>target_reg</th>\n",
              "      <th>target_class</th>\n",
              "      <th>mean_rating</th>\n",
              "      <th>...</th>\n",
              "      <th>all_distance</th>\n",
              "      <th>speed_max</th>\n",
              "      <th>avg_ride_cost</th>\n",
              "      <th>avg_speed</th>\n",
              "      <th>mean_distance</th>\n",
              "      <th>age</th>\n",
              "      <th>user_rating</th>\n",
              "      <th>user_rides</th>\n",
              "      <th>fix_date</th>\n",
              "      <th>work_type</th>\n",
              "    </tr>\n",
              "  </thead>\n",
              "  <tbody>\n",
              "    <tr>\n",
              "      <th>0</th>\n",
              "      <td>Kia Rio X-line</td>\n",
              "      <td>economy</td>\n",
              "      <td>petrol</td>\n",
              "      <td>3.78</td>\n",
              "      <td>2015</td>\n",
              "      <td>76163</td>\n",
              "      <td>2021</td>\n",
              "      <td>108.53</td>\n",
              "      <td>another_bug</td>\n",
              "      <td>4.737759</td>\n",
              "      <td>...</td>\n",
              "      <td>1.214131e+07</td>\n",
              "      <td>180.855726</td>\n",
              "      <td>20106.873563</td>\n",
              "      <td>44.66092</td>\n",
              "      <td>69777.646008</td>\n",
              "      <td>38</td>\n",
              "      <td>7.4</td>\n",
              "      <td>268</td>\n",
              "      <td>2019-8-10 9:29</td>\n",
              "      <td>reparking</td>\n",
              "    </tr>\n",
              "    <tr>\n",
              "      <th>1</th>\n",
              "      <td>Kia Rio X-line</td>\n",
              "      <td>economy</td>\n",
              "      <td>petrol</td>\n",
              "      <td>3.78</td>\n",
              "      <td>2015</td>\n",
              "      <td>76163</td>\n",
              "      <td>2021</td>\n",
              "      <td>108.53</td>\n",
              "      <td>another_bug</td>\n",
              "      <td>4.737759</td>\n",
              "      <td>...</td>\n",
              "      <td>1.214131e+07</td>\n",
              "      <td>180.855726</td>\n",
              "      <td>20106.873563</td>\n",
              "      <td>44.66092</td>\n",
              "      <td>69777.646008</td>\n",
              "      <td>38</td>\n",
              "      <td>7.4</td>\n",
              "      <td>268</td>\n",
              "      <td>2019-2-9 10:49</td>\n",
              "      <td>repair</td>\n",
              "    </tr>\n",
              "    <tr>\n",
              "      <th>2</th>\n",
              "      <td>Kia Rio X-line</td>\n",
              "      <td>economy</td>\n",
              "      <td>petrol</td>\n",
              "      <td>3.78</td>\n",
              "      <td>2015</td>\n",
              "      <td>76163</td>\n",
              "      <td>2021</td>\n",
              "      <td>108.53</td>\n",
              "      <td>another_bug</td>\n",
              "      <td>4.737759</td>\n",
              "      <td>...</td>\n",
              "      <td>1.214131e+07</td>\n",
              "      <td>180.855726</td>\n",
              "      <td>20106.873563</td>\n",
              "      <td>44.66092</td>\n",
              "      <td>69777.646008</td>\n",
              "      <td>38</td>\n",
              "      <td>7.4</td>\n",
              "      <td>268</td>\n",
              "      <td>2020-4-8 10:23</td>\n",
              "      <td>reparking</td>\n",
              "    </tr>\n",
              "    <tr>\n",
              "      <th>3</th>\n",
              "      <td>Kia Rio X-line</td>\n",
              "      <td>economy</td>\n",
              "      <td>petrol</td>\n",
              "      <td>3.78</td>\n",
              "      <td>2015</td>\n",
              "      <td>76163</td>\n",
              "      <td>2021</td>\n",
              "      <td>108.53</td>\n",
              "      <td>another_bug</td>\n",
              "      <td>4.737759</td>\n",
              "      <td>...</td>\n",
              "      <td>1.214131e+07</td>\n",
              "      <td>180.855726</td>\n",
              "      <td>20106.873563</td>\n",
              "      <td>44.66092</td>\n",
              "      <td>69777.646008</td>\n",
              "      <td>38</td>\n",
              "      <td>7.4</td>\n",
              "      <td>268</td>\n",
              "      <td>2019-5-23 10:42</td>\n",
              "      <td>reparking</td>\n",
              "    </tr>\n",
              "    <tr>\n",
              "      <th>4</th>\n",
              "      <td>Kia Rio X-line</td>\n",
              "      <td>economy</td>\n",
              "      <td>petrol</td>\n",
              "      <td>3.78</td>\n",
              "      <td>2015</td>\n",
              "      <td>76163</td>\n",
              "      <td>2021</td>\n",
              "      <td>108.53</td>\n",
              "      <td>another_bug</td>\n",
              "      <td>4.737759</td>\n",
              "      <td>...</td>\n",
              "      <td>1.214131e+07</td>\n",
              "      <td>180.855726</td>\n",
              "      <td>20106.873563</td>\n",
              "      <td>44.66092</td>\n",
              "      <td>69777.646008</td>\n",
              "      <td>38</td>\n",
              "      <td>7.4</td>\n",
              "      <td>268</td>\n",
              "      <td>2020-7-24 18:32</td>\n",
              "      <td>repair</td>\n",
              "    </tr>\n",
              "  </tbody>\n",
              "</table>\n",
              "<p>5 rows × 21 columns</p>\n",
              "</div>\n",
              "    <div class=\"colab-df-buttons\">\n",
              "\n",
              "  <div class=\"colab-df-container\">\n",
              "    <button class=\"colab-df-convert\" onclick=\"convertToInteractive('df-ff2c95f1-f52e-491a-8953-23d753091991')\"\n",
              "            title=\"Convert this dataframe to an interactive table.\"\n",
              "            style=\"display:none;\">\n",
              "\n",
              "  <svg xmlns=\"http://www.w3.org/2000/svg\" height=\"24px\" viewBox=\"0 -960 960 960\">\n",
              "    <path d=\"M120-120v-720h720v720H120Zm60-500h600v-160H180v160Zm220 220h160v-160H400v160Zm0 220h160v-160H400v160ZM180-400h160v-160H180v160Zm440 0h160v-160H620v160ZM180-180h160v-160H180v160Zm440 0h160v-160H620v160Z\"/>\n",
              "  </svg>\n",
              "    </button>\n",
              "\n",
              "  <style>\n",
              "    .colab-df-container {\n",
              "      display:flex;\n",
              "      gap: 12px;\n",
              "    }\n",
              "\n",
              "    .colab-df-convert {\n",
              "      background-color: #E8F0FE;\n",
              "      border: none;\n",
              "      border-radius: 50%;\n",
              "      cursor: pointer;\n",
              "      display: none;\n",
              "      fill: #1967D2;\n",
              "      height: 32px;\n",
              "      padding: 0 0 0 0;\n",
              "      width: 32px;\n",
              "    }\n",
              "\n",
              "    .colab-df-convert:hover {\n",
              "      background-color: #E2EBFA;\n",
              "      box-shadow: 0px 1px 2px rgba(60, 64, 67, 0.3), 0px 1px 3px 1px rgba(60, 64, 67, 0.15);\n",
              "      fill: #174EA6;\n",
              "    }\n",
              "\n",
              "    .colab-df-buttons div {\n",
              "      margin-bottom: 4px;\n",
              "    }\n",
              "\n",
              "    [theme=dark] .colab-df-convert {\n",
              "      background-color: #3B4455;\n",
              "      fill: #D2E3FC;\n",
              "    }\n",
              "\n",
              "    [theme=dark] .colab-df-convert:hover {\n",
              "      background-color: #434B5C;\n",
              "      box-shadow: 0px 1px 3px 1px rgba(0, 0, 0, 0.15);\n",
              "      filter: drop-shadow(0px 1px 2px rgba(0, 0, 0, 0.3));\n",
              "      fill: #FFFFFF;\n",
              "    }\n",
              "  </style>\n",
              "\n",
              "    <script>\n",
              "      const buttonEl =\n",
              "        document.querySelector('#df-ff2c95f1-f52e-491a-8953-23d753091991 button.colab-df-convert');\n",
              "      buttonEl.style.display =\n",
              "        google.colab.kernel.accessAllowed ? 'block' : 'none';\n",
              "\n",
              "      async function convertToInteractive(key) {\n",
              "        const element = document.querySelector('#df-ff2c95f1-f52e-491a-8953-23d753091991');\n",
              "        const dataTable =\n",
              "          await google.colab.kernel.invokeFunction('convertToInteractive',\n",
              "                                                    [key], {});\n",
              "        if (!dataTable) return;\n",
              "\n",
              "        const docLinkHtml = 'Like what you see? Visit the ' +\n",
              "          '<a target=\"_blank\" href=https://colab.research.google.com/notebooks/data_table.ipynb>data table notebook</a>'\n",
              "          + ' to learn more about interactive tables.';\n",
              "        element.innerHTML = '';\n",
              "        dataTable['output_type'] = 'display_data';\n",
              "        await google.colab.output.renderOutput(dataTable, element);\n",
              "        const docLink = document.createElement('div');\n",
              "        docLink.innerHTML = docLinkHtml;\n",
              "        element.appendChild(docLink);\n",
              "      }\n",
              "    </script>\n",
              "  </div>\n",
              "\n",
              "\n",
              "<div id=\"df-a24f4710-1389-4914-83e0-6badc34bbde5\">\n",
              "  <button class=\"colab-df-quickchart\" onclick=\"quickchart('df-a24f4710-1389-4914-83e0-6badc34bbde5')\"\n",
              "            title=\"Suggest charts\"\n",
              "            style=\"display:none;\">\n",
              "\n",
              "<svg xmlns=\"http://www.w3.org/2000/svg\" height=\"24px\"viewBox=\"0 0 24 24\"\n",
              "     width=\"24px\">\n",
              "    <g>\n",
              "        <path d=\"M19 3H5c-1.1 0-2 .9-2 2v14c0 1.1.9 2 2 2h14c1.1 0 2-.9 2-2V5c0-1.1-.9-2-2-2zM9 17H7v-7h2v7zm4 0h-2V7h2v10zm4 0h-2v-4h2v4z\"/>\n",
              "    </g>\n",
              "</svg>\n",
              "  </button>\n",
              "\n",
              "<style>\n",
              "  .colab-df-quickchart {\n",
              "      --bg-color: #E8F0FE;\n",
              "      --fill-color: #1967D2;\n",
              "      --hover-bg-color: #E2EBFA;\n",
              "      --hover-fill-color: #174EA6;\n",
              "      --disabled-fill-color: #AAA;\n",
              "      --disabled-bg-color: #DDD;\n",
              "  }\n",
              "\n",
              "  [theme=dark] .colab-df-quickchart {\n",
              "      --bg-color: #3B4455;\n",
              "      --fill-color: #D2E3FC;\n",
              "      --hover-bg-color: #434B5C;\n",
              "      --hover-fill-color: #FFFFFF;\n",
              "      --disabled-bg-color: #3B4455;\n",
              "      --disabled-fill-color: #666;\n",
              "  }\n",
              "\n",
              "  .colab-df-quickchart {\n",
              "    background-color: var(--bg-color);\n",
              "    border: none;\n",
              "    border-radius: 50%;\n",
              "    cursor: pointer;\n",
              "    display: none;\n",
              "    fill: var(--fill-color);\n",
              "    height: 32px;\n",
              "    padding: 0;\n",
              "    width: 32px;\n",
              "  }\n",
              "\n",
              "  .colab-df-quickchart:hover {\n",
              "    background-color: var(--hover-bg-color);\n",
              "    box-shadow: 0 1px 2px rgba(60, 64, 67, 0.3), 0 1px 3px 1px rgba(60, 64, 67, 0.15);\n",
              "    fill: var(--button-hover-fill-color);\n",
              "  }\n",
              "\n",
              "  .colab-df-quickchart-complete:disabled,\n",
              "  .colab-df-quickchart-complete:disabled:hover {\n",
              "    background-color: var(--disabled-bg-color);\n",
              "    fill: var(--disabled-fill-color);\n",
              "    box-shadow: none;\n",
              "  }\n",
              "\n",
              "  .colab-df-spinner {\n",
              "    border: 2px solid var(--fill-color);\n",
              "    border-color: transparent;\n",
              "    border-bottom-color: var(--fill-color);\n",
              "    animation:\n",
              "      spin 1s steps(1) infinite;\n",
              "  }\n",
              "\n",
              "  @keyframes spin {\n",
              "    0% {\n",
              "      border-color: transparent;\n",
              "      border-bottom-color: var(--fill-color);\n",
              "      border-left-color: var(--fill-color);\n",
              "    }\n",
              "    20% {\n",
              "      border-color: transparent;\n",
              "      border-left-color: var(--fill-color);\n",
              "      border-top-color: var(--fill-color);\n",
              "    }\n",
              "    30% {\n",
              "      border-color: transparent;\n",
              "      border-left-color: var(--fill-color);\n",
              "      border-top-color: var(--fill-color);\n",
              "      border-right-color: var(--fill-color);\n",
              "    }\n",
              "    40% {\n",
              "      border-color: transparent;\n",
              "      border-right-color: var(--fill-color);\n",
              "      border-top-color: var(--fill-color);\n",
              "    }\n",
              "    60% {\n",
              "      border-color: transparent;\n",
              "      border-right-color: var(--fill-color);\n",
              "    }\n",
              "    80% {\n",
              "      border-color: transparent;\n",
              "      border-right-color: var(--fill-color);\n",
              "      border-bottom-color: var(--fill-color);\n",
              "    }\n",
              "    90% {\n",
              "      border-color: transparent;\n",
              "      border-bottom-color: var(--fill-color);\n",
              "    }\n",
              "  }\n",
              "</style>\n",
              "\n",
              "  <script>\n",
              "    async function quickchart(key) {\n",
              "      const quickchartButtonEl =\n",
              "        document.querySelector('#' + key + ' button');\n",
              "      quickchartButtonEl.disabled = true;  // To prevent multiple clicks.\n",
              "      quickchartButtonEl.classList.add('colab-df-spinner');\n",
              "      try {\n",
              "        const charts = await google.colab.kernel.invokeFunction(\n",
              "            'suggestCharts', [key], {});\n",
              "      } catch (error) {\n",
              "        console.error('Error during call to suggestCharts:', error);\n",
              "      }\n",
              "      quickchartButtonEl.classList.remove('colab-df-spinner');\n",
              "      quickchartButtonEl.classList.add('colab-df-quickchart-complete');\n",
              "    }\n",
              "    (() => {\n",
              "      let quickchartButtonEl =\n",
              "        document.querySelector('#df-a24f4710-1389-4914-83e0-6badc34bbde5 button');\n",
              "      quickchartButtonEl.style.display =\n",
              "        google.colab.kernel.accessAllowed ? 'block' : 'none';\n",
              "    })();\n",
              "  </script>\n",
              "</div>\n",
              "    </div>\n",
              "  </div>\n"
            ],
            "application/vnd.google.colaboratory.intrinsic+json": {
              "type": "dataframe",
              "variable_name": "data"
            }
          },
          "metadata": {},
          "execution_count": 7
        }
      ],
      "source": [
        "# Удаление констант и уникальных значений\n",
        "columns_with_id = [col for col in data.columns if '_id' in col]\n",
        "\n",
        "data = data.loc[:, data.apply(pd.Series.nunique) != 1]\n",
        "data = data.drop(columns_with_id, axis=1)\n",
        "data = data.dropna(axis=1)\n",
        "data.head()"
      ]
    },
    {
      "cell_type": "code",
      "execution_count": 8,
      "metadata": {
        "colab": {
          "base_uri": "https://localhost:8080/"
        },
        "id": "5b6c3QNQGM67",
        "outputId": "c9210d29-5c2e-42d6-8a9c-f9f8da0938e0"
      },
      "outputs": [
        {
          "output_type": "stream",
          "name": "stdout",
          "text": [
            "<class 'pandas.core.frame.DataFrame'>\n",
            "Int64Index: 13970460 entries, 0 to 13970459\n",
            "Data columns (total 21 columns):\n",
            " #   Column         Dtype  \n",
            "---  ------         -----  \n",
            " 0   model          object \n",
            " 1   car_type       object \n",
            " 2   fuel_type      object \n",
            " 3   car_rating     float64\n",
            " 4   year_to_start  int64  \n",
            " 5   riders         int64  \n",
            " 6   year_to_work   int64  \n",
            " 7   target_reg     float64\n",
            " 8   target_class   object \n",
            " 9   mean_rating    float64\n",
            " 10  min_rating     float64\n",
            " 11  all_distance   float64\n",
            " 12  speed_max      float64\n",
            " 13  avg_ride_cost  float64\n",
            " 14  avg_speed      float64\n",
            " 15  mean_distance  float64\n",
            " 16  age            int64  \n",
            " 17  user_rating    float64\n",
            " 18  user_rides     int64  \n",
            " 19  fix_date       object \n",
            " 20  work_type      object \n",
            "dtypes: float64(10), int64(5), object(6)\n",
            "memory usage: 2.3+ GB\n"
          ]
        }
      ],
      "source": [
        "data.info()"
      ]
    },
    {
      "cell_type": "code",
      "execution_count": 9,
      "metadata": {
        "colab": {
          "base_uri": "https://localhost:8080/"
        },
        "id": "wVfD5fq2GOZh",
        "outputId": "e4c3dfdc-47d2-4c01-de25-305e8ef26810"
      },
      "outputs": [
        {
          "output_type": "execute_result",
          "data": {
            "text/plain": [
              "(13970460, 21)"
            ]
          },
          "metadata": {},
          "execution_count": 9
        }
      ],
      "source": [
        "data.shape"
      ]
    },
    {
      "cell_type": "markdown",
      "metadata": {
        "id": "1QBqxHEZGuRa"
      },
      "source": [
        "Чересчур много значений получилось, убавлю до 2000 для оптимизации"
      ]
    },
    {
      "cell_type": "code",
      "execution_count": 10,
      "metadata": {
        "id": "hKDNh3HbGZBx"
      },
      "outputs": [],
      "source": [
        "data = data.sample(n=2000)"
      ]
    },
    {
      "cell_type": "code",
      "execution_count": 11,
      "metadata": {
        "colab": {
          "base_uri": "https://localhost:8080/"
        },
        "id": "OD8pap7WG1Ih",
        "outputId": "13ec82d2-5d39-4c0d-c68d-168e3fc83c76"
      },
      "outputs": [
        {
          "output_type": "execute_result",
          "data": {
            "text/plain": [
              "(2000, 21)"
            ]
          },
          "metadata": {},
          "execution_count": 11
        }
      ],
      "source": [
        "data.shape"
      ]
    },
    {
      "cell_type": "code",
      "execution_count": 12,
      "metadata": {
        "id": "pJ8WvLaoLenA"
      },
      "outputs": [],
      "source": [
        "# Удалю еще столбцы для оптимизации, так как очень много данных\n",
        "# cols_drop = [\n",
        "#     'mean_rating',\n",
        "#     'min_rating',\n",
        "#     'all_distance',\n",
        "#     'avg_ride_cost',\n",
        "#     'speed_max',\n",
        "#     'avg_speed',\n",
        "#     'mean_distance',\n",
        "#     'year_to_work',\n",
        "#     'target_reg',\n",
        "# ]\n",
        "\n",
        "# data = data.drop(columns = cols_drop)"
      ]
    },
    {
      "cell_type": "code",
      "execution_count": 13,
      "metadata": {
        "id": "JQTZPlCFG3RK"
      },
      "outputs": [],
      "source": [
        "# Phik\n",
        "\n",
        "# !pip install phik\n",
        "\n",
        "# from phik import report\n",
        "# phik_matrix = data.phik_matrix()\n",
        "\n",
        "# print(phik_matrix)\n",
        "\n",
        "# sns.heatmap(phik_matrix, annot=True, cmap='crest')\n",
        "# plt.title(\"Phik Matrix\")"
      ]
    },
    {
      "cell_type": "markdown",
      "metadata": {
        "id": "ooIatxVdSOZ_"
      },
      "source": [
        "Прошу прощения за \"скукоженный график\". Очень долго ждал выполнения ячейки, переделывать не стал."
      ]
    },
    {
      "cell_type": "code",
      "execution_count": 14,
      "metadata": {
        "id": "cTLKf5fPSdqK"
      },
      "outputs": [],
      "source": [
        "# data.info()"
      ]
    },
    {
      "cell_type": "code",
      "execution_count": 15,
      "metadata": {
        "id": "O4ATodcGJyvR"
      },
      "outputs": [],
      "source": [
        "# CatBoost\n",
        "\n",
        "# !pip install catboost\n",
        "\n",
        "# from catboost import CatBoostRegressor, Pool, CatBoostClassifier\n",
        "# from sklearn.model_selection import train_test_split\n",
        "\n",
        "# cat_cols = list(data.select_dtypes(include=['object']).columns)\n",
        "# cat_cols.remove('target_class')\n",
        "\n",
        "# X = data.drop(columns = 'target_class')\n",
        "# y = data['target_class']\n",
        "\n",
        "# X_train, X_test, y_train, y_test = train_test_split(X, y, test_size=0.3, random_state=42)\n",
        "\n",
        "# model = CatBoostClassifier(random_state=42, cat_features=cat_cols)\n",
        "# model.fit(X_train, y_train, plot=True)\n",
        "\n",
        "# results = model.get_feature_importance()\n",
        "# print(results)"
      ]
    },
    {
      "cell_type": "code",
      "execution_count": 16,
      "metadata": {
        "id": "GFiKarWjsLlU"
      },
      "outputs": [],
      "source": [
        "# results = model.get_feature_importance(prettified=True)\n",
        "# results"
      ]
    },
    {
      "cell_type": "code",
      "execution_count": 17,
      "metadata": {
        "id": "gKDcm4F2sksR"
      },
      "outputs": [],
      "source": [
        "# X.columns"
      ]
    },
    {
      "cell_type": "code",
      "execution_count": 18,
      "metadata": {
        "id": "aFSbTQpFNVhq"
      },
      "outputs": [],
      "source": [
        "# Shap\n",
        "\n",
        "!pip install shap -q\n",
        "\n",
        "import shap\n",
        "\n",
        "# explain = shap.TreeExplainer(model)\n",
        "# values = explain.shap_values(X_train)\n",
        "\n",
        "# shap.summary_plot(values, X_train)"
      ]
    },
    {
      "cell_type": "markdown",
      "metadata": {
        "id": "iSjuXdlcbuhx"
      },
      "source": [
        "# Домашнее задание 2. Прогноз времени и вида поломки машин. Настройка ML-модели"
      ]
    },
    {
      "cell_type": "markdown",
      "metadata": {
        "id": "2qoVlxvUbuhx"
      },
      "source": [
        "<div class=\"alert alert-info\">\n",
        "\n",
        "**Цель блока** — составить тренировочную и валидационную выборки, произвести обучение модели `CatBoostClassifier` на тренировочной части и оценить качество на валидационной."
      ]
    },
    {
      "cell_type": "markdown",
      "metadata": {
        "id": "OfqcanLLbuhx"
      },
      "source": [
        "##Обучение первой модели (5 баллов)"
      ]
    },
    {
      "cell_type": "markdown",
      "metadata": {
        "id": "ZXhXYJt6buhx"
      },
      "source": [
        "1. Классифицируйте признаки на типы (категориальные, числовые, таргеты).\n",
        "\n",
        "2. Выделите в `X` только признаки, а в `Y` — таргет (для задачи классификации).\n",
        "\n",
        "3. Сделайте разделение данных на *обучающую* и *валидационную* выборки (не забывайте про воспроизводимость результатов).\n",
        "\n",
        "4. Создайте и обучите `CatBoostClassifier` модель (настраивать гиперпараметры сейчас не обязательно).\n",
        "\n",
        "5. Проведите оценку вашей модели, используя метрику `accuracy`.\n",
        "\n",
        "\n",
        "<h4> Критерии оценивания </h4>\n",
        "    \n",
        "- По 1 баллу за каждый корректно выполненный пункт.\n",
        "\n",
        "</div>"
      ]
    },
    {
      "cell_type": "code",
      "execution_count": 19,
      "metadata": {
        "id": "klrOFoVpbuhx"
      },
      "outputs": [],
      "source": [
        "!pip install catboost -q\n",
        "\n",
        "from catboost import CatBoostClassifier\n",
        "from sklearn.model_selection import train_test_split\n",
        "from sklearn.metrics import accuracy_score, classification_report, confusion_matrix"
      ]
    },
    {
      "cell_type": "code",
      "execution_count": 20,
      "metadata": {
        "colab": {
          "base_uri": "https://localhost:8080/"
        },
        "id": "lqwlTU2gbuhz",
        "outputId": "6a7052e4-ca80-403b-cd93-8a0b57fb776f"
      },
      "outputs": [
        {
          "output_type": "stream",
          "name": "stdout",
          "text": [
            "Категориальные признаки: 5 ['model', 'car_type', 'fuel_type', 'fix_date', 'work_type']\n",
            "Числовые признаки: 15 ['car_rating', 'year_to_start', 'riders', 'year_to_work', 'target_reg', 'mean_rating', 'min_rating', 'all_distance', 'speed_max', 'avg_ride_cost', 'avg_speed', 'mean_distance', 'age', 'user_rating', 'user_rides']\n",
            "Целевые переменные ['target_class']\n"
          ]
        }
      ],
      "source": [
        "cat_cols = list(data.select_dtypes(include=['object']).columns)\n",
        "cat_cols.remove('target_class')\n",
        "\n",
        "num_cols = list(data.select_dtypes(exclude=['object']).columns)\n",
        "\n",
        "targets = ['target_class'] # таргеты\n",
        "cat_features = cat_cols # категориальные признаки\n",
        "num_features = num_cols # числовые признаки\n",
        "\n",
        "print('Категориальные признаки:', len(cat_features), cat_features)\n",
        "print('Числовые признаки:', len(num_features), num_features)\n",
        "print('Целевые переменные', targets)"
      ]
    },
    {
      "cell_type": "code",
      "execution_count": 21,
      "metadata": {
        "colab": {
          "base_uri": "https://localhost:8080/"
        },
        "id": "tGK5sgaQbuhz",
        "outputId": "77543b21-f7d0-44b3-d3a7-073ccb1ffae9"
      },
      "outputs": [
        {
          "output_type": "stream",
          "name": "stdout",
          "text": [
            "0.9166666666666666\n"
          ]
        }
      ],
      "source": [
        "X = data[num_features]\n",
        "y = data[targets]\n",
        "\n",
        "X_train, X_test, y_train, y_test = train_test_split(X, y, test_size=0.3, random_state=42)\n",
        "\n",
        "# Запуск CatBoostClassifier без тюнинга\n",
        "model = CatBoostClassifier(random_state=42, verbose=False)\n",
        "model.fit(X_train, y_train, eval_set=(X_test, y_test))\n",
        "\n",
        "results = model.predict(X_test)\n",
        "accuracy = accuracy_score(y_test, results)\n",
        "print(accuracy)"
      ]
    },
    {
      "cell_type": "code",
      "execution_count": 22,
      "metadata": {
        "colab": {
          "base_uri": "https://localhost:8080/"
        },
        "id": "gs1iVpdJWNv4",
        "outputId": "5daebb06-c59f-42e9-ed2d-fdc9b10e6c3a"
      },
      "outputs": [
        {
          "output_type": "stream",
          "name": "stdout",
          "text": [
            "Лучшая итерация: 686\n",
            "Всего итераций прошло: 1000\n"
          ]
        }
      ],
      "source": [
        "print(\"Лучшая итерация:\", model.get_best_iteration())\n",
        "print(\"Всего итераций прошло:\", model.get_all_params()['iterations'])"
      ]
    },
    {
      "cell_type": "markdown",
      "metadata": {
        "id": "pWAOjGCIbuhz"
      },
      "source": [
        "# Дополнительное задание. Визуализация прогнозов, ошибок модели и важности признаков"
      ]
    },
    {
      "cell_type": "markdown",
      "metadata": {
        "id": "oCvZU_ksbuhz"
      },
      "source": [
        "<div class=\"alert alert-info\">\n",
        "\n",
        "**Цель блока** — визуализировать результаты прогнозирования, ошибки модели и важность признаков для лучшего понимания и анализа модели."
      ]
    },
    {
      "cell_type": "markdown",
      "metadata": {
        "id": "onsptUygbuhz"
      },
      "source": [
        "## Визуализация (5 баллов)"
      ]
    },
    {
      "cell_type": "markdown",
      "metadata": {
        "id": "t3gAT3YHbuhz"
      },
      "source": [
        "   \n",
        "1. Визуализируйте важность признаков встроенным методом в `CatBoost`  (помните, что не стоит сильно доверять этому рейтингу важности, т. к. для сильно скоррелированных признаков важность делится пополам — оба признака могут улететь вниз).\n",
        "\n",
        "2. Постройте `waterfall_plot` из библиотеки `SHAP` (подробнее во втором ноутбуке из полезных ссылок ниже).\n",
        "    \n",
        "3. Постройте `classification_report` из библиотеки `scikit-learn`.\n",
        "\n",
        "4. Постройте и визуализируйте матрицу смежности (`confusion_matrix`), посмотрите, в каких классах модель больше всего ошибается.\n",
        "    \n",
        "5. Для каждого графика/примененного метода проинтерпретируйте результаты и сделайте выводы.\n",
        "\n",
        "\n",
        "<h4> Критерии оценивания </h4>\n",
        "    \n",
        "- По 1 баллу за каждый корректно выполненный пункт.\n",
        "    \n",
        "</div>\n",
        "\n",
        "<div class=\"alert alert-success\">\n",
        "\n",
        "Визуализация может помочь даже после того, как мы **уже обучили** какую-нибудь модель. Например:\n",
        "\n",
        "- Понять, что мешает модели или чего не хватает, чтобы не допускать ошибки.\n",
        "- Сделать выводы, как можно улучшить точность в последующих экспериментах.\n",
        "- Визуализировать ошибки модели.\n",
        "- Отсеять лишние признаки.\n",
        "- Найти идеи для новых признаков.\n",
        "- Все зависит от типа ваших данных.\n",
        "\n",
        "<h3> Полезные источники </h3>\n",
        "    \n",
        "- Занятие про визуализацию и Seaborn.\n",
        "- Занятие про продвинутую визуализацию и анализ ошибок модели.\n",
        "\n",
        "</div>    "
      ]
    },
    {
      "cell_type": "code",
      "execution_count": 23,
      "metadata": {
        "colab": {
          "base_uri": "https://localhost:8080/",
          "height": 542
        },
        "id": "EYvkiOcrbuh0",
        "outputId": "fea545d9-0791-4af3-daf3-e34a66a7e878"
      },
      "outputs": [
        {
          "output_type": "display_data",
          "data": {
            "text/plain": [
              "<Figure size 2000x600 with 1 Axes>"
            ],
            "image/png": "[encoded data removed]"
          },
          "metadata": {}
        }
      ],
      "source": [
        "# Встроенный метод в CatBoost\n",
        "\n",
        "results = model.get_feature_importance(prettified=True)\n",
        "\n",
        "plt.figure(figsize=(20, 6))\n",
        "sns.barplot(x='Feature Id', y='Importances', data=results);"
      ]
    },
    {
      "cell_type": "code",
      "execution_count": 24,
      "metadata": {
        "colab": {
          "base_uri": "https://localhost:8080/",
          "height": 617
        },
        "id": "qG3KxbwqfbdD",
        "outputId": "4ae20024-a16c-421f-9070-eea233c16f81"
      },
      "outputs": [
        {
          "output_type": "display_data",
          "data": {
            "text/plain": [
              "<Figure size 800x650 with 3 Axes>"
            ],
            "image/png": "[encoded data removed]"
          },
          "metadata": {}
        }
      ],
      "source": [
        "# waterfall_plot\n",
        "\n",
        "Explainer = shap.Explainer(model)\n",
        "shap_values = Explainer(X_test)\n",
        "shap.waterfall_plot(shap_values[0, :, 1])"
      ]
    },
    {
      "cell_type": "code",
      "execution_count": 25,
      "metadata": {
        "colab": {
          "base_uri": "https://localhost:8080/"
        },
        "id": "zauEaNWzgHjM",
        "outputId": "18956158-d469-4a42-db77-b6b2c0948c20"
      },
      "outputs": [
        {
          "output_type": "stream",
          "name": "stdout",
          "text": [
            "                 precision    recall  f1-score   support\n",
            "\n",
            "    another_bug       0.96      0.95      0.95        78\n",
            "      break_bug       1.00      1.00      1.00        78\n",
            "    electro_bug       1.00      0.98      0.99        54\n",
            "   engine_check       0.89      0.97      0.93        66\n",
            "    engine_fuel       0.92      0.87      0.89        62\n",
            "engine_ignition       0.86      0.88      0.87        77\n",
            "engine_overheat       0.80      0.80      0.80        79\n",
            "     gear_stick       0.95      0.93      0.94        67\n",
            "    wheel_shake       0.89      0.87      0.88        39\n",
            "\n",
            "       accuracy                           0.92       600\n",
            "      macro avg       0.92      0.92      0.92       600\n",
            "   weighted avg       0.92      0.92      0.92       600\n",
            "\n"
          ]
        }
      ],
      "source": [
        "# classification_report\n",
        "print(classification_report(y_test, model.predict(X_test)))"
      ]
    },
    {
      "cell_type": "code",
      "execution_count": 26,
      "metadata": {
        "colab": {
          "base_uri": "https://localhost:8080/",
          "height": 449
        },
        "id": "0Hd06cJwgms_",
        "outputId": "e3aaa1e6-6a1b-4fb0-ef82-619f25fd3941"
      },
      "outputs": [
        {
          "output_type": "display_data",
          "data": {
            "text/plain": [
              "<Figure size 640x480 with 2 Axes>"
            ],
            "image/png": "[encoded data removed]"
          },
          "metadata": {}
        }
      ],
      "source": [
        "# confusion_matrix\n",
        "sns.heatmap(confusion_matrix(y_test, model.predict(X_test)), annot=True)\n",
        "plt.xlabel(\"Predicted\")\n",
        "plt.ylabel(\"True\");"
      ]
    },
    {
      "cell_type": "markdown",
      "metadata": {
        "id": "pL8evJIMbuh0"
      },
      "source": [
        "# Домашнее задание 3. Оптимизация. Тюнинг гиперпараметров с помощью `Optuna`"
      ]
    },
    {
      "cell_type": "markdown",
      "metadata": {
        "id": "ZmanV8V8buh0"
      },
      "source": [
        "<div class=\"alert alert-info\">\n",
        "\n",
        "**Цель блока** — улучшить качество предсказания, произведя подбор гиперпараметров для модели с помощью `Optuna`."
      ]
    },
    {
      "cell_type": "markdown",
      "metadata": {
        "id": "qEbxkZf8buh1"
      },
      "source": [
        "## Подбор гиперпараметров (3 балла)"
      ]
    },
    {
      "cell_type": "markdown",
      "metadata": {
        "id": "XogayH7Hbuh1"
      },
      "source": [
        "1. Напишите `objective` функцию и запустите `Optuna`.\n",
        "2. Подберите гиперпараметры для `CatBoostClassifier` (минимум 3).\n",
        "3. Обучите модель с новыми гиперпараметрами, сравните качество и сделайте выводы.\n",
        "\n",
        "    \n",
        "<h4> Критерии оценивания </h4>\n",
        "    \n",
        "- 1 балл за каждый корректно выполненный пункт.\n",
        "    \n",
        "</div>"
      ]
    },
    {
      "cell_type": "code",
      "execution_count": 48,
      "metadata": {
        "colab": {
          "base_uri": "https://localhost:8080/"
        },
        "id": "UrNbom9qbuh1",
        "outputId": "de3a93f3-bc4a-4b23-b314-3c8bcf5d028a"
      },
      "outputs": [
        {
          "output_type": "stream",
          "name": "stderr",
          "text": [
            "[I 2024-03-31 12:10:29,903] A new study created in memory with name: no-name-685b16c4-7f7a-4771-bd2d-e1fa6edaf119\n",
            "[I 2024-03-31 12:12:18,484] Trial 0 finished with value: 0.9016666666666666 and parameters: {'iterations': 723, 'learning_rate': 0.01615160183779383, 'depth': 9}. Best is trial 0 with value: 0.9016666666666666.\n",
            "[I 2024-03-31 12:12:23,921] Trial 1 finished with value: 0.9116666666666666 and parameters: {'iterations': 1379, 'learning_rate': 0.055750001346687644, 'depth': 3}. Best is trial 0 with value: 0.9016666666666666.\n",
            "[I 2024-03-31 12:13:17,640] Trial 2 finished with value: 0.92 and parameters: {'iterations': 1410, 'learning_rate': 0.07584118793798891, 'depth': 7}. Best is trial 0 with value: 0.9016666666666666.\n",
            "[I 2024-03-31 12:13:20,078] Trial 3 finished with value: 0.895 and parameters: {'iterations': 906, 'learning_rate': 0.07113136716326933, 'depth': 2}. Best is trial 3 with value: 0.895.\n",
            "[I 2024-03-31 12:15:20,221] Trial 4 finished with value: 0.9166666666666666 and parameters: {'iterations': 669, 'learning_rate': 0.06468259790736779, 'depth': 9}. Best is trial 3 with value: 0.895.\n",
            "[I 2024-03-31 12:15:30,495] Trial 5 finished with value: 0.915 and parameters: {'iterations': 1467, 'learning_rate': 0.03933270603689003, 'depth': 4}. Best is trial 3 with value: 0.895.\n",
            "[I 2024-03-31 12:15:40,124] Trial 6 finished with value: 0.8733333333333333 and parameters: {'iterations': 234, 'learning_rate': 0.015253939785345776, 'depth': 7}. Best is trial 6 with value: 0.8733333333333333.\n",
            "[I 2024-03-31 12:15:44,040] Trial 7 finished with value: 0.91 and parameters: {'iterations': 633, 'learning_rate': 0.09322732465663863, 'depth': 4}. Best is trial 6 with value: 0.8733333333333333.\n",
            "[I 2024-03-31 12:15:48,187] Trial 8 finished with value: 0.8966666666666666 and parameters: {'iterations': 120, 'learning_rate': 0.0869076048295333, 'depth': 7}. Best is trial 6 with value: 0.8733333333333333.\n",
            "[I 2024-03-31 12:16:38,198] Trial 9 finished with value: 0.91 and parameters: {'iterations': 1310, 'learning_rate': 0.026958042919206913, 'depth': 7}. Best is trial 6 with value: 0.8733333333333333.\n"
          ]
        }
      ],
      "source": [
        "!pip install optuna -q\n",
        "import optuna\n",
        "\n",
        "def objective(trial):\n",
        "  X_train, X_test, y_train, y_test = train_test_split(X, y, test_size=0.3, random_state=42)\n",
        "\n",
        "  parameters = {\n",
        "    'iterations': trial.suggest_int('iterations', 100, 1500),\n",
        "    'learning_rate': trial.suggest_float('learning_rate', 0.01, 0.1),\n",
        "    'depth': trial.suggest_int('depth', 1, 10),\n",
        "  }\n",
        "\n",
        "  model = CatBoostClassifier(**parameters, random_state=42)\n",
        "  model.fit(X_train, y_train, eval_set=(X_test, y_test), verbose=False)\n",
        "\n",
        "  results = model.predict(X_test)\n",
        "  accuracy = accuracy_score(y_test, results)\n",
        "  return accuracy\n",
        "\n",
        "study = optuna.create_study()\n",
        "study.optimize(objective, n_trials=10)"
      ]
    },
    {
      "cell_type": "code",
      "source": [
        "b_model = CatBoostClassifier(iterations=1410, learning_rate=0.07584118793798891, depth=7, random_state=42)\n",
        "b_model.fit(X_train, y_train, eval_set=(X_test, y_test), verbose=False)\n",
        "\n",
        "b_results = b_model.predict(X_test)\n",
        "b_accuracy = accuracy_score(y_test, b_results)\n",
        "\n",
        "print(\"Best accuracy:\", b_accuracy)"
      ],
      "metadata": {
        "colab": {
          "base_uri": "https://localhost:8080/"
        },
        "id": "1-fC74BiB_Cy",
        "outputId": "bbcf439c-cf7f-4b8e-81f1-a74fb137e95d"
      },
      "execution_count": 49,
      "outputs": [
        {
          "output_type": "stream",
          "name": "stdout",
          "text": [
            "Best accuracy: 0.92\n"
          ]
        }
      ]
    },
    {
      "cell_type": "markdown",
      "metadata": {
        "id": "3HsMplLuDKau"
      },
      "source": [
        "**Метрику Accuracy удалось увеличить, пускай и не на очень много, но всё же подбор гиперпараметров помог достичь поставленной цели домашнего задания №3.**"
      ]
    },
    {
      "cell_type": "markdown",
      "metadata": {
        "id": "ayIdErsgjayi"
      },
      "source": [
        "### Общая информация по `Optuna`"
      ]
    },
    {
      "cell_type": "markdown",
      "metadata": {
        "id": "a6Y35ioqbuh0"
      },
      "source": [
        "#### Ключевые особенности <code>Optuna</code>\n",
        "\n"
      ]
    },
    {
      "cell_type": "markdown",
      "metadata": {
        "id": "EFwQ3_NStdFY"
      },
      "source": [
        "- Легковесность и универсальность — можно подбирать оптимальные параметры под любые функции и метрики.\n",
        "- SOTA-алгоритмы, адаптированные для поиска гиперпараметров.\n",
        "- Параллелизация и различные методы прунинга.\n",
        "- Встроенная визуализация.\n",
        "- Интеграция со множеством популярных библиотек (бустинги, sklearn, PyTorch, W&B и другие).\n",
        "\n",
        "Разберем Optuna по частям, чтобы понять, как ее использовать."
      ]
    },
    {
      "cell_type": "markdown",
      "metadata": {
        "id": "GIT2J4INtxaf"
      },
      "source": [
        "#### <code>Study</code>: оптимизация, базирующаяся на <code>Objective</code> функции"
      ]
    },
    {
      "cell_type": "markdown",
      "metadata": {
        "id": "wqPh6XVybuh0"
      },
      "source": [
        "\n",
        "\n",
        "В `Objective`-функцию нужно написать код подсчета метрики, которую возвращаем. `Objective` вызывается Optuna много раз для подбора лучших параметров.\n",
        "```python\n",
        "def objective(trial, ...):\n",
        "    # calculate score...\n",
        "    return score\n",
        "```\n",
        "\n",
        "<h4> <code>Trial</code> — одно выполнение <code>Objective</code>-функции</h4>\n",
        "\n",
        "В `trial`-объекте мы передаем параметры для «перебора», используя для каждого типа свой метод. Например:\n",
        "\n",
        "```python\n",
        "# метод `suggest_float` показывает, что перебираем `float` значения, от 0 и до 1.5 границы\n",
        "param = trial.suggest_float('param', 0, 1.5)\n",
        "\n",
        "# Категориальное значение\n",
        "loss_function = trial.suggest_categorical('loss', ['Logloss', 'CrossEntropy'])\n",
        "\n",
        "# Целочисленное значение\n",
        "depth = trial.suggest_int('depth', 5, 8)\n",
        "\n",
        "# Равномерное распределение\n",
        "learning_rate = trial.suggest_uniform('learning_rate', 0.0, 1.0)\n",
        "```"
      ]
    },
    {
      "cell_type": "markdown",
      "metadata": {
        "id": "4huC_vW7uI4o"
      },
      "source": [
        "#### `Study` parameters"
      ]
    },
    {
      "cell_type": "markdown",
      "metadata": {
        "id": "Cq94BjhWbuh0"
      },
      "source": [
        "Инициализируем объект `study`, который начнет перебор и сохранит в себе историю результатов.\n",
        "Если мы стараемся увеличить метрику, а не уменьшить ошибку, то используем `create_study(direction='maximize')`.\n",
        "```python\n",
        "study = optuna.create_study()\n",
        "study.optimize(objective, n_trials=10)\n",
        "```"
      ]
    },
    {
      "cell_type": "markdown",
      "metadata": {
        "id": "x9AvfTv4buh0"
      },
      "source": [
        "<div class=\"alert alert-info\">\n",
        "    \n",
        "В [`Optuna`](https://optuna.readthedocs.io/en/stable/index.html) реализовано несколько методов (`sampler`) подбора параметров (в том числе классические):\n",
        "* `GridSampler`\n",
        "* `RandomSampler`\n",
        "* `Tree-Structed Parzen Estimator` (`TPESampler` — самый популярный, дефолтный)\n",
        "* `BruteForceSampler`\n",
        "* [Другие 4 метода](https://optuna.readthedocs.io/en/stable/reference/samplers/index.html#module-optuna.samplers) (можно написать собственный семплер)"
      ]
    },
    {
      "cell_type": "markdown",
      "metadata": {
        "id": "3g4-aEHabuh0"
      },
      "source": [
        "### Советы по перебору параметров"
      ]
    },
    {
      "cell_type": "markdown",
      "metadata": {
        "id": "g3b8cs4Mt7pq"
      },
      "source": [
        "- Иметь понимание важности параметров.\n",
        "- Число `iterations` лучше взять с запасом и зафиксировать, при этом ограничив через `early_stopping_rounds`.\n",
        "- Подсмотреть или чувствовать диапазоны и шаг значений.\n",
        "- Исключить то, что перебирать не нужно (`random_seed` , `eval_metric`, `thread_count` и прочее).\n",
        "- Используйте информацию с прошлых попыток."
      ]
    },
    {
      "cell_type": "markdown",
      "metadata": {
        "id": "dXv8NCp_buh1"
      },
      "source": [
        "# Домашнее задание 4. Блендинг"
      ]
    },
    {
      "cell_type": "markdown",
      "metadata": {
        "id": "8-bhQKWGbuh1"
      },
      "source": [
        "<div class=\"alert alert-info\">\n",
        "\n",
        "**Цель блока** — улучшить качество предсказания, объединив несколько моделей вместе методом блендинга."
      ]
    },
    {
      "cell_type": "markdown",
      "metadata": {
        "id": "ZtI-eK3xbuh1"
      },
      "source": [
        "## Задание 6. Блендинг (10 баллов)"
      ]
    },
    {
      "cell_type": "markdown",
      "metadata": {
        "id": "8v9Onoo9buh1"
      },
      "source": [
        "1. Построить и обучить модели:\n",
        "    - `CatBoostClassifier`,\n",
        "    - `LightGBMClassifier (goss)`,\n",
        "    - `XGBoostClassifier (dart)`,\n",
        "    - `RandomForestClassifier`.\n",
        "2. Сделать предсказания каждой моделью, оценить качество.\n",
        "3. Реализовать блендинг двумя способами, оценить качество и сравнить с предыдущим пунктом:\n",
        "    - `Hard Voting` —  метод, при котором делаем голосование всех моделей и выбираем самый популярный класс.\n",
        "    - `Soft Voting` —  метод, при котором мы складываем вероятности предсказания всех моделей по каждому классу и потом выбираем самый класс с максимальной суммой.\n",
        "    \n",
        "<h4> Критерии оценивания </h4>\n",
        "    \n",
        "- Обучены 4 модели — 1 балл за каждую обученную модель, всего 4 балла.\n",
        "- Для модели проведен подбор гиперпараметров — 0,5 балла за каждый параметр, всего 2 балла.\n",
        "- Сделаны предсказания каждой модели и оценено качество — 1 балл.\n",
        "- Реализован `Hard Voting` — 1 балл.\n",
        "- Реализован `Soft Voting` — 1 балл.\n",
        "- Сделаны выводы — 1 балл.\n",
        "    \n",
        "</div>"
      ]
    },
    {
      "cell_type": "code",
      "execution_count": null,
      "metadata": {
        "id": "Mfi_sxnjbuh2"
      },
      "outputs": [],
      "source": [
        "# YOUR CODE HERE"
      ]
    },
    {
      "cell_type": "markdown",
      "metadata": {
        "id": "O2utYsm3mShl"
      },
      "source": [
        "### Общая информация о блендинге"
      ]
    },
    {
      "cell_type": "markdown",
      "metadata": {
        "id": "-JNyyolfbuh1"
      },
      "source": [
        "**Основная идея** — взять от каждого алгоритма лучшее и совместить несколько разных ML-моделей в одну.\n",
        "\n",
        "Что это дает:\n",
        "- Увеличивается обобщающая способность финальной модели и качество улучшается.\n",
        "- Модель становится более стабильной, что позволяет не слететь на приватном лидерборде.\n",
        "\n",
        "Особенно хорошо накидывает блендинг, если смешиваемые модели имеют разную природу — например, нейронные сети, kNN и решающие деревья. Они выучивают разные зависимости и хорошо дополняют друг друга.\n",
        "\n",
        "</div>"
      ]
    },
    {
      "cell_type": "markdown",
      "metadata": {
        "id": "C5w0RwnYbuh3"
      },
      "source": [
        "# <center id=\"part6\"> Отправка финального решения на лидерборд на Kaggle"
      ]
    },
    {
      "cell_type": "markdown",
      "metadata": {
        "id": "wpt2Bdimbuh3"
      },
      "source": [
        "<div class=\"alert alert-info\">\n",
        "\n",
        "**Цель блока** — сделать предсказание с помощью блендинга для тестовой части датасета, отправить результат [в соревнование на Kaggle](https://www.kaggle.com/competitions/competative-data-science-course-by-data-feeling/overview)."
      ]
    },
    {
      "cell_type": "markdown",
      "metadata": {
        "id": "gfYqF37Cbuh3"
      },
      "source": [
        "## Задание 8. Предсказание на тестовом датасете и отправка на Kaggle"
      ]
    },
    {
      "cell_type": "markdown",
      "metadata": {
        "id": "m_ExuGjabuh3"
      },
      "source": [
        "1. Сделать предобработку для тестового датасета, присоединить к нему информацию из других датасетов и добавить признаки, которые генерировали для тренировочного датасета.\n",
        "2. Сделать предсказания каждой моделью, которую хотите включить в ансамбль, но минимум их должно быть 3.\n",
        "3. Сделать блендинг с помощью `Hard Voting` или `Soft Voting` на ваш выбор.\n",
        "4. Сохранить результат предсказания в `csv` файл и отправить решение на Kaggle.\n",
        "    \n",
        "<h4> Критерии оценивания </h4>\n",
        "    \n",
        "- 0 баллов за задание, если итоговый скор на лидерборде меньше чем `0.9`.\n",
        "- 1 балл за каждый выполненный пункт.\n",
        "\n",
        "</div>"
      ]
    },
    {
      "cell_type": "code",
      "execution_count": null,
      "metadata": {
        "id": "Cnp6usAybuh4"
      },
      "outputs": [],
      "source": [
        "car_test = pd.read_csv('https://raw.githubusercontent.com/a-milenkin/Competitive_Data_Science/main/data/car_test.csv')\n",
        "car_test.head(3)"
      ]
    },
    {
      "cell_type": "code",
      "execution_count": null,
      "metadata": {
        "id": "ZEZhf8gabuh4"
      },
      "outputs": [],
      "source": [
        "# YOUR CODE HERE"
      ]
    },
    {
      "cell_type": "markdown",
      "metadata": {
        "id": "cUuphISJbuh4"
      },
      "source": [
        "### Советы по отправке кода на Kaggle\n"
      ]
    },
    {
      "cell_type": "markdown",
      "metadata": {
        "id": "ZAQLSpKWu4aI"
      },
      "source": [
        "\n",
        "Если пишете код на `Kaggle`, то для отправки решения:\n",
        "\n",
        "1. Нажать Save Version.\n",
        "2. Проверить, что в Advanced Settings выбрано «Всегда сохранять результаты ноутбука».\n",
        "3. Выбрать тип сохранения Save & Run All (Commit).\n",
        "4. Нажать кнопку Save."
      ]
    }
  ],
  "metadata": {
    "colab": {
      "provenance": []
    },
    "kernelspec": {
      "display_name": "Python 3 (ipykernel)",
      "language": "python",
      "name": "python3"
    },
    "language_info": {
      "codemirror_mode": {
        "name": "ipython",
        "version": 3
      },
      "file_extension": ".py",
      "mimetype": "text/x-python",
      "name": "python",
      "nbconvert_exporter": "python",
      "pygments_lexer": "ipython3",
      "version": "3.10.13"
    }
  },
  "nbformat": 4,
  "nbformat_minor": 0
}