{
  "cells": [
    {
      "cell_type": "markdown",
      "metadata": {
        "id": "_Yx1Mi7abuht"
      },
      "source": [
        "# План домашних заданий"
      ]
    },
    {
      "cell_type": "markdown",
      "metadata": {
        "id": "_HK3X8tveQhH"
      },
      "source": [
        "\n",
        "- Описание задачи и знакомство с данными\n",
        "- Домашнее задание 1. Генерация и фильтрация признаков\n",
        "- Домашнее задание 2. Прогноз времени и вида поломки машин, настройка ML-модели\n",
        "- Дополнительное задание. Визуализация прогнозов, ошибок модели и важности признаков\n",
        "- Домашнее задание 3. Оптимизация. Тюнинг гиперпараметров с помощью `Optuna`\n",
        "- Домашнее задание 4. Блендинг\n",
        "- Домашнее задание 5. Парсинг внешних данных и оптимизация памяти\n",
        "- Отправка финального решения на лидерборд на Kaggle"
      ]
    },
    {
      "cell_type": "code",
      "execution_count": 1,
      "metadata": {
        "id": "cfomgq3Sbuht"
      },
      "outputs": [],
      "source": [
        "import pandas as pd\n",
        "import numpy as np\n",
        "import matplotlib.pyplot as plt\n",
        "import seaborn as sns"
      ]
    },
    {
      "cell_type": "markdown",
      "metadata": {
        "id": "fkeIBE5Kbuht"
      },
      "source": [
        "# <center id=\"part0\"> Описание задачи"
      ]
    },
    {
      "cell_type": "markdown",
      "metadata": {
        "id": "MKmknPZbbuht"
      },
      "source": [
        "**Предыстория:**  мы работаем с каршеринговой компанией, которая управляет крупным автопарком машин. Наша цель — предотвратить длительные периоды простоя машин из-за поломок через своевременное обслуживание и ремонт.\n",
        "\n",
        "\n",
        "**Идея для решения проблемы:** создать приоритизированный список обхода машин. Этот список поможет технической бригаде сосредоточиться на автомобилях, которые наиболее вероятно выйдут из строя в ближайшее время.\n",
        "\n",
        "\n",
        "**Как компания решает задачу:**\n",
        "\n",
        "* Собирает данные о поездках и состоянии машин до поломок.\n",
        "\n",
        "* Нанимает Data Scientist, чтобы он смог использовать эти данные для анализа и прогнозирования характера поломок.\n",
        "\n",
        "**Важный момент**: задачи этого специалиста (Data Scientist) предстоит выполнять вам."
      ]
    },
    {
      "cell_type": "markdown",
      "metadata": {
        "id": "-VMB1MVpbuhu"
      },
      "source": [
        "## <center> Знакомство с данными"
      ]
    },
    {
      "cell_type": "markdown",
      "metadata": {
        "id": "TtZE_Frrbuhu"
      },
      "source": [
        "### Информация про машины с таргетом (основной датасет)"
      ]
    },
    {
      "cell_type": "code",
      "execution_count": 2,
      "metadata": {
        "colab": {
          "base_uri": "https://localhost:8080/",
          "height": 206
        },
        "id": "DhA6zYqebuhu",
        "outputId": "d6ce42bf-6b34-4c36-e219-c9a165ddae98"
      },
      "outputs": [
        {
          "output_type": "execute_result",
          "data": {
            "text/plain": [
              "          car_id         model  car_type fuel_type  car_rating  year_to_start  \\\n",
              "1196  C72529736J   Smart Coupe   economy    petrol        4.40           2017   \n",
              "1167  g15598327l  Smart ForTwo   economy    petrol        2.74           2015   \n",
              "1990  g11810192a     VW Tiguan   economy    petrol        3.24           2016   \n",
              "1604  l-6384509w  Smart ForTwo   economy    petrol        6.98           2014   \n",
              "402   v-1155372j  Kia Sportage  standart    petrol        4.70           2013   \n",
              "\n",
              "      riders  year_to_work  target_reg     target_class  \n",
              "1196  111542          2020       38.15      electro_bug  \n",
              "1167   85211          2017       33.45      electro_bug  \n",
              "1990  115460          2021       66.97     engine_check  \n",
              "1604   66214          2017       50.55     engine_check  \n",
              "402    40945          2022       49.64  engine_ignition  "
            ],
            "text/html": [
              "\n",
              "  <div id=\"df-73376ef0-621a-4cff-b1a5-2b70fb890cc1\" class=\"colab-df-container\">\n",
              "    <div>\n",
              "<style scoped>\n",
              "    .dataframe tbody tr th:only-of-type {\n",
              "        vertical-align: middle;\n",
              "    }\n",
              "\n",
              "    .dataframe tbody tr th {\n",
              "        vertical-align: top;\n",
              "    }\n",
              "\n",
              "    .dataframe thead th {\n",
              "        text-align: right;\n",
              "    }\n",
              "</style>\n",
              "<table border=\"1\" class=\"dataframe\">\n",
              "  <thead>\n",
              "    <tr style=\"text-align: right;\">\n",
              "      <th></th>\n",
              "      <th>car_id</th>\n",
              "      <th>model</th>\n",
              "      <th>car_type</th>\n",
              "      <th>fuel_type</th>\n",
              "      <th>car_rating</th>\n",
              "      <th>year_to_start</th>\n",
              "      <th>riders</th>\n",
              "      <th>year_to_work</th>\n",
              "      <th>target_reg</th>\n",
              "      <th>target_class</th>\n",
              "    </tr>\n",
              "  </thead>\n",
              "  <tbody>\n",
              "    <tr>\n",
              "      <th>1196</th>\n",
              "      <td>C72529736J</td>\n",
              "      <td>Smart Coupe</td>\n",
              "      <td>economy</td>\n",
              "      <td>petrol</td>\n",
              "      <td>4.40</td>\n",
              "      <td>2017</td>\n",
              "      <td>111542</td>\n",
              "      <td>2020</td>\n",
              "      <td>38.15</td>\n",
              "      <td>electro_bug</td>\n",
              "    </tr>\n",
              "    <tr>\n",
              "      <th>1167</th>\n",
              "      <td>g15598327l</td>\n",
              "      <td>Smart ForTwo</td>\n",
              "      <td>economy</td>\n",
              "      <td>petrol</td>\n",
              "      <td>2.74</td>\n",
              "      <td>2015</td>\n",
              "      <td>85211</td>\n",
              "      <td>2017</td>\n",
              "      <td>33.45</td>\n",
              "      <td>electro_bug</td>\n",
              "    </tr>\n",
              "    <tr>\n",
              "      <th>1990</th>\n",
              "      <td>g11810192a</td>\n",
              "      <td>VW Tiguan</td>\n",
              "      <td>economy</td>\n",
              "      <td>petrol</td>\n",
              "      <td>3.24</td>\n",
              "      <td>2016</td>\n",
              "      <td>115460</td>\n",
              "      <td>2021</td>\n",
              "      <td>66.97</td>\n",
              "      <td>engine_check</td>\n",
              "    </tr>\n",
              "    <tr>\n",
              "      <th>1604</th>\n",
              "      <td>l-6384509w</td>\n",
              "      <td>Smart ForTwo</td>\n",
              "      <td>economy</td>\n",
              "      <td>petrol</td>\n",
              "      <td>6.98</td>\n",
              "      <td>2014</td>\n",
              "      <td>66214</td>\n",
              "      <td>2017</td>\n",
              "      <td>50.55</td>\n",
              "      <td>engine_check</td>\n",
              "    </tr>\n",
              "    <tr>\n",
              "      <th>402</th>\n",
              "      <td>v-1155372j</td>\n",
              "      <td>Kia Sportage</td>\n",
              "      <td>standart</td>\n",
              "      <td>petrol</td>\n",
              "      <td>4.70</td>\n",
              "      <td>2013</td>\n",
              "      <td>40945</td>\n",
              "      <td>2022</td>\n",
              "      <td>49.64</td>\n",
              "      <td>engine_ignition</td>\n",
              "    </tr>\n",
              "  </tbody>\n",
              "</table>\n",
              "</div>\n",
              "    <div class=\"colab-df-buttons\">\n",
              "\n",
              "  <div class=\"colab-df-container\">\n",
              "    <button class=\"colab-df-convert\" onclick=\"convertToInteractive('df-73376ef0-621a-4cff-b1a5-2b70fb890cc1')\"\n",
              "            title=\"Convert this dataframe to an interactive table.\"\n",
              "            style=\"display:none;\">\n",
              "\n",
              "  <svg xmlns=\"http://www.w3.org/2000/svg\" height=\"24px\" viewBox=\"0 -960 960 960\">\n",
              "    <path d=\"M120-120v-720h720v720H120Zm60-500h600v-160H180v160Zm220 220h160v-160H400v160Zm0 220h160v-160H400v160ZM180-400h160v-160H180v160Zm440 0h160v-160H620v160ZM180-180h160v-160H180v160Zm440 0h160v-160H620v160Z\"/>\n",
              "  </svg>\n",
              "    </button>\n",
              "\n",
              "  <style>\n",
              "    .colab-df-container {\n",
              "      display:flex;\n",
              "      gap: 12px;\n",
              "    }\n",
              "\n",
              "    .colab-df-convert {\n",
              "      background-color: #E8F0FE;\n",
              "      border: none;\n",
              "      border-radius: 50%;\n",
              "      cursor: pointer;\n",
              "      display: none;\n",
              "      fill: #1967D2;\n",
              "      height: 32px;\n",
              "      padding: 0 0 0 0;\n",
              "      width: 32px;\n",
              "    }\n",
              "\n",
              "    .colab-df-convert:hover {\n",
              "      background-color: #E2EBFA;\n",
              "      box-shadow: 0px 1px 2px rgba(60, 64, 67, 0.3), 0px 1px 3px 1px rgba(60, 64, 67, 0.15);\n",
              "      fill: #174EA6;\n",
              "    }\n",
              "\n",
              "    .colab-df-buttons div {\n",
              "      margin-bottom: 4px;\n",
              "    }\n",
              "\n",
              "    [theme=dark] .colab-df-convert {\n",
              "      background-color: #3B4455;\n",
              "      fill: #D2E3FC;\n",
              "    }\n",
              "\n",
              "    [theme=dark] .colab-df-convert:hover {\n",
              "      background-color: #434B5C;\n",
              "      box-shadow: 0px 1px 3px 1px rgba(0, 0, 0, 0.15);\n",
              "      filter: drop-shadow(0px 1px 2px rgba(0, 0, 0, 0.3));\n",
              "      fill: #FFFFFF;\n",
              "    }\n",
              "  </style>\n",
              "\n",
              "    <script>\n",
              "      const buttonEl =\n",
              "        document.querySelector('#df-73376ef0-621a-4cff-b1a5-2b70fb890cc1 button.colab-df-convert');\n",
              "      buttonEl.style.display =\n",
              "        google.colab.kernel.accessAllowed ? 'block' : 'none';\n",
              "\n",
              "      async function convertToInteractive(key) {\n",
              "        const element = document.querySelector('#df-73376ef0-621a-4cff-b1a5-2b70fb890cc1');\n",
              "        const dataTable =\n",
              "          await google.colab.kernel.invokeFunction('convertToInteractive',\n",
              "                                                    [key], {});\n",
              "        if (!dataTable) return;\n",
              "\n",
              "        const docLinkHtml = 'Like what you see? Visit the ' +\n",
              "          '<a target=\"_blank\" href=https://colab.research.google.com/notebooks/data_table.ipynb>data table notebook</a>'\n",
              "          + ' to learn more about interactive tables.';\n",
              "        element.innerHTML = '';\n",
              "        dataTable['output_type'] = 'display_data';\n",
              "        await google.colab.output.renderOutput(dataTable, element);\n",
              "        const docLink = document.createElement('div');\n",
              "        docLink.innerHTML = docLinkHtml;\n",
              "        element.appendChild(docLink);\n",
              "      }\n",
              "    </script>\n",
              "  </div>\n",
              "\n",
              "\n",
              "<div id=\"df-c6598e27-8ecd-47c5-baf1-631d52cbc82a\">\n",
              "  <button class=\"colab-df-quickchart\" onclick=\"quickchart('df-c6598e27-8ecd-47c5-baf1-631d52cbc82a')\"\n",
              "            title=\"Suggest charts\"\n",
              "            style=\"display:none;\">\n",
              "\n",
              "<svg xmlns=\"http://www.w3.org/2000/svg\" height=\"24px\"viewBox=\"0 0 24 24\"\n",
              "     width=\"24px\">\n",
              "    <g>\n",
              "        <path d=\"M19 3H5c-1.1 0-2 .9-2 2v14c0 1.1.9 2 2 2h14c1.1 0 2-.9 2-2V5c0-1.1-.9-2-2-2zM9 17H7v-7h2v7zm4 0h-2V7h2v10zm4 0h-2v-4h2v4z\"/>\n",
              "    </g>\n",
              "</svg>\n",
              "  </button>\n",
              "\n",
              "<style>\n",
              "  .colab-df-quickchart {\n",
              "      --bg-color: #E8F0FE;\n",
              "      --fill-color: #1967D2;\n",
              "      --hover-bg-color: #E2EBFA;\n",
              "      --hover-fill-color: #174EA6;\n",
              "      --disabled-fill-color: #AAA;\n",
              "      --disabled-bg-color: #DDD;\n",
              "  }\n",
              "\n",
              "  [theme=dark] .colab-df-quickchart {\n",
              "      --bg-color: #3B4455;\n",
              "      --fill-color: #D2E3FC;\n",
              "      --hover-bg-color: #434B5C;\n",
              "      --hover-fill-color: #FFFFFF;\n",
              "      --disabled-bg-color: #3B4455;\n",
              "      --disabled-fill-color: #666;\n",
              "  }\n",
              "\n",
              "  .colab-df-quickchart {\n",
              "    background-color: var(--bg-color);\n",
              "    border: none;\n",
              "    border-radius: 50%;\n",
              "    cursor: pointer;\n",
              "    display: none;\n",
              "    fill: var(--fill-color);\n",
              "    height: 32px;\n",
              "    padding: 0;\n",
              "    width: 32px;\n",
              "  }\n",
              "\n",
              "  .colab-df-quickchart:hover {\n",
              "    background-color: var(--hover-bg-color);\n",
              "    box-shadow: 0 1px 2px rgba(60, 64, 67, 0.3), 0 1px 3px 1px rgba(60, 64, 67, 0.15);\n",
              "    fill: var(--button-hover-fill-color);\n",
              "  }\n",
              "\n",
              "  .colab-df-quickchart-complete:disabled,\n",
              "  .colab-df-quickchart-complete:disabled:hover {\n",
              "    background-color: var(--disabled-bg-color);\n",
              "    fill: var(--disabled-fill-color);\n",
              "    box-shadow: none;\n",
              "  }\n",
              "\n",
              "  .colab-df-spinner {\n",
              "    border: 2px solid var(--fill-color);\n",
              "    border-color: transparent;\n",
              "    border-bottom-color: var(--fill-color);\n",
              "    animation:\n",
              "      spin 1s steps(1) infinite;\n",
              "  }\n",
              "\n",
              "  @keyframes spin {\n",
              "    0% {\n",
              "      border-color: transparent;\n",
              "      border-bottom-color: var(--fill-color);\n",
              "      border-left-color: var(--fill-color);\n",
              "    }\n",
              "    20% {\n",
              "      border-color: transparent;\n",
              "      border-left-color: var(--fill-color);\n",
              "      border-top-color: var(--fill-color);\n",
              "    }\n",
              "    30% {\n",
              "      border-color: transparent;\n",
              "      border-left-color: var(--fill-color);\n",
              "      border-top-color: var(--fill-color);\n",
              "      border-right-color: var(--fill-color);\n",
              "    }\n",
              "    40% {\n",
              "      border-color: transparent;\n",
              "      border-right-color: var(--fill-color);\n",
              "      border-top-color: var(--fill-color);\n",
              "    }\n",
              "    60% {\n",
              "      border-color: transparent;\n",
              "      border-right-color: var(--fill-color);\n",
              "    }\n",
              "    80% {\n",
              "      border-color: transparent;\n",
              "      border-right-color: var(--fill-color);\n",
              "      border-bottom-color: var(--fill-color);\n",
              "    }\n",
              "    90% {\n",
              "      border-color: transparent;\n",
              "      border-bottom-color: var(--fill-color);\n",
              "    }\n",
              "  }\n",
              "</style>\n",
              "\n",
              "  <script>\n",
              "    async function quickchart(key) {\n",
              "      const quickchartButtonEl =\n",
              "        document.querySelector('#' + key + ' button');\n",
              "      quickchartButtonEl.disabled = true;  // To prevent multiple clicks.\n",
              "      quickchartButtonEl.classList.add('colab-df-spinner');\n",
              "      try {\n",
              "        const charts = await google.colab.kernel.invokeFunction(\n",
              "            'suggestCharts', [key], {});\n",
              "      } catch (error) {\n",
              "        console.error('Error during call to suggestCharts:', error);\n",
              "      }\n",
              "      quickchartButtonEl.classList.remove('colab-df-spinner');\n",
              "      quickchartButtonEl.classList.add('colab-df-quickchart-complete');\n",
              "    }\n",
              "    (() => {\n",
              "      let quickchartButtonEl =\n",
              "        document.querySelector('#df-c6598e27-8ecd-47c5-baf1-631d52cbc82a button');\n",
              "      quickchartButtonEl.style.display =\n",
              "        google.colab.kernel.accessAllowed ? 'block' : 'none';\n",
              "    })();\n",
              "  </script>\n",
              "</div>\n",
              "    </div>\n",
              "  </div>\n"
            ],
            "application/vnd.google.colaboratory.intrinsic+json": {
              "type": "dataframe",
              "summary": "{\n  \"name\": \"car_train\",\n  \"rows\": 5,\n  \"fields\": [\n    {\n      \"column\": \"car_id\",\n      \"properties\": {\n        \"dtype\": \"string\",\n        \"num_unique_values\": 5,\n        \"samples\": [\n          \"g15598327l\",\n          \"v-1155372j\",\n          \"g11810192a\"\n        ],\n        \"semantic_type\": \"\",\n        \"description\": \"\"\n      }\n    },\n    {\n      \"column\": \"model\",\n      \"properties\": {\n        \"dtype\": \"string\",\n        \"num_unique_values\": 4,\n        \"samples\": [\n          \"Smart ForTwo\",\n          \"Kia Sportage\",\n          \"Smart Coupe\"\n        ],\n        \"semantic_type\": \"\",\n        \"description\": \"\"\n      }\n    },\n    {\n      \"column\": \"car_type\",\n      \"properties\": {\n        \"dtype\": \"category\",\n        \"num_unique_values\": 2,\n        \"samples\": [\n          \"standart\",\n          \"economy\"\n        ],\n        \"semantic_type\": \"\",\n        \"description\": \"\"\n      }\n    },\n    {\n      \"column\": \"fuel_type\",\n      \"properties\": {\n        \"dtype\": \"category\",\n        \"num_unique_values\": 1,\n        \"samples\": [\n          \"petrol\"\n        ],\n        \"semantic_type\": \"\",\n        \"description\": \"\"\n      }\n    },\n    {\n      \"column\": \"car_rating\",\n      \"properties\": {\n        \"dtype\": \"number\",\n        \"std\": 1.646730093245399,\n        \"min\": 2.74,\n        \"max\": 6.98,\n        \"num_unique_values\": 5,\n        \"samples\": [\n          2.74\n        ],\n        \"semantic_type\": \"\",\n        \"description\": \"\"\n      }\n    },\n    {\n      \"column\": \"year_to_start\",\n      \"properties\": {\n        \"dtype\": \"number\",\n        \"std\": 1,\n        \"min\": 2013,\n        \"max\": 2017,\n        \"num_unique_values\": 5,\n        \"samples\": [\n          2015\n        ],\n        \"semantic_type\": \"\",\n        \"description\": \"\"\n      }\n    },\n    {\n      \"column\": \"riders\",\n      \"properties\": {\n        \"dtype\": \"number\",\n        \"std\": 31303,\n        \"min\": 40945,\n        \"max\": 115460,\n        \"num_unique_values\": 5,\n        \"samples\": [\n          85211\n        ],\n        \"semantic_type\": \"\",\n        \"description\": \"\"\n      }\n    },\n    {\n      \"column\": \"year_to_work\",\n      \"properties\": {\n        \"dtype\": \"number\",\n        \"std\": 2,\n        \"min\": 2017,\n        \"max\": 2022,\n        \"num_unique_values\": 4,\n        \"samples\": [\n          2017\n        ],\n        \"semantic_type\": \"\",\n        \"description\": \"\"\n      }\n    },\n    {\n      \"column\": \"target_reg\",\n      \"properties\": {\n        \"dtype\": \"number\",\n        \"std\": 13.014131549972898,\n        \"min\": 33.45,\n        \"max\": 66.97,\n        \"num_unique_values\": 5,\n        \"samples\": [\n          33.45\n        ],\n        \"semantic_type\": \"\",\n        \"description\": \"\"\n      }\n    },\n    {\n      \"column\": \"target_class\",\n      \"properties\": {\n        \"dtype\": \"string\",\n        \"num_unique_values\": 3,\n        \"samples\": [\n          \"electro_bug\"\n        ],\n        \"semantic_type\": \"\",\n        \"description\": \"\"\n      }\n    }\n  ]\n}"
            }
          },
          "metadata": {},
          "execution_count": 2
        }
      ],
      "source": [
        "car_train = pd.read_csv('https://raw.githubusercontent.com/a-milenkin/Competitive_Data_Science/main/data/car_train.csv')\n",
        "car_train.sample(5)"
      ]
    },
    {
      "cell_type": "markdown",
      "metadata": {
        "id": "AWvQSnafbuhu"
      },
      "source": [
        "- `car_id` — идентификатор машины\n",
        "- `model` / `car_type` / `fuel_type` — марка, класс и тип топлива машины\n",
        "- `car_rating` / `riders` — общий рейтинг и общее число поездок к концу 2021 года\n",
        "- `year_to_start` / `year_to_work` — год выпуска машины и год начала работы в автопарке\n",
        "- `target_reg` — количество дней до поломки\n",
        "- `target_class` — класс поломки (всего 9 видов)"
      ]
    },
    {
      "cell_type": "markdown",
      "metadata": {
        "id": "6KWf2LgObuhu"
      },
      "source": [
        "### Информация про поездки"
      ]
    },
    {
      "cell_type": "code",
      "execution_count": 3,
      "metadata": {
        "colab": {
          "base_uri": "https://localhost:8080/",
          "height": 206
        },
        "id": "pDc5gXzbbuhu",
        "outputId": "5fb7d849-f1c5-485f-dcec-5f55aebc9c61"
      },
      "outputs": [
        {
          "output_type": "execute_result",
          "data": {
            "text/plain": [
              "           user_id      car_id ride_id   ride_date  rating  ride_duration  \\\n",
              "344016  m16487914i  Y21096922W     g1V  2020-01-10    2.58             44   \n",
              "84446   q12711233W  G-1211626R     w1S  2020-01-30    3.29             64   \n",
              "399962  V19898735X  c-7401486X     N1v  2020-02-28    6.70          17852   \n",
              "142829  G57733957J  K-2047259i     I1d  2020-03-20    5.77             58   \n",
              "695124  V18603964h  w45505269O     b1a  2020-03-30    7.96             37   \n",
              "\n",
              "        ride_cost  speed_avg   speed_max  stop_times       distance  \\\n",
              "344016        391         28   48.000000           1     944.998686   \n",
              "84446         828         34  112.000000           6     655.273871   \n",
              "399962     232072         44   76.529398           0  807474.825681   \n",
              "142829        690         52   75.000000           1    2296.274180   \n",
              "695124        475         41   55.000000           0    1208.808065   \n",
              "\n",
              "        refueling  user_ride_quality  deviation_normal  \n",
              "344016          0          -3.350036             0.745  \n",
              "84446           0          11.902120           -10.763  \n",
              "399962          0                NaN            -3.529  \n",
              "142829          0           5.992029            -5.500  \n",
              "695124          0          11.396697           -35.317  "
            ],
            "text/html": [
              "\n",
              "  <div id=\"df-a1ac5604-750c-4220-bff4-3e02a7950f25\" class=\"colab-df-container\">\n",
              "    <div>\n",
              "<style scoped>\n",
              "    .dataframe tbody tr th:only-of-type {\n",
              "        vertical-align: middle;\n",
              "    }\n",
              "\n",
              "    .dataframe tbody tr th {\n",
              "        vertical-align: top;\n",
              "    }\n",
              "\n",
              "    .dataframe thead th {\n",
              "        text-align: right;\n",
              "    }\n",
              "</style>\n",
              "<table border=\"1\" class=\"dataframe\">\n",
              "  <thead>\n",
              "    <tr style=\"text-align: right;\">\n",
              "      <th></th>\n",
              "      <th>user_id</th>\n",
              "      <th>car_id</th>\n",
              "      <th>ride_id</th>\n",
              "      <th>ride_date</th>\n",
              "      <th>rating</th>\n",
              "      <th>ride_duration</th>\n",
              "      <th>ride_cost</th>\n",
              "      <th>speed_avg</th>\n",
              "      <th>speed_max</th>\n",
              "      <th>stop_times</th>\n",
              "      <th>distance</th>\n",
              "      <th>refueling</th>\n",
              "      <th>user_ride_quality</th>\n",
              "      <th>deviation_normal</th>\n",
              "    </tr>\n",
              "  </thead>\n",
              "  <tbody>\n",
              "    <tr>\n",
              "      <th>344016</th>\n",
              "      <td>m16487914i</td>\n",
              "      <td>Y21096922W</td>\n",
              "      <td>g1V</td>\n",
              "      <td>2020-01-10</td>\n",
              "      <td>2.58</td>\n",
              "      <td>44</td>\n",
              "      <td>391</td>\n",
              "      <td>28</td>\n",
              "      <td>48.000000</td>\n",
              "      <td>1</td>\n",
              "      <td>944.998686</td>\n",
              "      <td>0</td>\n",
              "      <td>-3.350036</td>\n",
              "      <td>0.745</td>\n",
              "    </tr>\n",
              "    <tr>\n",
              "      <th>84446</th>\n",
              "      <td>q12711233W</td>\n",
              "      <td>G-1211626R</td>\n",
              "      <td>w1S</td>\n",
              "      <td>2020-01-30</td>\n",
              "      <td>3.29</td>\n",
              "      <td>64</td>\n",
              "      <td>828</td>\n",
              "      <td>34</td>\n",
              "      <td>112.000000</td>\n",
              "      <td>6</td>\n",
              "      <td>655.273871</td>\n",
              "      <td>0</td>\n",
              "      <td>11.902120</td>\n",
              "      <td>-10.763</td>\n",
              "    </tr>\n",
              "    <tr>\n",
              "      <th>399962</th>\n",
              "      <td>V19898735X</td>\n",
              "      <td>c-7401486X</td>\n",
              "      <td>N1v</td>\n",
              "      <td>2020-02-28</td>\n",
              "      <td>6.70</td>\n",
              "      <td>17852</td>\n",
              "      <td>232072</td>\n",
              "      <td>44</td>\n",
              "      <td>76.529398</td>\n",
              "      <td>0</td>\n",
              "      <td>807474.825681</td>\n",
              "      <td>0</td>\n",
              "      <td>NaN</td>\n",
              "      <td>-3.529</td>\n",
              "    </tr>\n",
              "    <tr>\n",
              "      <th>142829</th>\n",
              "      <td>G57733957J</td>\n",
              "      <td>K-2047259i</td>\n",
              "      <td>I1d</td>\n",
              "      <td>2020-03-20</td>\n",
              "      <td>5.77</td>\n",
              "      <td>58</td>\n",
              "      <td>690</td>\n",
              "      <td>52</td>\n",
              "      <td>75.000000</td>\n",
              "      <td>1</td>\n",
              "      <td>2296.274180</td>\n",
              "      <td>0</td>\n",
              "      <td>5.992029</td>\n",
              "      <td>-5.500</td>\n",
              "    </tr>\n",
              "    <tr>\n",
              "      <th>695124</th>\n",
              "      <td>V18603964h</td>\n",
              "      <td>w45505269O</td>\n",
              "      <td>b1a</td>\n",
              "      <td>2020-03-30</td>\n",
              "      <td>7.96</td>\n",
              "      <td>37</td>\n",
              "      <td>475</td>\n",
              "      <td>41</td>\n",
              "      <td>55.000000</td>\n",
              "      <td>0</td>\n",
              "      <td>1208.808065</td>\n",
              "      <td>0</td>\n",
              "      <td>11.396697</td>\n",
              "      <td>-35.317</td>\n",
              "    </tr>\n",
              "  </tbody>\n",
              "</table>\n",
              "</div>\n",
              "    <div class=\"colab-df-buttons\">\n",
              "\n",
              "  <div class=\"colab-df-container\">\n",
              "    <button class=\"colab-df-convert\" onclick=\"convertToInteractive('df-a1ac5604-750c-4220-bff4-3e02a7950f25')\"\n",
              "            title=\"Convert this dataframe to an interactive table.\"\n",
              "            style=\"display:none;\">\n",
              "\n",
              "  <svg xmlns=\"http://www.w3.org/2000/svg\" height=\"24px\" viewBox=\"0 -960 960 960\">\n",
              "    <path d=\"M120-120v-720h720v720H120Zm60-500h600v-160H180v160Zm220 220h160v-160H400v160Zm0 220h160v-160H400v160ZM180-400h160v-160H180v160Zm440 0h160v-160H620v160ZM180-180h160v-160H180v160Zm440 0h160v-160H620v160Z\"/>\n",
              "  </svg>\n",
              "    </button>\n",
              "\n",
              "  <style>\n",
              "    .colab-df-container {\n",
              "      display:flex;\n",
              "      gap: 12px;\n",
              "    }\n",
              "\n",
              "    .colab-df-convert {\n",
              "      background-color: #E8F0FE;\n",
              "      border: none;\n",
              "      border-radius: 50%;\n",
              "      cursor: pointer;\n",
              "      display: none;\n",
              "      fill: #1967D2;\n",
              "      height: 32px;\n",
              "      padding: 0 0 0 0;\n",
              "      width: 32px;\n",
              "    }\n",
              "\n",
              "    .colab-df-convert:hover {\n",
              "      background-color: #E2EBFA;\n",
              "      box-shadow: 0px 1px 2px rgba(60, 64, 67, 0.3), 0px 1px 3px 1px rgba(60, 64, 67, 0.15);\n",
              "      fill: #174EA6;\n",
              "    }\n",
              "\n",
              "    .colab-df-buttons div {\n",
              "      margin-bottom: 4px;\n",
              "    }\n",
              "\n",
              "    [theme=dark] .colab-df-convert {\n",
              "      background-color: #3B4455;\n",
              "      fill: #D2E3FC;\n",
              "    }\n",
              "\n",
              "    [theme=dark] .colab-df-convert:hover {\n",
              "      background-color: #434B5C;\n",
              "      box-shadow: 0px 1px 3px 1px rgba(0, 0, 0, 0.15);\n",
              "      filter: drop-shadow(0px 1px 2px rgba(0, 0, 0, 0.3));\n",
              "      fill: #FFFFFF;\n",
              "    }\n",
              "  </style>\n",
              "\n",
              "    <script>\n",
              "      const buttonEl =\n",
              "        document.querySelector('#df-a1ac5604-750c-4220-bff4-3e02a7950f25 button.colab-df-convert');\n",
              "      buttonEl.style.display =\n",
              "        google.colab.kernel.accessAllowed ? 'block' : 'none';\n",
              "\n",
              "      async function convertToInteractive(key) {\n",
              "        const element = document.querySelector('#df-a1ac5604-750c-4220-bff4-3e02a7950f25');\n",
              "        const dataTable =\n",
              "          await google.colab.kernel.invokeFunction('convertToInteractive',\n",
              "                                                    [key], {});\n",
              "        if (!dataTable) return;\n",
              "\n",
              "        const docLinkHtml = 'Like what you see? Visit the ' +\n",
              "          '<a target=\"_blank\" href=https://colab.research.google.com/notebooks/data_table.ipynb>data table notebook</a>'\n",
              "          + ' to learn more about interactive tables.';\n",
              "        element.innerHTML = '';\n",
              "        dataTable['output_type'] = 'display_data';\n",
              "        await google.colab.output.renderOutput(dataTable, element);\n",
              "        const docLink = document.createElement('div');\n",
              "        docLink.innerHTML = docLinkHtml;\n",
              "        element.appendChild(docLink);\n",
              "      }\n",
              "    </script>\n",
              "  </div>\n",
              "\n",
              "\n",
              "<div id=\"df-d9c347ce-df09-4609-9132-d8e1bed84562\">\n",
              "  <button class=\"colab-df-quickchart\" onclick=\"quickchart('df-d9c347ce-df09-4609-9132-d8e1bed84562')\"\n",
              "            title=\"Suggest charts\"\n",
              "            style=\"display:none;\">\n",
              "\n",
              "<svg xmlns=\"http://www.w3.org/2000/svg\" height=\"24px\"viewBox=\"0 0 24 24\"\n",
              "     width=\"24px\">\n",
              "    <g>\n",
              "        <path d=\"M19 3H5c-1.1 0-2 .9-2 2v14c0 1.1.9 2 2 2h14c1.1 0 2-.9 2-2V5c0-1.1-.9-2-2-2zM9 17H7v-7h2v7zm4 0h-2V7h2v10zm4 0h-2v-4h2v4z\"/>\n",
              "    </g>\n",
              "</svg>\n",
              "  </button>\n",
              "\n",
              "<style>\n",
              "  .colab-df-quickchart {\n",
              "      --bg-color: #E8F0FE;\n",
              "      --fill-color: #1967D2;\n",
              "      --hover-bg-color: #E2EBFA;\n",
              "      --hover-fill-color: #174EA6;\n",
              "      --disabled-fill-color: #AAA;\n",
              "      --disabled-bg-color: #DDD;\n",
              "  }\n",
              "\n",
              "  [theme=dark] .colab-df-quickchart {\n",
              "      --bg-color: #3B4455;\n",
              "      --fill-color: #D2E3FC;\n",
              "      --hover-bg-color: #434B5C;\n",
              "      --hover-fill-color: #FFFFFF;\n",
              "      --disabled-bg-color: #3B4455;\n",
              "      --disabled-fill-color: #666;\n",
              "  }\n",
              "\n",
              "  .colab-df-quickchart {\n",
              "    background-color: var(--bg-color);\n",
              "    border: none;\n",
              "    border-radius: 50%;\n",
              "    cursor: pointer;\n",
              "    display: none;\n",
              "    fill: var(--fill-color);\n",
              "    height: 32px;\n",
              "    padding: 0;\n",
              "    width: 32px;\n",
              "  }\n",
              "\n",
              "  .colab-df-quickchart:hover {\n",
              "    background-color: var(--hover-bg-color);\n",
              "    box-shadow: 0 1px 2px rgba(60, 64, 67, 0.3), 0 1px 3px 1px rgba(60, 64, 67, 0.15);\n",
              "    fill: var(--button-hover-fill-color);\n",
              "  }\n",
              "\n",
              "  .colab-df-quickchart-complete:disabled,\n",
              "  .colab-df-quickchart-complete:disabled:hover {\n",
              "    background-color: var(--disabled-bg-color);\n",
              "    fill: var(--disabled-fill-color);\n",
              "    box-shadow: none;\n",
              "  }\n",
              "\n",
              "  .colab-df-spinner {\n",
              "    border: 2px solid var(--fill-color);\n",
              "    border-color: transparent;\n",
              "    border-bottom-color: var(--fill-color);\n",
              "    animation:\n",
              "      spin 1s steps(1) infinite;\n",
              "  }\n",
              "\n",
              "  @keyframes spin {\n",
              "    0% {\n",
              "      border-color: transparent;\n",
              "      border-bottom-color: var(--fill-color);\n",
              "      border-left-color: var(--fill-color);\n",
              "    }\n",
              "    20% {\n",
              "      border-color: transparent;\n",
              "      border-left-color: var(--fill-color);\n",
              "      border-top-color: var(--fill-color);\n",
              "    }\n",
              "    30% {\n",
              "      border-color: transparent;\n",
              "      border-left-color: var(--fill-color);\n",
              "      border-top-color: var(--fill-color);\n",
              "      border-right-color: var(--fill-color);\n",
              "    }\n",
              "    40% {\n",
              "      border-color: transparent;\n",
              "      border-right-color: var(--fill-color);\n",
              "      border-top-color: var(--fill-color);\n",
              "    }\n",
              "    60% {\n",
              "      border-color: transparent;\n",
              "      border-right-color: var(--fill-color);\n",
              "    }\n",
              "    80% {\n",
              "      border-color: transparent;\n",
              "      border-right-color: var(--fill-color);\n",
              "      border-bottom-color: var(--fill-color);\n",
              "    }\n",
              "    90% {\n",
              "      border-color: transparent;\n",
              "      border-bottom-color: var(--fill-color);\n",
              "    }\n",
              "  }\n",
              "</style>\n",
              "\n",
              "  <script>\n",
              "    async function quickchart(key) {\n",
              "      const quickchartButtonEl =\n",
              "        document.querySelector('#' + key + ' button');\n",
              "      quickchartButtonEl.disabled = true;  // To prevent multiple clicks.\n",
              "      quickchartButtonEl.classList.add('colab-df-spinner');\n",
              "      try {\n",
              "        const charts = await google.colab.kernel.invokeFunction(\n",
              "            'suggestCharts', [key], {});\n",
              "      } catch (error) {\n",
              "        console.error('Error during call to suggestCharts:', error);\n",
              "      }\n",
              "      quickchartButtonEl.classList.remove('colab-df-spinner');\n",
              "      quickchartButtonEl.classList.add('colab-df-quickchart-complete');\n",
              "    }\n",
              "    (() => {\n",
              "      let quickchartButtonEl =\n",
              "        document.querySelector('#df-d9c347ce-df09-4609-9132-d8e1bed84562 button');\n",
              "      quickchartButtonEl.style.display =\n",
              "        google.colab.kernel.accessAllowed ? 'block' : 'none';\n",
              "    })();\n",
              "  </script>\n",
              "</div>\n",
              "    </div>\n",
              "  </div>\n"
            ],
            "application/vnd.google.colaboratory.intrinsic+json": {
              "type": "dataframe",
              "repr_error": "0"
            }
          },
          "metadata": {},
          "execution_count": 3
        }
      ],
      "source": [
        "rides_info = pd.read_csv('https://raw.githubusercontent.com/a-milenkin/Competitive_Data_Science/main/data/rides_info.csv')\n",
        "rides_info.sample(5)"
      ]
    },
    {
      "cell_type": "markdown",
      "metadata": {
        "id": "ZAn8S24sbuhv"
      },
      "source": [
        "- `user_id` / `car_id` / `ride_id` — идентификаторы водителя, машины, поездки соответственно\n",
        "- `ride_date` / `rating` — дата поездки и рейтинг, поставленный водителем\n",
        "- `ride_duration` / `distance` / `ride_cost` —  длительность (время),  пройденное расстояние, стоимость поездки\n",
        "- `speed_avg` / `speed_max` — средняя и максимальная скорости поездки соответственно\n",
        "- `stop_times` / `refueling` — количество остановок (паузы) и флаг: была ли дозаправка\n",
        "- `user_ride_quality` — оценка манеры вождения водителя машины, определенная скоринговой ML-системой сервиса\n",
        "- `deviation_normal` — общий показатель датчиков о состоянии машины, относительно эталонных показателей (нормы)"
      ]
    },
    {
      "cell_type": "markdown",
      "metadata": {
        "id": "O0Onuz4ybuhv"
      },
      "source": [
        "### Информация про водителей"
      ]
    },
    {
      "cell_type": "code",
      "execution_count": 4,
      "metadata": {
        "colab": {
          "base_uri": "https://localhost:8080/",
          "height": 206
        },
        "id": "WBEvQXhxbuhv",
        "outputId": "1c646995-431d-46e1-b3e2-a83f71b6dec5"
      },
      "outputs": [
        {
          "output_type": "execute_result",
          "data": {
            "text/plain": [
              "       age  user_rating  user_rides  user_time_accident     user_id  sex  \\\n",
              "14566   20          8.9         680                18.0  d16061829G    1   \n",
              "12171   19          7.2         641                13.0  K53852012D    1   \n",
              "7869    33          7.7         459                 2.0  M79174936R    1   \n",
              "11180   18          8.9         725                23.0  E41456640y    1   \n",
              "12789   36          8.0          74                 5.0  u15958426d    0   \n",
              "\n",
              "      first_ride_date  \n",
              "14566       2019-5-18  \n",
              "12171        2020-8-1  \n",
              "7869        2020-6-12  \n",
              "11180       2020-8-20  \n",
              "12789      2019-10-25  "
            ],
            "text/html": [
              "\n",
              "  <div id=\"df-6167201b-2dd3-45ab-b621-a8895bd83e6e\" class=\"colab-df-container\">\n",
              "    <div>\n",
              "<style scoped>\n",
              "    .dataframe tbody tr th:only-of-type {\n",
              "        vertical-align: middle;\n",
              "    }\n",
              "\n",
              "    .dataframe tbody tr th {\n",
              "        vertical-align: top;\n",
              "    }\n",
              "\n",
              "    .dataframe thead th {\n",
              "        text-align: right;\n",
              "    }\n",
              "</style>\n",
              "<table border=\"1\" class=\"dataframe\">\n",
              "  <thead>\n",
              "    <tr style=\"text-align: right;\">\n",
              "      <th></th>\n",
              "      <th>age</th>\n",
              "      <th>user_rating</th>\n",
              "      <th>user_rides</th>\n",
              "      <th>user_time_accident</th>\n",
              "      <th>user_id</th>\n",
              "      <th>sex</th>\n",
              "      <th>first_ride_date</th>\n",
              "    </tr>\n",
              "  </thead>\n",
              "  <tbody>\n",
              "    <tr>\n",
              "      <th>14566</th>\n",
              "      <td>20</td>\n",
              "      <td>8.9</td>\n",
              "      <td>680</td>\n",
              "      <td>18.0</td>\n",
              "      <td>d16061829G</td>\n",
              "      <td>1</td>\n",
              "      <td>2019-5-18</td>\n",
              "    </tr>\n",
              "    <tr>\n",
              "      <th>12171</th>\n",
              "      <td>19</td>\n",
              "      <td>7.2</td>\n",
              "      <td>641</td>\n",
              "      <td>13.0</td>\n",
              "      <td>K53852012D</td>\n",
              "      <td>1</td>\n",
              "      <td>2020-8-1</td>\n",
              "    </tr>\n",
              "    <tr>\n",
              "      <th>7869</th>\n",
              "      <td>33</td>\n",
              "      <td>7.7</td>\n",
              "      <td>459</td>\n",
              "      <td>2.0</td>\n",
              "      <td>M79174936R</td>\n",
              "      <td>1</td>\n",
              "      <td>2020-6-12</td>\n",
              "    </tr>\n",
              "    <tr>\n",
              "      <th>11180</th>\n",
              "      <td>18</td>\n",
              "      <td>8.9</td>\n",
              "      <td>725</td>\n",
              "      <td>23.0</td>\n",
              "      <td>E41456640y</td>\n",
              "      <td>1</td>\n",
              "      <td>2020-8-20</td>\n",
              "    </tr>\n",
              "    <tr>\n",
              "      <th>12789</th>\n",
              "      <td>36</td>\n",
              "      <td>8.0</td>\n",
              "      <td>74</td>\n",
              "      <td>5.0</td>\n",
              "      <td>u15958426d</td>\n",
              "      <td>0</td>\n",
              "      <td>2019-10-25</td>\n",
              "    </tr>\n",
              "  </tbody>\n",
              "</table>\n",
              "</div>\n",
              "    <div class=\"colab-df-buttons\">\n",
              "\n",
              "  <div class=\"colab-df-container\">\n",
              "    <button class=\"colab-df-convert\" onclick=\"convertToInteractive('df-6167201b-2dd3-45ab-b621-a8895bd83e6e')\"\n",
              "            title=\"Convert this dataframe to an interactive table.\"\n",
              "            style=\"display:none;\">\n",
              "\n",
              "  <svg xmlns=\"http://www.w3.org/2000/svg\" height=\"24px\" viewBox=\"0 -960 960 960\">\n",
              "    <path d=\"M120-120v-720h720v720H120Zm60-500h600v-160H180v160Zm220 220h160v-160H400v160Zm0 220h160v-160H400v160ZM180-400h160v-160H180v160Zm440 0h160v-160H620v160ZM180-180h160v-160H180v160Zm440 0h160v-160H620v160Z\"/>\n",
              "  </svg>\n",
              "    </button>\n",
              "\n",
              "  <style>\n",
              "    .colab-df-container {\n",
              "      display:flex;\n",
              "      gap: 12px;\n",
              "    }\n",
              "\n",
              "    .colab-df-convert {\n",
              "      background-color: #E8F0FE;\n",
              "      border: none;\n",
              "      border-radius: 50%;\n",
              "      cursor: pointer;\n",
              "      display: none;\n",
              "      fill: #1967D2;\n",
              "      height: 32px;\n",
              "      padding: 0 0 0 0;\n",
              "      width: 32px;\n",
              "    }\n",
              "\n",
              "    .colab-df-convert:hover {\n",
              "      background-color: #E2EBFA;\n",
              "      box-shadow: 0px 1px 2px rgba(60, 64, 67, 0.3), 0px 1px 3px 1px rgba(60, 64, 67, 0.15);\n",
              "      fill: #174EA6;\n",
              "    }\n",
              "\n",
              "    .colab-df-buttons div {\n",
              "      margin-bottom: 4px;\n",
              "    }\n",
              "\n",
              "    [theme=dark] .colab-df-convert {\n",
              "      background-color: #3B4455;\n",
              "      fill: #D2E3FC;\n",
              "    }\n",
              "\n",
              "    [theme=dark] .colab-df-convert:hover {\n",
              "      background-color: #434B5C;\n",
              "      box-shadow: 0px 1px 3px 1px rgba(0, 0, 0, 0.15);\n",
              "      filter: drop-shadow(0px 1px 2px rgba(0, 0, 0, 0.3));\n",
              "      fill: #FFFFFF;\n",
              "    }\n",
              "  </style>\n",
              "\n",
              "    <script>\n",
              "      const buttonEl =\n",
              "        document.querySelector('#df-6167201b-2dd3-45ab-b621-a8895bd83e6e button.colab-df-convert');\n",
              "      buttonEl.style.display =\n",
              "        google.colab.kernel.accessAllowed ? 'block' : 'none';\n",
              "\n",
              "      async function convertToInteractive(key) {\n",
              "        const element = document.querySelector('#df-6167201b-2dd3-45ab-b621-a8895bd83e6e');\n",
              "        const dataTable =\n",
              "          await google.colab.kernel.invokeFunction('convertToInteractive',\n",
              "                                                    [key], {});\n",
              "        if (!dataTable) return;\n",
              "\n",
              "        const docLinkHtml = 'Like what you see? Visit the ' +\n",
              "          '<a target=\"_blank\" href=https://colab.research.google.com/notebooks/data_table.ipynb>data table notebook</a>'\n",
              "          + ' to learn more about interactive tables.';\n",
              "        element.innerHTML = '';\n",
              "        dataTable['output_type'] = 'display_data';\n",
              "        await google.colab.output.renderOutput(dataTable, element);\n",
              "        const docLink = document.createElement('div');\n",
              "        docLink.innerHTML = docLinkHtml;\n",
              "        element.appendChild(docLink);\n",
              "      }\n",
              "    </script>\n",
              "  </div>\n",
              "\n",
              "\n",
              "<div id=\"df-d01835ba-598d-4fce-8b5f-91d905caa0a8\">\n",
              "  <button class=\"colab-df-quickchart\" onclick=\"quickchart('df-d01835ba-598d-4fce-8b5f-91d905caa0a8')\"\n",
              "            title=\"Suggest charts\"\n",
              "            style=\"display:none;\">\n",
              "\n",
              "<svg xmlns=\"http://www.w3.org/2000/svg\" height=\"24px\"viewBox=\"0 0 24 24\"\n",
              "     width=\"24px\">\n",
              "    <g>\n",
              "        <path d=\"M19 3H5c-1.1 0-2 .9-2 2v14c0 1.1.9 2 2 2h14c1.1 0 2-.9 2-2V5c0-1.1-.9-2-2-2zM9 17H7v-7h2v7zm4 0h-2V7h2v10zm4 0h-2v-4h2v4z\"/>\n",
              "    </g>\n",
              "</svg>\n",
              "  </button>\n",
              "\n",
              "<style>\n",
              "  .colab-df-quickchart {\n",
              "      --bg-color: #E8F0FE;\n",
              "      --fill-color: #1967D2;\n",
              "      --hover-bg-color: #E2EBFA;\n",
              "      --hover-fill-color: #174EA6;\n",
              "      --disabled-fill-color: #AAA;\n",
              "      --disabled-bg-color: #DDD;\n",
              "  }\n",
              "\n",
              "  [theme=dark] .colab-df-quickchart {\n",
              "      --bg-color: #3B4455;\n",
              "      --fill-color: #D2E3FC;\n",
              "      --hover-bg-color: #434B5C;\n",
              "      --hover-fill-color: #FFFFFF;\n",
              "      --disabled-bg-color: #3B4455;\n",
              "      --disabled-fill-color: #666;\n",
              "  }\n",
              "\n",
              "  .colab-df-quickchart {\n",
              "    background-color: var(--bg-color);\n",
              "    border: none;\n",
              "    border-radius: 50%;\n",
              "    cursor: pointer;\n",
              "    display: none;\n",
              "    fill: var(--fill-color);\n",
              "    height: 32px;\n",
              "    padding: 0;\n",
              "    width: 32px;\n",
              "  }\n",
              "\n",
              "  .colab-df-quickchart:hover {\n",
              "    background-color: var(--hover-bg-color);\n",
              "    box-shadow: 0 1px 2px rgba(60, 64, 67, 0.3), 0 1px 3px 1px rgba(60, 64, 67, 0.15);\n",
              "    fill: var(--button-hover-fill-color);\n",
              "  }\n",
              "\n",
              "  .colab-df-quickchart-complete:disabled,\n",
              "  .colab-df-quickchart-complete:disabled:hover {\n",
              "    background-color: var(--disabled-bg-color);\n",
              "    fill: var(--disabled-fill-color);\n",
              "    box-shadow: none;\n",
              "  }\n",
              "\n",
              "  .colab-df-spinner {\n",
              "    border: 2px solid var(--fill-color);\n",
              "    border-color: transparent;\n",
              "    border-bottom-color: var(--fill-color);\n",
              "    animation:\n",
              "      spin 1s steps(1) infinite;\n",
              "  }\n",
              "\n",
              "  @keyframes spin {\n",
              "    0% {\n",
              "      border-color: transparent;\n",
              "      border-bottom-color: var(--fill-color);\n",
              "      border-left-color: var(--fill-color);\n",
              "    }\n",
              "    20% {\n",
              "      border-color: transparent;\n",
              "      border-left-color: var(--fill-color);\n",
              "      border-top-color: var(--fill-color);\n",
              "    }\n",
              "    30% {\n",
              "      border-color: transparent;\n",
              "      border-left-color: var(--fill-color);\n",
              "      border-top-color: var(--fill-color);\n",
              "      border-right-color: var(--fill-color);\n",
              "    }\n",
              "    40% {\n",
              "      border-color: transparent;\n",
              "      border-right-color: var(--fill-color);\n",
              "      border-top-color: var(--fill-color);\n",
              "    }\n",
              "    60% {\n",
              "      border-color: transparent;\n",
              "      border-right-color: var(--fill-color);\n",
              "    }\n",
              "    80% {\n",
              "      border-color: transparent;\n",
              "      border-right-color: var(--fill-color);\n",
              "      border-bottom-color: var(--fill-color);\n",
              "    }\n",
              "    90% {\n",
              "      border-color: transparent;\n",
              "      border-bottom-color: var(--fill-color);\n",
              "    }\n",
              "  }\n",
              "</style>\n",
              "\n",
              "  <script>\n",
              "    async function quickchart(key) {\n",
              "      const quickchartButtonEl =\n",
              "        document.querySelector('#' + key + ' button');\n",
              "      quickchartButtonEl.disabled = true;  // To prevent multiple clicks.\n",
              "      quickchartButtonEl.classList.add('colab-df-spinner');\n",
              "      try {\n",
              "        const charts = await google.colab.kernel.invokeFunction(\n",
              "            'suggestCharts', [key], {});\n",
              "      } catch (error) {\n",
              "        console.error('Error during call to suggestCharts:', error);\n",
              "      }\n",
              "      quickchartButtonEl.classList.remove('colab-df-spinner');\n",
              "      quickchartButtonEl.classList.add('colab-df-quickchart-complete');\n",
              "    }\n",
              "    (() => {\n",
              "      let quickchartButtonEl =\n",
              "        document.querySelector('#df-d01835ba-598d-4fce-8b5f-91d905caa0a8 button');\n",
              "      quickchartButtonEl.style.display =\n",
              "        google.colab.kernel.accessAllowed ? 'block' : 'none';\n",
              "    })();\n",
              "  </script>\n",
              "</div>\n",
              "    </div>\n",
              "  </div>\n"
            ],
            "application/vnd.google.colaboratory.intrinsic+json": {
              "type": "dataframe",
              "repr_error": "0"
            }
          },
          "metadata": {},
          "execution_count": 4
        }
      ],
      "source": [
        "driver_info = pd.read_csv('https://raw.githubusercontent.com/a-milenkin/Competitive_Data_Science/main/data/driver_info.csv')\n",
        "driver_info.sample(5)"
      ]
    },
    {
      "cell_type": "markdown",
      "metadata": {
        "id": "ubFE8w-Kbuhv"
      },
      "source": [
        "- `user_id` / `age` / `sex` — идентификатор, возраст и пол водителя, соответственно\n",
        "- `user_rating` — общий рейтинг пользователя за все поездки к концу 2021 года\n",
        "- `user_rides` — общее количество поездок к концу 2021 года\n",
        "- `user_time_accident` — число инцидентов (это могли быть аварии/штрафы/эвакуация машины)  \n",
        "- `first_ride_date` — дата первой поездки"
      ]
    },
    {
      "cell_type": "markdown",
      "metadata": {
        "id": "cXDdvlHYbuhv"
      },
      "source": [
        "### Информация про ремонт машин"
      ]
    },
    {
      "cell_type": "code",
      "execution_count": 5,
      "metadata": {
        "colab": {
          "base_uri": "https://localhost:8080/",
          "height": 206
        },
        "id": "eVTjvBspbuhv",
        "outputId": "232fe673-2af1-4c9a-a4bd-de2994d68f3f"
      },
      "outputs": [
        {
          "output_type": "execute_result",
          "data": {
            "text/plain": [
              "            car_id worker_id         fix_date  work_type  destroy_degree  \\\n",
              "87102   z-2004787O        OJ   2019-1-7 17:30  reparking             1.0   \n",
              "58191   y21647488o        UB   2020-3-6 19:50  reparking             1.0   \n",
              "111647  a-2111343W        HO   2019-4-19 3:32  reparking             1.0   \n",
              "30985   u12928592s        XC   2019-9-30 8:16  reparking             1.0   \n",
              "25925   N-1087986g        CL  2021-5-13 18:46     repair             6.2   \n",
              "\n",
              "        work_duration  \n",
              "87102              30  \n",
              "58191              28  \n",
              "111647             22  \n",
              "30985              28  \n",
              "25925              24  "
            ],
            "text/html": [
              "\n",
              "  <div id=\"df-f3f77d0b-3398-4083-bd32-7eadc81d07b1\" class=\"colab-df-container\">\n",
              "    <div>\n",
              "<style scoped>\n",
              "    .dataframe tbody tr th:only-of-type {\n",
              "        vertical-align: middle;\n",
              "    }\n",
              "\n",
              "    .dataframe tbody tr th {\n",
              "        vertical-align: top;\n",
              "    }\n",
              "\n",
              "    .dataframe thead th {\n",
              "        text-align: right;\n",
              "    }\n",
              "</style>\n",
              "<table border=\"1\" class=\"dataframe\">\n",
              "  <thead>\n",
              "    <tr style=\"text-align: right;\">\n",
              "      <th></th>\n",
              "      <th>car_id</th>\n",
              "      <th>worker_id</th>\n",
              "      <th>fix_date</th>\n",
              "      <th>work_type</th>\n",
              "      <th>destroy_degree</th>\n",
              "      <th>work_duration</th>\n",
              "    </tr>\n",
              "  </thead>\n",
              "  <tbody>\n",
              "    <tr>\n",
              "      <th>87102</th>\n",
              "      <td>z-2004787O</td>\n",
              "      <td>OJ</td>\n",
              "      <td>2019-1-7 17:30</td>\n",
              "      <td>reparking</td>\n",
              "      <td>1.0</td>\n",
              "      <td>30</td>\n",
              "    </tr>\n",
              "    <tr>\n",
              "      <th>58191</th>\n",
              "      <td>y21647488o</td>\n",
              "      <td>UB</td>\n",
              "      <td>2020-3-6 19:50</td>\n",
              "      <td>reparking</td>\n",
              "      <td>1.0</td>\n",
              "      <td>28</td>\n",
              "    </tr>\n",
              "    <tr>\n",
              "      <th>111647</th>\n",
              "      <td>a-2111343W</td>\n",
              "      <td>HO</td>\n",
              "      <td>2019-4-19 3:32</td>\n",
              "      <td>reparking</td>\n",
              "      <td>1.0</td>\n",
              "      <td>22</td>\n",
              "    </tr>\n",
              "    <tr>\n",
              "      <th>30985</th>\n",
              "      <td>u12928592s</td>\n",
              "      <td>XC</td>\n",
              "      <td>2019-9-30 8:16</td>\n",
              "      <td>reparking</td>\n",
              "      <td>1.0</td>\n",
              "      <td>28</td>\n",
              "    </tr>\n",
              "    <tr>\n",
              "      <th>25925</th>\n",
              "      <td>N-1087986g</td>\n",
              "      <td>CL</td>\n",
              "      <td>2021-5-13 18:46</td>\n",
              "      <td>repair</td>\n",
              "      <td>6.2</td>\n",
              "      <td>24</td>\n",
              "    </tr>\n",
              "  </tbody>\n",
              "</table>\n",
              "</div>\n",
              "    <div class=\"colab-df-buttons\">\n",
              "\n",
              "  <div class=\"colab-df-container\">\n",
              "    <button class=\"colab-df-convert\" onclick=\"convertToInteractive('df-f3f77d0b-3398-4083-bd32-7eadc81d07b1')\"\n",
              "            title=\"Convert this dataframe to an interactive table.\"\n",
              "            style=\"display:none;\">\n",
              "\n",
              "  <svg xmlns=\"http://www.w3.org/2000/svg\" height=\"24px\" viewBox=\"0 -960 960 960\">\n",
              "    <path d=\"M120-120v-720h720v720H120Zm60-500h600v-160H180v160Zm220 220h160v-160H400v160Zm0 220h160v-160H400v160ZM180-400h160v-160H180v160Zm440 0h160v-160H620v160ZM180-180h160v-160H180v160Zm440 0h160v-160H620v160Z\"/>\n",
              "  </svg>\n",
              "    </button>\n",
              "\n",
              "  <style>\n",
              "    .colab-df-container {\n",
              "      display:flex;\n",
              "      gap: 12px;\n",
              "    }\n",
              "\n",
              "    .colab-df-convert {\n",
              "      background-color: #E8F0FE;\n",
              "      border: none;\n",
              "      border-radius: 50%;\n",
              "      cursor: pointer;\n",
              "      display: none;\n",
              "      fill: #1967D2;\n",
              "      height: 32px;\n",
              "      padding: 0 0 0 0;\n",
              "      width: 32px;\n",
              "    }\n",
              "\n",
              "    .colab-df-convert:hover {\n",
              "      background-color: #E2EBFA;\n",
              "      box-shadow: 0px 1px 2px rgba(60, 64, 67, 0.3), 0px 1px 3px 1px rgba(60, 64, 67, 0.15);\n",
              "      fill: #174EA6;\n",
              "    }\n",
              "\n",
              "    .colab-df-buttons div {\n",
              "      margin-bottom: 4px;\n",
              "    }\n",
              "\n",
              "    [theme=dark] .colab-df-convert {\n",
              "      background-color: #3B4455;\n",
              "      fill: #D2E3FC;\n",
              "    }\n",
              "\n",
              "    [theme=dark] .colab-df-convert:hover {\n",
              "      background-color: #434B5C;\n",
              "      box-shadow: 0px 1px 3px 1px rgba(0, 0, 0, 0.15);\n",
              "      filter: drop-shadow(0px 1px 2px rgba(0, 0, 0, 0.3));\n",
              "      fill: #FFFFFF;\n",
              "    }\n",
              "  </style>\n",
              "\n",
              "    <script>\n",
              "      const buttonEl =\n",
              "        document.querySelector('#df-f3f77d0b-3398-4083-bd32-7eadc81d07b1 button.colab-df-convert');\n",
              "      buttonEl.style.display =\n",
              "        google.colab.kernel.accessAllowed ? 'block' : 'none';\n",
              "\n",
              "      async function convertToInteractive(key) {\n",
              "        const element = document.querySelector('#df-f3f77d0b-3398-4083-bd32-7eadc81d07b1');\n",
              "        const dataTable =\n",
              "          await google.colab.kernel.invokeFunction('convertToInteractive',\n",
              "                                                    [key], {});\n",
              "        if (!dataTable) return;\n",
              "\n",
              "        const docLinkHtml = 'Like what you see? Visit the ' +\n",
              "          '<a target=\"_blank\" href=https://colab.research.google.com/notebooks/data_table.ipynb>data table notebook</a>'\n",
              "          + ' to learn more about interactive tables.';\n",
              "        element.innerHTML = '';\n",
              "        dataTable['output_type'] = 'display_data';\n",
              "        await google.colab.output.renderOutput(dataTable, element);\n",
              "        const docLink = document.createElement('div');\n",
              "        docLink.innerHTML = docLinkHtml;\n",
              "        element.appendChild(docLink);\n",
              "      }\n",
              "    </script>\n",
              "  </div>\n",
              "\n",
              "\n",
              "<div id=\"df-10519563-0cc4-44d7-a434-0aa729bc07f9\">\n",
              "  <button class=\"colab-df-quickchart\" onclick=\"quickchart('df-10519563-0cc4-44d7-a434-0aa729bc07f9')\"\n",
              "            title=\"Suggest charts\"\n",
              "            style=\"display:none;\">\n",
              "\n",
              "<svg xmlns=\"http://www.w3.org/2000/svg\" height=\"24px\"viewBox=\"0 0 24 24\"\n",
              "     width=\"24px\">\n",
              "    <g>\n",
              "        <path d=\"M19 3H5c-1.1 0-2 .9-2 2v14c0 1.1.9 2 2 2h14c1.1 0 2-.9 2-2V5c0-1.1-.9-2-2-2zM9 17H7v-7h2v7zm4 0h-2V7h2v10zm4 0h-2v-4h2v4z\"/>\n",
              "    </g>\n",
              "</svg>\n",
              "  </button>\n",
              "\n",
              "<style>\n",
              "  .colab-df-quickchart {\n",
              "      --bg-color: #E8F0FE;\n",
              "      --fill-color: #1967D2;\n",
              "      --hover-bg-color: #E2EBFA;\n",
              "      --hover-fill-color: #174EA6;\n",
              "      --disabled-fill-color: #AAA;\n",
              "      --disabled-bg-color: #DDD;\n",
              "  }\n",
              "\n",
              "  [theme=dark] .colab-df-quickchart {\n",
              "      --bg-color: #3B4455;\n",
              "      --fill-color: #D2E3FC;\n",
              "      --hover-bg-color: #434B5C;\n",
              "      --hover-fill-color: #FFFFFF;\n",
              "      --disabled-bg-color: #3B4455;\n",
              "      --disabled-fill-color: #666;\n",
              "  }\n",
              "\n",
              "  .colab-df-quickchart {\n",
              "    background-color: var(--bg-color);\n",
              "    border: none;\n",
              "    border-radius: 50%;\n",
              "    cursor: pointer;\n",
              "    display: none;\n",
              "    fill: var(--fill-color);\n",
              "    height: 32px;\n",
              "    padding: 0;\n",
              "    width: 32px;\n",
              "  }\n",
              "\n",
              "  .colab-df-quickchart:hover {\n",
              "    background-color: var(--hover-bg-color);\n",
              "    box-shadow: 0 1px 2px rgba(60, 64, 67, 0.3), 0 1px 3px 1px rgba(60, 64, 67, 0.15);\n",
              "    fill: var(--button-hover-fill-color);\n",
              "  }\n",
              "\n",
              "  .colab-df-quickchart-complete:disabled,\n",
              "  .colab-df-quickchart-complete:disabled:hover {\n",
              "    background-color: var(--disabled-bg-color);\n",
              "    fill: var(--disabled-fill-color);\n",
              "    box-shadow: none;\n",
              "  }\n",
              "\n",
              "  .colab-df-spinner {\n",
              "    border: 2px solid var(--fill-color);\n",
              "    border-color: transparent;\n",
              "    border-bottom-color: var(--fill-color);\n",
              "    animation:\n",
              "      spin 1s steps(1) infinite;\n",
              "  }\n",
              "\n",
              "  @keyframes spin {\n",
              "    0% {\n",
              "      border-color: transparent;\n",
              "      border-bottom-color: var(--fill-color);\n",
              "      border-left-color: var(--fill-color);\n",
              "    }\n",
              "    20% {\n",
              "      border-color: transparent;\n",
              "      border-left-color: var(--fill-color);\n",
              "      border-top-color: var(--fill-color);\n",
              "    }\n",
              "    30% {\n",
              "      border-color: transparent;\n",
              "      border-left-color: var(--fill-color);\n",
              "      border-top-color: var(--fill-color);\n",
              "      border-right-color: var(--fill-color);\n",
              "    }\n",
              "    40% {\n",
              "      border-color: transparent;\n",
              "      border-right-color: var(--fill-color);\n",
              "      border-top-color: var(--fill-color);\n",
              "    }\n",
              "    60% {\n",
              "      border-color: transparent;\n",
              "      border-right-color: var(--fill-color);\n",
              "    }\n",
              "    80% {\n",
              "      border-color: transparent;\n",
              "      border-right-color: var(--fill-color);\n",
              "      border-bottom-color: var(--fill-color);\n",
              "    }\n",
              "    90% {\n",
              "      border-color: transparent;\n",
              "      border-bottom-color: var(--fill-color);\n",
              "    }\n",
              "  }\n",
              "</style>\n",
              "\n",
              "  <script>\n",
              "    async function quickchart(key) {\n",
              "      const quickchartButtonEl =\n",
              "        document.querySelector('#' + key + ' button');\n",
              "      quickchartButtonEl.disabled = true;  // To prevent multiple clicks.\n",
              "      quickchartButtonEl.classList.add('colab-df-spinner');\n",
              "      try {\n",
              "        const charts = await google.colab.kernel.invokeFunction(\n",
              "            'suggestCharts', [key], {});\n",
              "      } catch (error) {\n",
              "        console.error('Error during call to suggestCharts:', error);\n",
              "      }\n",
              "      quickchartButtonEl.classList.remove('colab-df-spinner');\n",
              "      quickchartButtonEl.classList.add('colab-df-quickchart-complete');\n",
              "    }\n",
              "    (() => {\n",
              "      let quickchartButtonEl =\n",
              "        document.querySelector('#df-10519563-0cc4-44d7-a434-0aa729bc07f9 button');\n",
              "      quickchartButtonEl.style.display =\n",
              "        google.colab.kernel.accessAllowed ? 'block' : 'none';\n",
              "    })();\n",
              "  </script>\n",
              "</div>\n",
              "    </div>\n",
              "  </div>\n"
            ],
            "application/vnd.google.colaboratory.intrinsic+json": {
              "type": "dataframe",
              "repr_error": "0"
            }
          },
          "metadata": {},
          "execution_count": 5
        }
      ],
      "source": [
        "fix_info = pd.read_csv('https://raw.githubusercontent.com/a-milenkin/Competitive_Data_Science/main/data/fix_info.csv')\n",
        "fix_info.sample(5)"
      ]
    },
    {
      "cell_type": "markdown",
      "metadata": {
        "id": "H01U-FFAbuhv"
      },
      "source": [
        "- `worker_id` / `car_id` — идентификатор работника и машины\n",
        "- `work_type` / `work_duration` — тип и длительность (в часах) проводимой работы\n",
        "- `destroy_degree` — степень износа/поврежденности машины в случае поломки\n",
        "- `fix_date` — время начала ремонта (снятия машины с линии)"
      ]
    },
    {
      "cell_type": "markdown",
      "metadata": {
        "id": "qY-lAjlhbuhv"
      },
      "source": [
        "# Домашнее задание 1. Генерация и фильтрация признаков"
      ]
    },
    {
      "cell_type": "markdown",
      "metadata": {
        "id": "9E2N9m5Cbuhv"
      },
      "source": [
        "<center> <img src=\"https://ucarecdn.com/bf4c772d-b67a-42ae-a48b-cfd83910b0a2/\" width=700>"
      ]
    },
    {
      "cell_type": "markdown",
      "metadata": {
        "id": "HaroHWSBbuhw"
      },
      "source": [
        "<div class=\"alert alert-info\">\n",
        "\n",
        "**Цель блока** — сгенерировать признаки из дополнительных датасетов и добавить их к основному датасету, произвести фильтрацию признаков."
      ]
    },
    {
      "cell_type": "markdown",
      "metadata": {
        "id": "wev7E_qlbuhw"
      },
      "source": [
        "    \n",
        "## Задание 1. Генерация признаков из дополнительных датасетов (6 баллов)"
      ]
    },
    {
      "cell_type": "markdown",
      "metadata": {
        "id": "CSX4pA5Kbuhw"
      },
      "source": [
        "<div class=\"alert alert-info\">\n",
        "\n",
        "1. Возьмите датасет `rides_info` с информацией о поездках и проведите группировку по каждой машине отдельно.\n",
        "\n",
        "2. Для каждой машины (то есть для каждого `car_id`) подсчитайте несколько признаков:\n",
        "  - минимальный рейтинг за все поездки;\n",
        "  - средний рейтинг за все поездки;\n",
        "  - общее количество километров, которое машина проехала;\n",
        "  - максимальная скорость;\n",
        "  - общее количество поездок для каждой машины.\n",
        "\n",
        "3. Добавьте минимум 3 признака на свой выбор.\n",
        "\n",
        "4. Сделайте соединение таблиц — вспомните про методы соединения и выберите подходящий для этого случая.\n",
        "\n",
        "5. Подключите информацию про водителей (`driver_info`) и про ремонт машин (`fix_info`). Добавьте минимум 3 любых признака с каждого датасета.\n",
        "\n",
        "\n",
        "<h4> Критерии оценивания </h4>\n",
        "    \n",
        "- Добавлены 5 обязательных и минимум 3 любых признака из датасета `rides_info` — 2 балла.\n",
        "- Добавлены минимум 3 любых признака из датасета `driver_info` — 2 балла.\n",
        "- Добавлены минимум 3 любых признака из датасета `fix_info` — 2 балла.\n",
        "\n",
        "</div>"
      ]
    },
    {
      "cell_type": "markdown",
      "metadata": {
        "id": "kfAs9dZHbuhw"
      },
      "source": [
        "<div class=\"alert alert-success\">\n",
        "    \n",
        "<h4> Советы по Feature Engineering</h4>\n",
        "    \n",
        "- Начинайте с сырых данных.\n",
        "- Используйте все доступные данные. Покрывайте признаками всю имеющуюся информацию в данных.\n",
        "- Формулируйте предположения: от чего зависит таргет?\n",
        "- Смотрите визуально на классы/ошибки и делайте предположения. Какие полезны?\n",
        "- Помните, что слишком много признаков может быть вредно. Потом придется отфильтровывать.\n",
        "    \n",
        "<h4> Полезные источники </h4>\n",
        "    \n",
        "- Занятие про Feature Engineering.\n",
        "- Занятие про Feature Selection.\n",
        "- [Max Kuhn and Kjell Johnson. Feature Engineering and Selection: A Practical Approach for Predictive Models](http://www.feat.engineering/)."
      ]
    },
    {
      "cell_type": "markdown",
      "metadata": {
        "id": "n5pkVaw0eszI"
      },
      "source": [
        "### Пример расчета признака"
      ]
    },
    {
      "cell_type": "code",
      "execution_count": 6,
      "metadata": {
        "colab": {
          "base_uri": "https://localhost:8080/",
          "height": 429
        },
        "id": "kIH9EdaaAitJ",
        "outputId": "05bf2f1f-971e-4cf5-ee64-3b86e520c7bc"
      },
      "outputs": [
        {
          "output_type": "execute_result",
          "data": {
            "text/plain": [
              "       car_id           model car_type fuel_type  car_rating  year_to_start  \\\n",
              "0  y13744087j  Kia Rio X-line  economy    petrol        3.78           2015   \n",
              "1  y13744087j  Kia Rio X-line  economy    petrol        3.78           2015   \n",
              "2  y13744087j  Kia Rio X-line  economy    petrol        3.78           2015   \n",
              "3  y13744087j  Kia Rio X-line  economy    petrol        3.78           2015   \n",
              "4  y13744087j  Kia Rio X-line  economy    petrol        3.78           2015   \n",
              "\n",
              "   riders  year_to_work  target_reg target_class  ...  avg_ride_cost  \\\n",
              "0   76163          2021      108.53  another_bug  ...   20106.873563   \n",
              "1   76163          2021      108.53  another_bug  ...   20106.873563   \n",
              "2   76163          2021      108.53  another_bug  ...   20106.873563   \n",
              "3   76163          2021      108.53  another_bug  ...   20106.873563   \n",
              "4   76163          2021      108.53  another_bug  ...   20106.873563   \n",
              "\n",
              "   avg_speed  mean_distance     user_id  age  user_rating  user_rides  \\\n",
              "0   44.66092   69777.646008  n14703870u   38          7.4         268   \n",
              "1   44.66092   69777.646008  n14703870u   38          7.4         268   \n",
              "2   44.66092   69777.646008  n14703870u   38          7.4         268   \n",
              "3   44.66092   69777.646008  n14703870u   38          7.4         268   \n",
              "4   44.66092   69777.646008  n14703870u   38          7.4         268   \n",
              "\n",
              "   worker_id         fix_date  work_type  \n",
              "0         PG   2019-8-10 9:29  reparking  \n",
              "1         HH   2019-2-9 10:49     repair  \n",
              "2         UF   2020-4-8 10:23  reparking  \n",
              "3         LC  2019-5-23 10:42  reparking  \n",
              "4         AF  2020-7-24 18:32     repair  \n",
              "\n",
              "[5 rows x 25 columns]"
            ],
            "text/html": [
              "\n",
              "  <div id=\"df-db764259-c9d8-45ee-8b0d-1b8831bc9821\" class=\"colab-df-container\">\n",
              "    <div>\n",
              "<style scoped>\n",
              "    .dataframe tbody tr th:only-of-type {\n",
              "        vertical-align: middle;\n",
              "    }\n",
              "\n",
              "    .dataframe tbody tr th {\n",
              "        vertical-align: top;\n",
              "    }\n",
              "\n",
              "    .dataframe thead th {\n",
              "        text-align: right;\n",
              "    }\n",
              "</style>\n",
              "<table border=\"1\" class=\"dataframe\">\n",
              "  <thead>\n",
              "    <tr style=\"text-align: right;\">\n",
              "      <th></th>\n",
              "      <th>car_id</th>\n",
              "      <th>model</th>\n",
              "      <th>car_type</th>\n",
              "      <th>fuel_type</th>\n",
              "      <th>car_rating</th>\n",
              "      <th>year_to_start</th>\n",
              "      <th>riders</th>\n",
              "      <th>year_to_work</th>\n",
              "      <th>target_reg</th>\n",
              "      <th>target_class</th>\n",
              "      <th>...</th>\n",
              "      <th>avg_ride_cost</th>\n",
              "      <th>avg_speed</th>\n",
              "      <th>mean_distance</th>\n",
              "      <th>user_id</th>\n",
              "      <th>age</th>\n",
              "      <th>user_rating</th>\n",
              "      <th>user_rides</th>\n",
              "      <th>worker_id</th>\n",
              "      <th>fix_date</th>\n",
              "      <th>work_type</th>\n",
              "    </tr>\n",
              "  </thead>\n",
              "  <tbody>\n",
              "    <tr>\n",
              "      <th>0</th>\n",
              "      <td>y13744087j</td>\n",
              "      <td>Kia Rio X-line</td>\n",
              "      <td>economy</td>\n",
              "      <td>petrol</td>\n",
              "      <td>3.78</td>\n",
              "      <td>2015</td>\n",
              "      <td>76163</td>\n",
              "      <td>2021</td>\n",
              "      <td>108.53</td>\n",
              "      <td>another_bug</td>\n",
              "      <td>...</td>\n",
              "      <td>20106.873563</td>\n",
              "      <td>44.66092</td>\n",
              "      <td>69777.646008</td>\n",
              "      <td>n14703870u</td>\n",
              "      <td>38</td>\n",
              "      <td>7.4</td>\n",
              "      <td>268</td>\n",
              "      <td>PG</td>\n",
              "      <td>2019-8-10 9:29</td>\n",
              "      <td>reparking</td>\n",
              "    </tr>\n",
              "    <tr>\n",
              "      <th>1</th>\n",
              "      <td>y13744087j</td>\n",
              "      <td>Kia Rio X-line</td>\n",
              "      <td>economy</td>\n",
              "      <td>petrol</td>\n",
              "      <td>3.78</td>\n",
              "      <td>2015</td>\n",
              "      <td>76163</td>\n",
              "      <td>2021</td>\n",
              "      <td>108.53</td>\n",
              "      <td>another_bug</td>\n",
              "      <td>...</td>\n",
              "      <td>20106.873563</td>\n",
              "      <td>44.66092</td>\n",
              "      <td>69777.646008</td>\n",
              "      <td>n14703870u</td>\n",
              "      <td>38</td>\n",
              "      <td>7.4</td>\n",
              "      <td>268</td>\n",
              "      <td>HH</td>\n",
              "      <td>2019-2-9 10:49</td>\n",
              "      <td>repair</td>\n",
              "    </tr>\n",
              "    <tr>\n",
              "      <th>2</th>\n",
              "      <td>y13744087j</td>\n",
              "      <td>Kia Rio X-line</td>\n",
              "      <td>economy</td>\n",
              "      <td>petrol</td>\n",
              "      <td>3.78</td>\n",
              "      <td>2015</td>\n",
              "      <td>76163</td>\n",
              "      <td>2021</td>\n",
              "      <td>108.53</td>\n",
              "      <td>another_bug</td>\n",
              "      <td>...</td>\n",
              "      <td>20106.873563</td>\n",
              "      <td>44.66092</td>\n",
              "      <td>69777.646008</td>\n",
              "      <td>n14703870u</td>\n",
              "      <td>38</td>\n",
              "      <td>7.4</td>\n",
              "      <td>268</td>\n",
              "      <td>UF</td>\n",
              "      <td>2020-4-8 10:23</td>\n",
              "      <td>reparking</td>\n",
              "    </tr>\n",
              "    <tr>\n",
              "      <th>3</th>\n",
              "      <td>y13744087j</td>\n",
              "      <td>Kia Rio X-line</td>\n",
              "      <td>economy</td>\n",
              "      <td>petrol</td>\n",
              "      <td>3.78</td>\n",
              "      <td>2015</td>\n",
              "      <td>76163</td>\n",
              "      <td>2021</td>\n",
              "      <td>108.53</td>\n",
              "      <td>another_bug</td>\n",
              "      <td>...</td>\n",
              "      <td>20106.873563</td>\n",
              "      <td>44.66092</td>\n",
              "      <td>69777.646008</td>\n",
              "      <td>n14703870u</td>\n",
              "      <td>38</td>\n",
              "      <td>7.4</td>\n",
              "      <td>268</td>\n",
              "      <td>LC</td>\n",
              "      <td>2019-5-23 10:42</td>\n",
              "      <td>reparking</td>\n",
              "    </tr>\n",
              "    <tr>\n",
              "      <th>4</th>\n",
              "      <td>y13744087j</td>\n",
              "      <td>Kia Rio X-line</td>\n",
              "      <td>economy</td>\n",
              "      <td>petrol</td>\n",
              "      <td>3.78</td>\n",
              "      <td>2015</td>\n",
              "      <td>76163</td>\n",
              "      <td>2021</td>\n",
              "      <td>108.53</td>\n",
              "      <td>another_bug</td>\n",
              "      <td>...</td>\n",
              "      <td>20106.873563</td>\n",
              "      <td>44.66092</td>\n",
              "      <td>69777.646008</td>\n",
              "      <td>n14703870u</td>\n",
              "      <td>38</td>\n",
              "      <td>7.4</td>\n",
              "      <td>268</td>\n",
              "      <td>AF</td>\n",
              "      <td>2020-7-24 18:32</td>\n",
              "      <td>repair</td>\n",
              "    </tr>\n",
              "  </tbody>\n",
              "</table>\n",
              "<p>5 rows × 25 columns</p>\n",
              "</div>\n",
              "    <div class=\"colab-df-buttons\">\n",
              "\n",
              "  <div class=\"colab-df-container\">\n",
              "    <button class=\"colab-df-convert\" onclick=\"convertToInteractive('df-db764259-c9d8-45ee-8b0d-1b8831bc9821')\"\n",
              "            title=\"Convert this dataframe to an interactive table.\"\n",
              "            style=\"display:none;\">\n",
              "\n",
              "  <svg xmlns=\"http://www.w3.org/2000/svg\" height=\"24px\" viewBox=\"0 -960 960 960\">\n",
              "    <path d=\"M120-120v-720h720v720H120Zm60-500h600v-160H180v160Zm220 220h160v-160H400v160Zm0 220h160v-160H400v160ZM180-400h160v-160H180v160Zm440 0h160v-160H620v160ZM180-180h160v-160H180v160Zm440 0h160v-160H620v160Z\"/>\n",
              "  </svg>\n",
              "    </button>\n",
              "\n",
              "  <style>\n",
              "    .colab-df-container {\n",
              "      display:flex;\n",
              "      gap: 12px;\n",
              "    }\n",
              "\n",
              "    .colab-df-convert {\n",
              "      background-color: #E8F0FE;\n",
              "      border: none;\n",
              "      border-radius: 50%;\n",
              "      cursor: pointer;\n",
              "      display: none;\n",
              "      fill: #1967D2;\n",
              "      height: 32px;\n",
              "      padding: 0 0 0 0;\n",
              "      width: 32px;\n",
              "    }\n",
              "\n",
              "    .colab-df-convert:hover {\n",
              "      background-color: #E2EBFA;\n",
              "      box-shadow: 0px 1px 2px rgba(60, 64, 67, 0.3), 0px 1px 3px 1px rgba(60, 64, 67, 0.15);\n",
              "      fill: #174EA6;\n",
              "    }\n",
              "\n",
              "    .colab-df-buttons div {\n",
              "      margin-bottom: 4px;\n",
              "    }\n",
              "\n",
              "    [theme=dark] .colab-df-convert {\n",
              "      background-color: #3B4455;\n",
              "      fill: #D2E3FC;\n",
              "    }\n",
              "\n",
              "    [theme=dark] .colab-df-convert:hover {\n",
              "      background-color: #434B5C;\n",
              "      box-shadow: 0px 1px 3px 1px rgba(0, 0, 0, 0.15);\n",
              "      filter: drop-shadow(0px 1px 2px rgba(0, 0, 0, 0.3));\n",
              "      fill: #FFFFFF;\n",
              "    }\n",
              "  </style>\n",
              "\n",
              "    <script>\n",
              "      const buttonEl =\n",
              "        document.querySelector('#df-db764259-c9d8-45ee-8b0d-1b8831bc9821 button.colab-df-convert');\n",
              "      buttonEl.style.display =\n",
              "        google.colab.kernel.accessAllowed ? 'block' : 'none';\n",
              "\n",
              "      async function convertToInteractive(key) {\n",
              "        const element = document.querySelector('#df-db764259-c9d8-45ee-8b0d-1b8831bc9821');\n",
              "        const dataTable =\n",
              "          await google.colab.kernel.invokeFunction('convertToInteractive',\n",
              "                                                    [key], {});\n",
              "        if (!dataTable) return;\n",
              "\n",
              "        const docLinkHtml = 'Like what you see? Visit the ' +\n",
              "          '<a target=\"_blank\" href=https://colab.research.google.com/notebooks/data_table.ipynb>data table notebook</a>'\n",
              "          + ' to learn more about interactive tables.';\n",
              "        element.innerHTML = '';\n",
              "        dataTable['output_type'] = 'display_data';\n",
              "        await google.colab.output.renderOutput(dataTable, element);\n",
              "        const docLink = document.createElement('div');\n",
              "        docLink.innerHTML = docLinkHtml;\n",
              "        element.appendChild(docLink);\n",
              "      }\n",
              "    </script>\n",
              "  </div>\n",
              "\n",
              "\n",
              "<div id=\"df-5346e1a7-2beb-41b9-b293-ff8be8b7c8b0\">\n",
              "  <button class=\"colab-df-quickchart\" onclick=\"quickchart('df-5346e1a7-2beb-41b9-b293-ff8be8b7c8b0')\"\n",
              "            title=\"Suggest charts\"\n",
              "            style=\"display:none;\">\n",
              "\n",
              "<svg xmlns=\"http://www.w3.org/2000/svg\" height=\"24px\"viewBox=\"0 0 24 24\"\n",
              "     width=\"24px\">\n",
              "    <g>\n",
              "        <path d=\"M19 3H5c-1.1 0-2 .9-2 2v14c0 1.1.9 2 2 2h14c1.1 0 2-.9 2-2V5c0-1.1-.9-2-2-2zM9 17H7v-7h2v7zm4 0h-2V7h2v10zm4 0h-2v-4h2v4z\"/>\n",
              "    </g>\n",
              "</svg>\n",
              "  </button>\n",
              "\n",
              "<style>\n",
              "  .colab-df-quickchart {\n",
              "      --bg-color: #E8F0FE;\n",
              "      --fill-color: #1967D2;\n",
              "      --hover-bg-color: #E2EBFA;\n",
              "      --hover-fill-color: #174EA6;\n",
              "      --disabled-fill-color: #AAA;\n",
              "      --disabled-bg-color: #DDD;\n",
              "  }\n",
              "\n",
              "  [theme=dark] .colab-df-quickchart {\n",
              "      --bg-color: #3B4455;\n",
              "      --fill-color: #D2E3FC;\n",
              "      --hover-bg-color: #434B5C;\n",
              "      --hover-fill-color: #FFFFFF;\n",
              "      --disabled-bg-color: #3B4455;\n",
              "      --disabled-fill-color: #666;\n",
              "  }\n",
              "\n",
              "  .colab-df-quickchart {\n",
              "    background-color: var(--bg-color);\n",
              "    border: none;\n",
              "    border-radius: 50%;\n",
              "    cursor: pointer;\n",
              "    display: none;\n",
              "    fill: var(--fill-color);\n",
              "    height: 32px;\n",
              "    padding: 0;\n",
              "    width: 32px;\n",
              "  }\n",
              "\n",
              "  .colab-df-quickchart:hover {\n",
              "    background-color: var(--hover-bg-color);\n",
              "    box-shadow: 0 1px 2px rgba(60, 64, 67, 0.3), 0 1px 3px 1px rgba(60, 64, 67, 0.15);\n",
              "    fill: var(--button-hover-fill-color);\n",
              "  }\n",
              "\n",
              "  .colab-df-quickchart-complete:disabled,\n",
              "  .colab-df-quickchart-complete:disabled:hover {\n",
              "    background-color: var(--disabled-bg-color);\n",
              "    fill: var(--disabled-fill-color);\n",
              "    box-shadow: none;\n",
              "  }\n",
              "\n",
              "  .colab-df-spinner {\n",
              "    border: 2px solid var(--fill-color);\n",
              "    border-color: transparent;\n",
              "    border-bottom-color: var(--fill-color);\n",
              "    animation:\n",
              "      spin 1s steps(1) infinite;\n",
              "  }\n",
              "\n",
              "  @keyframes spin {\n",
              "    0% {\n",
              "      border-color: transparent;\n",
              "      border-bottom-color: var(--fill-color);\n",
              "      border-left-color: var(--fill-color);\n",
              "    }\n",
              "    20% {\n",
              "      border-color: transparent;\n",
              "      border-left-color: var(--fill-color);\n",
              "      border-top-color: var(--fill-color);\n",
              "    }\n",
              "    30% {\n",
              "      border-color: transparent;\n",
              "      border-left-color: var(--fill-color);\n",
              "      border-top-color: var(--fill-color);\n",
              "      border-right-color: var(--fill-color);\n",
              "    }\n",
              "    40% {\n",
              "      border-color: transparent;\n",
              "      border-right-color: var(--fill-color);\n",
              "      border-top-color: var(--fill-color);\n",
              "    }\n",
              "    60% {\n",
              "      border-color: transparent;\n",
              "      border-right-color: var(--fill-color);\n",
              "    }\n",
              "    80% {\n",
              "      border-color: transparent;\n",
              "      border-right-color: var(--fill-color);\n",
              "      border-bottom-color: var(--fill-color);\n",
              "    }\n",
              "    90% {\n",
              "      border-color: transparent;\n",
              "      border-bottom-color: var(--fill-color);\n",
              "    }\n",
              "  }\n",
              "</style>\n",
              "\n",
              "  <script>\n",
              "    async function quickchart(key) {\n",
              "      const quickchartButtonEl =\n",
              "        document.querySelector('#' + key + ' button');\n",
              "      quickchartButtonEl.disabled = true;  // To prevent multiple clicks.\n",
              "      quickchartButtonEl.classList.add('colab-df-spinner');\n",
              "      try {\n",
              "        const charts = await google.colab.kernel.invokeFunction(\n",
              "            'suggestCharts', [key], {});\n",
              "      } catch (error) {\n",
              "        console.error('Error during call to suggestCharts:', error);\n",
              "      }\n",
              "      quickchartButtonEl.classList.remove('colab-df-spinner');\n",
              "      quickchartButtonEl.classList.add('colab-df-quickchart-complete');\n",
              "    }\n",
              "    (() => {\n",
              "      let quickchartButtonEl =\n",
              "        document.querySelector('#df-5346e1a7-2beb-41b9-b293-ff8be8b7c8b0 button');\n",
              "      quickchartButtonEl.style.display =\n",
              "        google.colab.kernel.accessAllowed ? 'block' : 'none';\n",
              "    })();\n",
              "  </script>\n",
              "</div>\n",
              "    </div>\n",
              "  </div>\n"
            ],
            "application/vnd.google.colaboratory.intrinsic+json": {
              "type": "dataframe",
              "variable_name": "data"
            }
          },
          "metadata": {},
          "execution_count": 6
        }
      ],
      "source": [
        "# Для каждой машины несколько признаков\n",
        "rides_group = rides_info.groupby('car_id', as_index=False).agg(\n",
        "    mean_rating = ('rating', 'mean'),\n",
        "    min_rating = ('rating', 'min'),\n",
        "    all_distance = ('distance', 'sum'),\n",
        "    speed_max = ('speed_max', 'max'),\n",
        "    alL_rides = ('ride_id', 'count'),\n",
        "\n",
        "    # добавляю сразу признаки на свой выбор\n",
        "    avg_ride_cost = ('ride_cost', 'mean'),\n",
        "    avg_speed = ('speed_avg', 'mean'),\n",
        "    mean_distance = ('distance', 'mean'),\n",
        ")\n",
        "\n",
        "# Cоединение таблиц\n",
        "data = pd.merge(car_train, rides_group, on='car_id')\n",
        "\n",
        "# Подключение информации про водителей и про ремонт машин\n",
        "data = pd.merge(data, rides_info[['car_id', 'user_id']], on='car_id')\n",
        "data = pd.merge(data, driver_info[['user_id', 'age', 'user_rating', 'user_rides']], on='user_id')\n",
        "data = pd.merge(data, fix_info[['car_id', 'worker_id', 'fix_date', 'work_type']], on='car_id')\n",
        "\n",
        "data.head()"
      ]
    },
    {
      "cell_type": "markdown",
      "metadata": {
        "id": "Q6Fa0zupbuhw"
      },
      "source": [
        "## Задание 2. Применение методов фильтрации признаков (4 балла)\n",
        "\n",
        "<center> <img src=\"https://ucarecdn.com/d1b4bc78-fd04-44fb-bdbf-0a63355b7384/\" width=700>"
      ]
    },
    {
      "cell_type": "markdown",
      "metadata": {
        "id": "c910L9jubuhx"
      },
      "source": [
        "1. Выберите и примените любые 3 (можно и больше) метода фильтрации, которые указаны выше или в ноутбуке по фильтрации из полезных ссылок.\n",
        "2. Проинтерпретируйте результаты и сделайте выводы.\n",
        "\n",
        "\n",
        "<h4> Критерии оценивания </h4>\n",
        "    \n",
        "- Применены методы фильтрации — 1 балл за каждый метод, максимум 3 балла.\n",
        "- Сделаны выводы на основе примененных методов —1 балл.\n",
        "</div>"
      ]
    },
    {
      "cell_type": "markdown",
      "metadata": {
        "id": "9flWgKVxf9Q1"
      },
      "source": [
        "### Советы по Feature Selection"
      ]
    },
    {
      "cell_type": "markdown",
      "metadata": {
        "id": "vYr9VNS5buhw"
      },
      "source": [
        "<div class=\"alert alert-info\">\n",
        "\n",
        "<h3><center>Зачем отбирать признаки</center></h3>\n",
        "    \n",
        "**Основные причины**:\n",
        "    \n",
        "- Главная причина: с увеличением количества признаков часто падает точность предсказания модели, а некоторые модели и вовсе перестают адекватно работать. Так происходит, если в данных большое количество мусорных фичей (почти не коррелирующих с таргетом).\n",
        "\n",
        "- Если фичей очень много, то данные перестают помещаться в память и существенно увеличивают время обучения модели, особенно если мы тестируем несколько алгоритмов или ансамбль. Также важно учитывать, что платформы имеют ограничения на длительность одной сессии (в Kaggle — 12 часов) и лимиты по потребляемой памяти.\n",
        "\n",
        "- Даже если точность не снижается, есть риск, что модель опирается на шумные фичи, что снизит стабильность прогноза на приватной выборке.\n"
      ]
    },
    {
      "cell_type": "markdown",
      "metadata": {
        "id": "P4JQwUS3buhw"
      },
      "source": [
        "<b>Что удалить сразу:</b>\n",
        "    \n",
        "- константы;\n",
        "- уникальные значения (в том числе в тесте; как правило, это ID-шники по типу `car_id`).\n",
        "    \n",
        "<b>Какие методы использовать:</b>\n",
        "    \n",
        "- `Линейная корреляция`.\n",
        "- `Phik` — тоже корреляция, но на стероидах ([туториал на Medium](https://towardsdatascience.com/phik-k-get-familiar-with-the-latest-correlation-coefficient-9ba0032b37e7)).\n",
        "- `Permutation importance` (из `scikit-learn`).\n",
        "- `SHAP values` (из библиотеки `shap`).\n",
        "- `CatBoost Feature Selection` (рекурсивные методы).\n",
        "    "
      ]
    },
    {
      "cell_type": "code",
      "execution_count": 7,
      "metadata": {
        "colab": {
          "base_uri": "https://localhost:8080/",
          "height": 429
        },
        "id": "UT2ndUSHbuhx",
        "outputId": "8fcaed77-e184-4287-a624-aa8da41b4450"
      },
      "outputs": [
        {
          "output_type": "execute_result",
          "data": {
            "text/plain": [
              "            model car_type fuel_type  car_rating  year_to_start  riders  \\\n",
              "0  Kia Rio X-line  economy    petrol        3.78           2015   76163   \n",
              "1  Kia Rio X-line  economy    petrol        3.78           2015   76163   \n",
              "2  Kia Rio X-line  economy    petrol        3.78           2015   76163   \n",
              "3  Kia Rio X-line  economy    petrol        3.78           2015   76163   \n",
              "4  Kia Rio X-line  economy    petrol        3.78           2015   76163   \n",
              "\n",
              "   year_to_work  target_reg target_class  mean_rating  ...  all_distance  \\\n",
              "0          2021      108.53  another_bug     4.737759  ...  1.214131e+07   \n",
              "1          2021      108.53  another_bug     4.737759  ...  1.214131e+07   \n",
              "2          2021      108.53  another_bug     4.737759  ...  1.214131e+07   \n",
              "3          2021      108.53  another_bug     4.737759  ...  1.214131e+07   \n",
              "4          2021      108.53  another_bug     4.737759  ...  1.214131e+07   \n",
              "\n",
              "    speed_max  avg_ride_cost  avg_speed  mean_distance  age  user_rating  \\\n",
              "0  180.855726   20106.873563   44.66092   69777.646008   38          7.4   \n",
              "1  180.855726   20106.873563   44.66092   69777.646008   38          7.4   \n",
              "2  180.855726   20106.873563   44.66092   69777.646008   38          7.4   \n",
              "3  180.855726   20106.873563   44.66092   69777.646008   38          7.4   \n",
              "4  180.855726   20106.873563   44.66092   69777.646008   38          7.4   \n",
              "\n",
              "   user_rides         fix_date  work_type  \n",
              "0         268   2019-8-10 9:29  reparking  \n",
              "1         268   2019-2-9 10:49     repair  \n",
              "2         268   2020-4-8 10:23  reparking  \n",
              "3         268  2019-5-23 10:42  reparking  \n",
              "4         268  2020-7-24 18:32     repair  \n",
              "\n",
              "[5 rows x 21 columns]"
            ],
            "text/html": [
              "\n",
              "  <div id=\"df-812edcb1-7682-4a0c-b918-b3b1f85cb558\" class=\"colab-df-container\">\n",
              "    <div>\n",
              "<style scoped>\n",
              "    .dataframe tbody tr th:only-of-type {\n",
              "        vertical-align: middle;\n",
              "    }\n",
              "\n",
              "    .dataframe tbody tr th {\n",
              "        vertical-align: top;\n",
              "    }\n",
              "\n",
              "    .dataframe thead th {\n",
              "        text-align: right;\n",
              "    }\n",
              "</style>\n",
              "<table border=\"1\" class=\"dataframe\">\n",
              "  <thead>\n",
              "    <tr style=\"text-align: right;\">\n",
              "      <th></th>\n",
              "      <th>model</th>\n",
              "      <th>car_type</th>\n",
              "      <th>fuel_type</th>\n",
              "      <th>car_rating</th>\n",
              "      <th>year_to_start</th>\n",
              "      <th>riders</th>\n",
              "      <th>year_to_work</th>\n",
              "      <th>target_reg</th>\n",
              "      <th>target_class</th>\n",
              "      <th>mean_rating</th>\n",
              "      <th>...</th>\n",
              "      <th>all_distance</th>\n",
              "      <th>speed_max</th>\n",
              "      <th>avg_ride_cost</th>\n",
              "      <th>avg_speed</th>\n",
              "      <th>mean_distance</th>\n",
              "      <th>age</th>\n",
              "      <th>user_rating</th>\n",
              "      <th>user_rides</th>\n",
              "      <th>fix_date</th>\n",
              "      <th>work_type</th>\n",
              "    </tr>\n",
              "  </thead>\n",
              "  <tbody>\n",
              "    <tr>\n",
              "      <th>0</th>\n",
              "      <td>Kia Rio X-line</td>\n",
              "      <td>economy</td>\n",
              "      <td>petrol</td>\n",
              "      <td>3.78</td>\n",
              "      <td>2015</td>\n",
              "      <td>76163</td>\n",
              "      <td>2021</td>\n",
              "      <td>108.53</td>\n",
              "      <td>another_bug</td>\n",
              "      <td>4.737759</td>\n",
              "      <td>...</td>\n",
              "      <td>1.214131e+07</td>\n",
              "      <td>180.855726</td>\n",
              "      <td>20106.873563</td>\n",
              "      <td>44.66092</td>\n",
              "      <td>69777.646008</td>\n",
              "      <td>38</td>\n",
              "      <td>7.4</td>\n",
              "      <td>268</td>\n",
              "      <td>2019-8-10 9:29</td>\n",
              "      <td>reparking</td>\n",
              "    </tr>\n",
              "    <tr>\n",
              "      <th>1</th>\n",
              "      <td>Kia Rio X-line</td>\n",
              "      <td>economy</td>\n",
              "      <td>petrol</td>\n",
              "      <td>3.78</td>\n",
              "      <td>2015</td>\n",
              "      <td>76163</td>\n",
              "      <td>2021</td>\n",
              "      <td>108.53</td>\n",
              "      <td>another_bug</td>\n",
              "      <td>4.737759</td>\n",
              "      <td>...</td>\n",
              "      <td>1.214131e+07</td>\n",
              "      <td>180.855726</td>\n",
              "      <td>20106.873563</td>\n",
              "      <td>44.66092</td>\n",
              "      <td>69777.646008</td>\n",
              "      <td>38</td>\n",
              "      <td>7.4</td>\n",
              "      <td>268</td>\n",
              "      <td>2019-2-9 10:49</td>\n",
              "      <td>repair</td>\n",
              "    </tr>\n",
              "    <tr>\n",
              "      <th>2</th>\n",
              "      <td>Kia Rio X-line</td>\n",
              "      <td>economy</td>\n",
              "      <td>petrol</td>\n",
              "      <td>3.78</td>\n",
              "      <td>2015</td>\n",
              "      <td>76163</td>\n",
              "      <td>2021</td>\n",
              "      <td>108.53</td>\n",
              "      <td>another_bug</td>\n",
              "      <td>4.737759</td>\n",
              "      <td>...</td>\n",
              "      <td>1.214131e+07</td>\n",
              "      <td>180.855726</td>\n",
              "      <td>20106.873563</td>\n",
              "      <td>44.66092</td>\n",
              "      <td>69777.646008</td>\n",
              "      <td>38</td>\n",
              "      <td>7.4</td>\n",
              "      <td>268</td>\n",
              "      <td>2020-4-8 10:23</td>\n",
              "      <td>reparking</td>\n",
              "    </tr>\n",
              "    <tr>\n",
              "      <th>3</th>\n",
              "      <td>Kia Rio X-line</td>\n",
              "      <td>economy</td>\n",
              "      <td>petrol</td>\n",
              "      <td>3.78</td>\n",
              "      <td>2015</td>\n",
              "      <td>76163</td>\n",
              "      <td>2021</td>\n",
              "      <td>108.53</td>\n",
              "      <td>another_bug</td>\n",
              "      <td>4.737759</td>\n",
              "      <td>...</td>\n",
              "      <td>1.214131e+07</td>\n",
              "      <td>180.855726</td>\n",
              "      <td>20106.873563</td>\n",
              "      <td>44.66092</td>\n",
              "      <td>69777.646008</td>\n",
              "      <td>38</td>\n",
              "      <td>7.4</td>\n",
              "      <td>268</td>\n",
              "      <td>2019-5-23 10:42</td>\n",
              "      <td>reparking</td>\n",
              "    </tr>\n",
              "    <tr>\n",
              "      <th>4</th>\n",
              "      <td>Kia Rio X-line</td>\n",
              "      <td>economy</td>\n",
              "      <td>petrol</td>\n",
              "      <td>3.78</td>\n",
              "      <td>2015</td>\n",
              "      <td>76163</td>\n",
              "      <td>2021</td>\n",
              "      <td>108.53</td>\n",
              "      <td>another_bug</td>\n",
              "      <td>4.737759</td>\n",
              "      <td>...</td>\n",
              "      <td>1.214131e+07</td>\n",
              "      <td>180.855726</td>\n",
              "      <td>20106.873563</td>\n",
              "      <td>44.66092</td>\n",
              "      <td>69777.646008</td>\n",
              "      <td>38</td>\n",
              "      <td>7.4</td>\n",
              "      <td>268</td>\n",
              "      <td>2020-7-24 18:32</td>\n",
              "      <td>repair</td>\n",
              "    </tr>\n",
              "  </tbody>\n",
              "</table>\n",
              "<p>5 rows × 21 columns</p>\n",
              "</div>\n",
              "    <div class=\"colab-df-buttons\">\n",
              "\n",
              "  <div class=\"colab-df-container\">\n",
              "    <button class=\"colab-df-convert\" onclick=\"convertToInteractive('df-812edcb1-7682-4a0c-b918-b3b1f85cb558')\"\n",
              "            title=\"Convert this dataframe to an interactive table.\"\n",
              "            style=\"display:none;\">\n",
              "\n",
              "  <svg xmlns=\"http://www.w3.org/2000/svg\" height=\"24px\" viewBox=\"0 -960 960 960\">\n",
              "    <path d=\"M120-120v-720h720v720H120Zm60-500h600v-160H180v160Zm220 220h160v-160H400v160Zm0 220h160v-160H400v160ZM180-400h160v-160H180v160Zm440 0h160v-160H620v160ZM180-180h160v-160H180v160Zm440 0h160v-160H620v160Z\"/>\n",
              "  </svg>\n",
              "    </button>\n",
              "\n",
              "  <style>\n",
              "    .colab-df-container {\n",
              "      display:flex;\n",
              "      gap: 12px;\n",
              "    }\n",
              "\n",
              "    .colab-df-convert {\n",
              "      background-color: #E8F0FE;\n",
              "      border: none;\n",
              "      border-radius: 50%;\n",
              "      cursor: pointer;\n",
              "      display: none;\n",
              "      fill: #1967D2;\n",
              "      height: 32px;\n",
              "      padding: 0 0 0 0;\n",
              "      width: 32px;\n",
              "    }\n",
              "\n",
              "    .colab-df-convert:hover {\n",
              "      background-color: #E2EBFA;\n",
              "      box-shadow: 0px 1px 2px rgba(60, 64, 67, 0.3), 0px 1px 3px 1px rgba(60, 64, 67, 0.15);\n",
              "      fill: #174EA6;\n",
              "    }\n",
              "\n",
              "    .colab-df-buttons div {\n",
              "      margin-bottom: 4px;\n",
              "    }\n",
              "\n",
              "    [theme=dark] .colab-df-convert {\n",
              "      background-color: #3B4455;\n",
              "      fill: #D2E3FC;\n",
              "    }\n",
              "\n",
              "    [theme=dark] .colab-df-convert:hover {\n",
              "      background-color: #434B5C;\n",
              "      box-shadow: 0px 1px 3px 1px rgba(0, 0, 0, 0.15);\n",
              "      filter: drop-shadow(0px 1px 2px rgba(0, 0, 0, 0.3));\n",
              "      fill: #FFFFFF;\n",
              "    }\n",
              "  </style>\n",
              "\n",
              "    <script>\n",
              "      const buttonEl =\n",
              "        document.querySelector('#df-812edcb1-7682-4a0c-b918-b3b1f85cb558 button.colab-df-convert');\n",
              "      buttonEl.style.display =\n",
              "        google.colab.kernel.accessAllowed ? 'block' : 'none';\n",
              "\n",
              "      async function convertToInteractive(key) {\n",
              "        const element = document.querySelector('#df-812edcb1-7682-4a0c-b918-b3b1f85cb558');\n",
              "        const dataTable =\n",
              "          await google.colab.kernel.invokeFunction('convertToInteractive',\n",
              "                                                    [key], {});\n",
              "        if (!dataTable) return;\n",
              "\n",
              "        const docLinkHtml = 'Like what you see? Visit the ' +\n",
              "          '<a target=\"_blank\" href=https://colab.research.google.com/notebooks/data_table.ipynb>data table notebook</a>'\n",
              "          + ' to learn more about interactive tables.';\n",
              "        element.innerHTML = '';\n",
              "        dataTable['output_type'] = 'display_data';\n",
              "        await google.colab.output.renderOutput(dataTable, element);\n",
              "        const docLink = document.createElement('div');\n",
              "        docLink.innerHTML = docLinkHtml;\n",
              "        element.appendChild(docLink);\n",
              "      }\n",
              "    </script>\n",
              "  </div>\n",
              "\n",
              "\n",
              "<div id=\"df-938ff1a7-cb4a-4b6e-a6c7-983698a18400\">\n",
              "  <button class=\"colab-df-quickchart\" onclick=\"quickchart('df-938ff1a7-cb4a-4b6e-a6c7-983698a18400')\"\n",
              "            title=\"Suggest charts\"\n",
              "            style=\"display:none;\">\n",
              "\n",
              "<svg xmlns=\"http://www.w3.org/2000/svg\" height=\"24px\"viewBox=\"0 0 24 24\"\n",
              "     width=\"24px\">\n",
              "    <g>\n",
              "        <path d=\"M19 3H5c-1.1 0-2 .9-2 2v14c0 1.1.9 2 2 2h14c1.1 0 2-.9 2-2V5c0-1.1-.9-2-2-2zM9 17H7v-7h2v7zm4 0h-2V7h2v10zm4 0h-2v-4h2v4z\"/>\n",
              "    </g>\n",
              "</svg>\n",
              "  </button>\n",
              "\n",
              "<style>\n",
              "  .colab-df-quickchart {\n",
              "      --bg-color: #E8F0FE;\n",
              "      --fill-color: #1967D2;\n",
              "      --hover-bg-color: #E2EBFA;\n",
              "      --hover-fill-color: #174EA6;\n",
              "      --disabled-fill-color: #AAA;\n",
              "      --disabled-bg-color: #DDD;\n",
              "  }\n",
              "\n",
              "  [theme=dark] .colab-df-quickchart {\n",
              "      --bg-color: #3B4455;\n",
              "      --fill-color: #D2E3FC;\n",
              "      --hover-bg-color: #434B5C;\n",
              "      --hover-fill-color: #FFFFFF;\n",
              "      --disabled-bg-color: #3B4455;\n",
              "      --disabled-fill-color: #666;\n",
              "  }\n",
              "\n",
              "  .colab-df-quickchart {\n",
              "    background-color: var(--bg-color);\n",
              "    border: none;\n",
              "    border-radius: 50%;\n",
              "    cursor: pointer;\n",
              "    display: none;\n",
              "    fill: var(--fill-color);\n",
              "    height: 32px;\n",
              "    padding: 0;\n",
              "    width: 32px;\n",
              "  }\n",
              "\n",
              "  .colab-df-quickchart:hover {\n",
              "    background-color: var(--hover-bg-color);\n",
              "    box-shadow: 0 1px 2px rgba(60, 64, 67, 0.3), 0 1px 3px 1px rgba(60, 64, 67, 0.15);\n",
              "    fill: var(--button-hover-fill-color);\n",
              "  }\n",
              "\n",
              "  .colab-df-quickchart-complete:disabled,\n",
              "  .colab-df-quickchart-complete:disabled:hover {\n",
              "    background-color: var(--disabled-bg-color);\n",
              "    fill: var(--disabled-fill-color);\n",
              "    box-shadow: none;\n",
              "  }\n",
              "\n",
              "  .colab-df-spinner {\n",
              "    border: 2px solid var(--fill-color);\n",
              "    border-color: transparent;\n",
              "    border-bottom-color: var(--fill-color);\n",
              "    animation:\n",
              "      spin 1s steps(1) infinite;\n",
              "  }\n",
              "\n",
              "  @keyframes spin {\n",
              "    0% {\n",
              "      border-color: transparent;\n",
              "      border-bottom-color: var(--fill-color);\n",
              "      border-left-color: var(--fill-color);\n",
              "    }\n",
              "    20% {\n",
              "      border-color: transparent;\n",
              "      border-left-color: var(--fill-color);\n",
              "      border-top-color: var(--fill-color);\n",
              "    }\n",
              "    30% {\n",
              "      border-color: transparent;\n",
              "      border-left-color: var(--fill-color);\n",
              "      border-top-color: var(--fill-color);\n",
              "      border-right-color: var(--fill-color);\n",
              "    }\n",
              "    40% {\n",
              "      border-color: transparent;\n",
              "      border-right-color: var(--fill-color);\n",
              "      border-top-color: var(--fill-color);\n",
              "    }\n",
              "    60% {\n",
              "      border-color: transparent;\n",
              "      border-right-color: var(--fill-color);\n",
              "    }\n",
              "    80% {\n",
              "      border-color: transparent;\n",
              "      border-right-color: var(--fill-color);\n",
              "      border-bottom-color: var(--fill-color);\n",
              "    }\n",
              "    90% {\n",
              "      border-color: transparent;\n",
              "      border-bottom-color: var(--fill-color);\n",
              "    }\n",
              "  }\n",
              "</style>\n",
              "\n",
              "  <script>\n",
              "    async function quickchart(key) {\n",
              "      const quickchartButtonEl =\n",
              "        document.querySelector('#' + key + ' button');\n",
              "      quickchartButtonEl.disabled = true;  // To prevent multiple clicks.\n",
              "      quickchartButtonEl.classList.add('colab-df-spinner');\n",
              "      try {\n",
              "        const charts = await google.colab.kernel.invokeFunction(\n",
              "            'suggestCharts', [key], {});\n",
              "      } catch (error) {\n",
              "        console.error('Error during call to suggestCharts:', error);\n",
              "      }\n",
              "      quickchartButtonEl.classList.remove('colab-df-spinner');\n",
              "      quickchartButtonEl.classList.add('colab-df-quickchart-complete');\n",
              "    }\n",
              "    (() => {\n",
              "      let quickchartButtonEl =\n",
              "        document.querySelector('#df-938ff1a7-cb4a-4b6e-a6c7-983698a18400 button');\n",
              "      quickchartButtonEl.style.display =\n",
              "        google.colab.kernel.accessAllowed ? 'block' : 'none';\n",
              "    })();\n",
              "  </script>\n",
              "</div>\n",
              "    </div>\n",
              "  </div>\n"
            ],
            "application/vnd.google.colaboratory.intrinsic+json": {
              "type": "dataframe",
              "variable_name": "data"
            }
          },
          "metadata": {},
          "execution_count": 7
        }
      ],
      "source": [
        "# Удаление констант и уникальных значений\n",
        "columns_with_id = [col for col in data.columns if '_id' in col]\n",
        "\n",
        "data = data.loc[:, data.apply(pd.Series.nunique) != 1]\n",
        "data = data.drop(columns_with_id, axis=1)\n",
        "data = data.dropna(axis=1)\n",
        "data.head()"
      ]
    },
    {
      "cell_type": "code",
      "execution_count": 8,
      "metadata": {
        "colab": {
          "base_uri": "https://localhost:8080/"
        },
        "id": "5b6c3QNQGM67",
        "outputId": "d96492fd-f738-48ec-d2a4-4f7c0111ff09"
      },
      "outputs": [
        {
          "output_type": "stream",
          "name": "stdout",
          "text": [
            "<class 'pandas.core.frame.DataFrame'>\n",
            "RangeIndex: 13970460 entries, 0 to 13970459\n",
            "Data columns (total 21 columns):\n",
            " #   Column         Dtype  \n",
            "---  ------         -----  \n",
            " 0   model          object \n",
            " 1   car_type       object \n",
            " 2   fuel_type      object \n",
            " 3   car_rating     float64\n",
            " 4   year_to_start  int64  \n",
            " 5   riders         int64  \n",
            " 6   year_to_work   int64  \n",
            " 7   target_reg     float64\n",
            " 8   target_class   object \n",
            " 9   mean_rating    float64\n",
            " 10  min_rating     float64\n",
            " 11  all_distance   float64\n",
            " 12  speed_max      float64\n",
            " 13  avg_ride_cost  float64\n",
            " 14  avg_speed      float64\n",
            " 15  mean_distance  float64\n",
            " 16  age            int64  \n",
            " 17  user_rating    float64\n",
            " 18  user_rides     int64  \n",
            " 19  fix_date       object \n",
            " 20  work_type      object \n",
            "dtypes: float64(10), int64(5), object(6)\n",
            "memory usage: 2.2+ GB\n"
          ]
        }
      ],
      "source": [
        "data.info()"
      ]
    },
    {
      "cell_type": "code",
      "execution_count": 9,
      "metadata": {
        "colab": {
          "base_uri": "https://localhost:8080/"
        },
        "id": "wVfD5fq2GOZh",
        "outputId": "1efa683b-a469-4a18-e17e-7197a00b2473"
      },
      "outputs": [
        {
          "output_type": "execute_result",
          "data": {
            "text/plain": [
              "(13970460, 21)"
            ]
          },
          "metadata": {},
          "execution_count": 9
        }
      ],
      "source": [
        "data.shape"
      ]
    },
    {
      "cell_type": "markdown",
      "metadata": {
        "id": "1QBqxHEZGuRa"
      },
      "source": [
        "Чересчур много значений получилось, убавлю до 2000 для оптимизации"
      ]
    },
    {
      "cell_type": "code",
      "execution_count": 10,
      "metadata": {
        "id": "hKDNh3HbGZBx"
      },
      "outputs": [],
      "source": [
        "data = data.sample(n=2000)"
      ]
    },
    {
      "cell_type": "code",
      "execution_count": 11,
      "metadata": {
        "colab": {
          "base_uri": "https://localhost:8080/"
        },
        "id": "OD8pap7WG1Ih",
        "outputId": "f23babd8-04c2-40af-8825-2e218bfc690f"
      },
      "outputs": [
        {
          "output_type": "execute_result",
          "data": {
            "text/plain": [
              "(2000, 21)"
            ]
          },
          "metadata": {},
          "execution_count": 11
        }
      ],
      "source": [
        "data.shape"
      ]
    },
    {
      "cell_type": "code",
      "execution_count": null,
      "metadata": {
        "id": "pJ8WvLaoLenA"
      },
      "outputs": [],
      "source": [
        "# Удалю еще столбцы для оптимизации, так как очень много данных\n",
        "# cols_drop = [\n",
        "#     'mean_rating',\n",
        "#     'min_rating',\n",
        "#     'all_distance',\n",
        "#     'avg_ride_cost',\n",
        "#     'speed_max',\n",
        "#     'avg_speed',\n",
        "#     'mean_distance',\n",
        "#     'year_to_work',\n",
        "#     'target_reg',\n",
        "# ]\n",
        "\n",
        "# data = data.drop(columns = cols_drop)"
      ]
    },
    {
      "cell_type": "code",
      "execution_count": null,
      "metadata": {
        "id": "JQTZPlCFG3RK"
      },
      "outputs": [],
      "source": [
        "# Phik\n",
        "\n",
        "# !pip install phik\n",
        "\n",
        "# from phik import report\n",
        "# phik_matrix = data.phik_matrix()\n",
        "\n",
        "# print(phik_matrix)\n",
        "\n",
        "# sns.heatmap(phik_matrix, annot=True, cmap='crest')\n",
        "# plt.title(\"Phik Matrix\")"
      ]
    },
    {
      "cell_type": "markdown",
      "metadata": {
        "id": "ooIatxVdSOZ_"
      },
      "source": [
        "Прошу прощения за \"скукоженный график\". Очень долго ждал выполнения ячейки, переделывать не стал."
      ]
    },
    {
      "cell_type": "code",
      "execution_count": null,
      "metadata": {
        "id": "cTLKf5fPSdqK"
      },
      "outputs": [],
      "source": [
        "# data.info()"
      ]
    },
    {
      "cell_type": "code",
      "execution_count": null,
      "metadata": {
        "id": "O4ATodcGJyvR"
      },
      "outputs": [],
      "source": [
        "# CatBoost\n",
        "\n",
        "# !pip install catboost\n",
        "\n",
        "# from catboost import CatBoostRegressor, Pool, CatBoostClassifier\n",
        "# from sklearn.model_selection import train_test_split\n",
        "\n",
        "# cat_cols = list(data.select_dtypes(include=['object']).columns)\n",
        "# cat_cols.remove('target_class')\n",
        "\n",
        "# X = data.drop(columns = 'target_class')\n",
        "# y = data['target_class']\n",
        "\n",
        "# X_train, X_test, y_train, y_test = train_test_split(X, y, test_size=0.3, random_state=42)\n",
        "\n",
        "# model = CatBoostClassifier(random_state=42, cat_features=cat_cols)\n",
        "# model.fit(X_train, y_train, plot=True)\n",
        "\n",
        "# results = model.get_feature_importance()\n",
        "# print(results)"
      ]
    },
    {
      "cell_type": "code",
      "execution_count": null,
      "metadata": {
        "id": "GFiKarWjsLlU"
      },
      "outputs": [],
      "source": [
        "# results = model.get_feature_importance(prettified=True)\n",
        "# results"
      ]
    },
    {
      "cell_type": "code",
      "execution_count": null,
      "metadata": {
        "id": "gKDcm4F2sksR"
      },
      "outputs": [],
      "source": [
        "# X.columns"
      ]
    },
    {
      "cell_type": "code",
      "execution_count": 16,
      "metadata": {
        "id": "aFSbTQpFNVhq",
        "colab": {
          "base_uri": "https://localhost:8080/"
        },
        "outputId": "d58158d4-9816-4d30-e463-242630b2d894"
      },
      "outputs": [
        {
          "output_type": "stream",
          "name": "stdout",
          "text": [
            "\u001b[?25l     \u001b[90m━━━━━━━━━━━━━━━━━━━━━━━━━━━━━━━━━━━━━━━━\u001b[0m \u001b[32m0.0/538.2 kB\u001b[0m \u001b[31m?\u001b[0m eta \u001b[36m-:--:--\u001b[0m\r\u001b[2K     \u001b[91m╸\u001b[0m\u001b[90m━━━━━━━━━━━━━━━━━━━━━━━━━━━━━━━━━━━━━━━\u001b[0m \u001b[32m10.2/538.2 kB\u001b[0m \u001b[31m?\u001b[0m eta \u001b[36m-:--:--\u001b[0m\r\u001b[2K     \u001b[91m━━━━\u001b[0m\u001b[91m╸\u001b[0m\u001b[90m━━━━━━━━━━━━━━━━━━━━━━━━━━━━━━━━━━━\u001b[0m \u001b[32m61.4/538.2 kB\u001b[0m \u001b[31m843.5 kB/s\u001b[0m eta \u001b[36m0:00:01\u001b[0m\r\u001b[2K     \u001b[91m━━━━━━━━━━━━\u001b[0m\u001b[91m╸\u001b[0m\u001b[90m━━━━━━━━━━━━━━━━━━━━━━━━━━━\u001b[0m \u001b[32m174.1/538.2 kB\u001b[0m \u001b[31m1.6 MB/s\u001b[0m eta \u001b[36m0:00:01\u001b[0m\r\u001b[2K     \u001b[91m━━━━━━━━━━━━━━━━━━━━━━━━━━━\u001b[0m\u001b[90m╺\u001b[0m\u001b[90m━━━━━━━━━━━━\u001b[0m \u001b[32m368.6/538.2 kB\u001b[0m \u001b[31m2.7 MB/s\u001b[0m eta \u001b[36m0:00:01\u001b[0m\r\u001b[2K     \u001b[90m━━━━━━━━━━━━━━━━━━━━━━━━━━━━━━━━━━━━━━━━\u001b[0m \u001b[32m538.2/538.2 kB\u001b[0m \u001b[31m3.0 MB/s\u001b[0m eta \u001b[36m0:00:00\u001b[0m\n",
            "\u001b[?25h"
          ]
        }
      ],
      "source": [
        "# Shap\n",
        "\n",
        "!pip install shap -q\n",
        "\n",
        "import shap\n",
        "\n",
        "# explain = shap.TreeExplainer(model)\n",
        "# values = explain.shap_values(X_train)\n",
        "\n",
        "# shap.summary_plot(values, X_train)"
      ]
    },
    {
      "cell_type": "markdown",
      "metadata": {
        "id": "iSjuXdlcbuhx"
      },
      "source": [
        "# Домашнее задание 2. Прогноз времени и вида поломки машин. Настройка ML-модели"
      ]
    },
    {
      "cell_type": "markdown",
      "metadata": {
        "id": "2qoVlxvUbuhx"
      },
      "source": [
        "<div class=\"alert alert-info\">\n",
        "\n",
        "**Цель блока** — составить тренировочную и валидационную выборки, произвести обучение модели `CatBoostClassifier` на тренировочной части и оценить качество на валидационной."
      ]
    },
    {
      "cell_type": "markdown",
      "metadata": {
        "id": "OfqcanLLbuhx"
      },
      "source": [
        "##Обучение первой модели (5 баллов)"
      ]
    },
    {
      "cell_type": "markdown",
      "metadata": {
        "id": "ZXhXYJt6buhx"
      },
      "source": [
        "1. Классифицируйте признаки на типы (категориальные, числовые, таргеты).\n",
        "\n",
        "2. Выделите в `X` только признаки, а в `Y` — таргет (для задачи классификации).\n",
        "\n",
        "3. Сделайте разделение данных на *обучающую* и *валидационную* выборки (не забывайте про воспроизводимость результатов).\n",
        "\n",
        "4. Создайте и обучите `CatBoostClassifier` модель (настраивать гиперпараметры сейчас не обязательно).\n",
        "\n",
        "5. Проведите оценку вашей модели, используя метрику `accuracy`.\n",
        "\n",
        "\n",
        "<h4> Критерии оценивания </h4>\n",
        "    \n",
        "- По 1 баллу за каждый корректно выполненный пункт.\n",
        "\n",
        "</div>"
      ]
    },
    {
      "cell_type": "code",
      "execution_count": 12,
      "metadata": {
        "id": "klrOFoVpbuhx",
        "colab": {
          "base_uri": "https://localhost:8080/"
        },
        "outputId": "c0c42423-2c17-4e4e-c4ce-e6cbc668efdc"
      },
      "outputs": [
        {
          "output_type": "stream",
          "name": "stdout",
          "text": [
            "\u001b[2K     \u001b[90m━━━━━━━━━━━━━━━━━━━━━━━━━━━━━━━━━━━━━━━━\u001b[0m \u001b[32m98.5/98.5 MB\u001b[0m \u001b[31m3.0 MB/s\u001b[0m eta \u001b[36m0:00:00\u001b[0m\n",
            "\u001b[?25h"
          ]
        }
      ],
      "source": [
        "!pip install catboost -q\n",
        "\n",
        "from catboost import CatBoostClassifier\n",
        "from sklearn.model_selection import train_test_split\n",
        "from sklearn.metrics import accuracy_score, classification_report, confusion_matrix"
      ]
    },
    {
      "cell_type": "code",
      "execution_count": 13,
      "metadata": {
        "colab": {
          "base_uri": "https://localhost:8080/"
        },
        "id": "lqwlTU2gbuhz",
        "outputId": "be9c4c2b-edb4-49b1-b747-1345df7cbd2f"
      },
      "outputs": [
        {
          "output_type": "stream",
          "name": "stdout",
          "text": [
            "Категориальные признаки: 5 ['model', 'car_type', 'fuel_type', 'fix_date', 'work_type']\n",
            "Числовые признаки: 15 ['car_rating', 'year_to_start', 'riders', 'year_to_work', 'target_reg', 'mean_rating', 'min_rating', 'all_distance', 'speed_max', 'avg_ride_cost', 'avg_speed', 'mean_distance', 'age', 'user_rating', 'user_rides']\n",
            "Целевые переменные ['target_class']\n"
          ]
        }
      ],
      "source": [
        "cat_cols = list(data.select_dtypes(include=['object']).columns)\n",
        "cat_cols.remove('target_class')\n",
        "\n",
        "num_cols = list(data.select_dtypes(exclude=['object']).columns)\n",
        "\n",
        "targets = ['target_class'] # таргеты\n",
        "cat_features = cat_cols # категориальные признаки\n",
        "num_features = num_cols # числовые признаки\n",
        "\n",
        "print('Категориальные признаки:', len(cat_features), cat_features)\n",
        "print('Числовые признаки:', len(num_features), num_features)\n",
        "print('Целевые переменные', targets)"
      ]
    },
    {
      "cell_type": "code",
      "execution_count": 14,
      "metadata": {
        "colab": {
          "base_uri": "https://localhost:8080/"
        },
        "id": "tGK5sgaQbuhz",
        "outputId": "d95f4721-61b1-4559-8a21-e19afb179823"
      },
      "outputs": [
        {
          "output_type": "stream",
          "name": "stdout",
          "text": [
            "0.925\n"
          ]
        }
      ],
      "source": [
        "X = data[num_features]\n",
        "y = data[targets]\n",
        "\n",
        "X_train, X_test, y_train, y_test = train_test_split(X, y, test_size=0.3, random_state=42)\n",
        "\n",
        "# Запуск CatBoostClassifier без тюнинга\n",
        "model = CatBoostClassifier(random_state=42, verbose=False)\n",
        "model.fit(X_train, y_train, eval_set=(X_test, y_test))\n",
        "\n",
        "results = model.predict(X_test)\n",
        "accuracy = accuracy_score(y_test, results)\n",
        "print(accuracy)"
      ]
    },
    {
      "cell_type": "code",
      "execution_count": 15,
      "metadata": {
        "colab": {
          "base_uri": "https://localhost:8080/"
        },
        "id": "gs1iVpdJWNv4",
        "outputId": "f8811624-d76a-4daf-cb9a-68c6101447bc"
      },
      "outputs": [
        {
          "output_type": "stream",
          "name": "stdout",
          "text": [
            "Лучшая итерация: 532\n",
            "Всего итераций прошло: 1000\n"
          ]
        }
      ],
      "source": [
        "print(\"Лучшая итерация:\", model.get_best_iteration())\n",
        "print(\"Всего итераций прошло:\", model.get_all_params()['iterations'])"
      ]
    },
    {
      "cell_type": "markdown",
      "metadata": {
        "id": "pWAOjGCIbuhz"
      },
      "source": [
        "# Дополнительное задание. Визуализация прогнозов, ошибок модели и важности признаков"
      ]
    },
    {
      "cell_type": "markdown",
      "metadata": {
        "id": "oCvZU_ksbuhz"
      },
      "source": [
        "<div class=\"alert alert-info\">\n",
        "\n",
        "**Цель блока** — визуализировать результаты прогнозирования, ошибки модели и важность признаков для лучшего понимания и анализа модели."
      ]
    },
    {
      "cell_type": "markdown",
      "metadata": {
        "id": "onsptUygbuhz"
      },
      "source": [
        "## Визуализация (5 баллов)"
      ]
    },
    {
      "cell_type": "markdown",
      "metadata": {
        "id": "t3gAT3YHbuhz"
      },
      "source": [
        "   \n",
        "1. Визуализируйте важность признаков встроенным методом в `CatBoost`  (помните, что не стоит сильно доверять этому рейтингу важности, т. к. для сильно скоррелированных признаков важность делится пополам — оба признака могут улететь вниз).\n",
        "\n",
        "2. Постройте `waterfall_plot` из библиотеки `SHAP` (подробнее во втором ноутбуке из полезных ссылок ниже).\n",
        "    \n",
        "3. Постройте `classification_report` из библиотеки `scikit-learn`.\n",
        "\n",
        "4. Постройте и визуализируйте матрицу смежности (`confusion_matrix`), посмотрите, в каких классах модель больше всего ошибается.\n",
        "    \n",
        "5. Для каждого графика/примененного метода проинтерпретируйте результаты и сделайте выводы.\n",
        "\n",
        "\n",
        "<h4> Критерии оценивания </h4>\n",
        "    \n",
        "- По 1 баллу за каждый корректно выполненный пункт.\n",
        "    \n",
        "</div>\n",
        "\n",
        "<div class=\"alert alert-success\">\n",
        "\n",
        "Визуализация может помочь даже после того, как мы **уже обучили** какую-нибудь модель. Например:\n",
        "\n",
        "- Понять, что мешает модели или чего не хватает, чтобы не допускать ошибки.\n",
        "- Сделать выводы, как можно улучшить точность в последующих экспериментах.\n",
        "- Визуализировать ошибки модели.\n",
        "- Отсеять лишние признаки.\n",
        "- Найти идеи для новых признаков.\n",
        "- Все зависит от типа ваших данных.\n",
        "\n",
        "<h3> Полезные источники </h3>\n",
        "    \n",
        "- Занятие про визуализацию и Seaborn.\n",
        "- Занятие про продвинутую визуализацию и анализ ошибок модели.\n",
        "\n",
        "</div>    "
      ]
    },
    {
      "cell_type": "code",
      "execution_count": 17,
      "metadata": {
        "colab": {
          "base_uri": "https://localhost:8080/",
          "height": 542
        },
        "id": "EYvkiOcrbuh0",
        "outputId": "cc59e04f-5401-4910-857b-f34dec857e8e"
      },
      "outputs": [
        {
          "output_type": "display_data",
          "data": {
            "text/plain": [
              "<Figure size 2000x600 with 1 Axes>"
            ],
            "image/png": "[encoded data removed]"
          },
          "metadata": {}
        }
      ],
      "source": [
        "# Встроенный метод в CatBoost\n",
        "\n",
        "results = model.get_feature_importance(prettified=True)\n",
        "\n",
        "plt.figure(figsize=(20, 6))\n",
        "sns.barplot(x='Feature Id', y='Importances', data=results);"
      ]
    },
    {
      "cell_type": "code",
      "execution_count": 18,
      "metadata": {
        "colab": {
          "base_uri": "https://localhost:8080/",
          "height": 617
        },
        "id": "qG3KxbwqfbdD",
        "outputId": "ce5ac832-27d5-4d2a-b01c-44d41bdff12b"
      },
      "outputs": [
        {
          "output_type": "display_data",
          "data": {
            "text/plain": [
              "<Figure size 800x650 with 3 Axes>"
            ],
            "image/png": "[encoded data removed]"
          },
          "metadata": {}
        }
      ],
      "source": [
        "# waterfall_plot\n",
        "\n",
        "Explainer = shap.Explainer(model)\n",
        "shap_values = Explainer(X_test)\n",
        "shap.waterfall_plot(shap_values[0, :, 1])"
      ]
    },
    {
      "cell_type": "code",
      "execution_count": 19,
      "metadata": {
        "colab": {
          "base_uri": "https://localhost:8080/"
        },
        "id": "zauEaNWzgHjM",
        "outputId": "d833965e-8e9f-4fc7-865e-784ca9f10b9b"
      },
      "outputs": [
        {
          "output_type": "stream",
          "name": "stdout",
          "text": [
            "                 precision    recall  f1-score   support\n",
            "\n",
            "    another_bug       0.98      0.95      0.96        92\n",
            "      break_bug       1.00      1.00      1.00        62\n",
            "    electro_bug       1.00      0.98      0.99        63\n",
            "   engine_check       0.92      0.97      0.94        60\n",
            "    engine_fuel       0.82      0.77      0.80        53\n",
            "engine_ignition       0.88      0.94      0.91        63\n",
            "engine_overheat       0.83      0.83      0.83        77\n",
            "     gear_stick       0.94      0.97      0.95        86\n",
            "    wheel_shake       0.93      0.89      0.91        44\n",
            "\n",
            "       accuracy                           0.93       600\n",
            "      macro avg       0.92      0.92      0.92       600\n",
            "   weighted avg       0.93      0.93      0.92       600\n",
            "\n"
          ]
        }
      ],
      "source": [
        "# classification_report\n",
        "print(classification_report(y_test, model.predict(X_test)))"
      ]
    },
    {
      "cell_type": "code",
      "execution_count": 20,
      "metadata": {
        "colab": {
          "base_uri": "https://localhost:8080/",
          "height": 449
        },
        "id": "0Hd06cJwgms_",
        "outputId": "70f1f3dc-aa51-4bd7-f420-9d6272e230e9"
      },
      "outputs": [
        {
          "output_type": "display_data",
          "data": {
            "text/plain": [
              "<Figure size 640x480 with 2 Axes>"
            ],
            "image/png": "[encoded data removed]"
          },
          "metadata": {}
        }
      ],
      "source": [
        "# confusion_matrix\n",
        "sns.heatmap(confusion_matrix(y_test, model.predict(X_test)), annot=True)\n",
        "plt.xlabel(\"Predicted\")\n",
        "plt.ylabel(\"True\");"
      ]
    },
    {
      "cell_type": "markdown",
      "metadata": {
        "id": "pL8evJIMbuh0"
      },
      "source": [
        "# Домашнее задание 3. Оптимизация. Тюнинг гиперпараметров с помощью `Optuna`"
      ]
    },
    {
      "cell_type": "markdown",
      "metadata": {
        "id": "ZmanV8V8buh0"
      },
      "source": [
        "<div class=\"alert alert-info\">\n",
        "\n",
        "**Цель блока** — улучшить качество предсказания, произведя подбор гиперпараметров для модели с помощью `Optuna`."
      ]
    },
    {
      "cell_type": "markdown",
      "metadata": {
        "id": "qEbxkZf8buh1"
      },
      "source": [
        "## Подбор гиперпараметров (3 балла)"
      ]
    },
    {
      "cell_type": "markdown",
      "metadata": {
        "id": "XogayH7Hbuh1"
      },
      "source": [
        "1. Напишите `objective` функцию и запустите `Optuna`.\n",
        "2. Подберите гиперпараметры для `CatBoostClassifier` (минимум 3).\n",
        "3. Обучите модель с новыми гиперпараметрами, сравните качество и сделайте выводы.\n",
        "\n",
        "    \n",
        "<h4> Критерии оценивания </h4>\n",
        "    \n",
        "- 1 балл за каждый корректно выполненный пункт.\n",
        "    \n",
        "</div>"
      ]
    },
    {
      "cell_type": "code",
      "execution_count": null,
      "metadata": {
        "colab": {
          "base_uri": "https://localhost:8080/"
        },
        "id": "UrNbom9qbuh1",
        "outputId": "de3a93f3-bc4a-4b23-b314-3c8bcf5d028a"
      },
      "outputs": [
        {
          "output_type": "stream",
          "name": "stderr",
          "text": [
            "[I 2024-03-31 12:10:29,903] A new study created in memory with name: no-name-685b16c4-7f7a-4771-bd2d-e1fa6edaf119\n",
            "[I 2024-03-31 12:12:18,484] Trial 0 finished with value: 0.9016666666666666 and parameters: {'iterations': 723, 'learning_rate': 0.01615160183779383, 'depth': 9}. Best is trial 0 with value: 0.9016666666666666.\n",
            "[I 2024-03-31 12:12:23,921] Trial 1 finished with value: 0.9116666666666666 and parameters: {'iterations': 1379, 'learning_rate': 0.055750001346687644, 'depth': 3}. Best is trial 0 with value: 0.9016666666666666.\n",
            "[I 2024-03-31 12:13:17,640] Trial 2 finished with value: 0.92 and parameters: {'iterations': 1410, 'learning_rate': 0.07584118793798891, 'depth': 7}. Best is trial 0 with value: 0.9016666666666666.\n",
            "[I 2024-03-31 12:13:20,078] Trial 3 finished with value: 0.895 and parameters: {'iterations': 906, 'learning_rate': 0.07113136716326933, 'depth': 2}. Best is trial 3 with value: 0.895.\n",
            "[I 2024-03-31 12:15:20,221] Trial 4 finished with value: 0.9166666666666666 and parameters: {'iterations': 669, 'learning_rate': 0.06468259790736779, 'depth': 9}. Best is trial 3 with value: 0.895.\n",
            "[I 2024-03-31 12:15:30,495] Trial 5 finished with value: 0.915 and parameters: {'iterations': 1467, 'learning_rate': 0.03933270603689003, 'depth': 4}. Best is trial 3 with value: 0.895.\n",
            "[I 2024-03-31 12:15:40,124] Trial 6 finished with value: 0.8733333333333333 and parameters: {'iterations': 234, 'learning_rate': 0.015253939785345776, 'depth': 7}. Best is trial 6 with value: 0.8733333333333333.\n",
            "[I 2024-03-31 12:15:44,040] Trial 7 finished with value: 0.91 and parameters: {'iterations': 633, 'learning_rate': 0.09322732465663863, 'depth': 4}. Best is trial 6 with value: 0.8733333333333333.\n",
            "[I 2024-03-31 12:15:48,187] Trial 8 finished with value: 0.8966666666666666 and parameters: {'iterations': 120, 'learning_rate': 0.0869076048295333, 'depth': 7}. Best is trial 6 with value: 0.8733333333333333.\n",
            "[I 2024-03-31 12:16:38,198] Trial 9 finished with value: 0.91 and parameters: {'iterations': 1310, 'learning_rate': 0.026958042919206913, 'depth': 7}. Best is trial 6 with value: 0.8733333333333333.\n"
          ]
        }
      ],
      "source": [
        "!pip install optuna -q\n",
        "import optuna\n",
        "\n",
        "def objective(trial):\n",
        "  X_train, X_test, y_train, y_test = train_test_split(X, y, test_size=0.3, random_state=42)\n",
        "\n",
        "  parameters = {\n",
        "    'iterations': trial.suggest_int('iterations', 100, 1500),\n",
        "    'learning_rate': trial.suggest_float('learning_rate', 0.01, 0.1),\n",
        "    'depth': trial.suggest_int('depth', 1, 10),\n",
        "  }\n",
        "\n",
        "  model = CatBoostClassifier(**parameters, random_state=42)\n",
        "  model.fit(X_train, y_train, eval_set=(X_test, y_test), verbose=False)\n",
        "\n",
        "  results = model.predict(X_test)\n",
        "  accuracy = accuracy_score(y_test, results)\n",
        "  return accuracy\n",
        "\n",
        "study = optuna.create_study()\n",
        "study.optimize(objective, n_trials=10)"
      ]
    },
    {
      "cell_type": "code",
      "source": [
        "b_model = CatBoostClassifier(iterations=1410, learning_rate=0.07584118793798891, depth=7, random_state=42)\n",
        "b_model.fit(X_train, y_train, eval_set=(X_test, y_test), verbose=False)\n",
        "\n",
        "b_results = b_model.predict(X_test)\n",
        "b_accuracy = accuracy_score(y_test, b_results)\n",
        "\n",
        "print(\"Best accuracy:\", b_accuracy)"
      ],
      "metadata": {
        "colab": {
          "base_uri": "https://localhost:8080/"
        },
        "id": "1-fC74BiB_Cy",
        "outputId": "bbcf439c-cf7f-4b8e-81f1-a74fb137e95d"
      },
      "execution_count": null,
      "outputs": [
        {
          "output_type": "stream",
          "name": "stdout",
          "text": [
            "Best accuracy: 0.92\n"
          ]
        }
      ]
    },
    {
      "cell_type": "markdown",
      "metadata": {
        "id": "3HsMplLuDKau"
      },
      "source": [
        "**Метрику Accuracy удалось увеличить, пускай и не на очень много, но всё же подбор гиперпараметров помог достичь поставленной цели домашнего задания №3.**"
      ]
    },
    {
      "cell_type": "markdown",
      "metadata": {
        "id": "ayIdErsgjayi"
      },
      "source": [
        "### Общая информация по `Optuna`"
      ]
    },
    {
      "cell_type": "markdown",
      "metadata": {
        "id": "a6Y35ioqbuh0"
      },
      "source": [
        "#### Ключевые особенности <code>Optuna</code>\n",
        "\n"
      ]
    },
    {
      "cell_type": "markdown",
      "metadata": {
        "id": "EFwQ3_NStdFY"
      },
      "source": [
        "- Легковесность и универсальность — можно подбирать оптимальные параметры под любые функции и метрики.\n",
        "- SOTA-алгоритмы, адаптированные для поиска гиперпараметров.\n",
        "- Параллелизация и различные методы прунинга.\n",
        "- Встроенная визуализация.\n",
        "- Интеграция со множеством популярных библиотек (бустинги, sklearn, PyTorch, W&B и другие).\n",
        "\n",
        "Разберем Optuna по частям, чтобы понять, как ее использовать."
      ]
    },
    {
      "cell_type": "markdown",
      "metadata": {
        "id": "GIT2J4INtxaf"
      },
      "source": [
        "#### <code>Study</code>: оптимизация, базирующаяся на <code>Objective</code> функции"
      ]
    },
    {
      "cell_type": "markdown",
      "metadata": {
        "id": "wqPh6XVybuh0"
      },
      "source": [
        "\n",
        "\n",
        "В `Objective`-функцию нужно написать код подсчета метрики, которую возвращаем. `Objective` вызывается Optuna много раз для подбора лучших параметров.\n",
        "```python\n",
        "def objective(trial, ...):\n",
        "    # calculate score...\n",
        "    return score\n",
        "```\n",
        "\n",
        "<h4> <code>Trial</code> — одно выполнение <code>Objective</code>-функции</h4>\n",
        "\n",
        "В `trial`-объекте мы передаем параметры для «перебора», используя для каждого типа свой метод. Например:\n",
        "\n",
        "```python\n",
        "# метод `suggest_float` показывает, что перебираем `float` значения, от 0 и до 1.5 границы\n",
        "param = trial.suggest_float('param', 0, 1.5)\n",
        "\n",
        "# Категориальное значение\n",
        "loss_function = trial.suggest_categorical('loss', ['Logloss', 'CrossEntropy'])\n",
        "\n",
        "# Целочисленное значение\n",
        "depth = trial.suggest_int('depth', 5, 8)\n",
        "\n",
        "# Равномерное распределение\n",
        "learning_rate = trial.suggest_uniform('learning_rate', 0.0, 1.0)\n",
        "```"
      ]
    },
    {
      "cell_type": "markdown",
      "metadata": {
        "id": "4huC_vW7uI4o"
      },
      "source": [
        "#### `Study` parameters"
      ]
    },
    {
      "cell_type": "markdown",
      "metadata": {
        "id": "Cq94BjhWbuh0"
      },
      "source": [
        "Инициализируем объект `study`, который начнет перебор и сохранит в себе историю результатов.\n",
        "Если мы стараемся увеличить метрику, а не уменьшить ошибку, то используем `create_study(direction='maximize')`.\n",
        "```python\n",
        "study = optuna.create_study()\n",
        "study.optimize(objective, n_trials=10)\n",
        "```"
      ]
    },
    {
      "cell_type": "markdown",
      "metadata": {
        "id": "x9AvfTv4buh0"
      },
      "source": [
        "<div class=\"alert alert-info\">\n",
        "    \n",
        "В [`Optuna`](https://optuna.readthedocs.io/en/stable/index.html) реализовано несколько методов (`sampler`) подбора параметров (в том числе классические):\n",
        "* `GridSampler`\n",
        "* `RandomSampler`\n",
        "* `Tree-Structed Parzen Estimator` (`TPESampler` — самый популярный, дефолтный)\n",
        "* `BruteForceSampler`\n",
        "* [Другие 4 метода](https://optuna.readthedocs.io/en/stable/reference/samplers/index.html#module-optuna.samplers) (можно написать собственный семплер)"
      ]
    },
    {
      "cell_type": "markdown",
      "metadata": {
        "id": "3g4-aEHabuh0"
      },
      "source": [
        "### Советы по перебору параметров"
      ]
    },
    {
      "cell_type": "markdown",
      "metadata": {
        "id": "g3b8cs4Mt7pq"
      },
      "source": [
        "- Иметь понимание важности параметров.\n",
        "- Число `iterations` лучше взять с запасом и зафиксировать, при этом ограничив через `early_stopping_rounds`.\n",
        "- Подсмотреть или чувствовать диапазоны и шаг значений.\n",
        "- Исключить то, что перебирать не нужно (`random_seed` , `eval_metric`, `thread_count` и прочее).\n",
        "- Используйте информацию с прошлых попыток."
      ]
    },
    {
      "cell_type": "markdown",
      "metadata": {
        "id": "dXv8NCp_buh1"
      },
      "source": [
        "# Домашнее задание 4. Блендинг"
      ]
    },
    {
      "cell_type": "markdown",
      "metadata": {
        "id": "8-bhQKWGbuh1"
      },
      "source": [
        "<div class=\"alert alert-info\">\n",
        "\n",
        "**Цель блока** — улучшить качество предсказания, объединив несколько моделей вместе методом блендинга."
      ]
    },
    {
      "cell_type": "markdown",
      "metadata": {
        "id": "ZtI-eK3xbuh1"
      },
      "source": [
        "## Задание 6. Блендинг (10 баллов)"
      ]
    },
    {
      "cell_type": "markdown",
      "metadata": {
        "id": "8v9Onoo9buh1"
      },
      "source": [
        "1. Построить и обучить модели:\n",
        "    - `CatBoostClassifier`,\n",
        "    - `LightGBMClassifier (goss)`,\n",
        "    - `XGBoostClassifier (dart)`,\n",
        "    - `RandomForestClassifier`.\n",
        "2. Сделать предсказания каждой моделью, оценить качество.\n",
        "3. Реализовать блендинг двумя способами, оценить качество и сравнить с предыдущим пунктом:\n",
        "    - `Hard Voting` —  метод, при котором делаем голосование всех моделей и выбираем самый популярный класс.\n",
        "    - `Soft Voting` —  метод, при котором мы складываем вероятности предсказания всех моделей по каждому классу и потом выбираем самый класс с максимальной суммой.\n",
        "    \n",
        "<h4> Критерии оценивания </h4>\n",
        "    \n",
        "- Обучены 4 модели — 1 балл за каждую обученную модель, всего 4 балла.\n",
        "- Для модели проведен подбор гиперпараметров — 0,5 балла за каждый параметр, всего 2 балла.\n",
        "- Сделаны предсказания каждой модели и оценено качество — 1 балл.\n",
        "- Реализован `Hard Voting` — 1 балл.\n",
        "- Реализован `Soft Voting` — 1 балл.\n",
        "- Сделаны выводы — 1 балл.\n",
        "    \n",
        "</div>"
      ]
    },
    {
      "cell_type": "code",
      "execution_count": 22,
      "metadata": {
        "id": "Mfi_sxnjbuh2",
        "colab": {
          "base_uri": "https://localhost:8080/"
        },
        "outputId": "9ee5c293-907d-4bef-f6b8-9011b0873b9f"
      },
      "outputs": [
        {
          "output_type": "stream",
          "name": "stderr",
          "text": [
            "[I 2024-04-03 17:29:08,629] A new study created in memory with name: no-name-48f0bc55-4825-45d2-ac01-e6008c8d1d4f\n",
            "[I 2024-04-03 17:30:48,764] Trial 0 finished with value: 0.925 and parameters: {'iterations': 725, 'learning_rate': 0.050817525539284925, 'depth': 8}. Best is trial 0 with value: 0.925.\n",
            "[I 2024-04-03 17:31:27,174] Trial 1 finished with value: 0.925 and parameters: {'iterations': 863, 'learning_rate': 0.08691716489381394, 'depth': 7}. Best is trial 0 with value: 0.925.\n",
            "[I 2024-04-03 17:31:30,444] Trial 2 finished with value: 0.9066666666666666 and parameters: {'iterations': 503, 'learning_rate': 0.05570286591132335, 'depth': 4}. Best is trial 2 with value: 0.9066666666666666.\n",
            "[I 2024-04-03 17:33:07,656] Trial 3 finished with value: 0.9216666666666666 and parameters: {'iterations': 873, 'learning_rate': 0.010736386397296516, 'depth': 8}. Best is trial 2 with value: 0.9066666666666666.\n",
            "[I 2024-04-03 17:33:09,922] Trial 4 finished with value: 0.9116666666666666 and parameters: {'iterations': 302, 'learning_rate': 0.04666609697294059, 'depth': 2}. Best is trial 2 with value: 0.9066666666666666.\n"
          ]
        }
      ],
      "source": [
        "!pip install optuna -q\n",
        "import optuna\n",
        "\n",
        "def objective(trial):\n",
        "  X_train, X_test, y_train, y_test = train_test_split(X, y, test_size=0.3, random_state=42)\n",
        "\n",
        "  parameters = {\n",
        "    'iterations': trial.suggest_int('iterations', 100, 1000),\n",
        "    'learning_rate': trial.suggest_float('learning_rate', 0.01, 0.1),\n",
        "    'depth': trial.suggest_int('depth', 1, 8),\n",
        "  }\n",
        "\n",
        "  model = CatBoostClassifier(**parameters, random_state=42)\n",
        "  model.fit(X_train, y_train, eval_set=(X_test, y_test), verbose=False)\n",
        "\n",
        "  results = model.predict(X_test)\n",
        "  accuracy = accuracy_score(y_test, results)\n",
        "  return accuracy\n",
        "\n",
        "study = optuna.create_study()\n",
        "study.optimize(objective, n_trials=5)"
      ]
    },
    {
      "cell_type": "code",
      "source": [
        "b_model = CatBoostClassifier(iterations=863, learning_rate=0.08691716489381394, depth=7, random_state=42)\n",
        "b_model.fit(X_train, y_train, eval_set=(X_test, y_test), verbose=False)\n",
        "\n",
        "b_results = b_model.predict(X_test)\n",
        "b_accuracy = accuracy_score(y_test, b_results)\n",
        "\n",
        "print(\"Best accuracy of CatBoostClassifier:\", b_accuracy)"
      ],
      "metadata": {
        "colab": {
          "base_uri": "https://localhost:8080/"
        },
        "id": "drQKsHF6-EKO",
        "outputId": "358324c2-843c-4fdc-f9bf-7494a03d2f92"
      },
      "execution_count": 23,
      "outputs": [
        {
          "output_type": "stream",
          "name": "stdout",
          "text": [
            "Best accuracy of CatBoostClassifier: 0.925\n"
          ]
        }
      ]
    },
    {
      "cell_type": "code",
      "source": [
        "!pip install lightgbm\n",
        "from lightgbm import LGBMClassifier\n",
        "!pip install optuna -q\n",
        "import optuna\n",
        "\n",
        "def objective(trial):\n",
        "  X_train, X_test, y_train, y_test = train_test_split(X, y, test_size=0.3, random_state=42)\n",
        "\n",
        "  parameters = {\n",
        "    'num_leaves': trial.suggest_int('num_leaves', 10, 40),\n",
        "    'learning_rate': trial.suggest_float('learning_rate', 0.01, 0.1),\n",
        "  }\n",
        "\n",
        "  model = LGBMClassifier(**parameters, random_state=42)\n",
        "  model.fit(X_train, y_train, eval_set=(X_test, y_test))\n",
        "\n",
        "  results = model.predict(X_test)\n",
        "  accuracy = accuracy_score(y_test, results)\n",
        "  return accuracy\n",
        "\n",
        "study = optuna.create_study()\n",
        "study.optimize(objective, n_trials=5)"
      ],
      "metadata": {
        "colab": {
          "base_uri": "https://localhost:8080/"
        },
        "id": "mMYCnGh2-zIj",
        "outputId": "5fcb527e-6006-4b0c-ec65-1d311d841b49"
      },
      "execution_count": 24,
      "outputs": [
        {
          "output_type": "stream",
          "name": "stdout",
          "text": [
            "Requirement already satisfied: lightgbm in /usr/local/lib/python3.10/dist-packages (4.1.0)\n",
            "Requirement already satisfied: numpy in /usr/local/lib/python3.10/dist-packages (from lightgbm) (1.25.2)\n",
            "Requirement already satisfied: scipy in /usr/local/lib/python3.10/dist-packages (from lightgbm) (1.11.4)\n"
          ]
        },
        {
          "output_type": "stream",
          "name": "stderr",
          "text": [
            "[I 2024-04-03 17:35:14,422] A new study created in memory with name: no-name-ff4a78cf-e4b0-4965-8197-f5fa06bae377\n",
            "/usr/local/lib/python3.10/dist-packages/sklearn/preprocessing/_label.py:99: DataConversionWarning: A column-vector y was passed when a 1d array was expected. Please change the shape of y to (n_samples, ), for example using ravel().\n",
            "  y = column_or_1d(y, warn=True)\n",
            "/usr/local/lib/python3.10/dist-packages/sklearn/preprocessing/_label.py:134: DataConversionWarning: A column-vector y was passed when a 1d array was expected. Please change the shape of y to (n_samples, ), for example using ravel().\n",
            "  y = column_or_1d(y, dtype=self.classes_.dtype, warn=True)\n",
            "/usr/local/lib/python3.10/dist-packages/sklearn/preprocessing/_label.py:134: DataConversionWarning: A column-vector y was passed when a 1d array was expected. Please change the shape of y to (n_samples, ), for example using ravel().\n",
            "  y = column_or_1d(y, dtype=self.classes_.dtype, warn=True)\n"
          ]
        },
        {
          "output_type": "stream",
          "name": "stdout",
          "text": [
            "[LightGBM] [Info] Auto-choosing col-wise multi-threading, the overhead of testing was 0.000588 seconds.\n",
            "You can set `force_col_wise=true` to remove the overhead.\n",
            "[LightGBM] [Info] Total Bins 2617\n",
            "[LightGBM] [Info] Number of data points in the train set: 1400, number of used features: 15\n",
            "[LightGBM] [Info] Start training from score -2.096733\n",
            "[LightGBM] [Info] Start training from score -2.132240\n",
            "[LightGBM] [Info] Start training from score -2.175323\n",
            "[LightGBM] [Info] Start training from score -2.181632\n",
            "[LightGBM] [Info] Start training from score -2.181632\n",
            "[LightGBM] [Info] Start training from score -2.233592\n",
            "[LightGBM] [Info] Start training from score -2.102564\n",
            "[LightGBM] [Info] Start training from score -2.181632\n",
            "[LightGBM] [Info] Start training from score -2.562096\n",
            "[LightGBM] [Warning] No further splits with positive gain, best gain: -inf\n",
            "[LightGBM] [Warning] No further splits with positive gain, best gain: -inf\n"
          ]
        },
        {
          "output_type": "stream",
          "name": "stderr",
          "text": [
            "[I 2024-04-03 17:35:15,383] Trial 0 finished with value: 0.9216666666666666 and parameters: {'num_leaves': 11, 'learning_rate': 0.054358989045365264}. Best is trial 0 with value: 0.9216666666666666.\n",
            "/usr/local/lib/python3.10/dist-packages/sklearn/preprocessing/_label.py:99: DataConversionWarning: A column-vector y was passed when a 1d array was expected. Please change the shape of y to (n_samples, ), for example using ravel().\n",
            "  y = column_or_1d(y, warn=True)\n",
            "/usr/local/lib/python3.10/dist-packages/sklearn/preprocessing/_label.py:134: DataConversionWarning: A column-vector y was passed when a 1d array was expected. Please change the shape of y to (n_samples, ), for example using ravel().\n",
            "  y = column_or_1d(y, dtype=self.classes_.dtype, warn=True)\n",
            "/usr/local/lib/python3.10/dist-packages/sklearn/preprocessing/_label.py:134: DataConversionWarning: A column-vector y was passed when a 1d array was expected. Please change the shape of y to (n_samples, ), for example using ravel().\n",
            "  y = column_or_1d(y, dtype=self.classes_.dtype, warn=True)\n"
          ]
        },
        {
          "output_type": "stream",
          "name": "stdout",
          "text": [
            "[LightGBM] [Info] Auto-choosing col-wise multi-threading, the overhead of testing was 0.000263 seconds.\n",
            "You can set `force_col_wise=true` to remove the overhead.\n",
            "[LightGBM] [Info] Total Bins 2617\n",
            "[LightGBM] [Info] Number of data points in the train set: 1400, number of used features: 15\n",
            "[LightGBM] [Info] Start training from score -2.096733\n",
            "[LightGBM] [Info] Start training from score -2.132240\n",
            "[LightGBM] [Info] Start training from score -2.175323\n",
            "[LightGBM] [Info] Start training from score -2.181632\n",
            "[LightGBM] [Info] Start training from score -2.181632\n",
            "[LightGBM] [Info] Start training from score -2.233592\n",
            "[LightGBM] [Info] Start training from score -2.102564\n",
            "[LightGBM] [Info] Start training from score -2.181632\n",
            "[LightGBM] [Info] Start training from score -2.562096\n",
            "[LightGBM] [Warning] No further splits with positive gain, best gain: -inf\n",
            "[LightGBM] [Warning] No further splits with positive gain, best gain: -inf\n",
            "[LightGBM] [Warning] No further splits with positive gain, best gain: -inf\n",
            "[LightGBM] [Warning] No further splits with positive gain, best gain: -inf\n",
            "[LightGBM] [Warning] No further splits with positive gain, best gain: -inf\n",
            "[LightGBM] [Warning] No further splits with positive gain, best gain: -inf\n",
            "[LightGBM] [Warning] No further splits with positive gain, best gain: -inf\n",
            "[LightGBM] [Warning] No further splits with positive gain, best gain: -inf\n",
            "[LightGBM] [Warning] No further splits with positive gain, best gain: -inf\n"
          ]
        },
        {
          "output_type": "stream",
          "name": "stderr",
          "text": [
            "[I 2024-04-03 17:35:16,596] Trial 1 finished with value: 0.9283333333333333 and parameters: {'num_leaves': 29, 'learning_rate': 0.046435878718168976}. Best is trial 0 with value: 0.9216666666666666.\n",
            "/usr/local/lib/python3.10/dist-packages/sklearn/preprocessing/_label.py:99: DataConversionWarning: A column-vector y was passed when a 1d array was expected. Please change the shape of y to (n_samples, ), for example using ravel().\n",
            "  y = column_or_1d(y, warn=True)\n",
            "/usr/local/lib/python3.10/dist-packages/sklearn/preprocessing/_label.py:134: DataConversionWarning: A column-vector y was passed when a 1d array was expected. Please change the shape of y to (n_samples, ), for example using ravel().\n",
            "  y = column_or_1d(y, dtype=self.classes_.dtype, warn=True)\n",
            "/usr/local/lib/python3.10/dist-packages/sklearn/preprocessing/_label.py:134: DataConversionWarning: A column-vector y was passed when a 1d array was expected. Please change the shape of y to (n_samples, ), for example using ravel().\n",
            "  y = column_or_1d(y, dtype=self.classes_.dtype, warn=True)\n"
          ]
        },
        {
          "output_type": "stream",
          "name": "stdout",
          "text": [
            "[LightGBM] [Info] Auto-choosing col-wise multi-threading, the overhead of testing was 0.000281 seconds.\n",
            "You can set `force_col_wise=true` to remove the overhead.\n",
            "[LightGBM] [Info] Total Bins 2617\n",
            "[LightGBM] [Info] Number of data points in the train set: 1400, number of used features: 15\n",
            "[LightGBM] [Info] Start training from score -2.096733\n",
            "[LightGBM] [Info] Start training from score -2.132240\n",
            "[LightGBM] [Info] Start training from score -2.175323\n",
            "[LightGBM] [Info] Start training from score -2.181632\n",
            "[LightGBM] [Info] Start training from score -2.181632\n",
            "[LightGBM] [Info] Start training from score -2.233592\n",
            "[LightGBM] [Info] Start training from score -2.102564\n",
            "[LightGBM] [Info] Start training from score -2.181632\n",
            "[LightGBM] [Info] Start training from score -2.562096\n",
            "[LightGBM] [Warning] No further splits with positive gain, best gain: -inf\n",
            "[LightGBM] [Warning] No further splits with positive gain, best gain: -inf\n"
          ]
        },
        {
          "output_type": "stream",
          "name": "stderr",
          "text": [
            "[I 2024-04-03 17:35:17,210] Trial 2 finished with value: 0.9133333333333333 and parameters: {'num_leaves': 12, 'learning_rate': 0.01693244107416653}. Best is trial 2 with value: 0.9133333333333333.\n",
            "/usr/local/lib/python3.10/dist-packages/sklearn/preprocessing/_label.py:99: DataConversionWarning: A column-vector y was passed when a 1d array was expected. Please change the shape of y to (n_samples, ), for example using ravel().\n",
            "  y = column_or_1d(y, warn=True)\n",
            "/usr/local/lib/python3.10/dist-packages/sklearn/preprocessing/_label.py:134: DataConversionWarning: A column-vector y was passed when a 1d array was expected. Please change the shape of y to (n_samples, ), for example using ravel().\n",
            "  y = column_or_1d(y, dtype=self.classes_.dtype, warn=True)\n",
            "/usr/local/lib/python3.10/dist-packages/sklearn/preprocessing/_label.py:134: DataConversionWarning: A column-vector y was passed when a 1d array was expected. Please change the shape of y to (n_samples, ), for example using ravel().\n",
            "  y = column_or_1d(y, dtype=self.classes_.dtype, warn=True)\n"
          ]
        },
        {
          "output_type": "stream",
          "name": "stdout",
          "text": [
            "[LightGBM] [Info] Auto-choosing col-wise multi-threading, the overhead of testing was 0.000266 seconds.\n",
            "You can set `force_col_wise=true` to remove the overhead.\n",
            "[LightGBM] [Info] Total Bins 2617\n",
            "[LightGBM] [Info] Number of data points in the train set: 1400, number of used features: 15\n",
            "[LightGBM] [Info] Start training from score -2.096733\n",
            "[LightGBM] [Info] Start training from score -2.132240\n",
            "[LightGBM] [Info] Start training from score -2.175323\n",
            "[LightGBM] [Info] Start training from score -2.181632\n",
            "[LightGBM] [Info] Start training from score -2.181632\n",
            "[LightGBM] [Info] Start training from score -2.233592\n",
            "[LightGBM] [Info] Start training from score -2.102564\n",
            "[LightGBM] [Info] Start training from score -2.181632\n",
            "[LightGBM] [Info] Start training from score -2.562096\n",
            "[LightGBM] [Warning] No further splits with positive gain, best gain: -inf\n",
            "[LightGBM] [Warning] No further splits with positive gain, best gain: -inf\n",
            "[LightGBM] [Warning] No further splits with positive gain, best gain: -inf\n",
            "[LightGBM] [Warning] No further splits with positive gain, best gain: -inf\n",
            "[LightGBM] [Warning] No further splits with positive gain, best gain: -inf\n",
            "[LightGBM] [Warning] No further splits with positive gain, best gain: -inf\n",
            "[LightGBM] [Warning] No further splits with positive gain, best gain: -inf\n",
            "[LightGBM] [Warning] No further splits with positive gain, best gain: -inf\n",
            "[LightGBM] [Warning] No further splits with positive gain, best gain: -inf\n"
          ]
        },
        {
          "output_type": "stream",
          "name": "stderr",
          "text": [
            "[I 2024-04-03 17:35:18,344] Trial 3 finished with value: 0.9166666666666666 and parameters: {'num_leaves': 26, 'learning_rate': 0.014374555870472639}. Best is trial 2 with value: 0.9133333333333333.\n",
            "/usr/local/lib/python3.10/dist-packages/sklearn/preprocessing/_label.py:99: DataConversionWarning: A column-vector y was passed when a 1d array was expected. Please change the shape of y to (n_samples, ), for example using ravel().\n",
            "  y = column_or_1d(y, warn=True)\n",
            "/usr/local/lib/python3.10/dist-packages/sklearn/preprocessing/_label.py:134: DataConversionWarning: A column-vector y was passed when a 1d array was expected. Please change the shape of y to (n_samples, ), for example using ravel().\n",
            "  y = column_or_1d(y, dtype=self.classes_.dtype, warn=True)\n",
            "/usr/local/lib/python3.10/dist-packages/sklearn/preprocessing/_label.py:134: DataConversionWarning: A column-vector y was passed when a 1d array was expected. Please change the shape of y to (n_samples, ), for example using ravel().\n",
            "  y = column_or_1d(y, dtype=self.classes_.dtype, warn=True)\n"
          ]
        },
        {
          "output_type": "stream",
          "name": "stdout",
          "text": [
            "[LightGBM] [Info] Auto-choosing col-wise multi-threading, the overhead of testing was 0.000398 seconds.\n",
            "You can set `force_col_wise=true` to remove the overhead.\n",
            "[LightGBM] [Info] Total Bins 2617\n",
            "[LightGBM] [Info] Number of data points in the train set: 1400, number of used features: 15\n",
            "[LightGBM] [Info] Start training from score -2.096733\n",
            "[LightGBM] [Info] Start training from score -2.132240\n",
            "[LightGBM] [Info] Start training from score -2.175323\n",
            "[LightGBM] [Info] Start training from score -2.181632\n",
            "[LightGBM] [Info] Start training from score -2.181632\n",
            "[LightGBM] [Info] Start training from score -2.233592\n",
            "[LightGBM] [Info] Start training from score -2.102564\n",
            "[LightGBM] [Info] Start training from score -2.181632\n",
            "[LightGBM] [Info] Start training from score -2.562096\n",
            "[LightGBM] [Warning] No further splits with positive gain, best gain: -inf\n",
            "[LightGBM] [Warning] No further splits with positive gain, best gain: -inf\n",
            "[LightGBM] [Warning] No further splits with positive gain, best gain: -inf\n",
            "[LightGBM] [Warning] No further splits with positive gain, best gain: -inf\n",
            "[LightGBM] [Warning] No further splits with positive gain, best gain: -inf\n",
            "[LightGBM] [Warning] No further splits with positive gain, best gain: -inf\n",
            "[LightGBM] [Warning] No further splits with positive gain, best gain: -inf\n",
            "[LightGBM] [Warning] No further splits with positive gain, best gain: -inf\n",
            "[LightGBM] [Warning] No further splits with positive gain, best gain: -inf\n",
            "[LightGBM] [Warning] No further splits with positive gain, best gain: -inf\n",
            "[LightGBM] [Warning] No further splits with positive gain, best gain: -inf\n",
            "[LightGBM] [Warning] No further splits with positive gain, best gain: -inf\n",
            "[LightGBM] [Warning] No further splits with positive gain, best gain: -inf\n",
            "[LightGBM] [Warning] No further splits with positive gain, best gain: -inf\n",
            "[LightGBM] [Warning] No further splits with positive gain, best gain: -inf\n",
            "[LightGBM] [Warning] No further splits with positive gain, best gain: -inf\n",
            "[LightGBM] [Warning] No further splits with positive gain, best gain: -inf\n",
            "[LightGBM] [Warning] No further splits with positive gain, best gain: -inf\n",
            "[LightGBM] [Warning] No further splits with positive gain, best gain: -inf\n",
            "[LightGBM] [Warning] No further splits with positive gain, best gain: -inf\n",
            "[LightGBM] [Warning] No further splits with positive gain, best gain: -inf\n",
            "[LightGBM] [Warning] No further splits with positive gain, best gain: -inf\n",
            "[LightGBM] [Warning] No further splits with positive gain, best gain: -inf\n",
            "[LightGBM] [Warning] No further splits with positive gain, best gain: -inf\n",
            "[LightGBM] [Warning] No further splits with positive gain, best gain: -inf\n",
            "[LightGBM] [Warning] No further splits with positive gain, best gain: -inf\n",
            "[LightGBM] [Warning] No further splits with positive gain, best gain: -inf\n",
            "[LightGBM] [Warning] No further splits with positive gain, best gain: -inf\n",
            "[LightGBM] [Warning] No further splits with positive gain, best gain: -inf\n",
            "[LightGBM] [Warning] No further splits with positive gain, best gain: -inf\n",
            "[LightGBM] [Warning] No further splits with positive gain, best gain: -inf\n"
          ]
        },
        {
          "output_type": "stream",
          "name": "stderr",
          "text": [
            "[I 2024-04-03 17:35:19,729] Trial 4 finished with value: 0.9316666666666666 and parameters: {'num_leaves': 35, 'learning_rate': 0.06677377000139074}. Best is trial 2 with value: 0.9133333333333333.\n"
          ]
        }
      ]
    },
    {
      "cell_type": "code",
      "source": [
        "b_model = LGBMClassifier(num_leaves=35, learning_rate=0.06677377000139074, random_state=42)\n",
        "b_model.fit(X_train, y_train, eval_set=(X_test, y_test))\n",
        "\n",
        "b_results = b_model.predict(X_test)\n",
        "b_accuracy = accuracy_score(y_test, b_results)\n",
        "\n",
        "print(\"Best accuracy of LGBMClassifier:\", b_accuracy)"
      ],
      "metadata": {
        "colab": {
          "base_uri": "https://localhost:8080/"
        },
        "id": "tPJOxZ-i_LU5",
        "outputId": "cbe7870a-4924-4fb5-f9a3-cdcd08cb47ce"
      },
      "execution_count": 27,
      "outputs": [
        {
          "output_type": "stream",
          "name": "stderr",
          "text": [
            "/usr/local/lib/python3.10/dist-packages/sklearn/preprocessing/_label.py:99: DataConversionWarning: A column-vector y was passed when a 1d array was expected. Please change the shape of y to (n_samples, ), for example using ravel().\n",
            "  y = column_or_1d(y, warn=True)\n",
            "/usr/local/lib/python3.10/dist-packages/sklearn/preprocessing/_label.py:134: DataConversionWarning: A column-vector y was passed when a 1d array was expected. Please change the shape of y to (n_samples, ), for example using ravel().\n",
            "  y = column_or_1d(y, dtype=self.classes_.dtype, warn=True)\n",
            "/usr/local/lib/python3.10/dist-packages/sklearn/preprocessing/_label.py:134: DataConversionWarning: A column-vector y was passed when a 1d array was expected. Please change the shape of y to (n_samples, ), for example using ravel().\n",
            "  y = column_or_1d(y, dtype=self.classes_.dtype, warn=True)\n"
          ]
        },
        {
          "output_type": "stream",
          "name": "stdout",
          "text": [
            "[LightGBM] [Info] Auto-choosing col-wise multi-threading, the overhead of testing was 0.000253 seconds.\n",
            "You can set `force_col_wise=true` to remove the overhead.\n",
            "[LightGBM] [Info] Total Bins 2617\n",
            "[LightGBM] [Info] Number of data points in the train set: 1400, number of used features: 15\n",
            "[LightGBM] [Info] Start training from score -2.096733\n",
            "[LightGBM] [Info] Start training from score -2.132240\n",
            "[LightGBM] [Info] Start training from score -2.175323\n",
            "[LightGBM] [Info] Start training from score -2.181632\n",
            "[LightGBM] [Info] Start training from score -2.181632\n",
            "[LightGBM] [Info] Start training from score -2.233592\n",
            "[LightGBM] [Info] Start training from score -2.102564\n",
            "[LightGBM] [Info] Start training from score -2.181632\n",
            "[LightGBM] [Info] Start training from score -2.562096\n",
            "[LightGBM] [Warning] No further splits with positive gain, best gain: -inf\n",
            "[LightGBM] [Warning] No further splits with positive gain, best gain: -inf\n",
            "[LightGBM] [Warning] No further splits with positive gain, best gain: -inf\n",
            "[LightGBM] [Warning] No further splits with positive gain, best gain: -inf\n",
            "[LightGBM] [Warning] No further splits with positive gain, best gain: -inf\n",
            "[LightGBM] [Warning] No further splits with positive gain, best gain: -inf\n",
            "[LightGBM] [Warning] No further splits with positive gain, best gain: -inf\n",
            "[LightGBM] [Warning] No further splits with positive gain, best gain: -inf\n",
            "[LightGBM] [Warning] No further splits with positive gain, best gain: -inf\n",
            "[LightGBM] [Warning] No further splits with positive gain, best gain: -inf\n",
            "[LightGBM] [Warning] No further splits with positive gain, best gain: -inf\n",
            "[LightGBM] [Warning] No further splits with positive gain, best gain: -inf\n",
            "[LightGBM] [Warning] No further splits with positive gain, best gain: -inf\n",
            "[LightGBM] [Warning] No further splits with positive gain, best gain: -inf\n",
            "[LightGBM] [Warning] No further splits with positive gain, best gain: -inf\n",
            "[LightGBM] [Warning] No further splits with positive gain, best gain: -inf\n",
            "[LightGBM] [Warning] No further splits with positive gain, best gain: -inf\n",
            "[LightGBM] [Warning] No further splits with positive gain, best gain: -inf\n",
            "[LightGBM] [Warning] No further splits with positive gain, best gain: -inf\n",
            "[LightGBM] [Warning] No further splits with positive gain, best gain: -inf\n",
            "[LightGBM] [Warning] No further splits with positive gain, best gain: -inf\n",
            "[LightGBM] [Warning] No further splits with positive gain, best gain: -inf\n",
            "[LightGBM] [Warning] No further splits with positive gain, best gain: -inf\n",
            "[LightGBM] [Warning] No further splits with positive gain, best gain: -inf\n",
            "[LightGBM] [Warning] No further splits with positive gain, best gain: -inf\n",
            "[LightGBM] [Warning] No further splits with positive gain, best gain: -inf\n",
            "[LightGBM] [Warning] No further splits with positive gain, best gain: -inf\n",
            "[LightGBM] [Warning] No further splits with positive gain, best gain: -inf\n",
            "[LightGBM] [Warning] No further splits with positive gain, best gain: -inf\n",
            "[LightGBM] [Warning] No further splits with positive gain, best gain: -inf\n",
            "[LightGBM] [Warning] No further splits with positive gain, best gain: -inf\n",
            "Best accuracy of LGBMClassifier: 0.9316666666666666\n"
          ]
        }
      ]
    },
    {
      "cell_type": "code",
      "source": [
        "!pip install xgboost\n",
        "from xgboost import XGBClassifier\n",
        "from sklearn.preprocessing import LabelEncoder\n",
        "!pip install optuna -q\n",
        "import optuna\n",
        "\n",
        "def objective(trial):\n",
        "  X_train, X_test, y_train, y_test = train_test_split(X, LabelEncoder().fit_transform(y), test_size=0.3, random_state=42)\n",
        "\n",
        "  parameters = {\n",
        "    'max_depth': trial.suggest_int('max_depth', 1, 8),\n",
        "    'learning_rate': trial.suggest_float('learning_rate', 0.01, 0.1),\n",
        "  }\n",
        "\n",
        "  model = XGBClassifier(**parameters, random_state=42)\n",
        "  model.fit(X_train, y_train)\n",
        "\n",
        "  results = model.predict(X_test)\n",
        "  accuracy = accuracy_score(y_test, results)\n",
        "  return accuracy\n",
        "\n",
        "study = optuna.create_study()\n",
        "study.optimize(objective, n_trials=5)"
      ],
      "metadata": {
        "colab": {
          "base_uri": "https://localhost:8080/"
        },
        "id": "bp8V3NAR_fbB",
        "outputId": "3f49ae4e-e332-47d1-8376-a89ff45a95f2"
      },
      "execution_count": 29,
      "outputs": [
        {
          "output_type": "stream",
          "name": "stdout",
          "text": [
            "Requirement already satisfied: xgboost in /usr/local/lib/python3.10/dist-packages (2.0.3)\n",
            "Requirement already satisfied: numpy in /usr/local/lib/python3.10/dist-packages (from xgboost) (1.25.2)\n",
            "Requirement already satisfied: scipy in /usr/local/lib/python3.10/dist-packages (from xgboost) (1.11.4)\n"
          ]
        },
        {
          "output_type": "stream",
          "name": "stderr",
          "text": [
            "[I 2024-04-03 17:37:48,592] A new study created in memory with name: no-name-6a74bf89-de64-4d41-b2d3-14105bfc0106\n",
            "/usr/local/lib/python3.10/dist-packages/sklearn/preprocessing/_label.py:116: DataConversionWarning: A column-vector y was passed when a 1d array was expected. Please change the shape of y to (n_samples, ), for example using ravel().\n",
            "  y = column_or_1d(y, warn=True)\n",
            "[I 2024-04-03 17:37:49,679] Trial 0 finished with value: 0.9133333333333333 and parameters: {'max_depth': 7, 'learning_rate': 0.03932491062269535}. Best is trial 0 with value: 0.9133333333333333.\n",
            "/usr/local/lib/python3.10/dist-packages/sklearn/preprocessing/_label.py:116: DataConversionWarning: A column-vector y was passed when a 1d array was expected. Please change the shape of y to (n_samples, ), for example using ravel().\n",
            "  y = column_or_1d(y, warn=True)\n",
            "[I 2024-04-03 17:37:49,942] Trial 1 finished with value: 0.8183333333333334 and parameters: {'max_depth': 1, 'learning_rate': 0.010024807304876706}. Best is trial 1 with value: 0.8183333333333334.\n",
            "/usr/local/lib/python3.10/dist-packages/sklearn/preprocessing/_label.py:116: DataConversionWarning: A column-vector y was passed when a 1d array was expected. Please change the shape of y to (n_samples, ), for example using ravel().\n",
            "  y = column_or_1d(y, warn=True)\n",
            "[I 2024-04-03 17:37:50,942] Trial 2 finished with value: 0.9166666666666666 and parameters: {'max_depth': 7, 'learning_rate': 0.0612849754764596}. Best is trial 1 with value: 0.8183333333333334.\n",
            "/usr/local/lib/python3.10/dist-packages/sklearn/preprocessing/_label.py:116: DataConversionWarning: A column-vector y was passed when a 1d array was expected. Please change the shape of y to (n_samples, ), for example using ravel().\n",
            "  y = column_or_1d(y, warn=True)\n",
            "[I 2024-04-03 17:37:51,228] Trial 3 finished with value: 0.8583333333333333 and parameters: {'max_depth': 1, 'learning_rate': 0.03836567340770268}. Best is trial 1 with value: 0.8183333333333334.\n",
            "/usr/local/lib/python3.10/dist-packages/sklearn/preprocessing/_label.py:116: DataConversionWarning: A column-vector y was passed when a 1d array was expected. Please change the shape of y to (n_samples, ), for example using ravel().\n",
            "  y = column_or_1d(y, warn=True)\n",
            "[I 2024-04-03 17:37:52,198] Trial 4 finished with value: 0.9133333333333333 and parameters: {'max_depth': 7, 'learning_rate': 0.06780902270447964}. Best is trial 1 with value: 0.8183333333333334.\n"
          ]
        }
      ]
    },
    {
      "cell_type": "code",
      "source": [
        "X_train, X_test, y_train, y_test = train_test_split(X, LabelEncoder().fit_transform(y), test_size=0.3, random_state=42)\n",
        "b_model = XGBClassifier(max_depth=7, learning_rate=0.0612849754764596, random_state=42)\n",
        "b_model.fit(X_train, y_train)\n",
        "\n",
        "b_results = b_model.predict(X_test)\n",
        "b_accuracy = accuracy_score(y_test, b_results)\n",
        "\n",
        "print(\"Best accuracy of XGBClassifier:\", b_accuracy)"
      ],
      "metadata": {
        "colab": {
          "base_uri": "https://localhost:8080/"
        },
        "id": "60Gb-68IBWad",
        "outputId": "9cc6c881-4376-4641-b72a-d60bc96853d2"
      },
      "execution_count": 32,
      "outputs": [
        {
          "output_type": "stream",
          "name": "stderr",
          "text": [
            "/usr/local/lib/python3.10/dist-packages/sklearn/preprocessing/_label.py:116: DataConversionWarning: A column-vector y was passed when a 1d array was expected. Please change the shape of y to (n_samples, ), for example using ravel().\n",
            "  y = column_or_1d(y, warn=True)\n"
          ]
        },
        {
          "output_type": "stream",
          "name": "stdout",
          "text": [
            "Best accuracy of XGBClassifier: 0.9166666666666666\n"
          ]
        }
      ]
    },
    {
      "cell_type": "code",
      "source": [
        "from sklearn.ensemble import RandomForestClassifier\n",
        "!pip install optuna -q\n",
        "import optuna\n",
        "\n",
        "def objective(trial):\n",
        "  X_train, X_test, y_train, y_test = train_test_split(X, y, test_size=0.3, random_state=42)\n",
        "\n",
        "  parameters = {\n",
        "    'n_estimators': trial.suggest_int('n_estimators', 20, 100),\n",
        "    'max_depth': trial.suggest_int('max_depth', 1, 8),\n",
        "  }\n",
        "\n",
        "  model = RandomForestClassifier(**parameters, random_state=42)\n",
        "  model.fit(X_train, y_train)\n",
        "\n",
        "  results = model.predict(X_test)\n",
        "  accuracy = accuracy_score(y_test, results)\n",
        "  return accuracy\n",
        "\n",
        "study = optuna.create_study()\n",
        "study.optimize(objective, n_trials=5)"
      ],
      "metadata": {
        "colab": {
          "base_uri": "https://localhost:8080/"
        },
        "id": "4VMDQgZWCszH",
        "outputId": "c43ab8ce-190d-4692-c6ad-d6126b25dc32"
      },
      "execution_count": 33,
      "outputs": [
        {
          "output_type": "stream",
          "name": "stderr",
          "text": [
            "[I 2024-04-03 17:40:45,167] A new study created in memory with name: no-name-c78a95b5-1a9b-4c94-a07a-95e5c57d8bb6\n",
            "<ipython-input-33-4e18555fe0b7>:14: DataConversionWarning: A column-vector y was passed when a 1d array was expected. Please change the shape of y to (n_samples,), for example using ravel().\n",
            "  model.fit(X_train, y_train)\n",
            "[I 2024-04-03 17:40:45,841] Trial 0 finished with value: 0.8533333333333334 and parameters: {'n_estimators': 94, 'max_depth': 3}. Best is trial 0 with value: 0.8533333333333334.\n",
            "<ipython-input-33-4e18555fe0b7>:14: DataConversionWarning: A column-vector y was passed when a 1d array was expected. Please change the shape of y to (n_samples,), for example using ravel().\n",
            "  model.fit(X_train, y_train)\n",
            "[I 2024-04-03 17:40:46,746] Trial 1 finished with value: 0.9083333333333333 and parameters: {'n_estimators': 36, 'max_depth': 8}. Best is trial 0 with value: 0.8533333333333334.\n",
            "<ipython-input-33-4e18555fe0b7>:14: DataConversionWarning: A column-vector y was passed when a 1d array was expected. Please change the shape of y to (n_samples,), for example using ravel().\n",
            "  model.fit(X_train, y_train)\n",
            "[I 2024-04-03 17:40:48,011] Trial 2 finished with value: 0.88 and parameters: {'n_estimators': 57, 'max_depth': 5}. Best is trial 0 with value: 0.8533333333333334.\n",
            "<ipython-input-33-4e18555fe0b7>:14: DataConversionWarning: A column-vector y was passed when a 1d array was expected. Please change the shape of y to (n_samples,), for example using ravel().\n",
            "  model.fit(X_train, y_train)\n",
            "[I 2024-04-03 17:40:48,501] Trial 3 finished with value: 0.8383333333333334 and parameters: {'n_estimators': 55, 'max_depth': 3}. Best is trial 3 with value: 0.8383333333333334.\n",
            "<ipython-input-33-4e18555fe0b7>:14: DataConversionWarning: A column-vector y was passed when a 1d array was expected. Please change the shape of y to (n_samples,), for example using ravel().\n",
            "  model.fit(X_train, y_train)\n",
            "[I 2024-04-03 17:40:48,951] Trial 4 finished with value: 0.8583333333333333 and parameters: {'n_estimators': 58, 'max_depth': 4}. Best is trial 3 with value: 0.8383333333333334.\n"
          ]
        }
      ]
    },
    {
      "cell_type": "code",
      "source": [
        "b_model = RandomForestClassifier(n_estimators=36, max_depth=8, random_state=42)\n",
        "b_model.fit(X_train, y_train)\n",
        "\n",
        "b_results = b_model.predict(X_test)\n",
        "b_accuracy = accuracy_score(y_test, b_results)\n",
        "\n",
        "print(\"Best accuracy of RandomForestClassifier:\", b_accuracy)"
      ],
      "metadata": {
        "colab": {
          "base_uri": "https://localhost:8080/"
        },
        "id": "L2wy5V2dDFxv",
        "outputId": "a210f525-5ff4-44b7-cdd7-016a3684f27a"
      },
      "execution_count": 34,
      "outputs": [
        {
          "output_type": "stream",
          "name": "stdout",
          "text": [
            "Best accuracy of RandomForestClassifier: 0.9083333333333333\n"
          ]
        }
      ]
    },
    {
      "cell_type": "markdown",
      "metadata": {
        "id": "O2utYsm3mShl"
      },
      "source": [
        "### Общая информация о блендинге"
      ]
    },
    {
      "cell_type": "markdown",
      "metadata": {
        "id": "-JNyyolfbuh1"
      },
      "source": [
        "**Основная идея** — взять от каждого алгоритма лучшее и совместить несколько разных ML-моделей в одну.\n",
        "\n",
        "Что это дает:\n",
        "- Увеличивается обобщающая способность финальной модели и качество улучшается.\n",
        "- Модель становится более стабильной, что позволяет не слететь на приватном лидерборде.\n",
        "\n",
        "Особенно хорошо накидывает блендинг, если смешиваемые модели имеют разную природу — например, нейронные сети, kNN и решающие деревья. Они выучивают разные зависимости и хорошо дополняют друг друга.\n",
        "\n",
        "</div>"
      ]
    },
    {
      "cell_type": "markdown",
      "metadata": {
        "id": "C5w0RwnYbuh3"
      },
      "source": [
        "# <center id=\"part6\"> Отправка финального решения на лидерборд на Kaggle"
      ]
    },
    {
      "cell_type": "markdown",
      "metadata": {
        "id": "wpt2Bdimbuh3"
      },
      "source": [
        "<div class=\"alert alert-info\">\n",
        "\n",
        "**Цель блока** — сделать предсказание с помощью блендинга для тестовой части датасета, отправить результат [в соревнование на Kaggle](https://www.kaggle.com/competitions/competative-data-science-course-by-data-feeling/overview)."
      ]
    },
    {
      "cell_type": "markdown",
      "metadata": {
        "id": "gfYqF37Cbuh3"
      },
      "source": [
        "## Задание 8. Предсказание на тестовом датасете и отправка на Kaggle"
      ]
    },
    {
      "cell_type": "markdown",
      "metadata": {
        "id": "m_ExuGjabuh3"
      },
      "source": [
        "1. Сделать предобработку для тестового датасета, присоединить к нему информацию из других датасетов и добавить признаки, которые генерировали для тренировочного датасета.\n",
        "2. Сделать предсказания каждой моделью, которую хотите включить в ансамбль, но минимум их должно быть 3.\n",
        "3. Сделать блендинг с помощью `Hard Voting` или `Soft Voting` на ваш выбор.\n",
        "4. Сохранить результат предсказания в `csv` файл и отправить решение на Kaggle.\n",
        "    \n",
        "<h4> Критерии оценивания </h4>\n",
        "    \n",
        "- 0 баллов за задание, если итоговый скор на лидерборде меньше чем `0.9`.\n",
        "- 1 балл за каждый выполненный пункт.\n",
        "\n",
        "</div>"
      ]
    },
    {
      "cell_type": "code",
      "execution_count": null,
      "metadata": {
        "id": "Cnp6usAybuh4"
      },
      "outputs": [],
      "source": [
        "car_test = pd.read_csv('https://raw.githubusercontent.com/a-milenkin/Competitive_Data_Science/main/data/car_test.csv')\n",
        "car_test.head(3)"
      ]
    },
    {
      "cell_type": "code",
      "execution_count": null,
      "metadata": {
        "id": "ZEZhf8gabuh4"
      },
      "outputs": [],
      "source": [
        "# YOUR CODE HERE"
      ]
    },
    {
      "cell_type": "markdown",
      "metadata": {
        "id": "cUuphISJbuh4"
      },
      "source": [
        "### Советы по отправке кода на Kaggle\n"
      ]
    },
    {
      "cell_type": "markdown",
      "metadata": {
        "id": "ZAQLSpKWu4aI"
      },
      "source": [
        "\n",
        "Если пишете код на `Kaggle`, то для отправки решения:\n",
        "\n",
        "1. Нажать Save Version.\n",
        "2. Проверить, что в Advanced Settings выбрано «Всегда сохранять результаты ноутбука».\n",
        "3. Выбрать тип сохранения Save & Run All (Commit).\n",
        "4. Нажать кнопку Save."
      ]
    }
  ],
  "metadata": {
    "colab": {
      "provenance": []
    },
    "kernelspec": {
      "display_name": "Python 3 (ipykernel)",
      "language": "python",
      "name": "python3"
    },
    "language_info": {
      "codemirror_mode": {
        "name": "ipython",
        "version": 3
      },
      "file_extension": ".py",
      "mimetype": "text/x-python",
      "name": "python",
      "nbconvert_exporter": "python",
      "pygments_lexer": "ipython3",
      "version": "3.10.13"
    }
  },
  "nbformat": 4,
  "nbformat_minor": 0
}