{
  "cells": [
    {
      "cell_type": "markdown",
      "metadata": {
        "id": "_Yx1Mi7abuht"
      },
      "source": [
        "# План домашних заданий"
      ]
    },
    {
      "cell_type": "markdown",
      "source": [
        "\n",
        "- Описание задачи и знакомство с данными\n",
        "- Домашнее задание 1. Генерация и фильтрация признаков\n",
        "- Домашнее задание 2. Прогноз времени и вида поломки машин, настройка ML-модели\n",
        "- Дополнительное задание. Визуализация прогнозов, ошибок модели и важности признаков\n",
        "- Домашнее задание 3. Оптимизация. Тюнинг гиперпараметров с помощью `Optuna`\n",
        "- Домашнее задание 4. Блендинг\n",
        "- Домашнее задание 5. Парсинг внешних данных и оптимизация памяти\n",
        "- Отправка финального решения на лидерборд на Kaggle"
      ],
      "metadata": {
        "id": "_HK3X8tveQhH"
      }
    },
    {
      "cell_type": "code",
      "execution_count": 1,
      "metadata": {
        "tags": [],
        "id": "cfomgq3Sbuht"
      },
      "outputs": [],
      "source": [
        "import pandas as pd\n",
        "import numpy as np\n",
        "import matplotlib.pyplot as plt\n",
        "import seaborn as sns"
      ]
    },
    {
      "cell_type": "markdown",
      "metadata": {
        "id": "fkeIBE5Kbuht"
      },
      "source": [
        "# <center id=\"part0\"> Описание задачи"
      ]
    },
    {
      "cell_type": "markdown",
      "metadata": {
        "id": "MKmknPZbbuht"
      },
      "source": [
        "**Предыстория:**  мы работаем с каршеринговой компанией, которая управляет крупным автопарком машин. Наша цель — предотвратить длительные периоды простоя машин из-за поломок через своевременное обслуживание и ремонт.\n",
        "\n",
        "\n",
        "**Идея для решения проблемы:** создать приоритизированный список обхода машин. Этот список поможет технической бригаде сосредоточиться на автомобилях, которые наиболее вероятно выйдут из строя в ближайшее время.\n",
        "\n",
        "\n",
        "**Как компания решает задачу:**\n",
        "\n",
        "* Собирает данные о поездках и состоянии машин до поломок.\n",
        "\n",
        "* Нанимает Data Scientist, чтобы он смог использовать эти данные для анализа и прогнозирования характера поломок.\n",
        "\n",
        "**Важный момент**: задачи этого специалиста (Data Scientist) предстоит выполнять вам."
      ]
    },
    {
      "cell_type": "markdown",
      "metadata": {
        "id": "-VMB1MVpbuhu"
      },
      "source": [
        "## <center> Знакомство с данными"
      ]
    },
    {
      "cell_type": "markdown",
      "metadata": {
        "id": "TtZE_Frrbuhu"
      },
      "source": [
        "### Информация про машины с таргетом (основной датасет)"
      ]
    },
    {
      "cell_type": "code",
      "execution_count": 2,
      "metadata": {
        "tags": [],
        "id": "DhA6zYqebuhu",
        "outputId": "ae3fdb77-83e4-45e7-d163-24ceade11732",
        "colab": {
          "base_uri": "https://localhost:8080/",
          "height": 206
        }
      },
      "outputs": [
        {
          "output_type": "execute_result",
          "data": {
            "text/plain": [
              "          car_id            model  car_type fuel_type  car_rating  \\\n",
              "1164  O20152474b   Kia Rio X-line   economy    petrol        4.70   \n",
              "2222  f-1883871J          VW Polo   economy    petrol        4.22   \n",
              "446   k55997232L  Hyundai Solaris   economy    petrol        4.76   \n",
              "1105  T12624719o  Renault Sandero  standart    petrol        4.18   \n",
              "646   Y-4198316J        VW Tiguan   economy    petrol        4.86   \n",
              "\n",
              "      year_to_start  riders  year_to_work  target_reg     target_class  \n",
              "1164           2013   37888          2020       53.58     engine_check  \n",
              "2222           2013   49285          2021       43.47        break_bug  \n",
              "446            2014   65451          2014       34.02       gear_stick  \n",
              "1105           2013   38993          2018       44.77      another_bug  \n",
              "646            2014   59714          2020       71.85  engine_ignition  "
            ],
            "text/html": [
              "\n",
              "  <div id=\"df-eaec7386-9654-4624-9351-b00dc3b8fa7a\" class=\"colab-df-container\">\n",
              "    <div>\n",
              "<style scoped>\n",
              "    .dataframe tbody tr th:only-of-type {\n",
              "        vertical-align: middle;\n",
              "    }\n",
              "\n",
              "    .dataframe tbody tr th {\n",
              "        vertical-align: top;\n",
              "    }\n",
              "\n",
              "    .dataframe thead th {\n",
              "        text-align: right;\n",
              "    }\n",
              "</style>\n",
              "<table border=\"1\" class=\"dataframe\">\n",
              "  <thead>\n",
              "    <tr style=\"text-align: right;\">\n",
              "      <th></th>\n",
              "      <th>car_id</th>\n",
              "      <th>model</th>\n",
              "      <th>car_type</th>\n",
              "      <th>fuel_type</th>\n",
              "      <th>car_rating</th>\n",
              "      <th>year_to_start</th>\n",
              "      <th>riders</th>\n",
              "      <th>year_to_work</th>\n",
              "      <th>target_reg</th>\n",
              "      <th>target_class</th>\n",
              "    </tr>\n",
              "  </thead>\n",
              "  <tbody>\n",
              "    <tr>\n",
              "      <th>1164</th>\n",
              "      <td>O20152474b</td>\n",
              "      <td>Kia Rio X-line</td>\n",
              "      <td>economy</td>\n",
              "      <td>petrol</td>\n",
              "      <td>4.70</td>\n",
              "      <td>2013</td>\n",
              "      <td>37888</td>\n",
              "      <td>2020</td>\n",
              "      <td>53.58</td>\n",
              "      <td>engine_check</td>\n",
              "    </tr>\n",
              "    <tr>\n",
              "      <th>2222</th>\n",
              "      <td>f-1883871J</td>\n",
              "      <td>VW Polo</td>\n",
              "      <td>economy</td>\n",
              "      <td>petrol</td>\n",
              "      <td>4.22</td>\n",
              "      <td>2013</td>\n",
              "      <td>49285</td>\n",
              "      <td>2021</td>\n",
              "      <td>43.47</td>\n",
              "      <td>break_bug</td>\n",
              "    </tr>\n",
              "    <tr>\n",
              "      <th>446</th>\n",
              "      <td>k55997232L</td>\n",
              "      <td>Hyundai Solaris</td>\n",
              "      <td>economy</td>\n",
              "      <td>petrol</td>\n",
              "      <td>4.76</td>\n",
              "      <td>2014</td>\n",
              "      <td>65451</td>\n",
              "      <td>2014</td>\n",
              "      <td>34.02</td>\n",
              "      <td>gear_stick</td>\n",
              "    </tr>\n",
              "    <tr>\n",
              "      <th>1105</th>\n",
              "      <td>T12624719o</td>\n",
              "      <td>Renault Sandero</td>\n",
              "      <td>standart</td>\n",
              "      <td>petrol</td>\n",
              "      <td>4.18</td>\n",
              "      <td>2013</td>\n",
              "      <td>38993</td>\n",
              "      <td>2018</td>\n",
              "      <td>44.77</td>\n",
              "      <td>another_bug</td>\n",
              "    </tr>\n",
              "    <tr>\n",
              "      <th>646</th>\n",
              "      <td>Y-4198316J</td>\n",
              "      <td>VW Tiguan</td>\n",
              "      <td>economy</td>\n",
              "      <td>petrol</td>\n",
              "      <td>4.86</td>\n",
              "      <td>2014</td>\n",
              "      <td>59714</td>\n",
              "      <td>2020</td>\n",
              "      <td>71.85</td>\n",
              "      <td>engine_ignition</td>\n",
              "    </tr>\n",
              "  </tbody>\n",
              "</table>\n",
              "</div>\n",
              "    <div class=\"colab-df-buttons\">\n",
              "\n",
              "  <div class=\"colab-df-container\">\n",
              "    <button class=\"colab-df-convert\" onclick=\"convertToInteractive('df-eaec7386-9654-4624-9351-b00dc3b8fa7a')\"\n",
              "            title=\"Convert this dataframe to an interactive table.\"\n",
              "            style=\"display:none;\">\n",
              "\n",
              "  <svg xmlns=\"http://www.w3.org/2000/svg\" height=\"24px\" viewBox=\"0 -960 960 960\">\n",
              "    <path d=\"M120-120v-720h720v720H120Zm60-500h600v-160H180v160Zm220 220h160v-160H400v160Zm0 220h160v-160H400v160ZM180-400h160v-160H180v160Zm440 0h160v-160H620v160ZM180-180h160v-160H180v160Zm440 0h160v-160H620v160Z\"/>\n",
              "  </svg>\n",
              "    </button>\n",
              "\n",
              "  <style>\n",
              "    .colab-df-container {\n",
              "      display:flex;\n",
              "      gap: 12px;\n",
              "    }\n",
              "\n",
              "    .colab-df-convert {\n",
              "      background-color: #E8F0FE;\n",
              "      border: none;\n",
              "      border-radius: 50%;\n",
              "      cursor: pointer;\n",
              "      display: none;\n",
              "      fill: #1967D2;\n",
              "      height: 32px;\n",
              "      padding: 0 0 0 0;\n",
              "      width: 32px;\n",
              "    }\n",
              "\n",
              "    .colab-df-convert:hover {\n",
              "      background-color: #E2EBFA;\n",
              "      box-shadow: 0px 1px 2px rgba(60, 64, 67, 0.3), 0px 1px 3px 1px rgba(60, 64, 67, 0.15);\n",
              "      fill: #174EA6;\n",
              "    }\n",
              "\n",
              "    .colab-df-buttons div {\n",
              "      margin-bottom: 4px;\n",
              "    }\n",
              "\n",
              "    [theme=dark] .colab-df-convert {\n",
              "      background-color: #3B4455;\n",
              "      fill: #D2E3FC;\n",
              "    }\n",
              "\n",
              "    [theme=dark] .colab-df-convert:hover {\n",
              "      background-color: #434B5C;\n",
              "      box-shadow: 0px 1px 3px 1px rgba(0, 0, 0, 0.15);\n",
              "      filter: drop-shadow(0px 1px 2px rgba(0, 0, 0, 0.3));\n",
              "      fill: #FFFFFF;\n",
              "    }\n",
              "  </style>\n",
              "\n",
              "    <script>\n",
              "      const buttonEl =\n",
              "        document.querySelector('#df-eaec7386-9654-4624-9351-b00dc3b8fa7a button.colab-df-convert');\n",
              "      buttonEl.style.display =\n",
              "        google.colab.kernel.accessAllowed ? 'block' : 'none';\n",
              "\n",
              "      async function convertToInteractive(key) {\n",
              "        const element = document.querySelector('#df-eaec7386-9654-4624-9351-b00dc3b8fa7a');\n",
              "        const dataTable =\n",
              "          await google.colab.kernel.invokeFunction('convertToInteractive',\n",
              "                                                    [key], {});\n",
              "        if (!dataTable) return;\n",
              "\n",
              "        const docLinkHtml = 'Like what you see? Visit the ' +\n",
              "          '<a target=\"_blank\" href=https://colab.research.google.com/notebooks/data_table.ipynb>data table notebook</a>'\n",
              "          + ' to learn more about interactive tables.';\n",
              "        element.innerHTML = '';\n",
              "        dataTable['output_type'] = 'display_data';\n",
              "        await google.colab.output.renderOutput(dataTable, element);\n",
              "        const docLink = document.createElement('div');\n",
              "        docLink.innerHTML = docLinkHtml;\n",
              "        element.appendChild(docLink);\n",
              "      }\n",
              "    </script>\n",
              "  </div>\n",
              "\n",
              "\n",
              "<div id=\"df-94a40463-2d9b-483e-8b1c-6acb20b2da22\">\n",
              "  <button class=\"colab-df-quickchart\" onclick=\"quickchart('df-94a40463-2d9b-483e-8b1c-6acb20b2da22')\"\n",
              "            title=\"Suggest charts\"\n",
              "            style=\"display:none;\">\n",
              "\n",
              "<svg xmlns=\"http://www.w3.org/2000/svg\" height=\"24px\"viewBox=\"0 0 24 24\"\n",
              "     width=\"24px\">\n",
              "    <g>\n",
              "        <path d=\"M19 3H5c-1.1 0-2 .9-2 2v14c0 1.1.9 2 2 2h14c1.1 0 2-.9 2-2V5c0-1.1-.9-2-2-2zM9 17H7v-7h2v7zm4 0h-2V7h2v10zm4 0h-2v-4h2v4z\"/>\n",
              "    </g>\n",
              "</svg>\n",
              "  </button>\n",
              "\n",
              "<style>\n",
              "  .colab-df-quickchart {\n",
              "      --bg-color: #E8F0FE;\n",
              "      --fill-color: #1967D2;\n",
              "      --hover-bg-color: #E2EBFA;\n",
              "      --hover-fill-color: #174EA6;\n",
              "      --disabled-fill-color: #AAA;\n",
              "      --disabled-bg-color: #DDD;\n",
              "  }\n",
              "\n",
              "  [theme=dark] .colab-df-quickchart {\n",
              "      --bg-color: #3B4455;\n",
              "      --fill-color: #D2E3FC;\n",
              "      --hover-bg-color: #434B5C;\n",
              "      --hover-fill-color: #FFFFFF;\n",
              "      --disabled-bg-color: #3B4455;\n",
              "      --disabled-fill-color: #666;\n",
              "  }\n",
              "\n",
              "  .colab-df-quickchart {\n",
              "    background-color: var(--bg-color);\n",
              "    border: none;\n",
              "    border-radius: 50%;\n",
              "    cursor: pointer;\n",
              "    display: none;\n",
              "    fill: var(--fill-color);\n",
              "    height: 32px;\n",
              "    padding: 0;\n",
              "    width: 32px;\n",
              "  }\n",
              "\n",
              "  .colab-df-quickchart:hover {\n",
              "    background-color: var(--hover-bg-color);\n",
              "    box-shadow: 0 1px 2px rgba(60, 64, 67, 0.3), 0 1px 3px 1px rgba(60, 64, 67, 0.15);\n",
              "    fill: var(--button-hover-fill-color);\n",
              "  }\n",
              "\n",
              "  .colab-df-quickchart-complete:disabled,\n",
              "  .colab-df-quickchart-complete:disabled:hover {\n",
              "    background-color: var(--disabled-bg-color);\n",
              "    fill: var(--disabled-fill-color);\n",
              "    box-shadow: none;\n",
              "  }\n",
              "\n",
              "  .colab-df-spinner {\n",
              "    border: 2px solid var(--fill-color);\n",
              "    border-color: transparent;\n",
              "    border-bottom-color: var(--fill-color);\n",
              "    animation:\n",
              "      spin 1s steps(1) infinite;\n",
              "  }\n",
              "\n",
              "  @keyframes spin {\n",
              "    0% {\n",
              "      border-color: transparent;\n",
              "      border-bottom-color: var(--fill-color);\n",
              "      border-left-color: var(--fill-color);\n",
              "    }\n",
              "    20% {\n",
              "      border-color: transparent;\n",
              "      border-left-color: var(--fill-color);\n",
              "      border-top-color: var(--fill-color);\n",
              "    }\n",
              "    30% {\n",
              "      border-color: transparent;\n",
              "      border-left-color: var(--fill-color);\n",
              "      border-top-color: var(--fill-color);\n",
              "      border-right-color: var(--fill-color);\n",
              "    }\n",
              "    40% {\n",
              "      border-color: transparent;\n",
              "      border-right-color: var(--fill-color);\n",
              "      border-top-color: var(--fill-color);\n",
              "    }\n",
              "    60% {\n",
              "      border-color: transparent;\n",
              "      border-right-color: var(--fill-color);\n",
              "    }\n",
              "    80% {\n",
              "      border-color: transparent;\n",
              "      border-right-color: var(--fill-color);\n",
              "      border-bottom-color: var(--fill-color);\n",
              "    }\n",
              "    90% {\n",
              "      border-color: transparent;\n",
              "      border-bottom-color: var(--fill-color);\n",
              "    }\n",
              "  }\n",
              "</style>\n",
              "\n",
              "  <script>\n",
              "    async function quickchart(key) {\n",
              "      const quickchartButtonEl =\n",
              "        document.querySelector('#' + key + ' button');\n",
              "      quickchartButtonEl.disabled = true;  // To prevent multiple clicks.\n",
              "      quickchartButtonEl.classList.add('colab-df-spinner');\n",
              "      try {\n",
              "        const charts = await google.colab.kernel.invokeFunction(\n",
              "            'suggestCharts', [key], {});\n",
              "      } catch (error) {\n",
              "        console.error('Error during call to suggestCharts:', error);\n",
              "      }\n",
              "      quickchartButtonEl.classList.remove('colab-df-spinner');\n",
              "      quickchartButtonEl.classList.add('colab-df-quickchart-complete');\n",
              "    }\n",
              "    (() => {\n",
              "      let quickchartButtonEl =\n",
              "        document.querySelector('#df-94a40463-2d9b-483e-8b1c-6acb20b2da22 button');\n",
              "      quickchartButtonEl.style.display =\n",
              "        google.colab.kernel.accessAllowed ? 'block' : 'none';\n",
              "    })();\n",
              "  </script>\n",
              "</div>\n",
              "    </div>\n",
              "  </div>\n"
            ],
            "application/vnd.google.colaboratory.intrinsic+json": {
              "type": "dataframe",
              "summary": "{\n  \"name\": \"car_train\",\n  \"rows\": 5,\n  \"fields\": [\n    {\n      \"column\": \"car_id\",\n      \"properties\": {\n        \"dtype\": \"string\",\n        \"num_unique_values\": 5,\n        \"samples\": [\n          \"f-1883871J\",\n          \"Y-4198316J\",\n          \"k55997232L\"\n        ],\n        \"semantic_type\": \"\",\n        \"description\": \"\"\n      }\n    },\n    {\n      \"column\": \"model\",\n      \"properties\": {\n        \"dtype\": \"string\",\n        \"num_unique_values\": 5,\n        \"samples\": [\n          \"VW Polo\",\n          \"VW Tiguan\",\n          \"Hyundai Solaris\"\n        ],\n        \"semantic_type\": \"\",\n        \"description\": \"\"\n      }\n    },\n    {\n      \"column\": \"car_type\",\n      \"properties\": {\n        \"dtype\": \"category\",\n        \"num_unique_values\": 2,\n        \"samples\": [\n          \"standart\",\n          \"economy\"\n        ],\n        \"semantic_type\": \"\",\n        \"description\": \"\"\n      }\n    },\n    {\n      \"column\": \"fuel_type\",\n      \"properties\": {\n        \"dtype\": \"category\",\n        \"num_unique_values\": 1,\n        \"samples\": [\n          \"petrol\"\n        ],\n        \"semantic_type\": \"\",\n        \"description\": \"\"\n      }\n    },\n    {\n      \"column\": \"car_rating\",\n      \"properties\": {\n        \"dtype\": \"number\",\n        \"std\": 0.31949960876345396,\n        \"min\": 4.18,\n        \"max\": 4.86,\n        \"num_unique_values\": 5,\n        \"samples\": [\n          4.22\n        ],\n        \"semantic_type\": \"\",\n        \"description\": \"\"\n      }\n    },\n    {\n      \"column\": \"year_to_start\",\n      \"properties\": {\n        \"dtype\": \"number\",\n        \"std\": 0,\n        \"min\": 2013,\n        \"max\": 2014,\n        \"num_unique_values\": 2,\n        \"samples\": [\n          2014\n        ],\n        \"semantic_type\": \"\",\n        \"description\": \"\"\n      }\n    },\n    {\n      \"column\": \"riders\",\n      \"properties\": {\n        \"dtype\": \"number\",\n        \"std\": 12258,\n        \"min\": 37888,\n        \"max\": 65451,\n        \"num_unique_values\": 5,\n        \"samples\": [\n          49285\n        ],\n        \"semantic_type\": \"\",\n        \"description\": \"\"\n      }\n    },\n    {\n      \"column\": \"year_to_work\",\n      \"properties\": {\n        \"dtype\": \"number\",\n        \"std\": 2,\n        \"min\": 2014,\n        \"max\": 2021,\n        \"num_unique_values\": 4,\n        \"samples\": [\n          2021\n        ],\n        \"semantic_type\": \"\",\n        \"description\": \"\"\n      }\n    },\n    {\n      \"column\": \"target_reg\",\n      \"properties\": {\n        \"dtype\": \"number\",\n        \"std\": 14.269949894796405,\n        \"min\": 34.02,\n        \"max\": 71.85,\n        \"num_unique_values\": 5,\n        \"samples\": [\n          43.47\n        ],\n        \"semantic_type\": \"\",\n        \"description\": \"\"\n      }\n    },\n    {\n      \"column\": \"target_class\",\n      \"properties\": {\n        \"dtype\": \"string\",\n        \"num_unique_values\": 5,\n        \"samples\": [\n          \"break_bug\"\n        ],\n        \"semantic_type\": \"\",\n        \"description\": \"\"\n      }\n    }\n  ]\n}"
            }
          },
          "metadata": {},
          "execution_count": 2
        }
      ],
      "source": [
        "car_train = pd.read_csv('https://raw.githubusercontent.com/a-milenkin/Competitive_Data_Science/main/data/car_train.csv')\n",
        "car_train.sample(5)"
      ]
    },
    {
      "cell_type": "markdown",
      "metadata": {
        "id": "AWvQSnafbuhu"
      },
      "source": [
        "- `car_id` — идентификатор машины\n",
        "- `model` / `car_type` / `fuel_type` — марка, класс и тип топлива машины\n",
        "- `car_rating` / `riders` — общий рейтинг и общее число поездок к концу 2021 года\n",
        "- `year_to_start` / `year_to_work` — год выпуска машины и год начала работы в автопарке\n",
        "- `target_reg` — количество дней до поломки\n",
        "- `target_class` — класс поломки (всего 9 видов)"
      ]
    },
    {
      "cell_type": "markdown",
      "metadata": {
        "id": "6KWf2LgObuhu"
      },
      "source": [
        "### Информация про поездки"
      ]
    },
    {
      "cell_type": "code",
      "execution_count": 3,
      "metadata": {
        "tags": [],
        "id": "pDc5gXzbbuhu",
        "outputId": "45e00039-ee8f-41c4-83ba-3c216bb19ce6",
        "colab": {
          "base_uri": "https://localhost:8080/",
          "height": 206
        }
      },
      "outputs": [
        {
          "output_type": "execute_result",
          "data": {
            "text/plain": [
              "           user_id      car_id ride_id   ride_date  rating  ride_duration  \\\n",
              "377887  Y38145304r  a87403235S     c1K  2020-03-11    8.47             51   \n",
              "495897  z51821700c  i93529341g     Q1R  2020-03-31    3.04             23   \n",
              "467925  s12724295c  h-1344515n     X1o  2020-01-22    4.95             22   \n",
              "399112  Y47220550q  c-5615180M     G1i  2020-03-09    7.52            234   \n",
              "10924   E10966190J  A18130070W     p1X  2020-03-13    5.30             44   \n",
              "\n",
              "        ride_cost  speed_avg   speed_max  stop_times     distance  refueling  \\\n",
              "377887        708         41   56.245998           0  2154.663684          0   \n",
              "495897        361         36   53.000000           2   830.184584          0   \n",
              "467925        302         77  160.768588           0   894.000461          0   \n",
              "399112       7014         35   80.000000           3  1735.067497          0   \n",
              "10924         435         61  157.740043           0  2592.375128          0   \n",
              "\n",
              "        user_ride_quality  deviation_normal  \n",
              "377887          -1.971607             2.522  \n",
              "495897           6.300553           -11.013  \n",
              "467925           3.124802            25.602  \n",
              "399112           1.717144           -13.844  \n",
              "10924          -23.959351            48.462  "
            ],
            "text/html": [
              "\n",
              "  <div id=\"df-2184635e-be29-4701-819c-704be5513540\" class=\"colab-df-container\">\n",
              "    <div>\n",
              "<style scoped>\n",
              "    .dataframe tbody tr th:only-of-type {\n",
              "        vertical-align: middle;\n",
              "    }\n",
              "\n",
              "    .dataframe tbody tr th {\n",
              "        vertical-align: top;\n",
              "    }\n",
              "\n",
              "    .dataframe thead th {\n",
              "        text-align: right;\n",
              "    }\n",
              "</style>\n",
              "<table border=\"1\" class=\"dataframe\">\n",
              "  <thead>\n",
              "    <tr style=\"text-align: right;\">\n",
              "      <th></th>\n",
              "      <th>user_id</th>\n",
              "      <th>car_id</th>\n",
              "      <th>ride_id</th>\n",
              "      <th>ride_date</th>\n",
              "      <th>rating</th>\n",
              "      <th>ride_duration</th>\n",
              "      <th>ride_cost</th>\n",
              "      <th>speed_avg</th>\n",
              "      <th>speed_max</th>\n",
              "      <th>stop_times</th>\n",
              "      <th>distance</th>\n",
              "      <th>refueling</th>\n",
              "      <th>user_ride_quality</th>\n",
              "      <th>deviation_normal</th>\n",
              "    </tr>\n",
              "  </thead>\n",
              "  <tbody>\n",
              "    <tr>\n",
              "      <th>377887</th>\n",
              "      <td>Y38145304r</td>\n",
              "      <td>a87403235S</td>\n",
              "      <td>c1K</td>\n",
              "      <td>2020-03-11</td>\n",
              "      <td>8.47</td>\n",
              "      <td>51</td>\n",
              "      <td>708</td>\n",
              "      <td>41</td>\n",
              "      <td>56.245998</td>\n",
              "      <td>0</td>\n",
              "      <td>2154.663684</td>\n",
              "      <td>0</td>\n",
              "      <td>-1.971607</td>\n",
              "      <td>2.522</td>\n",
              "    </tr>\n",
              "    <tr>\n",
              "      <th>495897</th>\n",
              "      <td>z51821700c</td>\n",
              "      <td>i93529341g</td>\n",
              "      <td>Q1R</td>\n",
              "      <td>2020-03-31</td>\n",
              "      <td>3.04</td>\n",
              "      <td>23</td>\n",
              "      <td>361</td>\n",
              "      <td>36</td>\n",
              "      <td>53.000000</td>\n",
              "      <td>2</td>\n",
              "      <td>830.184584</td>\n",
              "      <td>0</td>\n",
              "      <td>6.300553</td>\n",
              "      <td>-11.013</td>\n",
              "    </tr>\n",
              "    <tr>\n",
              "      <th>467925</th>\n",
              "      <td>s12724295c</td>\n",
              "      <td>h-1344515n</td>\n",
              "      <td>X1o</td>\n",
              "      <td>2020-01-22</td>\n",
              "      <td>4.95</td>\n",
              "      <td>22</td>\n",
              "      <td>302</td>\n",
              "      <td>77</td>\n",
              "      <td>160.768588</td>\n",
              "      <td>0</td>\n",
              "      <td>894.000461</td>\n",
              "      <td>0</td>\n",
              "      <td>3.124802</td>\n",
              "      <td>25.602</td>\n",
              "    </tr>\n",
              "    <tr>\n",
              "      <th>399112</th>\n",
              "      <td>Y47220550q</td>\n",
              "      <td>c-5615180M</td>\n",
              "      <td>G1i</td>\n",
              "      <td>2020-03-09</td>\n",
              "      <td>7.52</td>\n",
              "      <td>234</td>\n",
              "      <td>7014</td>\n",
              "      <td>35</td>\n",
              "      <td>80.000000</td>\n",
              "      <td>3</td>\n",
              "      <td>1735.067497</td>\n",
              "      <td>0</td>\n",
              "      <td>1.717144</td>\n",
              "      <td>-13.844</td>\n",
              "    </tr>\n",
              "    <tr>\n",
              "      <th>10924</th>\n",
              "      <td>E10966190J</td>\n",
              "      <td>A18130070W</td>\n",
              "      <td>p1X</td>\n",
              "      <td>2020-03-13</td>\n",
              "      <td>5.30</td>\n",
              "      <td>44</td>\n",
              "      <td>435</td>\n",
              "      <td>61</td>\n",
              "      <td>157.740043</td>\n",
              "      <td>0</td>\n",
              "      <td>2592.375128</td>\n",
              "      <td>0</td>\n",
              "      <td>-23.959351</td>\n",
              "      <td>48.462</td>\n",
              "    </tr>\n",
              "  </tbody>\n",
              "</table>\n",
              "</div>\n",
              "    <div class=\"colab-df-buttons\">\n",
              "\n",
              "  <div class=\"colab-df-container\">\n",
              "    <button class=\"colab-df-convert\" onclick=\"convertToInteractive('df-2184635e-be29-4701-819c-704be5513540')\"\n",
              "            title=\"Convert this dataframe to an interactive table.\"\n",
              "            style=\"display:none;\">\n",
              "\n",
              "  <svg xmlns=\"http://www.w3.org/2000/svg\" height=\"24px\" viewBox=\"0 -960 960 960\">\n",
              "    <path d=\"M120-120v-720h720v720H120Zm60-500h600v-160H180v160Zm220 220h160v-160H400v160Zm0 220h160v-160H400v160ZM180-400h160v-160H180v160Zm440 0h160v-160H620v160ZM180-180h160v-160H180v160Zm440 0h160v-160H620v160Z\"/>\n",
              "  </svg>\n",
              "    </button>\n",
              "\n",
              "  <style>\n",
              "    .colab-df-container {\n",
              "      display:flex;\n",
              "      gap: 12px;\n",
              "    }\n",
              "\n",
              "    .colab-df-convert {\n",
              "      background-color: #E8F0FE;\n",
              "      border: none;\n",
              "      border-radius: 50%;\n",
              "      cursor: pointer;\n",
              "      display: none;\n",
              "      fill: #1967D2;\n",
              "      height: 32px;\n",
              "      padding: 0 0 0 0;\n",
              "      width: 32px;\n",
              "    }\n",
              "\n",
              "    .colab-df-convert:hover {\n",
              "      background-color: #E2EBFA;\n",
              "      box-shadow: 0px 1px 2px rgba(60, 64, 67, 0.3), 0px 1px 3px 1px rgba(60, 64, 67, 0.15);\n",
              "      fill: #174EA6;\n",
              "    }\n",
              "\n",
              "    .colab-df-buttons div {\n",
              "      margin-bottom: 4px;\n",
              "    }\n",
              "\n",
              "    [theme=dark] .colab-df-convert {\n",
              "      background-color: #3B4455;\n",
              "      fill: #D2E3FC;\n",
              "    }\n",
              "\n",
              "    [theme=dark] .colab-df-convert:hover {\n",
              "      background-color: #434B5C;\n",
              "      box-shadow: 0px 1px 3px 1px rgba(0, 0, 0, 0.15);\n",
              "      filter: drop-shadow(0px 1px 2px rgba(0, 0, 0, 0.3));\n",
              "      fill: #FFFFFF;\n",
              "    }\n",
              "  </style>\n",
              "\n",
              "    <script>\n",
              "      const buttonEl =\n",
              "        document.querySelector('#df-2184635e-be29-4701-819c-704be5513540 button.colab-df-convert');\n",
              "      buttonEl.style.display =\n",
              "        google.colab.kernel.accessAllowed ? 'block' : 'none';\n",
              "\n",
              "      async function convertToInteractive(key) {\n",
              "        const element = document.querySelector('#df-2184635e-be29-4701-819c-704be5513540');\n",
              "        const dataTable =\n",
              "          await google.colab.kernel.invokeFunction('convertToInteractive',\n",
              "                                                    [key], {});\n",
              "        if (!dataTable) return;\n",
              "\n",
              "        const docLinkHtml = 'Like what you see? Visit the ' +\n",
              "          '<a target=\"_blank\" href=https://colab.research.google.com/notebooks/data_table.ipynb>data table notebook</a>'\n",
              "          + ' to learn more about interactive tables.';\n",
              "        element.innerHTML = '';\n",
              "        dataTable['output_type'] = 'display_data';\n",
              "        await google.colab.output.renderOutput(dataTable, element);\n",
              "        const docLink = document.createElement('div');\n",
              "        docLink.innerHTML = docLinkHtml;\n",
              "        element.appendChild(docLink);\n",
              "      }\n",
              "    </script>\n",
              "  </div>\n",
              "\n",
              "\n",
              "<div id=\"df-2587389f-edc1-49c3-b9c0-a009f75235b0\">\n",
              "  <button class=\"colab-df-quickchart\" onclick=\"quickchart('df-2587389f-edc1-49c3-b9c0-a009f75235b0')\"\n",
              "            title=\"Suggest charts\"\n",
              "            style=\"display:none;\">\n",
              "\n",
              "<svg xmlns=\"http://www.w3.org/2000/svg\" height=\"24px\"viewBox=\"0 0 24 24\"\n",
              "     width=\"24px\">\n",
              "    <g>\n",
              "        <path d=\"M19 3H5c-1.1 0-2 .9-2 2v14c0 1.1.9 2 2 2h14c1.1 0 2-.9 2-2V5c0-1.1-.9-2-2-2zM9 17H7v-7h2v7zm4 0h-2V7h2v10zm4 0h-2v-4h2v4z\"/>\n",
              "    </g>\n",
              "</svg>\n",
              "  </button>\n",
              "\n",
              "<style>\n",
              "  .colab-df-quickchart {\n",
              "      --bg-color: #E8F0FE;\n",
              "      --fill-color: #1967D2;\n",
              "      --hover-bg-color: #E2EBFA;\n",
              "      --hover-fill-color: #174EA6;\n",
              "      --disabled-fill-color: #AAA;\n",
              "      --disabled-bg-color: #DDD;\n",
              "  }\n",
              "\n",
              "  [theme=dark] .colab-df-quickchart {\n",
              "      --bg-color: #3B4455;\n",
              "      --fill-color: #D2E3FC;\n",
              "      --hover-bg-color: #434B5C;\n",
              "      --hover-fill-color: #FFFFFF;\n",
              "      --disabled-bg-color: #3B4455;\n",
              "      --disabled-fill-color: #666;\n",
              "  }\n",
              "\n",
              "  .colab-df-quickchart {\n",
              "    background-color: var(--bg-color);\n",
              "    border: none;\n",
              "    border-radius: 50%;\n",
              "    cursor: pointer;\n",
              "    display: none;\n",
              "    fill: var(--fill-color);\n",
              "    height: 32px;\n",
              "    padding: 0;\n",
              "    width: 32px;\n",
              "  }\n",
              "\n",
              "  .colab-df-quickchart:hover {\n",
              "    background-color: var(--hover-bg-color);\n",
              "    box-shadow: 0 1px 2px rgba(60, 64, 67, 0.3), 0 1px 3px 1px rgba(60, 64, 67, 0.15);\n",
              "    fill: var(--button-hover-fill-color);\n",
              "  }\n",
              "\n",
              "  .colab-df-quickchart-complete:disabled,\n",
              "  .colab-df-quickchart-complete:disabled:hover {\n",
              "    background-color: var(--disabled-bg-color);\n",
              "    fill: var(--disabled-fill-color);\n",
              "    box-shadow: none;\n",
              "  }\n",
              "\n",
              "  .colab-df-spinner {\n",
              "    border: 2px solid var(--fill-color);\n",
              "    border-color: transparent;\n",
              "    border-bottom-color: var(--fill-color);\n",
              "    animation:\n",
              "      spin 1s steps(1) infinite;\n",
              "  }\n",
              "\n",
              "  @keyframes spin {\n",
              "    0% {\n",
              "      border-color: transparent;\n",
              "      border-bottom-color: var(--fill-color);\n",
              "      border-left-color: var(--fill-color);\n",
              "    }\n",
              "    20% {\n",
              "      border-color: transparent;\n",
              "      border-left-color: var(--fill-color);\n",
              "      border-top-color: var(--fill-color);\n",
              "    }\n",
              "    30% {\n",
              "      border-color: transparent;\n",
              "      border-left-color: var(--fill-color);\n",
              "      border-top-color: var(--fill-color);\n",
              "      border-right-color: var(--fill-color);\n",
              "    }\n",
              "    40% {\n",
              "      border-color: transparent;\n",
              "      border-right-color: var(--fill-color);\n",
              "      border-top-color: var(--fill-color);\n",
              "    }\n",
              "    60% {\n",
              "      border-color: transparent;\n",
              "      border-right-color: var(--fill-color);\n",
              "    }\n",
              "    80% {\n",
              "      border-color: transparent;\n",
              "      border-right-color: var(--fill-color);\n",
              "      border-bottom-color: var(--fill-color);\n",
              "    }\n",
              "    90% {\n",
              "      border-color: transparent;\n",
              "      border-bottom-color: var(--fill-color);\n",
              "    }\n",
              "  }\n",
              "</style>\n",
              "\n",
              "  <script>\n",
              "    async function quickchart(key) {\n",
              "      const quickchartButtonEl =\n",
              "        document.querySelector('#' + key + ' button');\n",
              "      quickchartButtonEl.disabled = true;  // To prevent multiple clicks.\n",
              "      quickchartButtonEl.classList.add('colab-df-spinner');\n",
              "      try {\n",
              "        const charts = await google.colab.kernel.invokeFunction(\n",
              "            'suggestCharts', [key], {});\n",
              "      } catch (error) {\n",
              "        console.error('Error during call to suggestCharts:', error);\n",
              "      }\n",
              "      quickchartButtonEl.classList.remove('colab-df-spinner');\n",
              "      quickchartButtonEl.classList.add('colab-df-quickchart-complete');\n",
              "    }\n",
              "    (() => {\n",
              "      let quickchartButtonEl =\n",
              "        document.querySelector('#df-2587389f-edc1-49c3-b9c0-a009f75235b0 button');\n",
              "      quickchartButtonEl.style.display =\n",
              "        google.colab.kernel.accessAllowed ? 'block' : 'none';\n",
              "    })();\n",
              "  </script>\n",
              "</div>\n",
              "    </div>\n",
              "  </div>\n"
            ],
            "application/vnd.google.colaboratory.intrinsic+json": {
              "type": "dataframe",
              "repr_error": "0"
            }
          },
          "metadata": {},
          "execution_count": 3
        }
      ],
      "source": [
        "rides_info = pd.read_csv('https://raw.githubusercontent.com/a-milenkin/Competitive_Data_Science/main/data/rides_info.csv')\n",
        "rides_info.sample(5)"
      ]
    },
    {
      "cell_type": "markdown",
      "metadata": {
        "id": "ZAn8S24sbuhv"
      },
      "source": [
        "- `user_id` / `car_id` / `ride_id` — идентификаторы водителя, машины, поездки соответственно\n",
        "- `ride_date` / `rating` — дата поездки и рейтинг, поставленный водителем\n",
        "- `ride_duration` / `distance` / `ride_cost` —  длительность (время),  пройденное расстояние, стоимость поездки\n",
        "- `speed_avg` / `speed_max` — средняя и максимальная скорости поездки соответственно\n",
        "- `stop_times` / `refueling` — количество остановок (паузы) и флаг: была ли дозаправка\n",
        "- `user_ride_quality` — оценка манеры вождения водителя машины, определенная скоринговой ML-системой сервиса\n",
        "- `deviation_normal` — общий показатель датчиков о состоянии машины, относительно эталонных показателей (нормы)"
      ]
    },
    {
      "cell_type": "markdown",
      "metadata": {
        "id": "O0Onuz4ybuhv"
      },
      "source": [
        "### Информация про водителей"
      ]
    },
    {
      "cell_type": "code",
      "execution_count": 4,
      "metadata": {
        "tags": [],
        "id": "WBEvQXhxbuhv",
        "outputId": "c360b8d7-98f8-4f15-8233-f8123210d28d",
        "colab": {
          "base_uri": "https://localhost:8080/",
          "height": 206
        }
      },
      "outputs": [
        {
          "output_type": "execute_result",
          "data": {
            "text/plain": [
              "       age  user_rating  user_rides  user_time_accident     user_id  sex  \\\n",
              "6686    37          8.5         113                11.0  I21477729A    0   \n",
              "11498   50          9.0         125                 8.0  g13141625N    0   \n",
              "6488    25          8.6        1121                24.0  w16276923C    1   \n",
              "2696    19          7.5        1301                13.0  c45195256p    1   \n",
              "8       18          9.3         425                18.0  r77865210A    1   \n",
              "\n",
              "      first_ride_date  \n",
              "6686       2019-10-16  \n",
              "11498      2019-12-18  \n",
              "6488       2018-10-26  \n",
              "2696        2018-9-11  \n",
              "8            2020-6-4  "
            ],
            "text/html": [
              "\n",
              "  <div id=\"df-b6f7c963-30a9-4406-927f-38e58ae98087\" class=\"colab-df-container\">\n",
              "    <div>\n",
              "<style scoped>\n",
              "    .dataframe tbody tr th:only-of-type {\n",
              "        vertical-align: middle;\n",
              "    }\n",
              "\n",
              "    .dataframe tbody tr th {\n",
              "        vertical-align: top;\n",
              "    }\n",
              "\n",
              "    .dataframe thead th {\n",
              "        text-align: right;\n",
              "    }\n",
              "</style>\n",
              "<table border=\"1\" class=\"dataframe\">\n",
              "  <thead>\n",
              "    <tr style=\"text-align: right;\">\n",
              "      <th></th>\n",
              "      <th>age</th>\n",
              "      <th>user_rating</th>\n",
              "      <th>user_rides</th>\n",
              "      <th>user_time_accident</th>\n",
              "      <th>user_id</th>\n",
              "      <th>sex</th>\n",
              "      <th>first_ride_date</th>\n",
              "    </tr>\n",
              "  </thead>\n",
              "  <tbody>\n",
              "    <tr>\n",
              "      <th>6686</th>\n",
              "      <td>37</td>\n",
              "      <td>8.5</td>\n",
              "      <td>113</td>\n",
              "      <td>11.0</td>\n",
              "      <td>I21477729A</td>\n",
              "      <td>0</td>\n",
              "      <td>2019-10-16</td>\n",
              "    </tr>\n",
              "    <tr>\n",
              "      <th>11498</th>\n",
              "      <td>50</td>\n",
              "      <td>9.0</td>\n",
              "      <td>125</td>\n",
              "      <td>8.0</td>\n",
              "      <td>g13141625N</td>\n",
              "      <td>0</td>\n",
              "      <td>2019-12-18</td>\n",
              "    </tr>\n",
              "    <tr>\n",
              "      <th>6488</th>\n",
              "      <td>25</td>\n",
              "      <td>8.6</td>\n",
              "      <td>1121</td>\n",
              "      <td>24.0</td>\n",
              "      <td>w16276923C</td>\n",
              "      <td>1</td>\n",
              "      <td>2018-10-26</td>\n",
              "    </tr>\n",
              "    <tr>\n",
              "      <th>2696</th>\n",
              "      <td>19</td>\n",
              "      <td>7.5</td>\n",
              "      <td>1301</td>\n",
              "      <td>13.0</td>\n",
              "      <td>c45195256p</td>\n",
              "      <td>1</td>\n",
              "      <td>2018-9-11</td>\n",
              "    </tr>\n",
              "    <tr>\n",
              "      <th>8</th>\n",
              "      <td>18</td>\n",
              "      <td>9.3</td>\n",
              "      <td>425</td>\n",
              "      <td>18.0</td>\n",
              "      <td>r77865210A</td>\n",
              "      <td>1</td>\n",
              "      <td>2020-6-4</td>\n",
              "    </tr>\n",
              "  </tbody>\n",
              "</table>\n",
              "</div>\n",
              "    <div class=\"colab-df-buttons\">\n",
              "\n",
              "  <div class=\"colab-df-container\">\n",
              "    <button class=\"colab-df-convert\" onclick=\"convertToInteractive('df-b6f7c963-30a9-4406-927f-38e58ae98087')\"\n",
              "            title=\"Convert this dataframe to an interactive table.\"\n",
              "            style=\"display:none;\">\n",
              "\n",
              "  <svg xmlns=\"http://www.w3.org/2000/svg\" height=\"24px\" viewBox=\"0 -960 960 960\">\n",
              "    <path d=\"M120-120v-720h720v720H120Zm60-500h600v-160H180v160Zm220 220h160v-160H400v160Zm0 220h160v-160H400v160ZM180-400h160v-160H180v160Zm440 0h160v-160H620v160ZM180-180h160v-160H180v160Zm440 0h160v-160H620v160Z\"/>\n",
              "  </svg>\n",
              "    </button>\n",
              "\n",
              "  <style>\n",
              "    .colab-df-container {\n",
              "      display:flex;\n",
              "      gap: 12px;\n",
              "    }\n",
              "\n",
              "    .colab-df-convert {\n",
              "      background-color: #E8F0FE;\n",
              "      border: none;\n",
              "      border-radius: 50%;\n",
              "      cursor: pointer;\n",
              "      display: none;\n",
              "      fill: #1967D2;\n",
              "      height: 32px;\n",
              "      padding: 0 0 0 0;\n",
              "      width: 32px;\n",
              "    }\n",
              "\n",
              "    .colab-df-convert:hover {\n",
              "      background-color: #E2EBFA;\n",
              "      box-shadow: 0px 1px 2px rgba(60, 64, 67, 0.3), 0px 1px 3px 1px rgba(60, 64, 67, 0.15);\n",
              "      fill: #174EA6;\n",
              "    }\n",
              "\n",
              "    .colab-df-buttons div {\n",
              "      margin-bottom: 4px;\n",
              "    }\n",
              "\n",
              "    [theme=dark] .colab-df-convert {\n",
              "      background-color: #3B4455;\n",
              "      fill: #D2E3FC;\n",
              "    }\n",
              "\n",
              "    [theme=dark] .colab-df-convert:hover {\n",
              "      background-color: #434B5C;\n",
              "      box-shadow: 0px 1px 3px 1px rgba(0, 0, 0, 0.15);\n",
              "      filter: drop-shadow(0px 1px 2px rgba(0, 0, 0, 0.3));\n",
              "      fill: #FFFFFF;\n",
              "    }\n",
              "  </style>\n",
              "\n",
              "    <script>\n",
              "      const buttonEl =\n",
              "        document.querySelector('#df-b6f7c963-30a9-4406-927f-38e58ae98087 button.colab-df-convert');\n",
              "      buttonEl.style.display =\n",
              "        google.colab.kernel.accessAllowed ? 'block' : 'none';\n",
              "\n",
              "      async function convertToInteractive(key) {\n",
              "        const element = document.querySelector('#df-b6f7c963-30a9-4406-927f-38e58ae98087');\n",
              "        const dataTable =\n",
              "          await google.colab.kernel.invokeFunction('convertToInteractive',\n",
              "                                                    [key], {});\n",
              "        if (!dataTable) return;\n",
              "\n",
              "        const docLinkHtml = 'Like what you see? Visit the ' +\n",
              "          '<a target=\"_blank\" href=https://colab.research.google.com/notebooks/data_table.ipynb>data table notebook</a>'\n",
              "          + ' to learn more about interactive tables.';\n",
              "        element.innerHTML = '';\n",
              "        dataTable['output_type'] = 'display_data';\n",
              "        await google.colab.output.renderOutput(dataTable, element);\n",
              "        const docLink = document.createElement('div');\n",
              "        docLink.innerHTML = docLinkHtml;\n",
              "        element.appendChild(docLink);\n",
              "      }\n",
              "    </script>\n",
              "  </div>\n",
              "\n",
              "\n",
              "<div id=\"df-209f75b2-a95a-43a8-873f-c4469de245d7\">\n",
              "  <button class=\"colab-df-quickchart\" onclick=\"quickchart('df-209f75b2-a95a-43a8-873f-c4469de245d7')\"\n",
              "            title=\"Suggest charts\"\n",
              "            style=\"display:none;\">\n",
              "\n",
              "<svg xmlns=\"http://www.w3.org/2000/svg\" height=\"24px\"viewBox=\"0 0 24 24\"\n",
              "     width=\"24px\">\n",
              "    <g>\n",
              "        <path d=\"M19 3H5c-1.1 0-2 .9-2 2v14c0 1.1.9 2 2 2h14c1.1 0 2-.9 2-2V5c0-1.1-.9-2-2-2zM9 17H7v-7h2v7zm4 0h-2V7h2v10zm4 0h-2v-4h2v4z\"/>\n",
              "    </g>\n",
              "</svg>\n",
              "  </button>\n",
              "\n",
              "<style>\n",
              "  .colab-df-quickchart {\n",
              "      --bg-color: #E8F0FE;\n",
              "      --fill-color: #1967D2;\n",
              "      --hover-bg-color: #E2EBFA;\n",
              "      --hover-fill-color: #174EA6;\n",
              "      --disabled-fill-color: #AAA;\n",
              "      --disabled-bg-color: #DDD;\n",
              "  }\n",
              "\n",
              "  [theme=dark] .colab-df-quickchart {\n",
              "      --bg-color: #3B4455;\n",
              "      --fill-color: #D2E3FC;\n",
              "      --hover-bg-color: #434B5C;\n",
              "      --hover-fill-color: #FFFFFF;\n",
              "      --disabled-bg-color: #3B4455;\n",
              "      --disabled-fill-color: #666;\n",
              "  }\n",
              "\n",
              "  .colab-df-quickchart {\n",
              "    background-color: var(--bg-color);\n",
              "    border: none;\n",
              "    border-radius: 50%;\n",
              "    cursor: pointer;\n",
              "    display: none;\n",
              "    fill: var(--fill-color);\n",
              "    height: 32px;\n",
              "    padding: 0;\n",
              "    width: 32px;\n",
              "  }\n",
              "\n",
              "  .colab-df-quickchart:hover {\n",
              "    background-color: var(--hover-bg-color);\n",
              "    box-shadow: 0 1px 2px rgba(60, 64, 67, 0.3), 0 1px 3px 1px rgba(60, 64, 67, 0.15);\n",
              "    fill: var(--button-hover-fill-color);\n",
              "  }\n",
              "\n",
              "  .colab-df-quickchart-complete:disabled,\n",
              "  .colab-df-quickchart-complete:disabled:hover {\n",
              "    background-color: var(--disabled-bg-color);\n",
              "    fill: var(--disabled-fill-color);\n",
              "    box-shadow: none;\n",
              "  }\n",
              "\n",
              "  .colab-df-spinner {\n",
              "    border: 2px solid var(--fill-color);\n",
              "    border-color: transparent;\n",
              "    border-bottom-color: var(--fill-color);\n",
              "    animation:\n",
              "      spin 1s steps(1) infinite;\n",
              "  }\n",
              "\n",
              "  @keyframes spin {\n",
              "    0% {\n",
              "      border-color: transparent;\n",
              "      border-bottom-color: var(--fill-color);\n",
              "      border-left-color: var(--fill-color);\n",
              "    }\n",
              "    20% {\n",
              "      border-color: transparent;\n",
              "      border-left-color: var(--fill-color);\n",
              "      border-top-color: var(--fill-color);\n",
              "    }\n",
              "    30% {\n",
              "      border-color: transparent;\n",
              "      border-left-color: var(--fill-color);\n",
              "      border-top-color: var(--fill-color);\n",
              "      border-right-color: var(--fill-color);\n",
              "    }\n",
              "    40% {\n",
              "      border-color: transparent;\n",
              "      border-right-color: var(--fill-color);\n",
              "      border-top-color: var(--fill-color);\n",
              "    }\n",
              "    60% {\n",
              "      border-color: transparent;\n",
              "      border-right-color: var(--fill-color);\n",
              "    }\n",
              "    80% {\n",
              "      border-color: transparent;\n",
              "      border-right-color: var(--fill-color);\n",
              "      border-bottom-color: var(--fill-color);\n",
              "    }\n",
              "    90% {\n",
              "      border-color: transparent;\n",
              "      border-bottom-color: var(--fill-color);\n",
              "    }\n",
              "  }\n",
              "</style>\n",
              "\n",
              "  <script>\n",
              "    async function quickchart(key) {\n",
              "      const quickchartButtonEl =\n",
              "        document.querySelector('#' + key + ' button');\n",
              "      quickchartButtonEl.disabled = true;  // To prevent multiple clicks.\n",
              "      quickchartButtonEl.classList.add('colab-df-spinner');\n",
              "      try {\n",
              "        const charts = await google.colab.kernel.invokeFunction(\n",
              "            'suggestCharts', [key], {});\n",
              "      } catch (error) {\n",
              "        console.error('Error during call to suggestCharts:', error);\n",
              "      }\n",
              "      quickchartButtonEl.classList.remove('colab-df-spinner');\n",
              "      quickchartButtonEl.classList.add('colab-df-quickchart-complete');\n",
              "    }\n",
              "    (() => {\n",
              "      let quickchartButtonEl =\n",
              "        document.querySelector('#df-209f75b2-a95a-43a8-873f-c4469de245d7 button');\n",
              "      quickchartButtonEl.style.display =\n",
              "        google.colab.kernel.accessAllowed ? 'block' : 'none';\n",
              "    })();\n",
              "  </script>\n",
              "</div>\n",
              "    </div>\n",
              "  </div>\n"
            ],
            "application/vnd.google.colaboratory.intrinsic+json": {
              "type": "dataframe",
              "repr_error": "0"
            }
          },
          "metadata": {},
          "execution_count": 4
        }
      ],
      "source": [
        "driver_info = pd.read_csv('https://raw.githubusercontent.com/a-milenkin/Competitive_Data_Science/main/data/driver_info.csv')\n",
        "driver_info.sample(5)"
      ]
    },
    {
      "cell_type": "markdown",
      "metadata": {
        "id": "ubFE8w-Kbuhv"
      },
      "source": [
        "- `user_id` / `age` / `sex` — идентификатор, возраст и пол водителя, соответственно\n",
        "- `user_rating` — общий рейтинг пользователя за все поездки к концу 2021 года\n",
        "- `user_rides` — общее количество поездок к концу 2021 года\n",
        "- `user_time_accident` — число инцидентов (это могли быть аварии/штрафы/эвакуация машины)  \n",
        "- `first_ride_date` — дата первой поездки"
      ]
    },
    {
      "cell_type": "markdown",
      "metadata": {
        "id": "cXDdvlHYbuhv"
      },
      "source": [
        "### Информация про ремонт машин"
      ]
    },
    {
      "cell_type": "code",
      "execution_count": 5,
      "metadata": {
        "tags": [],
        "id": "eVTjvBspbuhv",
        "outputId": "a307eda7-b427-46b3-a0fe-39e2a053843f",
        "colab": {
          "base_uri": "https://localhost:8080/",
          "height": 206
        }
      },
      "outputs": [
        {
          "output_type": "execute_result",
          "data": {
            "text/plain": [
              "            car_id worker_id         fix_date     work_type  destroy_degree  \\\n",
              "114661  f16491132W        RY    2019-1-5 1:55  refuel_check             1.0   \n",
              "69489   N-2240902Z        KM    2019-2-22 0:4        repair             6.5   \n",
              "62137   v-1334609Q        XF   2018-2-2 18:14        repair             5.4   \n",
              "136137  X-1892335q        SG   2021-4-10 5:57     reparking             1.0   \n",
              "24770   b-7106735g        YY  2019-12-9 11:53     reparking             1.0   \n",
              "\n",
              "        work_duration  \n",
              "114661             18  \n",
              "69489              34  \n",
              "62137              14  \n",
              "136137             23  \n",
              "24770              32  "
            ],
            "text/html": [
              "\n",
              "  <div id=\"df-0fec3139-6b88-4502-b5aa-94fc56190df7\" class=\"colab-df-container\">\n",
              "    <div>\n",
              "<style scoped>\n",
              "    .dataframe tbody tr th:only-of-type {\n",
              "        vertical-align: middle;\n",
              "    }\n",
              "\n",
              "    .dataframe tbody tr th {\n",
              "        vertical-align: top;\n",
              "    }\n",
              "\n",
              "    .dataframe thead th {\n",
              "        text-align: right;\n",
              "    }\n",
              "</style>\n",
              "<table border=\"1\" class=\"dataframe\">\n",
              "  <thead>\n",
              "    <tr style=\"text-align: right;\">\n",
              "      <th></th>\n",
              "      <th>car_id</th>\n",
              "      <th>worker_id</th>\n",
              "      <th>fix_date</th>\n",
              "      <th>work_type</th>\n",
              "      <th>destroy_degree</th>\n",
              "      <th>work_duration</th>\n",
              "    </tr>\n",
              "  </thead>\n",
              "  <tbody>\n",
              "    <tr>\n",
              "      <th>114661</th>\n",
              "      <td>f16491132W</td>\n",
              "      <td>RY</td>\n",
              "      <td>2019-1-5 1:55</td>\n",
              "      <td>refuel_check</td>\n",
              "      <td>1.0</td>\n",
              "      <td>18</td>\n",
              "    </tr>\n",
              "    <tr>\n",
              "      <th>69489</th>\n",
              "      <td>N-2240902Z</td>\n",
              "      <td>KM</td>\n",
              "      <td>2019-2-22 0:4</td>\n",
              "      <td>repair</td>\n",
              "      <td>6.5</td>\n",
              "      <td>34</td>\n",
              "    </tr>\n",
              "    <tr>\n",
              "      <th>62137</th>\n",
              "      <td>v-1334609Q</td>\n",
              "      <td>XF</td>\n",
              "      <td>2018-2-2 18:14</td>\n",
              "      <td>repair</td>\n",
              "      <td>5.4</td>\n",
              "      <td>14</td>\n",
              "    </tr>\n",
              "    <tr>\n",
              "      <th>136137</th>\n",
              "      <td>X-1892335q</td>\n",
              "      <td>SG</td>\n",
              "      <td>2021-4-10 5:57</td>\n",
              "      <td>reparking</td>\n",
              "      <td>1.0</td>\n",
              "      <td>23</td>\n",
              "    </tr>\n",
              "    <tr>\n",
              "      <th>24770</th>\n",
              "      <td>b-7106735g</td>\n",
              "      <td>YY</td>\n",
              "      <td>2019-12-9 11:53</td>\n",
              "      <td>reparking</td>\n",
              "      <td>1.0</td>\n",
              "      <td>32</td>\n",
              "    </tr>\n",
              "  </tbody>\n",
              "</table>\n",
              "</div>\n",
              "    <div class=\"colab-df-buttons\">\n",
              "\n",
              "  <div class=\"colab-df-container\">\n",
              "    <button class=\"colab-df-convert\" onclick=\"convertToInteractive('df-0fec3139-6b88-4502-b5aa-94fc56190df7')\"\n",
              "            title=\"Convert this dataframe to an interactive table.\"\n",
              "            style=\"display:none;\">\n",
              "\n",
              "  <svg xmlns=\"http://www.w3.org/2000/svg\" height=\"24px\" viewBox=\"0 -960 960 960\">\n",
              "    <path d=\"M120-120v-720h720v720H120Zm60-500h600v-160H180v160Zm220 220h160v-160H400v160Zm0 220h160v-160H400v160ZM180-400h160v-160H180v160Zm440 0h160v-160H620v160ZM180-180h160v-160H180v160Zm440 0h160v-160H620v160Z\"/>\n",
              "  </svg>\n",
              "    </button>\n",
              "\n",
              "  <style>\n",
              "    .colab-df-container {\n",
              "      display:flex;\n",
              "      gap: 12px;\n",
              "    }\n",
              "\n",
              "    .colab-df-convert {\n",
              "      background-color: #E8F0FE;\n",
              "      border: none;\n",
              "      border-radius: 50%;\n",
              "      cursor: pointer;\n",
              "      display: none;\n",
              "      fill: #1967D2;\n",
              "      height: 32px;\n",
              "      padding: 0 0 0 0;\n",
              "      width: 32px;\n",
              "    }\n",
              "\n",
              "    .colab-df-convert:hover {\n",
              "      background-color: #E2EBFA;\n",
              "      box-shadow: 0px 1px 2px rgba(60, 64, 67, 0.3), 0px 1px 3px 1px rgba(60, 64, 67, 0.15);\n",
              "      fill: #174EA6;\n",
              "    }\n",
              "\n",
              "    .colab-df-buttons div {\n",
              "      margin-bottom: 4px;\n",
              "    }\n",
              "\n",
              "    [theme=dark] .colab-df-convert {\n",
              "      background-color: #3B4455;\n",
              "      fill: #D2E3FC;\n",
              "    }\n",
              "\n",
              "    [theme=dark] .colab-df-convert:hover {\n",
              "      background-color: #434B5C;\n",
              "      box-shadow: 0px 1px 3px 1px rgba(0, 0, 0, 0.15);\n",
              "      filter: drop-shadow(0px 1px 2px rgba(0, 0, 0, 0.3));\n",
              "      fill: #FFFFFF;\n",
              "    }\n",
              "  </style>\n",
              "\n",
              "    <script>\n",
              "      const buttonEl =\n",
              "        document.querySelector('#df-0fec3139-6b88-4502-b5aa-94fc56190df7 button.colab-df-convert');\n",
              "      buttonEl.style.display =\n",
              "        google.colab.kernel.accessAllowed ? 'block' : 'none';\n",
              "\n",
              "      async function convertToInteractive(key) {\n",
              "        const element = document.querySelector('#df-0fec3139-6b88-4502-b5aa-94fc56190df7');\n",
              "        const dataTable =\n",
              "          await google.colab.kernel.invokeFunction('convertToInteractive',\n",
              "                                                    [key], {});\n",
              "        if (!dataTable) return;\n",
              "\n",
              "        const docLinkHtml = 'Like what you see? Visit the ' +\n",
              "          '<a target=\"_blank\" href=https://colab.research.google.com/notebooks/data_table.ipynb>data table notebook</a>'\n",
              "          + ' to learn more about interactive tables.';\n",
              "        element.innerHTML = '';\n",
              "        dataTable['output_type'] = 'display_data';\n",
              "        await google.colab.output.renderOutput(dataTable, element);\n",
              "        const docLink = document.createElement('div');\n",
              "        docLink.innerHTML = docLinkHtml;\n",
              "        element.appendChild(docLink);\n",
              "      }\n",
              "    </script>\n",
              "  </div>\n",
              "\n",
              "\n",
              "<div id=\"df-b14af555-27be-45d1-842b-80a5be55a529\">\n",
              "  <button class=\"colab-df-quickchart\" onclick=\"quickchart('df-b14af555-27be-45d1-842b-80a5be55a529')\"\n",
              "            title=\"Suggest charts\"\n",
              "            style=\"display:none;\">\n",
              "\n",
              "<svg xmlns=\"http://www.w3.org/2000/svg\" height=\"24px\"viewBox=\"0 0 24 24\"\n",
              "     width=\"24px\">\n",
              "    <g>\n",
              "        <path d=\"M19 3H5c-1.1 0-2 .9-2 2v14c0 1.1.9 2 2 2h14c1.1 0 2-.9 2-2V5c0-1.1-.9-2-2-2zM9 17H7v-7h2v7zm4 0h-2V7h2v10zm4 0h-2v-4h2v4z\"/>\n",
              "    </g>\n",
              "</svg>\n",
              "  </button>\n",
              "\n",
              "<style>\n",
              "  .colab-df-quickchart {\n",
              "      --bg-color: #E8F0FE;\n",
              "      --fill-color: #1967D2;\n",
              "      --hover-bg-color: #E2EBFA;\n",
              "      --hover-fill-color: #174EA6;\n",
              "      --disabled-fill-color: #AAA;\n",
              "      --disabled-bg-color: #DDD;\n",
              "  }\n",
              "\n",
              "  [theme=dark] .colab-df-quickchart {\n",
              "      --bg-color: #3B4455;\n",
              "      --fill-color: #D2E3FC;\n",
              "      --hover-bg-color: #434B5C;\n",
              "      --hover-fill-color: #FFFFFF;\n",
              "      --disabled-bg-color: #3B4455;\n",
              "      --disabled-fill-color: #666;\n",
              "  }\n",
              "\n",
              "  .colab-df-quickchart {\n",
              "    background-color: var(--bg-color);\n",
              "    border: none;\n",
              "    border-radius: 50%;\n",
              "    cursor: pointer;\n",
              "    display: none;\n",
              "    fill: var(--fill-color);\n",
              "    height: 32px;\n",
              "    padding: 0;\n",
              "    width: 32px;\n",
              "  }\n",
              "\n",
              "  .colab-df-quickchart:hover {\n",
              "    background-color: var(--hover-bg-color);\n",
              "    box-shadow: 0 1px 2px rgba(60, 64, 67, 0.3), 0 1px 3px 1px rgba(60, 64, 67, 0.15);\n",
              "    fill: var(--button-hover-fill-color);\n",
              "  }\n",
              "\n",
              "  .colab-df-quickchart-complete:disabled,\n",
              "  .colab-df-quickchart-complete:disabled:hover {\n",
              "    background-color: var(--disabled-bg-color);\n",
              "    fill: var(--disabled-fill-color);\n",
              "    box-shadow: none;\n",
              "  }\n",
              "\n",
              "  .colab-df-spinner {\n",
              "    border: 2px solid var(--fill-color);\n",
              "    border-color: transparent;\n",
              "    border-bottom-color: var(--fill-color);\n",
              "    animation:\n",
              "      spin 1s steps(1) infinite;\n",
              "  }\n",
              "\n",
              "  @keyframes spin {\n",
              "    0% {\n",
              "      border-color: transparent;\n",
              "      border-bottom-color: var(--fill-color);\n",
              "      border-left-color: var(--fill-color);\n",
              "    }\n",
              "    20% {\n",
              "      border-color: transparent;\n",
              "      border-left-color: var(--fill-color);\n",
              "      border-top-color: var(--fill-color);\n",
              "    }\n",
              "    30% {\n",
              "      border-color: transparent;\n",
              "      border-left-color: var(--fill-color);\n",
              "      border-top-color: var(--fill-color);\n",
              "      border-right-color: var(--fill-color);\n",
              "    }\n",
              "    40% {\n",
              "      border-color: transparent;\n",
              "      border-right-color: var(--fill-color);\n",
              "      border-top-color: var(--fill-color);\n",
              "    }\n",
              "    60% {\n",
              "      border-color: transparent;\n",
              "      border-right-color: var(--fill-color);\n",
              "    }\n",
              "    80% {\n",
              "      border-color: transparent;\n",
              "      border-right-color: var(--fill-color);\n",
              "      border-bottom-color: var(--fill-color);\n",
              "    }\n",
              "    90% {\n",
              "      border-color: transparent;\n",
              "      border-bottom-color: var(--fill-color);\n",
              "    }\n",
              "  }\n",
              "</style>\n",
              "\n",
              "  <script>\n",
              "    async function quickchart(key) {\n",
              "      const quickchartButtonEl =\n",
              "        document.querySelector('#' + key + ' button');\n",
              "      quickchartButtonEl.disabled = true;  // To prevent multiple clicks.\n",
              "      quickchartButtonEl.classList.add('colab-df-spinner');\n",
              "      try {\n",
              "        const charts = await google.colab.kernel.invokeFunction(\n",
              "            'suggestCharts', [key], {});\n",
              "      } catch (error) {\n",
              "        console.error('Error during call to suggestCharts:', error);\n",
              "      }\n",
              "      quickchartButtonEl.classList.remove('colab-df-spinner');\n",
              "      quickchartButtonEl.classList.add('colab-df-quickchart-complete');\n",
              "    }\n",
              "    (() => {\n",
              "      let quickchartButtonEl =\n",
              "        document.querySelector('#df-b14af555-27be-45d1-842b-80a5be55a529 button');\n",
              "      quickchartButtonEl.style.display =\n",
              "        google.colab.kernel.accessAllowed ? 'block' : 'none';\n",
              "    })();\n",
              "  </script>\n",
              "</div>\n",
              "    </div>\n",
              "  </div>\n"
            ],
            "application/vnd.google.colaboratory.intrinsic+json": {
              "type": "dataframe",
              "repr_error": "0"
            }
          },
          "metadata": {},
          "execution_count": 5
        }
      ],
      "source": [
        "fix_info = pd.read_csv('https://raw.githubusercontent.com/a-milenkin/Competitive_Data_Science/main/data/fix_info.csv')\n",
        "fix_info.sample(5)"
      ]
    },
    {
      "cell_type": "markdown",
      "metadata": {
        "id": "H01U-FFAbuhv"
      },
      "source": [
        "- `worker_id` / `car_id` — идентификатор работника и машины\n",
        "- `work_type` / `work_duration` — тип и длительность (в часах) проводимой работы\n",
        "- `destroy_degree` — степень износа/поврежденности машины в случае поломки\n",
        "- `fix_date` — время начала ремонта (снятия машины с линии)"
      ]
    },
    {
      "cell_type": "markdown",
      "metadata": {
        "id": "qY-lAjlhbuhv"
      },
      "source": [
        "# Домашнее задание 1. Генерация и фильтрация признаков"
      ]
    },
    {
      "cell_type": "markdown",
      "metadata": {
        "id": "9E2N9m5Cbuhv"
      },
      "source": [
        "<center> <img src=\"https://ucarecdn.com/bf4c772d-b67a-42ae-a48b-cfd83910b0a2/\" width=700>"
      ]
    },
    {
      "cell_type": "markdown",
      "metadata": {
        "id": "HaroHWSBbuhw"
      },
      "source": [
        "<div class=\"alert alert-info\">\n",
        "\n",
        "**Цель блока** — сгенерировать признаки из дополнительных датасетов и добавить их к основному датасету, произвести фильтрацию признаков."
      ]
    },
    {
      "cell_type": "markdown",
      "metadata": {
        "id": "wev7E_qlbuhw"
      },
      "source": [
        "    \n",
        "## Задание 1. Генерация признаков из дополнительных датасетов (6 баллов)"
      ]
    },
    {
      "cell_type": "markdown",
      "metadata": {
        "id": "CSX4pA5Kbuhw"
      },
      "source": [
        "<div class=\"alert alert-info\">\n",
        "\n",
        "1. Возьмите датасет `rides_info` с информацией о поездках и проведите группировку по каждой машине отдельно.\n",
        "\n",
        "2. Для каждой машины (то есть для каждого `car_id`) подсчитайте несколько признаков:\n",
        "  - минимальный рейтинг за все поездки;\n",
        "  - средний рейтинг за все поездки;\n",
        "  - общее количество километров, которое машина проехала;\n",
        "  - максимальная скорость;\n",
        "  - общее количество поездок для каждой машины.\n",
        "\n",
        "3. Добавьте минимум 3 признака на свой выбор.\n",
        "\n",
        "4. Сделайте соединение таблиц — вспомните про методы соединения и выберите подходящий для этого случая.\n",
        "\n",
        "5. Подключите информацию про водителей (`driver_info`) и про ремонт машин (`fix_info`). Добавьте минимум 3 любых признака с каждого датасета.\n",
        "\n",
        "\n",
        "<h4> Критерии оценивания </h4>\n",
        "    \n",
        "- Добавлены 5 обязательных и минимум 3 любых признака из датасета `rides_info` — 2 балла.\n",
        "- Добавлены минимум 3 любых признака из датасета `driver_info` — 2 балла.\n",
        "- Добавлены минимум 3 любых признака из датасета `fix_info` — 2 балла.\n",
        "\n",
        "</div>"
      ]
    },
    {
      "cell_type": "markdown",
      "metadata": {
        "id": "kfAs9dZHbuhw"
      },
      "source": [
        "<div class=\"alert alert-success\">\n",
        "    \n",
        "<h4> Советы по Feature Engineering</h4>\n",
        "    \n",
        "- Начинайте с сырых данных.\n",
        "- Используйте все доступные данные. Покрывайте признаками всю имеющуюся информацию в данных.\n",
        "- Формулируйте предположения: от чего зависит таргет?\n",
        "- Смотрите визуально на классы/ошибки и делайте предположения. Какие полезны?\n",
        "- Помните, что слишком много признаков может быть вредно. Потом придется отфильтровывать.\n",
        "    \n",
        "<h4> Полезные источники </h4>\n",
        "    \n",
        "- Занятие про Feature Engineering.\n",
        "- Занятие про Feature Selection.\n",
        "- [Max Kuhn and Kjell Johnson. Feature Engineering and Selection: A Practical Approach for Predictive Models](http://www.feat.engineering/)."
      ]
    },
    {
      "cell_type": "markdown",
      "source": [
        "### Пример расчета признака"
      ],
      "metadata": {
        "id": "n5pkVaw0eszI"
      }
    },
    {
      "cell_type": "code",
      "source": [
        "# Для каждой машины несколько признаков\n",
        "rides_group = rides_info.groupby('car_id', as_index=False).agg(\n",
        "    mean_rating = ('rating', 'mean'),\n",
        "    min_rating = ('rating', 'min'),\n",
        "    all_distance = ('distance', 'sum'),\n",
        "    speed_max = ('speed_max', 'max'),\n",
        "    alL_rides = ('ride_id', 'count'),\n",
        "\n",
        "    # добавляю сразу признаки на свой выбор\n",
        "    avg_ride_cost = ('ride_cost', 'mean'),\n",
        "    avg_speed = ('speed_avg', 'mean'),\n",
        "    mean_distance = ('distance', 'mean'),\n",
        ")\n",
        "\n",
        "# Cоединение таблиц\n",
        "data = pd.merge(car_train, rides_group, on='car_id')\n",
        "\n",
        "# Подключение информации про водителей и про ремонт машин\n",
        "data = pd.merge(data, rides_info[['car_id', 'user_id']], on='car_id')\n",
        "data = pd.merge(data, driver_info[['user_id', 'age', 'user_rating', 'user_rides']], on='user_id')\n",
        "data = pd.merge(data, fix_info[['car_id', 'worker_id', 'fix_date', 'work_type']], on='car_id')\n",
        "\n",
        "data.head()"
      ],
      "metadata": {
        "colab": {
          "base_uri": "https://localhost:8080/",
          "height": 429
        },
        "id": "kIH9EdaaAitJ",
        "outputId": "2c2edf30-f537-4676-c605-8d018b23417e"
      },
      "execution_count": 6,
      "outputs": [
        {
          "output_type": "execute_result",
          "data": {
            "text/plain": [
              "       car_id           model car_type fuel_type  car_rating  year_to_start  \\\n",
              "0  y13744087j  Kia Rio X-line  economy    petrol        3.78           2015   \n",
              "1  y13744087j  Kia Rio X-line  economy    petrol        3.78           2015   \n",
              "2  y13744087j  Kia Rio X-line  economy    petrol        3.78           2015   \n",
              "3  y13744087j  Kia Rio X-line  economy    petrol        3.78           2015   \n",
              "4  y13744087j  Kia Rio X-line  economy    petrol        3.78           2015   \n",
              "\n",
              "   riders  year_to_work  target_reg target_class  ...  avg_ride_cost  \\\n",
              "0   76163          2021      108.53  another_bug  ...   20106.873563   \n",
              "1   76163          2021      108.53  another_bug  ...   20106.873563   \n",
              "2   76163          2021      108.53  another_bug  ...   20106.873563   \n",
              "3   76163          2021      108.53  another_bug  ...   20106.873563   \n",
              "4   76163          2021      108.53  another_bug  ...   20106.873563   \n",
              "\n",
              "   avg_speed  mean_distance     user_id  age  user_rating  user_rides  \\\n",
              "0   44.66092   69777.646008  n14703870u   38          7.4         268   \n",
              "1   44.66092   69777.646008  n14703870u   38          7.4         268   \n",
              "2   44.66092   69777.646008  n14703870u   38          7.4         268   \n",
              "3   44.66092   69777.646008  n14703870u   38          7.4         268   \n",
              "4   44.66092   69777.646008  n14703870u   38          7.4         268   \n",
              "\n",
              "   worker_id         fix_date  work_type  \n",
              "0         PG   2019-8-10 9:29  reparking  \n",
              "1         HH   2019-2-9 10:49     repair  \n",
              "2         UF   2020-4-8 10:23  reparking  \n",
              "3         LC  2019-5-23 10:42  reparking  \n",
              "4         AF  2020-7-24 18:32     repair  \n",
              "\n",
              "[5 rows x 25 columns]"
            ],
            "text/html": [
              "\n",
              "  <div id=\"df-32cac5cf-3ab5-440e-a2d2-3dd22e895f77\" class=\"colab-df-container\">\n",
              "    <div>\n",
              "<style scoped>\n",
              "    .dataframe tbody tr th:only-of-type {\n",
              "        vertical-align: middle;\n",
              "    }\n",
              "\n",
              "    .dataframe tbody tr th {\n",
              "        vertical-align: top;\n",
              "    }\n",
              "\n",
              "    .dataframe thead th {\n",
              "        text-align: right;\n",
              "    }\n",
              "</style>\n",
              "<table border=\"1\" class=\"dataframe\">\n",
              "  <thead>\n",
              "    <tr style=\"text-align: right;\">\n",
              "      <th></th>\n",
              "      <th>car_id</th>\n",
              "      <th>model</th>\n",
              "      <th>car_type</th>\n",
              "      <th>fuel_type</th>\n",
              "      <th>car_rating</th>\n",
              "      <th>year_to_start</th>\n",
              "      <th>riders</th>\n",
              "      <th>year_to_work</th>\n",
              "      <th>target_reg</th>\n",
              "      <th>target_class</th>\n",
              "      <th>...</th>\n",
              "      <th>avg_ride_cost</th>\n",
              "      <th>avg_speed</th>\n",
              "      <th>mean_distance</th>\n",
              "      <th>user_id</th>\n",
              "      <th>age</th>\n",
              "      <th>user_rating</th>\n",
              "      <th>user_rides</th>\n",
              "      <th>worker_id</th>\n",
              "      <th>fix_date</th>\n",
              "      <th>work_type</th>\n",
              "    </tr>\n",
              "  </thead>\n",
              "  <tbody>\n",
              "    <tr>\n",
              "      <th>0</th>\n",
              "      <td>y13744087j</td>\n",
              "      <td>Kia Rio X-line</td>\n",
              "      <td>economy</td>\n",
              "      <td>petrol</td>\n",
              "      <td>3.78</td>\n",
              "      <td>2015</td>\n",
              "      <td>76163</td>\n",
              "      <td>2021</td>\n",
              "      <td>108.53</td>\n",
              "      <td>another_bug</td>\n",
              "      <td>...</td>\n",
              "      <td>20106.873563</td>\n",
              "      <td>44.66092</td>\n",
              "      <td>69777.646008</td>\n",
              "      <td>n14703870u</td>\n",
              "      <td>38</td>\n",
              "      <td>7.4</td>\n",
              "      <td>268</td>\n",
              "      <td>PG</td>\n",
              "      <td>2019-8-10 9:29</td>\n",
              "      <td>reparking</td>\n",
              "    </tr>\n",
              "    <tr>\n",
              "      <th>1</th>\n",
              "      <td>y13744087j</td>\n",
              "      <td>Kia Rio X-line</td>\n",
              "      <td>economy</td>\n",
              "      <td>petrol</td>\n",
              "      <td>3.78</td>\n",
              "      <td>2015</td>\n",
              "      <td>76163</td>\n",
              "      <td>2021</td>\n",
              "      <td>108.53</td>\n",
              "      <td>another_bug</td>\n",
              "      <td>...</td>\n",
              "      <td>20106.873563</td>\n",
              "      <td>44.66092</td>\n",
              "      <td>69777.646008</td>\n",
              "      <td>n14703870u</td>\n",
              "      <td>38</td>\n",
              "      <td>7.4</td>\n",
              "      <td>268</td>\n",
              "      <td>HH</td>\n",
              "      <td>2019-2-9 10:49</td>\n",
              "      <td>repair</td>\n",
              "    </tr>\n",
              "    <tr>\n",
              "      <th>2</th>\n",
              "      <td>y13744087j</td>\n",
              "      <td>Kia Rio X-line</td>\n",
              "      <td>economy</td>\n",
              "      <td>petrol</td>\n",
              "      <td>3.78</td>\n",
              "      <td>2015</td>\n",
              "      <td>76163</td>\n",
              "      <td>2021</td>\n",
              "      <td>108.53</td>\n",
              "      <td>another_bug</td>\n",
              "      <td>...</td>\n",
              "      <td>20106.873563</td>\n",
              "      <td>44.66092</td>\n",
              "      <td>69777.646008</td>\n",
              "      <td>n14703870u</td>\n",
              "      <td>38</td>\n",
              "      <td>7.4</td>\n",
              "      <td>268</td>\n",
              "      <td>UF</td>\n",
              "      <td>2020-4-8 10:23</td>\n",
              "      <td>reparking</td>\n",
              "    </tr>\n",
              "    <tr>\n",
              "      <th>3</th>\n",
              "      <td>y13744087j</td>\n",
              "      <td>Kia Rio X-line</td>\n",
              "      <td>economy</td>\n",
              "      <td>petrol</td>\n",
              "      <td>3.78</td>\n",
              "      <td>2015</td>\n",
              "      <td>76163</td>\n",
              "      <td>2021</td>\n",
              "      <td>108.53</td>\n",
              "      <td>another_bug</td>\n",
              "      <td>...</td>\n",
              "      <td>20106.873563</td>\n",
              "      <td>44.66092</td>\n",
              "      <td>69777.646008</td>\n",
              "      <td>n14703870u</td>\n",
              "      <td>38</td>\n",
              "      <td>7.4</td>\n",
              "      <td>268</td>\n",
              "      <td>LC</td>\n",
              "      <td>2019-5-23 10:42</td>\n",
              "      <td>reparking</td>\n",
              "    </tr>\n",
              "    <tr>\n",
              "      <th>4</th>\n",
              "      <td>y13744087j</td>\n",
              "      <td>Kia Rio X-line</td>\n",
              "      <td>economy</td>\n",
              "      <td>petrol</td>\n",
              "      <td>3.78</td>\n",
              "      <td>2015</td>\n",
              "      <td>76163</td>\n",
              "      <td>2021</td>\n",
              "      <td>108.53</td>\n",
              "      <td>another_bug</td>\n",
              "      <td>...</td>\n",
              "      <td>20106.873563</td>\n",
              "      <td>44.66092</td>\n",
              "      <td>69777.646008</td>\n",
              "      <td>n14703870u</td>\n",
              "      <td>38</td>\n",
              "      <td>7.4</td>\n",
              "      <td>268</td>\n",
              "      <td>AF</td>\n",
              "      <td>2020-7-24 18:32</td>\n",
              "      <td>repair</td>\n",
              "    </tr>\n",
              "  </tbody>\n",
              "</table>\n",
              "<p>5 rows × 25 columns</p>\n",
              "</div>\n",
              "    <div class=\"colab-df-buttons\">\n",
              "\n",
              "  <div class=\"colab-df-container\">\n",
              "    <button class=\"colab-df-convert\" onclick=\"convertToInteractive('df-32cac5cf-3ab5-440e-a2d2-3dd22e895f77')\"\n",
              "            title=\"Convert this dataframe to an interactive table.\"\n",
              "            style=\"display:none;\">\n",
              "\n",
              "  <svg xmlns=\"http://www.w3.org/2000/svg\" height=\"24px\" viewBox=\"0 -960 960 960\">\n",
              "    <path d=\"M120-120v-720h720v720H120Zm60-500h600v-160H180v160Zm220 220h160v-160H400v160Zm0 220h160v-160H400v160ZM180-400h160v-160H180v160Zm440 0h160v-160H620v160ZM180-180h160v-160H180v160Zm440 0h160v-160H620v160Z\"/>\n",
              "  </svg>\n",
              "    </button>\n",
              "\n",
              "  <style>\n",
              "    .colab-df-container {\n",
              "      display:flex;\n",
              "      gap: 12px;\n",
              "    }\n",
              "\n",
              "    .colab-df-convert {\n",
              "      background-color: #E8F0FE;\n",
              "      border: none;\n",
              "      border-radius: 50%;\n",
              "      cursor: pointer;\n",
              "      display: none;\n",
              "      fill: #1967D2;\n",
              "      height: 32px;\n",
              "      padding: 0 0 0 0;\n",
              "      width: 32px;\n",
              "    }\n",
              "\n",
              "    .colab-df-convert:hover {\n",
              "      background-color: #E2EBFA;\n",
              "      box-shadow: 0px 1px 2px rgba(60, 64, 67, 0.3), 0px 1px 3px 1px rgba(60, 64, 67, 0.15);\n",
              "      fill: #174EA6;\n",
              "    }\n",
              "\n",
              "    .colab-df-buttons div {\n",
              "      margin-bottom: 4px;\n",
              "    }\n",
              "\n",
              "    [theme=dark] .colab-df-convert {\n",
              "      background-color: #3B4455;\n",
              "      fill: #D2E3FC;\n",
              "    }\n",
              "\n",
              "    [theme=dark] .colab-df-convert:hover {\n",
              "      background-color: #434B5C;\n",
              "      box-shadow: 0px 1px 3px 1px rgba(0, 0, 0, 0.15);\n",
              "      filter: drop-shadow(0px 1px 2px rgba(0, 0, 0, 0.3));\n",
              "      fill: #FFFFFF;\n",
              "    }\n",
              "  </style>\n",
              "\n",
              "    <script>\n",
              "      const buttonEl =\n",
              "        document.querySelector('#df-32cac5cf-3ab5-440e-a2d2-3dd22e895f77 button.colab-df-convert');\n",
              "      buttonEl.style.display =\n",
              "        google.colab.kernel.accessAllowed ? 'block' : 'none';\n",
              "\n",
              "      async function convertToInteractive(key) {\n",
              "        const element = document.querySelector('#df-32cac5cf-3ab5-440e-a2d2-3dd22e895f77');\n",
              "        const dataTable =\n",
              "          await google.colab.kernel.invokeFunction('convertToInteractive',\n",
              "                                                    [key], {});\n",
              "        if (!dataTable) return;\n",
              "\n",
              "        const docLinkHtml = 'Like what you see? Visit the ' +\n",
              "          '<a target=\"_blank\" href=https://colab.research.google.com/notebooks/data_table.ipynb>data table notebook</a>'\n",
              "          + ' to learn more about interactive tables.';\n",
              "        element.innerHTML = '';\n",
              "        dataTable['output_type'] = 'display_data';\n",
              "        await google.colab.output.renderOutput(dataTable, element);\n",
              "        const docLink = document.createElement('div');\n",
              "        docLink.innerHTML = docLinkHtml;\n",
              "        element.appendChild(docLink);\n",
              "      }\n",
              "    </script>\n",
              "  </div>\n",
              "\n",
              "\n",
              "<div id=\"df-55badb27-fae9-4338-afd3-bcbe1f2815af\">\n",
              "  <button class=\"colab-df-quickchart\" onclick=\"quickchart('df-55badb27-fae9-4338-afd3-bcbe1f2815af')\"\n",
              "            title=\"Suggest charts\"\n",
              "            style=\"display:none;\">\n",
              "\n",
              "<svg xmlns=\"http://www.w3.org/2000/svg\" height=\"24px\"viewBox=\"0 0 24 24\"\n",
              "     width=\"24px\">\n",
              "    <g>\n",
              "        <path d=\"M19 3H5c-1.1 0-2 .9-2 2v14c0 1.1.9 2 2 2h14c1.1 0 2-.9 2-2V5c0-1.1-.9-2-2-2zM9 17H7v-7h2v7zm4 0h-2V7h2v10zm4 0h-2v-4h2v4z\"/>\n",
              "    </g>\n",
              "</svg>\n",
              "  </button>\n",
              "\n",
              "<style>\n",
              "  .colab-df-quickchart {\n",
              "      --bg-color: #E8F0FE;\n",
              "      --fill-color: #1967D2;\n",
              "      --hover-bg-color: #E2EBFA;\n",
              "      --hover-fill-color: #174EA6;\n",
              "      --disabled-fill-color: #AAA;\n",
              "      --disabled-bg-color: #DDD;\n",
              "  }\n",
              "\n",
              "  [theme=dark] .colab-df-quickchart {\n",
              "      --bg-color: #3B4455;\n",
              "      --fill-color: #D2E3FC;\n",
              "      --hover-bg-color: #434B5C;\n",
              "      --hover-fill-color: #FFFFFF;\n",
              "      --disabled-bg-color: #3B4455;\n",
              "      --disabled-fill-color: #666;\n",
              "  }\n",
              "\n",
              "  .colab-df-quickchart {\n",
              "    background-color: var(--bg-color);\n",
              "    border: none;\n",
              "    border-radius: 50%;\n",
              "    cursor: pointer;\n",
              "    display: none;\n",
              "    fill: var(--fill-color);\n",
              "    height: 32px;\n",
              "    padding: 0;\n",
              "    width: 32px;\n",
              "  }\n",
              "\n",
              "  .colab-df-quickchart:hover {\n",
              "    background-color: var(--hover-bg-color);\n",
              "    box-shadow: 0 1px 2px rgba(60, 64, 67, 0.3), 0 1px 3px 1px rgba(60, 64, 67, 0.15);\n",
              "    fill: var(--button-hover-fill-color);\n",
              "  }\n",
              "\n",
              "  .colab-df-quickchart-complete:disabled,\n",
              "  .colab-df-quickchart-complete:disabled:hover {\n",
              "    background-color: var(--disabled-bg-color);\n",
              "    fill: var(--disabled-fill-color);\n",
              "    box-shadow: none;\n",
              "  }\n",
              "\n",
              "  .colab-df-spinner {\n",
              "    border: 2px solid var(--fill-color);\n",
              "    border-color: transparent;\n",
              "    border-bottom-color: var(--fill-color);\n",
              "    animation:\n",
              "      spin 1s steps(1) infinite;\n",
              "  }\n",
              "\n",
              "  @keyframes spin {\n",
              "    0% {\n",
              "      border-color: transparent;\n",
              "      border-bottom-color: var(--fill-color);\n",
              "      border-left-color: var(--fill-color);\n",
              "    }\n",
              "    20% {\n",
              "      border-color: transparent;\n",
              "      border-left-color: var(--fill-color);\n",
              "      border-top-color: var(--fill-color);\n",
              "    }\n",
              "    30% {\n",
              "      border-color: transparent;\n",
              "      border-left-color: var(--fill-color);\n",
              "      border-top-color: var(--fill-color);\n",
              "      border-right-color: var(--fill-color);\n",
              "    }\n",
              "    40% {\n",
              "      border-color: transparent;\n",
              "      border-right-color: var(--fill-color);\n",
              "      border-top-color: var(--fill-color);\n",
              "    }\n",
              "    60% {\n",
              "      border-color: transparent;\n",
              "      border-right-color: var(--fill-color);\n",
              "    }\n",
              "    80% {\n",
              "      border-color: transparent;\n",
              "      border-right-color: var(--fill-color);\n",
              "      border-bottom-color: var(--fill-color);\n",
              "    }\n",
              "    90% {\n",
              "      border-color: transparent;\n",
              "      border-bottom-color: var(--fill-color);\n",
              "    }\n",
              "  }\n",
              "</style>\n",
              "\n",
              "  <script>\n",
              "    async function quickchart(key) {\n",
              "      const quickchartButtonEl =\n",
              "        document.querySelector('#' + key + ' button');\n",
              "      quickchartButtonEl.disabled = true;  // To prevent multiple clicks.\n",
              "      quickchartButtonEl.classList.add('colab-df-spinner');\n",
              "      try {\n",
              "        const charts = await google.colab.kernel.invokeFunction(\n",
              "            'suggestCharts', [key], {});\n",
              "      } catch (error) {\n",
              "        console.error('Error during call to suggestCharts:', error);\n",
              "      }\n",
              "      quickchartButtonEl.classList.remove('colab-df-spinner');\n",
              "      quickchartButtonEl.classList.add('colab-df-quickchart-complete');\n",
              "    }\n",
              "    (() => {\n",
              "      let quickchartButtonEl =\n",
              "        document.querySelector('#df-55badb27-fae9-4338-afd3-bcbe1f2815af button');\n",
              "      quickchartButtonEl.style.display =\n",
              "        google.colab.kernel.accessAllowed ? 'block' : 'none';\n",
              "    })();\n",
              "  </script>\n",
              "</div>\n",
              "    </div>\n",
              "  </div>\n"
            ],
            "application/vnd.google.colaboratory.intrinsic+json": {
              "type": "dataframe",
              "variable_name": "data"
            }
          },
          "metadata": {},
          "execution_count": 6
        }
      ]
    },
    {
      "cell_type": "markdown",
      "metadata": {
        "id": "Q6Fa0zupbuhw"
      },
      "source": [
        "## Задание 2. Применение методов фильтрации признаков (4 балла)\n",
        "\n",
        "<center> <img src=\"https://ucarecdn.com/d1b4bc78-fd04-44fb-bdbf-0a63355b7384/\" width=700>"
      ]
    },
    {
      "cell_type": "markdown",
      "metadata": {
        "id": "c910L9jubuhx"
      },
      "source": [
        "1. Выберите и примените любые 3 (можно и больше) метода фильтрации, которые указаны выше или в ноутбуке по фильтрации из полезных ссылок.\n",
        "2. Проинтерпретируйте результаты и сделайте выводы.\n",
        "\n",
        "\n",
        "<h4> Критерии оценивания </h4>\n",
        "    \n",
        "- Применены методы фильтрации — 1 балл за каждый метод, максимум 3 балла.\n",
        "- Сделаны выводы на основе примененных методов —1 балл.\n",
        "</div>"
      ]
    },
    {
      "cell_type": "markdown",
      "source": [
        "### Советы по Feature Selection"
      ],
      "metadata": {
        "id": "9flWgKVxf9Q1"
      }
    },
    {
      "cell_type": "markdown",
      "metadata": {
        "id": "vYr9VNS5buhw"
      },
      "source": [
        "<div class=\"alert alert-info\">\n",
        "\n",
        "<h3><center>Зачем отбирать признаки</center></h3>\n",
        "    \n",
        "**Основные причины**:\n",
        "    \n",
        "- Главная причина: с увеличением количества признаков часто падает точность предсказания модели, а некоторые модели и вовсе перестают адекватно работать. Так происходит, если в данных большое количество мусорных фичей (почти не коррелирующих с таргетом).\n",
        "\n",
        "- Если фичей очень много, то данные перестают помещаться в память и существенно увеличивают время обучения модели, особенно если мы тестируем несколько алгоритмов или ансамбль. Также важно учитывать, что платформы имеют ограничения на длительность одной сессии (в Kaggle — 12 часов) и лимиты по потребляемой памяти.\n",
        "\n",
        "- Даже если точность не снижается, есть риск, что модель опирается на шумные фичи, что снизит стабильность прогноза на приватной выборке.\n"
      ]
    },
    {
      "cell_type": "markdown",
      "metadata": {
        "id": "P4JQwUS3buhw"
      },
      "source": [
        "<b>Что удалить сразу:</b>\n",
        "    \n",
        "- константы;\n",
        "- уникальные значения (в том числе в тесте; как правило, это ID-шники по типу `car_id`).\n",
        "    \n",
        "<b>Какие методы использовать:</b>\n",
        "    \n",
        "- `Линейная корреляция`.\n",
        "- `Phik` — тоже корреляция, но на стероидах ([туториал на Medium](https://towardsdatascience.com/phik-k-get-familiar-with-the-latest-correlation-coefficient-9ba0032b37e7)).\n",
        "- `Permutation importance` (из `scikit-learn`).\n",
        "- `SHAP values` (из библиотеки `shap`).\n",
        "- `CatBoost Feature Selection` (рекурсивные методы).\n",
        "    "
      ]
    },
    {
      "cell_type": "code",
      "execution_count": 7,
      "metadata": {
        "id": "UT2ndUSHbuhx",
        "colab": {
          "base_uri": "https://localhost:8080/",
          "height": 429
        },
        "outputId": "dab24b5b-e549-47ad-b8be-49fdc2631873"
      },
      "outputs": [
        {
          "output_type": "execute_result",
          "data": {
            "text/plain": [
              "            model car_type fuel_type  car_rating  year_to_start  riders  \\\n",
              "0  Kia Rio X-line  economy    petrol        3.78           2015   76163   \n",
              "1  Kia Rio X-line  economy    petrol        3.78           2015   76163   \n",
              "2  Kia Rio X-line  economy    petrol        3.78           2015   76163   \n",
              "3  Kia Rio X-line  economy    petrol        3.78           2015   76163   \n",
              "4  Kia Rio X-line  economy    petrol        3.78           2015   76163   \n",
              "\n",
              "   year_to_work  target_reg target_class  mean_rating  ...  all_distance  \\\n",
              "0          2021      108.53  another_bug     4.737759  ...  1.214131e+07   \n",
              "1          2021      108.53  another_bug     4.737759  ...  1.214131e+07   \n",
              "2          2021      108.53  another_bug     4.737759  ...  1.214131e+07   \n",
              "3          2021      108.53  another_bug     4.737759  ...  1.214131e+07   \n",
              "4          2021      108.53  another_bug     4.737759  ...  1.214131e+07   \n",
              "\n",
              "    speed_max  avg_ride_cost  avg_speed  mean_distance  age  user_rating  \\\n",
              "0  180.855726   20106.873563   44.66092   69777.646008   38          7.4   \n",
              "1  180.855726   20106.873563   44.66092   69777.646008   38          7.4   \n",
              "2  180.855726   20106.873563   44.66092   69777.646008   38          7.4   \n",
              "3  180.855726   20106.873563   44.66092   69777.646008   38          7.4   \n",
              "4  180.855726   20106.873563   44.66092   69777.646008   38          7.4   \n",
              "\n",
              "   user_rides         fix_date  work_type  \n",
              "0         268   2019-8-10 9:29  reparking  \n",
              "1         268   2019-2-9 10:49     repair  \n",
              "2         268   2020-4-8 10:23  reparking  \n",
              "3         268  2019-5-23 10:42  reparking  \n",
              "4         268  2020-7-24 18:32     repair  \n",
              "\n",
              "[5 rows x 21 columns]"
            ],
            "text/html": [
              "\n",
              "  <div id=\"df-a8ca13ec-437f-4992-b578-ce292df82589\" class=\"colab-df-container\">\n",
              "    <div>\n",
              "<style scoped>\n",
              "    .dataframe tbody tr th:only-of-type {\n",
              "        vertical-align: middle;\n",
              "    }\n",
              "\n",
              "    .dataframe tbody tr th {\n",
              "        vertical-align: top;\n",
              "    }\n",
              "\n",
              "    .dataframe thead th {\n",
              "        text-align: right;\n",
              "    }\n",
              "</style>\n",
              "<table border=\"1\" class=\"dataframe\">\n",
              "  <thead>\n",
              "    <tr style=\"text-align: right;\">\n",
              "      <th></th>\n",
              "      <th>model</th>\n",
              "      <th>car_type</th>\n",
              "      <th>fuel_type</th>\n",
              "      <th>car_rating</th>\n",
              "      <th>year_to_start</th>\n",
              "      <th>riders</th>\n",
              "      <th>year_to_work</th>\n",
              "      <th>target_reg</th>\n",
              "      <th>target_class</th>\n",
              "      <th>mean_rating</th>\n",
              "      <th>...</th>\n",
              "      <th>all_distance</th>\n",
              "      <th>speed_max</th>\n",
              "      <th>avg_ride_cost</th>\n",
              "      <th>avg_speed</th>\n",
              "      <th>mean_distance</th>\n",
              "      <th>age</th>\n",
              "      <th>user_rating</th>\n",
              "      <th>user_rides</th>\n",
              "      <th>fix_date</th>\n",
              "      <th>work_type</th>\n",
              "    </tr>\n",
              "  </thead>\n",
              "  <tbody>\n",
              "    <tr>\n",
              "      <th>0</th>\n",
              "      <td>Kia Rio X-line</td>\n",
              "      <td>economy</td>\n",
              "      <td>petrol</td>\n",
              "      <td>3.78</td>\n",
              "      <td>2015</td>\n",
              "      <td>76163</td>\n",
              "      <td>2021</td>\n",
              "      <td>108.53</td>\n",
              "      <td>another_bug</td>\n",
              "      <td>4.737759</td>\n",
              "      <td>...</td>\n",
              "      <td>1.214131e+07</td>\n",
              "      <td>180.855726</td>\n",
              "      <td>20106.873563</td>\n",
              "      <td>44.66092</td>\n",
              "      <td>69777.646008</td>\n",
              "      <td>38</td>\n",
              "      <td>7.4</td>\n",
              "      <td>268</td>\n",
              "      <td>2019-8-10 9:29</td>\n",
              "      <td>reparking</td>\n",
              "    </tr>\n",
              "    <tr>\n",
              "      <th>1</th>\n",
              "      <td>Kia Rio X-line</td>\n",
              "      <td>economy</td>\n",
              "      <td>petrol</td>\n",
              "      <td>3.78</td>\n",
              "      <td>2015</td>\n",
              "      <td>76163</td>\n",
              "      <td>2021</td>\n",
              "      <td>108.53</td>\n",
              "      <td>another_bug</td>\n",
              "      <td>4.737759</td>\n",
              "      <td>...</td>\n",
              "      <td>1.214131e+07</td>\n",
              "      <td>180.855726</td>\n",
              "      <td>20106.873563</td>\n",
              "      <td>44.66092</td>\n",
              "      <td>69777.646008</td>\n",
              "      <td>38</td>\n",
              "      <td>7.4</td>\n",
              "      <td>268</td>\n",
              "      <td>2019-2-9 10:49</td>\n",
              "      <td>repair</td>\n",
              "    </tr>\n",
              "    <tr>\n",
              "      <th>2</th>\n",
              "      <td>Kia Rio X-line</td>\n",
              "      <td>economy</td>\n",
              "      <td>petrol</td>\n",
              "      <td>3.78</td>\n",
              "      <td>2015</td>\n",
              "      <td>76163</td>\n",
              "      <td>2021</td>\n",
              "      <td>108.53</td>\n",
              "      <td>another_bug</td>\n",
              "      <td>4.737759</td>\n",
              "      <td>...</td>\n",
              "      <td>1.214131e+07</td>\n",
              "      <td>180.855726</td>\n",
              "      <td>20106.873563</td>\n",
              "      <td>44.66092</td>\n",
              "      <td>69777.646008</td>\n",
              "      <td>38</td>\n",
              "      <td>7.4</td>\n",
              "      <td>268</td>\n",
              "      <td>2020-4-8 10:23</td>\n",
              "      <td>reparking</td>\n",
              "    </tr>\n",
              "    <tr>\n",
              "      <th>3</th>\n",
              "      <td>Kia Rio X-line</td>\n",
              "      <td>economy</td>\n",
              "      <td>petrol</td>\n",
              "      <td>3.78</td>\n",
              "      <td>2015</td>\n",
              "      <td>76163</td>\n",
              "      <td>2021</td>\n",
              "      <td>108.53</td>\n",
              "      <td>another_bug</td>\n",
              "      <td>4.737759</td>\n",
              "      <td>...</td>\n",
              "      <td>1.214131e+07</td>\n",
              "      <td>180.855726</td>\n",
              "      <td>20106.873563</td>\n",
              "      <td>44.66092</td>\n",
              "      <td>69777.646008</td>\n",
              "      <td>38</td>\n",
              "      <td>7.4</td>\n",
              "      <td>268</td>\n",
              "      <td>2019-5-23 10:42</td>\n",
              "      <td>reparking</td>\n",
              "    </tr>\n",
              "    <tr>\n",
              "      <th>4</th>\n",
              "      <td>Kia Rio X-line</td>\n",
              "      <td>economy</td>\n",
              "      <td>petrol</td>\n",
              "      <td>3.78</td>\n",
              "      <td>2015</td>\n",
              "      <td>76163</td>\n",
              "      <td>2021</td>\n",
              "      <td>108.53</td>\n",
              "      <td>another_bug</td>\n",
              "      <td>4.737759</td>\n",
              "      <td>...</td>\n",
              "      <td>1.214131e+07</td>\n",
              "      <td>180.855726</td>\n",
              "      <td>20106.873563</td>\n",
              "      <td>44.66092</td>\n",
              "      <td>69777.646008</td>\n",
              "      <td>38</td>\n",
              "      <td>7.4</td>\n",
              "      <td>268</td>\n",
              "      <td>2020-7-24 18:32</td>\n",
              "      <td>repair</td>\n",
              "    </tr>\n",
              "  </tbody>\n",
              "</table>\n",
              "<p>5 rows × 21 columns</p>\n",
              "</div>\n",
              "    <div class=\"colab-df-buttons\">\n",
              "\n",
              "  <div class=\"colab-df-container\">\n",
              "    <button class=\"colab-df-convert\" onclick=\"convertToInteractive('df-a8ca13ec-437f-4992-b578-ce292df82589')\"\n",
              "            title=\"Convert this dataframe to an interactive table.\"\n",
              "            style=\"display:none;\">\n",
              "\n",
              "  <svg xmlns=\"http://www.w3.org/2000/svg\" height=\"24px\" viewBox=\"0 -960 960 960\">\n",
              "    <path d=\"M120-120v-720h720v720H120Zm60-500h600v-160H180v160Zm220 220h160v-160H400v160Zm0 220h160v-160H400v160ZM180-400h160v-160H180v160Zm440 0h160v-160H620v160ZM180-180h160v-160H180v160Zm440 0h160v-160H620v160Z\"/>\n",
              "  </svg>\n",
              "    </button>\n",
              "\n",
              "  <style>\n",
              "    .colab-df-container {\n",
              "      display:flex;\n",
              "      gap: 12px;\n",
              "    }\n",
              "\n",
              "    .colab-df-convert {\n",
              "      background-color: #E8F0FE;\n",
              "      border: none;\n",
              "      border-radius: 50%;\n",
              "      cursor: pointer;\n",
              "      display: none;\n",
              "      fill: #1967D2;\n",
              "      height: 32px;\n",
              "      padding: 0 0 0 0;\n",
              "      width: 32px;\n",
              "    }\n",
              "\n",
              "    .colab-df-convert:hover {\n",
              "      background-color: #E2EBFA;\n",
              "      box-shadow: 0px 1px 2px rgba(60, 64, 67, 0.3), 0px 1px 3px 1px rgba(60, 64, 67, 0.15);\n",
              "      fill: #174EA6;\n",
              "    }\n",
              "\n",
              "    .colab-df-buttons div {\n",
              "      margin-bottom: 4px;\n",
              "    }\n",
              "\n",
              "    [theme=dark] .colab-df-convert {\n",
              "      background-color: #3B4455;\n",
              "      fill: #D2E3FC;\n",
              "    }\n",
              "\n",
              "    [theme=dark] .colab-df-convert:hover {\n",
              "      background-color: #434B5C;\n",
              "      box-shadow: 0px 1px 3px 1px rgba(0, 0, 0, 0.15);\n",
              "      filter: drop-shadow(0px 1px 2px rgba(0, 0, 0, 0.3));\n",
              "      fill: #FFFFFF;\n",
              "    }\n",
              "  </style>\n",
              "\n",
              "    <script>\n",
              "      const buttonEl =\n",
              "        document.querySelector('#df-a8ca13ec-437f-4992-b578-ce292df82589 button.colab-df-convert');\n",
              "      buttonEl.style.display =\n",
              "        google.colab.kernel.accessAllowed ? 'block' : 'none';\n",
              "\n",
              "      async function convertToInteractive(key) {\n",
              "        const element = document.querySelector('#df-a8ca13ec-437f-4992-b578-ce292df82589');\n",
              "        const dataTable =\n",
              "          await google.colab.kernel.invokeFunction('convertToInteractive',\n",
              "                                                    [key], {});\n",
              "        if (!dataTable) return;\n",
              "\n",
              "        const docLinkHtml = 'Like what you see? Visit the ' +\n",
              "          '<a target=\"_blank\" href=https://colab.research.google.com/notebooks/data_table.ipynb>data table notebook</a>'\n",
              "          + ' to learn more about interactive tables.';\n",
              "        element.innerHTML = '';\n",
              "        dataTable['output_type'] = 'display_data';\n",
              "        await google.colab.output.renderOutput(dataTable, element);\n",
              "        const docLink = document.createElement('div');\n",
              "        docLink.innerHTML = docLinkHtml;\n",
              "        element.appendChild(docLink);\n",
              "      }\n",
              "    </script>\n",
              "  </div>\n",
              "\n",
              "\n",
              "<div id=\"df-cf4bfa57-748c-4d69-874f-bac4a29bfab0\">\n",
              "  <button class=\"colab-df-quickchart\" onclick=\"quickchart('df-cf4bfa57-748c-4d69-874f-bac4a29bfab0')\"\n",
              "            title=\"Suggest charts\"\n",
              "            style=\"display:none;\">\n",
              "\n",
              "<svg xmlns=\"http://www.w3.org/2000/svg\" height=\"24px\"viewBox=\"0 0 24 24\"\n",
              "     width=\"24px\">\n",
              "    <g>\n",
              "        <path d=\"M19 3H5c-1.1 0-2 .9-2 2v14c0 1.1.9 2 2 2h14c1.1 0 2-.9 2-2V5c0-1.1-.9-2-2-2zM9 17H7v-7h2v7zm4 0h-2V7h2v10zm4 0h-2v-4h2v4z\"/>\n",
              "    </g>\n",
              "</svg>\n",
              "  </button>\n",
              "\n",
              "<style>\n",
              "  .colab-df-quickchart {\n",
              "      --bg-color: #E8F0FE;\n",
              "      --fill-color: #1967D2;\n",
              "      --hover-bg-color: #E2EBFA;\n",
              "      --hover-fill-color: #174EA6;\n",
              "      --disabled-fill-color: #AAA;\n",
              "      --disabled-bg-color: #DDD;\n",
              "  }\n",
              "\n",
              "  [theme=dark] .colab-df-quickchart {\n",
              "      --bg-color: #3B4455;\n",
              "      --fill-color: #D2E3FC;\n",
              "      --hover-bg-color: #434B5C;\n",
              "      --hover-fill-color: #FFFFFF;\n",
              "      --disabled-bg-color: #3B4455;\n",
              "      --disabled-fill-color: #666;\n",
              "  }\n",
              "\n",
              "  .colab-df-quickchart {\n",
              "    background-color: var(--bg-color);\n",
              "    border: none;\n",
              "    border-radius: 50%;\n",
              "    cursor: pointer;\n",
              "    display: none;\n",
              "    fill: var(--fill-color);\n",
              "    height: 32px;\n",
              "    padding: 0;\n",
              "    width: 32px;\n",
              "  }\n",
              "\n",
              "  .colab-df-quickchart:hover {\n",
              "    background-color: var(--hover-bg-color);\n",
              "    box-shadow: 0 1px 2px rgba(60, 64, 67, 0.3), 0 1px 3px 1px rgba(60, 64, 67, 0.15);\n",
              "    fill: var(--button-hover-fill-color);\n",
              "  }\n",
              "\n",
              "  .colab-df-quickchart-complete:disabled,\n",
              "  .colab-df-quickchart-complete:disabled:hover {\n",
              "    background-color: var(--disabled-bg-color);\n",
              "    fill: var(--disabled-fill-color);\n",
              "    box-shadow: none;\n",
              "  }\n",
              "\n",
              "  .colab-df-spinner {\n",
              "    border: 2px solid var(--fill-color);\n",
              "    border-color: transparent;\n",
              "    border-bottom-color: var(--fill-color);\n",
              "    animation:\n",
              "      spin 1s steps(1) infinite;\n",
              "  }\n",
              "\n",
              "  @keyframes spin {\n",
              "    0% {\n",
              "      border-color: transparent;\n",
              "      border-bottom-color: var(--fill-color);\n",
              "      border-left-color: var(--fill-color);\n",
              "    }\n",
              "    20% {\n",
              "      border-color: transparent;\n",
              "      border-left-color: var(--fill-color);\n",
              "      border-top-color: var(--fill-color);\n",
              "    }\n",
              "    30% {\n",
              "      border-color: transparent;\n",
              "      border-left-color: var(--fill-color);\n",
              "      border-top-color: var(--fill-color);\n",
              "      border-right-color: var(--fill-color);\n",
              "    }\n",
              "    40% {\n",
              "      border-color: transparent;\n",
              "      border-right-color: var(--fill-color);\n",
              "      border-top-color: var(--fill-color);\n",
              "    }\n",
              "    60% {\n",
              "      border-color: transparent;\n",
              "      border-right-color: var(--fill-color);\n",
              "    }\n",
              "    80% {\n",
              "      border-color: transparent;\n",
              "      border-right-color: var(--fill-color);\n",
              "      border-bottom-color: var(--fill-color);\n",
              "    }\n",
              "    90% {\n",
              "      border-color: transparent;\n",
              "      border-bottom-color: var(--fill-color);\n",
              "    }\n",
              "  }\n",
              "</style>\n",
              "\n",
              "  <script>\n",
              "    async function quickchart(key) {\n",
              "      const quickchartButtonEl =\n",
              "        document.querySelector('#' + key + ' button');\n",
              "      quickchartButtonEl.disabled = true;  // To prevent multiple clicks.\n",
              "      quickchartButtonEl.classList.add('colab-df-spinner');\n",
              "      try {\n",
              "        const charts = await google.colab.kernel.invokeFunction(\n",
              "            'suggestCharts', [key], {});\n",
              "      } catch (error) {\n",
              "        console.error('Error during call to suggestCharts:', error);\n",
              "      }\n",
              "      quickchartButtonEl.classList.remove('colab-df-spinner');\n",
              "      quickchartButtonEl.classList.add('colab-df-quickchart-complete');\n",
              "    }\n",
              "    (() => {\n",
              "      let quickchartButtonEl =\n",
              "        document.querySelector('#df-cf4bfa57-748c-4d69-874f-bac4a29bfab0 button');\n",
              "      quickchartButtonEl.style.display =\n",
              "        google.colab.kernel.accessAllowed ? 'block' : 'none';\n",
              "    })();\n",
              "  </script>\n",
              "</div>\n",
              "    </div>\n",
              "  </div>\n"
            ],
            "application/vnd.google.colaboratory.intrinsic+json": {
              "type": "dataframe",
              "variable_name": "data"
            }
          },
          "metadata": {},
          "execution_count": 7
        }
      ],
      "source": [
        "# Удаление констант и уникальных значений\n",
        "columns_with_id = [col for col in data.columns if '_id' in col]\n",
        "\n",
        "data = data.loc[:, data.apply(pd.Series.nunique) != 1]\n",
        "data = data.drop(columns_with_id, axis=1)\n",
        "data = data.dropna(axis=1)\n",
        "data.head()"
      ]
    },
    {
      "cell_type": "code",
      "source": [
        "data.info()"
      ],
      "metadata": {
        "colab": {
          "base_uri": "https://localhost:8080/"
        },
        "id": "5b6c3QNQGM67",
        "outputId": "82767749-2c46-4aa4-e78d-dc4bc2c10d6c"
      },
      "execution_count": 8,
      "outputs": [
        {
          "output_type": "stream",
          "name": "stdout",
          "text": [
            "<class 'pandas.core.frame.DataFrame'>\n",
            "Int64Index: 13970460 entries, 0 to 13970459\n",
            "Data columns (total 21 columns):\n",
            " #   Column         Dtype  \n",
            "---  ------         -----  \n",
            " 0   model          object \n",
            " 1   car_type       object \n",
            " 2   fuel_type      object \n",
            " 3   car_rating     float64\n",
            " 4   year_to_start  int64  \n",
            " 5   riders         int64  \n",
            " 6   year_to_work   int64  \n",
            " 7   target_reg     float64\n",
            " 8   target_class   object \n",
            " 9   mean_rating    float64\n",
            " 10  min_rating     float64\n",
            " 11  all_distance   float64\n",
            " 12  speed_max      float64\n",
            " 13  avg_ride_cost  float64\n",
            " 14  avg_speed      float64\n",
            " 15  mean_distance  float64\n",
            " 16  age            int64  \n",
            " 17  user_rating    float64\n",
            " 18  user_rides     int64  \n",
            " 19  fix_date       object \n",
            " 20  work_type      object \n",
            "dtypes: float64(10), int64(5), object(6)\n",
            "memory usage: 2.3+ GB\n"
          ]
        }
      ]
    },
    {
      "cell_type": "code",
      "source": [
        "data.shape"
      ],
      "metadata": {
        "colab": {
          "base_uri": "https://localhost:8080/"
        },
        "id": "wVfD5fq2GOZh",
        "outputId": "92e3a5ec-598c-4997-b027-45c5ecefe86c"
      },
      "execution_count": 9,
      "outputs": [
        {
          "output_type": "execute_result",
          "data": {
            "text/plain": [
              "(13970460, 21)"
            ]
          },
          "metadata": {},
          "execution_count": 9
        }
      ]
    },
    {
      "cell_type": "markdown",
      "source": [
        "Чересчур много значений получилось, убавлю до 500 для оптимизации"
      ],
      "metadata": {
        "id": "1QBqxHEZGuRa"
      }
    },
    {
      "cell_type": "code",
      "source": [
        "data = data.sample(n=500)"
      ],
      "metadata": {
        "id": "hKDNh3HbGZBx"
      },
      "execution_count": 10,
      "outputs": []
    },
    {
      "cell_type": "code",
      "source": [
        "data.shape"
      ],
      "metadata": {
        "colab": {
          "base_uri": "https://localhost:8080/"
        },
        "id": "OD8pap7WG1Ih",
        "outputId": "0097a8a7-5558-415f-a7eb-4ab579542038"
      },
      "execution_count": 11,
      "outputs": [
        {
          "output_type": "execute_result",
          "data": {
            "text/plain": [
              "(500, 21)"
            ]
          },
          "metadata": {},
          "execution_count": 11
        }
      ]
    },
    {
      "cell_type": "code",
      "source": [
        "# Удалю еще столбцы для оптимизации, так как очень много данных\n",
        "cols_drop = [\n",
        "    'mean_rating',\n",
        "    'min_rating',\n",
        "    'all_distance',\n",
        "    'avg_ride_cost',\n",
        "    'speed_max',\n",
        "    'avg_speed',\n",
        "    'mean_distance',\n",
        "    'year_to_work',\n",
        "    'target_reg',\n",
        "]\n",
        "\n",
        "data = data.drop(columns = cols_drop)"
      ],
      "metadata": {
        "id": "pJ8WvLaoLenA"
      },
      "execution_count": 13,
      "outputs": []
    },
    {
      "cell_type": "code",
      "source": [
        "# Phik\n",
        "\n",
        "!pip install phik\n",
        "\n",
        "from phik import report\n",
        "phik_matrix = data.phik_matrix()\n",
        "\n",
        "print(phik_matrix)\n",
        "\n",
        "sns.heatmap(phik_matrix, annot=True, cmap='crest')\n",
        "plt.title(\"Phik Matrix\")"
      ],
      "metadata": {
        "colab": {
          "base_uri": "https://localhost:8080/",
          "height": 1000
        },
        "id": "JQTZPlCFG3RK",
        "outputId": "6a37eaec-74c4-42e9-e719-76f3b41efe80"
      },
      "execution_count": null,
      "outputs": [
        {
          "output_type": "stream",
          "name": "stdout",
          "text": [
            "Requirement already satisfied: phik in /usr/local/lib/python3.10/dist-packages (0.12.4)\n",
            "Requirement already satisfied: numpy>=1.18.0 in /usr/local/lib/python3.10/dist-packages (from phik) (1.25.2)\n",
            "Requirement already satisfied: scipy>=1.5.2 in /usr/local/lib/python3.10/dist-packages (from phik) (1.11.4)\n",
            "Requirement already satisfied: pandas>=0.25.1 in /usr/local/lib/python3.10/dist-packages (from phik) (1.5.3)\n",
            "Requirement already satisfied: matplotlib>=2.2.3 in /usr/local/lib/python3.10/dist-packages (from phik) (3.7.1)\n",
            "Requirement already satisfied: joblib>=0.14.1 in /usr/local/lib/python3.10/dist-packages (from phik) (1.3.2)\n",
            "Requirement already satisfied: contourpy>=1.0.1 in /usr/local/lib/python3.10/dist-packages (from matplotlib>=2.2.3->phik) (1.2.0)\n",
            "Requirement already satisfied: cycler>=0.10 in /usr/local/lib/python3.10/dist-packages (from matplotlib>=2.2.3->phik) (0.12.1)\n",
            "Requirement already satisfied: fonttools>=4.22.0 in /usr/local/lib/python3.10/dist-packages (from matplotlib>=2.2.3->phik) (4.50.0)\n",
            "Requirement already satisfied: kiwisolver>=1.0.1 in /usr/local/lib/python3.10/dist-packages (from matplotlib>=2.2.3->phik) (1.4.5)\n",
            "Requirement already satisfied: packaging>=20.0 in /usr/local/lib/python3.10/dist-packages (from matplotlib>=2.2.3->phik) (24.0)\n",
            "Requirement already satisfied: pillow>=6.2.0 in /usr/local/lib/python3.10/dist-packages (from matplotlib>=2.2.3->phik) (9.4.0)\n",
            "Requirement already satisfied: pyparsing>=2.3.1 in /usr/local/lib/python3.10/dist-packages (from matplotlib>=2.2.3->phik) (3.1.2)\n",
            "Requirement already satisfied: python-dateutil>=2.7 in /usr/local/lib/python3.10/dist-packages (from matplotlib>=2.2.3->phik) (2.8.2)\n",
            "Requirement already satisfied: pytz>=2020.1 in /usr/local/lib/python3.10/dist-packages (from pandas>=0.25.1->phik) (2023.4)\n",
            "Requirement already satisfied: six>=1.5 in /usr/local/lib/python3.10/dist-packages (from python-dateutil>=2.7->matplotlib>=2.2.3->phik) (1.16.0)\n",
            "interval columns not set, guessing: ['car_rating', 'year_to_start', 'riders', 'age', 'user_rating', 'user_rides']\n"
          ]
        },
        {
          "output_type": "stream",
          "name": "stderr",
          "text": [
            "/usr/local/lib/python3.10/dist-packages/phik/data_quality.py:59: UserWarning: The number of unique values of variable fix_date is large: 77964. Are you sure this is not an interval variable? Analysis for pairs of variables including fix_date can be slow.\n",
            "  warnings.warn(\n"
          ]
        },
        {
          "output_type": "stream",
          "name": "stdout",
          "text": [
            "                  model  car_type  fuel_type  car_rating  year_to_start  \\\n",
            "model          1.000000  1.000000   1.000000    0.249718       0.578220   \n",
            "car_type       1.000000  1.000000   0.694427    0.090503       0.281361   \n",
            "fuel_type      1.000000  0.694427   1.000000    0.073095       0.025406   \n",
            "car_rating     0.249718  0.090503   0.073095    1.000000       0.132854   \n",
            "year_to_start  0.578220  0.281361   0.025406    0.132854       1.000000   \n",
            "riders         0.550906  0.312185   0.057774    0.218532       0.956550   \n",
            "target_class   0.311372  0.203310   0.050828    0.135708       0.112042   \n",
            "age            0.094838  0.060768   0.060821    0.017029       0.024745   \n",
            "user_rating    0.261916  0.155162   0.266044    0.024364       0.021926   \n",
            "user_rides     0.083842  0.072296   0.053640    0.016468       0.018408   \n",
            "fix_date       0.999962  0.999784   0.999563    0.999829       0.999839   \n",
            "work_type      0.038810  0.009587   0.016191    0.022562       0.012905   \n",
            "\n",
            "                 riders  target_class       age  user_rating  user_rides  \\\n",
            "model          0.550906      0.311372  0.094838     0.261916    0.083842   \n",
            "car_type       0.312185      0.203310  0.060768     0.155162    0.072296   \n",
            "fuel_type      0.057774      0.050828  0.060821     0.266044    0.053640   \n",
            "car_rating     0.218532      0.135708  0.017029     0.024364    0.016468   \n",
            "year_to_start  0.956550      0.112042  0.024745     0.021926    0.018408   \n",
            "riders         1.000000      0.127224  0.033017     0.029932    0.024011   \n",
            "target_class   0.127224      1.000000  0.042321     0.135135    0.016942   \n",
            "age            0.033017      0.042321  1.000000     0.154387    0.104608   \n",
            "user_rating    0.029932      0.135135  0.154387     1.000000    0.084518   \n",
            "user_rides     0.024011      0.016942  0.104608     0.084518    1.000000   \n",
            "fix_date       0.999877      0.999860  0.114710     0.338118    0.091987   \n",
            "work_type      0.018044      0.022636  0.000000     0.002663    0.000000   \n",
            "\n",
            "               fix_date  work_type  \n",
            "model          0.999962   0.038810  \n",
            "car_type       0.999784   0.009587  \n",
            "fuel_type      0.999563   0.016191  \n",
            "car_rating     0.999829   0.022562  \n",
            "year_to_start  0.999839   0.012905  \n",
            "riders         0.999877   0.018044  \n",
            "target_class   0.999860   0.022636  \n",
            "age            0.114710   0.000000  \n",
            "user_rating    0.338118   0.002663  \n",
            "user_rides     0.091987   0.000000  \n",
            "fix_date       1.000000   0.999803  \n",
            "work_type      0.999803   1.000000  \n"
          ]
        },
        {
          "output_type": "execute_result",
          "data": {
            "text/plain": [
              "Text(0.5, 1.0, 'Phik Matrix')"
            ]
          },
          "metadata": {},
          "execution_count": 13
        },
        {
          "output_type": "display_data",
          "data": {
            "text/plain": [
              "<Figure size 640x480 with 2 Axes>"
            ],
            "image/png": "[encoded data removed]"
          },
          "metadata": {}
        }
      ]
    },
    {
      "cell_type": "markdown",
      "source": [
        "Прошу прощения за \"скукоженный график\". Очень долго ждал выполнения ячейки, переделывать не стал."
      ],
      "metadata": {
        "id": "ooIatxVdSOZ_"
      }
    },
    {
      "cell_type": "code",
      "source": [
        "data.info()"
      ],
      "metadata": {
        "colab": {
          "base_uri": "https://localhost:8080/"
        },
        "id": "cTLKf5fPSdqK",
        "outputId": "f891a139-39d0-44cf-ebd1-5248e1bd8541"
      },
      "execution_count": 14,
      "outputs": [
        {
          "output_type": "stream",
          "name": "stdout",
          "text": [
            "<class 'pandas.core.frame.DataFrame'>\n",
            "Int64Index: 500 entries, 5004204 to 1053273\n",
            "Data columns (total 12 columns):\n",
            " #   Column         Non-Null Count  Dtype  \n",
            "---  ------         --------------  -----  \n",
            " 0   model          500 non-null    object \n",
            " 1   car_type       500 non-null    object \n",
            " 2   fuel_type      500 non-null    object \n",
            " 3   car_rating     500 non-null    float64\n",
            " 4   year_to_start  500 non-null    int64  \n",
            " 5   riders         500 non-null    int64  \n",
            " 6   target_class   500 non-null    object \n",
            " 7   age            500 non-null    int64  \n",
            " 8   user_rating    500 non-null    float64\n",
            " 9   user_rides     500 non-null    int64  \n",
            " 10  fix_date       500 non-null    object \n",
            " 11  work_type      500 non-null    object \n",
            "dtypes: float64(2), int64(4), object(6)\n",
            "memory usage: 50.8+ KB\n"
          ]
        }
      ]
    },
    {
      "cell_type": "code",
      "source": [
        "# CatBoost\n",
        "\n",
        "!pip install catboost\n",
        "\n",
        "from catboost import CatBoostRegressor, Pool, CatBoostClassifier\n",
        "from sklearn.model_selection import train_test_split\n",
        "\n",
        "cat_cols = list(data.select_dtypes(include=['object']).columns)\n",
        "cat_cols.remove('target_class')\n",
        "\n",
        "X = data.drop(columns = 'target_class')\n",
        "y = data['target_class']\n",
        "\n",
        "X_train, X_test, y_train, y_test = train_test_split(X, y, test_size=0.3, random_state=42)\n",
        "\n",
        "model = CatBoostClassifier(random_state=42, cat_features=cat_cols)\n",
        "model.fit(X_train, y_train, plot=True)\n",
        "\n",
        "results = model.get_feature_importance()\n",
        "print(results)"
      ],
      "metadata": {
        "colab": {
          "base_uri": "https://localhost:8080/",
          "height": 1000,
          "referenced_widgets": [
            "4c88d23f8e6c4e44843d56a76acde713"
          ]
        },
        "id": "O4ATodcGJyvR",
        "outputId": "9417563a-79e4-44c8-a3ac-941cbc6240d8"
      },
      "execution_count": 18,
      "outputs": [
        {
          "output_type": "stream",
          "name": "stdout",
          "text": [
            "Requirement already satisfied: catboost in /usr/local/lib/python3.10/dist-packages (1.2.3)\n",
            "Requirement already satisfied: graphviz in /usr/local/lib/python3.10/dist-packages (from catboost) (0.20.2)\n",
            "Requirement already satisfied: matplotlib in /usr/local/lib/python3.10/dist-packages (from catboost) (3.7.1)\n",
            "Requirement already satisfied: numpy>=1.16.0 in /usr/local/lib/python3.10/dist-packages (from catboost) (1.25.2)\n",
            "Requirement already satisfied: pandas>=0.24 in /usr/local/lib/python3.10/dist-packages (from catboost) (1.5.3)\n",
            "Requirement already satisfied: scipy in /usr/local/lib/python3.10/dist-packages (from catboost) (1.11.4)\n",
            "Requirement already satisfied: plotly in /usr/local/lib/python3.10/dist-packages (from catboost) (5.15.0)\n",
            "Requirement already satisfied: six in /usr/local/lib/python3.10/dist-packages (from catboost) (1.16.0)\n",
            "Requirement already satisfied: python-dateutil>=2.8.1 in /usr/local/lib/python3.10/dist-packages (from pandas>=0.24->catboost) (2.8.2)\n",
            "Requirement already satisfied: pytz>=2020.1 in /usr/local/lib/python3.10/dist-packages (from pandas>=0.24->catboost) (2023.4)\n",
            "Requirement already satisfied: contourpy>=1.0.1 in /usr/local/lib/python3.10/dist-packages (from matplotlib->catboost) (1.2.0)\n",
            "Requirement already satisfied: cycler>=0.10 in /usr/local/lib/python3.10/dist-packages (from matplotlib->catboost) (0.12.1)\n",
            "Requirement already satisfied: fonttools>=4.22.0 in /usr/local/lib/python3.10/dist-packages (from matplotlib->catboost) (4.50.0)\n",
            "Requirement already satisfied: kiwisolver>=1.0.1 in /usr/local/lib/python3.10/dist-packages (from matplotlib->catboost) (1.4.5)\n",
            "Requirement already satisfied: packaging>=20.0 in /usr/local/lib/python3.10/dist-packages (from matplotlib->catboost) (24.0)\n",
            "Requirement already satisfied: pillow>=6.2.0 in /usr/local/lib/python3.10/dist-packages (from matplotlib->catboost) (9.4.0)\n",
            "Requirement already satisfied: pyparsing>=2.3.1 in /usr/local/lib/python3.10/dist-packages (from matplotlib->catboost) (3.1.2)\n",
            "Requirement already satisfied: tenacity>=6.2.0 in /usr/local/lib/python3.10/dist-packages (from plotly->catboost) (8.2.3)\n"
          ]
        },
        {
          "output_type": "display_data",
          "data": {
            "text/plain": [
              "MetricVisualizer(layout=Layout(align_self='stretch', height='500px'))"
            ],
            "application/vnd.jupyter.widget-view+json": {
              "version_major": 2,
              "version_minor": 0,
              "model_id": "4c88d23f8e6c4e44843d56a76acde713"
            }
          },
          "metadata": {}
        },
        {
          "output_type": "stream",
          "name": "stdout",
          "text": [
            "Learning rate set to 0.075002\n",
            "0:\tlearn: 2.1883331\ttotal: 187ms\tremaining: 3m 7s\n",
            "1:\tlearn: 2.1790177\ttotal: 335ms\tremaining: 2m 46s\n",
            "2:\tlearn: 2.1669002\ttotal: 511ms\tremaining: 2m 49s\n",
            "3:\tlearn: 2.1565678\ttotal: 686ms\tremaining: 2m 50s\n",
            "4:\tlearn: 2.1430000\ttotal: 837ms\tremaining: 2m 46s\n",
            "5:\tlearn: 2.1330589\ttotal: 968ms\tremaining: 2m 40s\n",
            "6:\tlearn: 2.1316965\ttotal: 973ms\tremaining: 2m 18s\n",
            "7:\tlearn: 2.1180129\ttotal: 1.15s\tremaining: 2m 22s\n",
            "8:\tlearn: 2.1088313\ttotal: 1.27s\tremaining: 2m 19s\n",
            "9:\tlearn: 2.1064753\ttotal: 1.28s\tremaining: 2m 7s\n",
            "10:\tlearn: 2.0947524\ttotal: 1.44s\tremaining: 2m 9s\n",
            "11:\tlearn: 2.0898619\ttotal: 1.59s\tremaining: 2m 11s\n",
            "12:\tlearn: 2.0886143\ttotal: 1.62s\tremaining: 2m 2s\n",
            "13:\tlearn: 2.0879017\ttotal: 1.64s\tremaining: 1m 55s\n",
            "14:\tlearn: 2.0751321\ttotal: 1.81s\tremaining: 1m 58s\n",
            "15:\tlearn: 2.0688417\ttotal: 1.9s\tremaining: 1m 56s\n",
            "16:\tlearn: 2.0574284\ttotal: 2s\tremaining: 1m 55s\n",
            "17:\tlearn: 2.0517473\ttotal: 2.07s\tremaining: 1m 52s\n",
            "18:\tlearn: 2.0471158\ttotal: 2.17s\tremaining: 1m 52s\n",
            "19:\tlearn: 2.0462392\ttotal: 2.19s\tremaining: 1m 47s\n",
            "20:\tlearn: 2.0394933\ttotal: 2.27s\tremaining: 1m 45s\n",
            "21:\tlearn: 2.0311780\ttotal: 2.36s\tremaining: 1m 44s\n",
            "22:\tlearn: 2.0229759\ttotal: 2.43s\tremaining: 1m 43s\n",
            "23:\tlearn: 2.0118175\ttotal: 2.49s\tremaining: 1m 41s\n",
            "24:\tlearn: 2.0011418\ttotal: 2.57s\tremaining: 1m 40s\n",
            "25:\tlearn: 1.9893310\ttotal: 2.65s\tremaining: 1m 39s\n",
            "26:\tlearn: 1.9834286\ttotal: 2.72s\tremaining: 1m 37s\n",
            "27:\tlearn: 1.9791980\ttotal: 2.83s\tremaining: 1m 38s\n",
            "28:\tlearn: 1.9723354\ttotal: 2.9s\tremaining: 1m 37s\n",
            "29:\tlearn: 1.9679736\ttotal: 2.98s\tremaining: 1m 36s\n",
            "30:\tlearn: 1.9591788\ttotal: 3.06s\tremaining: 1m 35s\n",
            "31:\tlearn: 1.9517099\ttotal: 3.15s\tremaining: 1m 35s\n",
            "32:\tlearn: 1.9454632\ttotal: 3.22s\tremaining: 1m 34s\n",
            "33:\tlearn: 1.9386265\ttotal: 3.3s\tremaining: 1m 33s\n",
            "34:\tlearn: 1.9282170\ttotal: 3.39s\tremaining: 1m 33s\n",
            "35:\tlearn: 1.9210836\ttotal: 3.49s\tremaining: 1m 33s\n",
            "36:\tlearn: 1.9120513\ttotal: 3.56s\tremaining: 1m 32s\n",
            "37:\tlearn: 1.9071211\ttotal: 3.64s\tremaining: 1m 32s\n",
            "38:\tlearn: 1.8960005\ttotal: 3.73s\tremaining: 1m 31s\n",
            "39:\tlearn: 1.8897218\ttotal: 3.8s\tremaining: 1m 31s\n",
            "40:\tlearn: 1.8824811\ttotal: 3.87s\tremaining: 1m 30s\n",
            "41:\tlearn: 1.8772103\ttotal: 3.97s\tremaining: 1m 30s\n",
            "42:\tlearn: 1.8697620\ttotal: 4.07s\tremaining: 1m 30s\n",
            "43:\tlearn: 1.8636838\ttotal: 4.16s\tremaining: 1m 30s\n",
            "44:\tlearn: 1.8605843\ttotal: 4.22s\tremaining: 1m 29s\n",
            "45:\tlearn: 1.8536241\ttotal: 4.3s\tremaining: 1m 29s\n",
            "46:\tlearn: 1.8479951\ttotal: 4.39s\tremaining: 1m 29s\n",
            "47:\tlearn: 1.8371012\ttotal: 4.47s\tremaining: 1m 28s\n",
            "48:\tlearn: 1.8334627\ttotal: 4.56s\tremaining: 1m 28s\n",
            "49:\tlearn: 1.8264371\ttotal: 4.63s\tremaining: 1m 28s\n",
            "50:\tlearn: 1.8225942\ttotal: 4.73s\tremaining: 1m 28s\n",
            "51:\tlearn: 1.8177903\ttotal: 4.82s\tremaining: 1m 27s\n",
            "52:\tlearn: 1.8095951\ttotal: 4.91s\tremaining: 1m 27s\n",
            "53:\tlearn: 1.8073327\ttotal: 4.99s\tremaining: 1m 27s\n",
            "54:\tlearn: 1.7976503\ttotal: 5.06s\tremaining: 1m 26s\n",
            "55:\tlearn: 1.7905204\ttotal: 5.14s\tremaining: 1m 26s\n",
            "56:\tlearn: 1.7852014\ttotal: 5.25s\tremaining: 1m 26s\n",
            "57:\tlearn: 1.7844487\ttotal: 5.28s\tremaining: 1m 25s\n",
            "58:\tlearn: 1.7783724\ttotal: 5.34s\tremaining: 1m 25s\n",
            "59:\tlearn: 1.7753103\ttotal: 5.41s\tremaining: 1m 24s\n",
            "60:\tlearn: 1.7672496\ttotal: 5.49s\tremaining: 1m 24s\n",
            "61:\tlearn: 1.7570493\ttotal: 5.58s\tremaining: 1m 24s\n",
            "62:\tlearn: 1.7526927\ttotal: 5.67s\tremaining: 1m 24s\n",
            "63:\tlearn: 1.7446760\ttotal: 5.74s\tremaining: 1m 24s\n",
            "64:\tlearn: 1.7374623\ttotal: 5.83s\tremaining: 1m 23s\n",
            "65:\tlearn: 1.7288019\ttotal: 5.91s\tremaining: 1m 23s\n",
            "66:\tlearn: 1.7186975\ttotal: 6.04s\tremaining: 1m 24s\n",
            "67:\tlearn: 1.7094019\ttotal: 6.11s\tremaining: 1m 23s\n",
            "68:\tlearn: 1.7036166\ttotal: 6.18s\tremaining: 1m 23s\n",
            "69:\tlearn: 1.6932651\ttotal: 6.29s\tremaining: 1m 23s\n",
            "70:\tlearn: 1.6886019\ttotal: 6.38s\tremaining: 1m 23s\n",
            "71:\tlearn: 1.6820771\ttotal: 6.45s\tremaining: 1m 23s\n",
            "72:\tlearn: 1.6778826\ttotal: 6.52s\tremaining: 1m 22s\n",
            "73:\tlearn: 1.6737602\ttotal: 6.63s\tremaining: 1m 23s\n",
            "74:\tlearn: 1.6701511\ttotal: 6.71s\tremaining: 1m 22s\n",
            "75:\tlearn: 1.6666952\ttotal: 6.78s\tremaining: 1m 22s\n",
            "76:\tlearn: 1.6566897\ttotal: 6.88s\tremaining: 1m 22s\n",
            "77:\tlearn: 1.6496341\ttotal: 6.97s\tremaining: 1m 22s\n",
            "78:\tlearn: 1.6414483\ttotal: 7.05s\tremaining: 1m 22s\n",
            "79:\tlearn: 1.6332010\ttotal: 7.12s\tremaining: 1m 21s\n",
            "80:\tlearn: 1.6274763\ttotal: 7.22s\tremaining: 1m 21s\n",
            "81:\tlearn: 1.6232061\ttotal: 7.31s\tremaining: 1m 21s\n",
            "82:\tlearn: 1.6118552\ttotal: 7.38s\tremaining: 1m 21s\n",
            "83:\tlearn: 1.6032975\ttotal: 7.49s\tremaining: 1m 21s\n",
            "84:\tlearn: 1.5961668\ttotal: 7.58s\tremaining: 1m 21s\n",
            "85:\tlearn: 1.5901430\ttotal: 7.67s\tremaining: 1m 21s\n",
            "86:\tlearn: 1.5837794\ttotal: 7.74s\tremaining: 1m 21s\n",
            "87:\tlearn: 1.5743037\ttotal: 7.82s\tremaining: 1m 21s\n",
            "88:\tlearn: 1.5712380\ttotal: 7.9s\tremaining: 1m 20s\n",
            "89:\tlearn: 1.5623551\ttotal: 8.01s\tremaining: 1m 20s\n",
            "90:\tlearn: 1.5588570\ttotal: 8.07s\tremaining: 1m 20s\n",
            "91:\tlearn: 1.5509874\ttotal: 8.16s\tremaining: 1m 20s\n",
            "92:\tlearn: 1.5474511\ttotal: 8.26s\tremaining: 1m 20s\n",
            "93:\tlearn: 1.5392020\ttotal: 8.37s\tremaining: 1m 20s\n",
            "94:\tlearn: 1.5346824\ttotal: 8.46s\tremaining: 1m 20s\n",
            "95:\tlearn: 1.5288752\ttotal: 8.54s\tremaining: 1m 20s\n",
            "96:\tlearn: 1.5248715\ttotal: 8.62s\tremaining: 1m 20s\n",
            "97:\tlearn: 1.5143644\ttotal: 8.7s\tremaining: 1m 20s\n",
            "98:\tlearn: 1.5080335\ttotal: 8.78s\tremaining: 1m 19s\n",
            "99:\tlearn: 1.5020959\ttotal: 8.88s\tremaining: 1m 19s\n",
            "100:\tlearn: 1.4925095\ttotal: 8.99s\tremaining: 1m 20s\n",
            "101:\tlearn: 1.4901462\ttotal: 9.08s\tremaining: 1m 19s\n",
            "102:\tlearn: 1.4845521\ttotal: 9.16s\tremaining: 1m 19s\n",
            "103:\tlearn: 1.4755203\ttotal: 9.26s\tremaining: 1m 19s\n",
            "104:\tlearn: 1.4693743\ttotal: 9.37s\tremaining: 1m 19s\n",
            "105:\tlearn: 1.4646789\ttotal: 9.44s\tremaining: 1m 19s\n",
            "106:\tlearn: 1.4622488\ttotal: 9.53s\tremaining: 1m 19s\n",
            "107:\tlearn: 1.4592778\ttotal: 9.63s\tremaining: 1m 19s\n",
            "108:\tlearn: 1.4556928\ttotal: 9.73s\tremaining: 1m 19s\n",
            "109:\tlearn: 1.4484294\ttotal: 9.82s\tremaining: 1m 19s\n",
            "110:\tlearn: 1.4439811\ttotal: 9.9s\tremaining: 1m 19s\n",
            "111:\tlearn: 1.4396640\ttotal: 9.98s\tremaining: 1m 19s\n",
            "112:\tlearn: 1.4361069\ttotal: 10.1s\tremaining: 1m 18s\n",
            "113:\tlearn: 1.4291064\ttotal: 10.2s\tremaining: 1m 18s\n",
            "114:\tlearn: 1.4244203\ttotal: 10.2s\tremaining: 1m 18s\n",
            "115:\tlearn: 1.4166611\ttotal: 10.3s\tremaining: 1m 18s\n",
            "116:\tlearn: 1.4112122\ttotal: 10.4s\tremaining: 1m 18s\n",
            "117:\tlearn: 1.4025065\ttotal: 10.5s\tremaining: 1m 18s\n",
            "118:\tlearn: 1.3977258\ttotal: 10.6s\tremaining: 1m 18s\n",
            "119:\tlearn: 1.3909701\ttotal: 10.7s\tremaining: 1m 18s\n",
            "120:\tlearn: 1.3842647\ttotal: 10.8s\tremaining: 1m 18s\n",
            "121:\tlearn: 1.3748483\ttotal: 10.9s\tremaining: 1m 18s\n",
            "122:\tlearn: 1.3685357\ttotal: 11s\tremaining: 1m 18s\n",
            "123:\tlearn: 1.3638135\ttotal: 11.1s\tremaining: 1m 18s\n",
            "124:\tlearn: 1.3558714\ttotal: 11.2s\tremaining: 1m 18s\n",
            "125:\tlearn: 1.3452421\ttotal: 11.2s\tremaining: 1m 18s\n",
            "126:\tlearn: 1.3369502\ttotal: 11.4s\tremaining: 1m 18s\n",
            "127:\tlearn: 1.3319928\ttotal: 11.4s\tremaining: 1m 17s\n",
            "128:\tlearn: 1.3259173\ttotal: 11.5s\tremaining: 1m 17s\n",
            "129:\tlearn: 1.3192510\ttotal: 11.6s\tremaining: 1m 17s\n",
            "130:\tlearn: 1.3116740\ttotal: 11.7s\tremaining: 1m 17s\n",
            "131:\tlearn: 1.3066478\ttotal: 11.8s\tremaining: 1m 17s\n",
            "132:\tlearn: 1.2975255\ttotal: 12s\tremaining: 1m 17s\n",
            "133:\tlearn: 1.2912942\ttotal: 12.1s\tremaining: 1m 18s\n",
            "134:\tlearn: 1.2856161\ttotal: 12.3s\tremaining: 1m 18s\n",
            "135:\tlearn: 1.2780181\ttotal: 12.4s\tremaining: 1m 19s\n",
            "136:\tlearn: 1.2714810\ttotal: 12.6s\tremaining: 1m 19s\n",
            "137:\tlearn: 1.2655013\ttotal: 12.8s\tremaining: 1m 19s\n",
            "138:\tlearn: 1.2578355\ttotal: 13s\tremaining: 1m 20s\n",
            "139:\tlearn: 1.2489706\ttotal: 13.1s\tremaining: 1m 20s\n",
            "140:\tlearn: 1.2456200\ttotal: 13.3s\tremaining: 1m 20s\n",
            "141:\tlearn: 1.2408668\ttotal: 13.5s\tremaining: 1m 21s\n",
            "142:\tlearn: 1.2359385\ttotal: 13.6s\tremaining: 1m 21s\n",
            "143:\tlearn: 1.2282175\ttotal: 13.8s\tremaining: 1m 21s\n",
            "144:\tlearn: 1.2211175\ttotal: 13.9s\tremaining: 1m 22s\n",
            "145:\tlearn: 1.2167101\ttotal: 14.1s\tremaining: 1m 22s\n",
            "146:\tlearn: 1.2161146\ttotal: 14.2s\tremaining: 1m 22s\n",
            "147:\tlearn: 1.2113776\ttotal: 14.4s\tremaining: 1m 22s\n",
            "148:\tlearn: 1.2038591\ttotal: 14.5s\tremaining: 1m 22s\n",
            "149:\tlearn: 1.2005343\ttotal: 14.5s\tremaining: 1m 22s\n",
            "150:\tlearn: 1.1943501\ttotal: 14.6s\tremaining: 1m 22s\n",
            "151:\tlearn: 1.1868032\ttotal: 14.7s\tremaining: 1m 22s\n",
            "152:\tlearn: 1.1836342\ttotal: 14.8s\tremaining: 1m 22s\n",
            "153:\tlearn: 1.1763875\ttotal: 14.9s\tremaining: 1m 21s\n",
            "154:\tlearn: 1.1729384\ttotal: 15s\tremaining: 1m 21s\n",
            "155:\tlearn: 1.1692531\ttotal: 15.1s\tremaining: 1m 21s\n",
            "156:\tlearn: 1.1611594\ttotal: 15.2s\tremaining: 1m 21s\n",
            "157:\tlearn: 1.1568691\ttotal: 15.3s\tremaining: 1m 21s\n",
            "158:\tlearn: 1.1554984\ttotal: 15.4s\tremaining: 1m 21s\n",
            "159:\tlearn: 1.1499860\ttotal: 15.5s\tremaining: 1m 21s\n",
            "160:\tlearn: 1.1446510\ttotal: 15.6s\tremaining: 1m 21s\n",
            "161:\tlearn: 1.1395125\ttotal: 15.7s\tremaining: 1m 21s\n",
            "162:\tlearn: 1.1350004\ttotal: 15.8s\tremaining: 1m 21s\n",
            "163:\tlearn: 1.1295170\ttotal: 15.9s\tremaining: 1m 20s\n",
            "164:\tlearn: 1.1224654\ttotal: 16s\tremaining: 1m 20s\n",
            "165:\tlearn: 1.1177454\ttotal: 16.1s\tremaining: 1m 20s\n",
            "166:\tlearn: 1.1167677\ttotal: 16.1s\tremaining: 1m 20s\n",
            "167:\tlearn: 1.1138123\ttotal: 16.2s\tremaining: 1m 20s\n",
            "168:\tlearn: 1.1068921\ttotal: 16.3s\tremaining: 1m 20s\n",
            "169:\tlearn: 1.1030006\ttotal: 16.4s\tremaining: 1m 20s\n",
            "170:\tlearn: 1.1009115\ttotal: 16.5s\tremaining: 1m 20s\n",
            "171:\tlearn: 1.0975012\ttotal: 16.6s\tremaining: 1m 19s\n",
            "172:\tlearn: 1.0955704\ttotal: 16.6s\tremaining: 1m 19s\n",
            "173:\tlearn: 1.0933846\ttotal: 16.7s\tremaining: 1m 19s\n",
            "174:\tlearn: 1.0896305\ttotal: 16.8s\tremaining: 1m 19s\n",
            "175:\tlearn: 1.0815994\ttotal: 16.9s\tremaining: 1m 19s\n",
            "176:\tlearn: 1.0792493\ttotal: 17s\tremaining: 1m 19s\n",
            "177:\tlearn: 1.0759997\ttotal: 17.1s\tremaining: 1m 18s\n",
            "178:\tlearn: 1.0715850\ttotal: 17.2s\tremaining: 1m 18s\n",
            "179:\tlearn: 1.0705572\ttotal: 17.3s\tremaining: 1m 18s\n",
            "180:\tlearn: 1.0628591\ttotal: 17.4s\tremaining: 1m 18s\n",
            "181:\tlearn: 1.0550315\ttotal: 17.5s\tremaining: 1m 18s\n",
            "182:\tlearn: 1.0528931\ttotal: 17.6s\tremaining: 1m 18s\n",
            "183:\tlearn: 1.0505392\ttotal: 17.7s\tremaining: 1m 18s\n",
            "184:\tlearn: 1.0485316\ttotal: 17.8s\tremaining: 1m 18s\n",
            "185:\tlearn: 1.0454119\ttotal: 17.9s\tremaining: 1m 18s\n",
            "186:\tlearn: 1.0410742\ttotal: 18s\tremaining: 1m 18s\n",
            "187:\tlearn: 1.0371593\ttotal: 18s\tremaining: 1m 17s\n",
            "188:\tlearn: 1.0332934\ttotal: 18.2s\tremaining: 1m 17s\n",
            "189:\tlearn: 1.0299376\ttotal: 18.2s\tremaining: 1m 17s\n",
            "190:\tlearn: 1.0247333\ttotal: 18.3s\tremaining: 1m 17s\n",
            "191:\tlearn: 1.0179076\ttotal: 18.4s\tremaining: 1m 17s\n",
            "192:\tlearn: 1.0118287\ttotal: 18.5s\tremaining: 1m 17s\n",
            "193:\tlearn: 1.0058273\ttotal: 18.6s\tremaining: 1m 17s\n",
            "194:\tlearn: 1.0007227\ttotal: 18.7s\tremaining: 1m 17s\n",
            "195:\tlearn: 0.9975222\ttotal: 18.8s\tremaining: 1m 17s\n",
            "196:\tlearn: 0.9934081\ttotal: 18.9s\tremaining: 1m 16s\n",
            "197:\tlearn: 0.9886800\ttotal: 19s\tremaining: 1m 16s\n",
            "198:\tlearn: 0.9856058\ttotal: 19.1s\tremaining: 1m 16s\n",
            "199:\tlearn: 0.9796275\ttotal: 19.2s\tremaining: 1m 16s\n",
            "200:\tlearn: 0.9760349\ttotal: 19.3s\tremaining: 1m 16s\n",
            "201:\tlearn: 0.9716925\ttotal: 19.4s\tremaining: 1m 16s\n",
            "202:\tlearn: 0.9666254\ttotal: 19.5s\tremaining: 1m 16s\n",
            "203:\tlearn: 0.9627375\ttotal: 19.5s\tremaining: 1m 16s\n",
            "204:\tlearn: 0.9562511\ttotal: 19.7s\tremaining: 1m 16s\n",
            "205:\tlearn: 0.9543099\ttotal: 19.8s\tremaining: 1m 16s\n",
            "206:\tlearn: 0.9489967\ttotal: 19.8s\tremaining: 1m 16s\n",
            "207:\tlearn: 0.9454948\ttotal: 19.9s\tremaining: 1m 15s\n",
            "208:\tlearn: 0.9415196\ttotal: 20s\tremaining: 1m 15s\n",
            "209:\tlearn: 0.9385993\ttotal: 20.1s\tremaining: 1m 15s\n",
            "210:\tlearn: 0.9350491\ttotal: 20.2s\tremaining: 1m 15s\n",
            "211:\tlearn: 0.9314916\ttotal: 20.3s\tremaining: 1m 15s\n",
            "212:\tlearn: 0.9284709\ttotal: 20.4s\tremaining: 1m 15s\n",
            "213:\tlearn: 0.9247850\ttotal: 20.5s\tremaining: 1m 15s\n",
            "214:\tlearn: 0.9203182\ttotal: 20.6s\tremaining: 1m 15s\n",
            "215:\tlearn: 0.9172259\ttotal: 20.7s\tremaining: 1m 15s\n",
            "216:\tlearn: 0.9124714\ttotal: 20.8s\tremaining: 1m 14s\n",
            "217:\tlearn: 0.9098256\ttotal: 20.8s\tremaining: 1m 14s\n",
            "218:\tlearn: 0.9064356\ttotal: 20.9s\tremaining: 1m 14s\n",
            "219:\tlearn: 0.9022224\ttotal: 21s\tremaining: 1m 14s\n",
            "220:\tlearn: 0.8979392\ttotal: 21.1s\tremaining: 1m 14s\n",
            "221:\tlearn: 0.8943621\ttotal: 21.2s\tremaining: 1m 14s\n",
            "222:\tlearn: 0.8914525\ttotal: 21.3s\tremaining: 1m 14s\n",
            "223:\tlearn: 0.8864605\ttotal: 21.4s\tremaining: 1m 14s\n",
            "224:\tlearn: 0.8818193\ttotal: 21.5s\tremaining: 1m 13s\n",
            "225:\tlearn: 0.8800075\ttotal: 21.5s\tremaining: 1m 13s\n",
            "226:\tlearn: 0.8765459\ttotal: 21.6s\tremaining: 1m 13s\n",
            "227:\tlearn: 0.8749425\ttotal: 21.7s\tremaining: 1m 13s\n",
            "228:\tlearn: 0.8713902\ttotal: 21.8s\tremaining: 1m 13s\n",
            "229:\tlearn: 0.8684913\ttotal: 21.9s\tremaining: 1m 13s\n",
            "230:\tlearn: 0.8632940\ttotal: 22s\tremaining: 1m 13s\n",
            "231:\tlearn: 0.8600895\ttotal: 22.1s\tremaining: 1m 13s\n",
            "232:\tlearn: 0.8569893\ttotal: 22.2s\tremaining: 1m 13s\n",
            "233:\tlearn: 0.8528938\ttotal: 22.3s\tremaining: 1m 13s\n",
            "234:\tlearn: 0.8474423\ttotal: 22.4s\tremaining: 1m 12s\n",
            "235:\tlearn: 0.8428664\ttotal: 22.5s\tremaining: 1m 12s\n",
            "236:\tlearn: 0.8383632\ttotal: 22.6s\tremaining: 1m 12s\n",
            "237:\tlearn: 0.8348785\ttotal: 22.7s\tremaining: 1m 12s\n",
            "238:\tlearn: 0.8333549\ttotal: 22.8s\tremaining: 1m 12s\n",
            "239:\tlearn: 0.8309564\ttotal: 22.9s\tremaining: 1m 12s\n",
            "240:\tlearn: 0.8285253\ttotal: 23s\tremaining: 1m 12s\n",
            "241:\tlearn: 0.8261869\ttotal: 23.1s\tremaining: 1m 12s\n",
            "242:\tlearn: 0.8234879\ttotal: 23.2s\tremaining: 1m 12s\n",
            "243:\tlearn: 0.8185827\ttotal: 23.3s\tremaining: 1m 12s\n",
            "244:\tlearn: 0.8148803\ttotal: 23.4s\tremaining: 1m 11s\n",
            "245:\tlearn: 0.8115341\ttotal: 23.4s\tremaining: 1m 11s\n",
            "246:\tlearn: 0.8095709\ttotal: 23.5s\tremaining: 1m 11s\n",
            "247:\tlearn: 0.8053216\ttotal: 23.6s\tremaining: 1m 11s\n",
            "248:\tlearn: 0.8032429\ttotal: 23.7s\tremaining: 1m 11s\n",
            "249:\tlearn: 0.8021760\ttotal: 23.8s\tremaining: 1m 11s\n",
            "250:\tlearn: 0.8000460\ttotal: 23.9s\tremaining: 1m 11s\n",
            "251:\tlearn: 0.7987921\ttotal: 24s\tremaining: 1m 11s\n",
            "252:\tlearn: 0.7962783\ttotal: 24.1s\tremaining: 1m 11s\n",
            "253:\tlearn: 0.7923357\ttotal: 24.3s\tremaining: 1m 11s\n",
            "254:\tlearn: 0.7880862\ttotal: 24.4s\tremaining: 1m 11s\n",
            "255:\tlearn: 0.7846798\ttotal: 24.5s\tremaining: 1m 11s\n",
            "256:\tlearn: 0.7812440\ttotal: 24.7s\tremaining: 1m 11s\n",
            "257:\tlearn: 0.7784176\ttotal: 24.8s\tremaining: 1m 11s\n",
            "258:\tlearn: 0.7749060\ttotal: 25s\tremaining: 1m 11s\n",
            "259:\tlearn: 0.7712263\ttotal: 25.1s\tremaining: 1m 11s\n",
            "260:\tlearn: 0.7697926\ttotal: 25.3s\tremaining: 1m 11s\n",
            "261:\tlearn: 0.7659095\ttotal: 25.5s\tremaining: 1m 11s\n",
            "262:\tlearn: 0.7634825\ttotal: 25.6s\tremaining: 1m 11s\n",
            "263:\tlearn: 0.7605222\ttotal: 25.8s\tremaining: 1m 11s\n",
            "264:\tlearn: 0.7579981\ttotal: 26s\tremaining: 1m 12s\n",
            "265:\tlearn: 0.7535007\ttotal: 26.1s\tremaining: 1m 12s\n",
            "266:\tlearn: 0.7504991\ttotal: 26.3s\tremaining: 1m 12s\n",
            "267:\tlearn: 0.7467203\ttotal: 26.5s\tremaining: 1m 12s\n",
            "268:\tlearn: 0.7427102\ttotal: 26.6s\tremaining: 1m 12s\n",
            "269:\tlearn: 0.7408481\ttotal: 26.8s\tremaining: 1m 12s\n",
            "270:\tlearn: 0.7383635\ttotal: 26.9s\tremaining: 1m 12s\n",
            "271:\tlearn: 0.7353176\ttotal: 27s\tremaining: 1m 12s\n",
            "272:\tlearn: 0.7320973\ttotal: 27.1s\tremaining: 1m 12s\n",
            "273:\tlearn: 0.7290286\ttotal: 27.1s\tremaining: 1m 11s\n",
            "274:\tlearn: 0.7258059\ttotal: 27.3s\tremaining: 1m 11s\n",
            "275:\tlearn: 0.7241502\ttotal: 27.4s\tremaining: 1m 11s\n",
            "276:\tlearn: 0.7212790\ttotal: 27.4s\tremaining: 1m 11s\n",
            "277:\tlearn: 0.7191930\ttotal: 27.5s\tremaining: 1m 11s\n",
            "278:\tlearn: 0.7151056\ttotal: 27.6s\tremaining: 1m 11s\n",
            "279:\tlearn: 0.7098025\ttotal: 27.7s\tremaining: 1m 11s\n",
            "280:\tlearn: 0.7075099\ttotal: 27.8s\tremaining: 1m 11s\n",
            "281:\tlearn: 0.7033291\ttotal: 27.9s\tremaining: 1m 11s\n",
            "282:\tlearn: 0.7018365\ttotal: 28s\tremaining: 1m 10s\n",
            "283:\tlearn: 0.6979966\ttotal: 28.1s\tremaining: 1m 10s\n",
            "284:\tlearn: 0.6933444\ttotal: 28.2s\tremaining: 1m 10s\n",
            "285:\tlearn: 0.6902460\ttotal: 28.3s\tremaining: 1m 10s\n",
            "286:\tlearn: 0.6884982\ttotal: 28.3s\tremaining: 1m 10s\n",
            "287:\tlearn: 0.6849267\ttotal: 28.4s\tremaining: 1m 10s\n",
            "288:\tlearn: 0.6831481\ttotal: 28.5s\tremaining: 1m 10s\n",
            "289:\tlearn: 0.6808446\ttotal: 28.6s\tremaining: 1m 9s\n",
            "290:\tlearn: 0.6797099\ttotal: 28.7s\tremaining: 1m 9s\n",
            "291:\tlearn: 0.6791215\ttotal: 28.8s\tremaining: 1m 9s\n",
            "292:\tlearn: 0.6777077\ttotal: 28.9s\tremaining: 1m 9s\n",
            "293:\tlearn: 0.6754052\ttotal: 29s\tremaining: 1m 9s\n",
            "294:\tlearn: 0.6723227\ttotal: 29s\tremaining: 1m 9s\n",
            "295:\tlearn: 0.6703852\ttotal: 29.1s\tremaining: 1m 9s\n",
            "296:\tlearn: 0.6671092\ttotal: 29.3s\tremaining: 1m 9s\n",
            "297:\tlearn: 0.6641345\ttotal: 29.3s\tremaining: 1m 9s\n",
            "298:\tlearn: 0.6615987\ttotal: 29.4s\tremaining: 1m 9s\n",
            "299:\tlearn: 0.6601215\ttotal: 29.5s\tremaining: 1m 8s\n",
            "300:\tlearn: 0.6585194\ttotal: 29.6s\tremaining: 1m 8s\n",
            "301:\tlearn: 0.6554452\ttotal: 29.7s\tremaining: 1m 8s\n",
            "302:\tlearn: 0.6531855\ttotal: 29.8s\tremaining: 1m 8s\n",
            "303:\tlearn: 0.6499298\ttotal: 29.9s\tremaining: 1m 8s\n",
            "304:\tlearn: 0.6484327\ttotal: 30s\tremaining: 1m 8s\n",
            "305:\tlearn: 0.6467154\ttotal: 30.1s\tremaining: 1m 8s\n",
            "306:\tlearn: 0.6456000\ttotal: 30.2s\tremaining: 1m 8s\n",
            "307:\tlearn: 0.6421915\ttotal: 30.3s\tremaining: 1m 8s\n",
            "308:\tlearn: 0.6410847\ttotal: 30.4s\tremaining: 1m 7s\n",
            "309:\tlearn: 0.6399138\ttotal: 30.5s\tremaining: 1m 7s\n",
            "310:\tlearn: 0.6382571\ttotal: 30.6s\tremaining: 1m 7s\n",
            "311:\tlearn: 0.6361638\ttotal: 30.6s\tremaining: 1m 7s\n",
            "312:\tlearn: 0.6346765\ttotal: 30.7s\tremaining: 1m 7s\n",
            "313:\tlearn: 0.6319341\ttotal: 30.8s\tremaining: 1m 7s\n",
            "314:\tlearn: 0.6292597\ttotal: 30.9s\tremaining: 1m 7s\n",
            "315:\tlearn: 0.6277048\ttotal: 31s\tremaining: 1m 7s\n",
            "316:\tlearn: 0.6242809\ttotal: 31.1s\tremaining: 1m 7s\n",
            "317:\tlearn: 0.6218266\ttotal: 31.2s\tremaining: 1m 6s\n",
            "318:\tlearn: 0.6189480\ttotal: 31.3s\tremaining: 1m 6s\n",
            "319:\tlearn: 0.6155841\ttotal: 31.4s\tremaining: 1m 6s\n",
            "320:\tlearn: 0.6113450\ttotal: 31.5s\tremaining: 1m 6s\n",
            "321:\tlearn: 0.6099265\ttotal: 31.6s\tremaining: 1m 6s\n",
            "322:\tlearn: 0.6086912\ttotal: 31.7s\tremaining: 1m 6s\n",
            "323:\tlearn: 0.6060306\ttotal: 31.8s\tremaining: 1m 6s\n",
            "324:\tlearn: 0.6027968\ttotal: 31.9s\tremaining: 1m 6s\n",
            "325:\tlearn: 0.6015348\ttotal: 31.9s\tremaining: 1m 6s\n",
            "326:\tlearn: 0.5992635\ttotal: 32s\tremaining: 1m 5s\n",
            "327:\tlearn: 0.5957767\ttotal: 32.1s\tremaining: 1m 5s\n",
            "328:\tlearn: 0.5927497\ttotal: 32.2s\tremaining: 1m 5s\n",
            "329:\tlearn: 0.5902447\ttotal: 32.3s\tremaining: 1m 5s\n",
            "330:\tlearn: 0.5877956\ttotal: 32.4s\tremaining: 1m 5s\n",
            "331:\tlearn: 0.5863415\ttotal: 32.5s\tremaining: 1m 5s\n",
            "332:\tlearn: 0.5837073\ttotal: 32.6s\tremaining: 1m 5s\n",
            "333:\tlearn: 0.5809649\ttotal: 32.7s\tremaining: 1m 5s\n",
            "334:\tlearn: 0.5784875\ttotal: 32.7s\tremaining: 1m 4s\n",
            "335:\tlearn: 0.5759873\ttotal: 32.8s\tremaining: 1m 4s\n",
            "336:\tlearn: 0.5737111\ttotal: 32.9s\tremaining: 1m 4s\n",
            "337:\tlearn: 0.5721880\ttotal: 33s\tremaining: 1m 4s\n",
            "338:\tlearn: 0.5709766\ttotal: 33.1s\tremaining: 1m 4s\n",
            "339:\tlearn: 0.5685447\ttotal: 33.2s\tremaining: 1m 4s\n",
            "340:\tlearn: 0.5647540\ttotal: 33.3s\tremaining: 1m 4s\n",
            "341:\tlearn: 0.5642906\ttotal: 33.4s\tremaining: 1m 4s\n",
            "342:\tlearn: 0.5616539\ttotal: 33.5s\tremaining: 1m 4s\n",
            "343:\tlearn: 0.5590787\ttotal: 33.6s\tremaining: 1m 4s\n",
            "344:\tlearn: 0.5566898\ttotal: 33.7s\tremaining: 1m 3s\n",
            "345:\tlearn: 0.5542272\ttotal: 33.7s\tremaining: 1m 3s\n",
            "346:\tlearn: 0.5526114\ttotal: 33.8s\tremaining: 1m 3s\n",
            "347:\tlearn: 0.5513436\ttotal: 33.9s\tremaining: 1m 3s\n",
            "348:\tlearn: 0.5494224\ttotal: 34s\tremaining: 1m 3s\n",
            "349:\tlearn: 0.5478923\ttotal: 34.1s\tremaining: 1m 3s\n",
            "350:\tlearn: 0.5465263\ttotal: 34.2s\tremaining: 1m 3s\n",
            "351:\tlearn: 0.5450556\ttotal: 34.3s\tremaining: 1m 3s\n",
            "352:\tlearn: 0.5435697\ttotal: 34.4s\tremaining: 1m 3s\n",
            "353:\tlearn: 0.5428854\ttotal: 34.5s\tremaining: 1m 2s\n",
            "354:\tlearn: 0.5423323\ttotal: 34.6s\tremaining: 1m 2s\n",
            "355:\tlearn: 0.5408027\ttotal: 34.7s\tremaining: 1m 2s\n",
            "356:\tlearn: 0.5389963\ttotal: 34.8s\tremaining: 1m 2s\n",
            "357:\tlearn: 0.5367745\ttotal: 34.9s\tremaining: 1m 2s\n",
            "358:\tlearn: 0.5347194\ttotal: 35s\tremaining: 1m 2s\n",
            "359:\tlearn: 0.5344424\ttotal: 35.1s\tremaining: 1m 2s\n",
            "360:\tlearn: 0.5331325\ttotal: 35.2s\tremaining: 1m 2s\n",
            "361:\tlearn: 0.5315698\ttotal: 35.3s\tremaining: 1m 2s\n",
            "362:\tlearn: 0.5297930\ttotal: 35.4s\tremaining: 1m 2s\n",
            "363:\tlearn: 0.5276555\ttotal: 35.5s\tremaining: 1m 1s\n",
            "364:\tlearn: 0.5263454\ttotal: 35.6s\tremaining: 1m 1s\n",
            "365:\tlearn: 0.5236088\ttotal: 35.7s\tremaining: 1m 1s\n",
            "366:\tlearn: 0.5211843\ttotal: 35.7s\tremaining: 1m 1s\n",
            "367:\tlearn: 0.5192375\ttotal: 35.8s\tremaining: 1m 1s\n",
            "368:\tlearn: 0.5180812\ttotal: 35.9s\tremaining: 1m 1s\n",
            "369:\tlearn: 0.5154951\ttotal: 36s\tremaining: 1m 1s\n",
            "370:\tlearn: 0.5129419\ttotal: 36.1s\tremaining: 1m 1s\n",
            "371:\tlearn: 0.5109231\ttotal: 36.2s\tremaining: 1m 1s\n",
            "372:\tlearn: 0.5097984\ttotal: 36.3s\tremaining: 1m 1s\n",
            "373:\tlearn: 0.5079480\ttotal: 36.4s\tremaining: 1m\n",
            "374:\tlearn: 0.5052834\ttotal: 36.5s\tremaining: 1m\n",
            "375:\tlearn: 0.5038487\ttotal: 36.6s\tremaining: 1m\n",
            "376:\tlearn: 0.5016215\ttotal: 36.7s\tremaining: 1m\n",
            "377:\tlearn: 0.5009369\ttotal: 36.8s\tremaining: 1m\n",
            "378:\tlearn: 0.4996642\ttotal: 36.9s\tremaining: 1m\n",
            "379:\tlearn: 0.4975624\ttotal: 37.1s\tremaining: 1m\n",
            "380:\tlearn: 0.4952034\ttotal: 37.3s\tremaining: 1m\n",
            "381:\tlearn: 0.4942921\ttotal: 37.5s\tremaining: 1m\n",
            "382:\tlearn: 0.4919282\ttotal: 37.6s\tremaining: 1m\n",
            "383:\tlearn: 0.4894388\ttotal: 37.8s\tremaining: 1m\n",
            "384:\tlearn: 0.4879483\ttotal: 38s\tremaining: 1m\n",
            "385:\tlearn: 0.4864954\ttotal: 38.1s\tremaining: 1m\n",
            "386:\tlearn: 0.4835039\ttotal: 38.3s\tremaining: 1m\n",
            "387:\tlearn: 0.4826001\ttotal: 38.5s\tremaining: 1m\n",
            "388:\tlearn: 0.4814338\ttotal: 38.7s\tremaining: 1m\n",
            "389:\tlearn: 0.4802330\ttotal: 38.8s\tremaining: 1m\n",
            "390:\tlearn: 0.4778563\ttotal: 39s\tremaining: 1m\n",
            "391:\tlearn: 0.4746680\ttotal: 39.1s\tremaining: 1m\n",
            "392:\tlearn: 0.4733388\ttotal: 39.2s\tremaining: 1m\n",
            "393:\tlearn: 0.4724918\ttotal: 39.3s\tremaining: 1m\n",
            "394:\tlearn: 0.4707961\ttotal: 39.4s\tremaining: 1m\n",
            "395:\tlearn: 0.4681095\ttotal: 39.5s\tremaining: 1m\n",
            "396:\tlearn: 0.4670577\ttotal: 39.6s\tremaining: 1m\n",
            "397:\tlearn: 0.4650851\ttotal: 39.7s\tremaining: 1m\n",
            "398:\tlearn: 0.4637781\ttotal: 39.8s\tremaining: 59.9s\n",
            "399:\tlearn: 0.4622124\ttotal: 39.9s\tremaining: 59.8s\n",
            "400:\tlearn: 0.4607024\ttotal: 40s\tremaining: 59.7s\n",
            "401:\tlearn: 0.4593678\ttotal: 40s\tremaining: 59.6s\n",
            "402:\tlearn: 0.4572031\ttotal: 40.1s\tremaining: 59.5s\n",
            "403:\tlearn: 0.4561572\ttotal: 40.2s\tremaining: 59.4s\n",
            "404:\tlearn: 0.4550745\ttotal: 40.4s\tremaining: 59.3s\n",
            "405:\tlearn: 0.4537483\ttotal: 40.5s\tremaining: 59.2s\n",
            "406:\tlearn: 0.4515794\ttotal: 40.6s\tremaining: 59.1s\n",
            "407:\tlearn: 0.4499733\ttotal: 40.7s\tremaining: 59s\n",
            "408:\tlearn: 0.4476410\ttotal: 40.7s\tremaining: 58.9s\n",
            "409:\tlearn: 0.4462667\ttotal: 40.8s\tremaining: 58.8s\n",
            "410:\tlearn: 0.4447489\ttotal: 40.9s\tremaining: 58.6s\n",
            "411:\tlearn: 0.4420422\ttotal: 41s\tremaining: 58.5s\n",
            "412:\tlearn: 0.4400480\ttotal: 41.1s\tremaining: 58.4s\n",
            "413:\tlearn: 0.4389562\ttotal: 41.2s\tremaining: 58.3s\n",
            "414:\tlearn: 0.4382141\ttotal: 41.3s\tremaining: 58.2s\n",
            "415:\tlearn: 0.4378082\ttotal: 41.4s\tremaining: 58.1s\n",
            "416:\tlearn: 0.4364585\ttotal: 41.5s\tremaining: 58s\n",
            "417:\tlearn: 0.4351199\ttotal: 41.5s\tremaining: 57.8s\n",
            "418:\tlearn: 0.4328213\ttotal: 41.6s\tremaining: 57.7s\n",
            "419:\tlearn: 0.4311952\ttotal: 41.7s\tremaining: 57.6s\n",
            "420:\tlearn: 0.4298778\ttotal: 41.8s\tremaining: 57.5s\n",
            "421:\tlearn: 0.4286471\ttotal: 41.9s\tremaining: 57.4s\n",
            "422:\tlearn: 0.4265807\ttotal: 42s\tremaining: 57.3s\n",
            "423:\tlearn: 0.4259225\ttotal: 42.1s\tremaining: 57.2s\n",
            "424:\tlearn: 0.4253212\ttotal: 42.2s\tremaining: 57.1s\n",
            "425:\tlearn: 0.4234801\ttotal: 42.3s\tremaining: 57s\n",
            "426:\tlearn: 0.4223500\ttotal: 42.4s\tremaining: 56.9s\n",
            "427:\tlearn: 0.4209850\ttotal: 42.5s\tremaining: 56.8s\n",
            "428:\tlearn: 0.4195585\ttotal: 42.6s\tremaining: 56.7s\n",
            "429:\tlearn: 0.4178379\ttotal: 42.7s\tremaining: 56.6s\n",
            "430:\tlearn: 0.4166142\ttotal: 42.8s\tremaining: 56.5s\n",
            "431:\tlearn: 0.4148974\ttotal: 42.9s\tremaining: 56.4s\n",
            "432:\tlearn: 0.4134773\ttotal: 43s\tremaining: 56.2s\n",
            "433:\tlearn: 0.4120870\ttotal: 43s\tremaining: 56.1s\n",
            "434:\tlearn: 0.4114018\ttotal: 43.1s\tremaining: 56s\n",
            "435:\tlearn: 0.4093819\ttotal: 43.2s\tremaining: 55.9s\n",
            "436:\tlearn: 0.4079168\ttotal: 43.3s\tremaining: 55.8s\n",
            "437:\tlearn: 0.4068771\ttotal: 43.4s\tremaining: 55.7s\n",
            "438:\tlearn: 0.4054941\ttotal: 43.5s\tremaining: 55.6s\n",
            "439:\tlearn: 0.4039689\ttotal: 43.6s\tremaining: 55.5s\n",
            "440:\tlearn: 0.4025126\ttotal: 43.7s\tremaining: 55.4s\n",
            "441:\tlearn: 0.4011999\ttotal: 43.8s\tremaining: 55.3s\n",
            "442:\tlearn: 0.3993369\ttotal: 43.9s\tremaining: 55.2s\n",
            "443:\tlearn: 0.3983154\ttotal: 44s\tremaining: 55.1s\n",
            "444:\tlearn: 0.3965869\ttotal: 44.1s\tremaining: 55s\n",
            "445:\tlearn: 0.3953688\ttotal: 44.1s\tremaining: 54.8s\n",
            "446:\tlearn: 0.3945355\ttotal: 44.2s\tremaining: 54.7s\n",
            "447:\tlearn: 0.3937498\ttotal: 44.3s\tremaining: 54.6s\n",
            "448:\tlearn: 0.3929238\ttotal: 44.4s\tremaining: 54.5s\n",
            "449:\tlearn: 0.3909798\ttotal: 44.5s\tremaining: 54.4s\n",
            "450:\tlearn: 0.3897684\ttotal: 44.6s\tremaining: 54.3s\n",
            "451:\tlearn: 0.3892874\ttotal: 44.7s\tremaining: 54.2s\n",
            "452:\tlearn: 0.3879472\ttotal: 44.8s\tremaining: 54.1s\n",
            "453:\tlearn: 0.3868308\ttotal: 44.9s\tremaining: 54s\n",
            "454:\tlearn: 0.3854991\ttotal: 45s\tremaining: 53.9s\n",
            "455:\tlearn: 0.3849927\ttotal: 45.1s\tremaining: 53.8s\n",
            "456:\tlearn: 0.3838316\ttotal: 45.2s\tremaining: 53.7s\n",
            "457:\tlearn: 0.3829075\ttotal: 45.3s\tremaining: 53.6s\n",
            "458:\tlearn: 0.3821147\ttotal: 45.4s\tremaining: 53.5s\n",
            "459:\tlearn: 0.3814723\ttotal: 45.5s\tremaining: 53.4s\n",
            "460:\tlearn: 0.3812687\ttotal: 45.6s\tremaining: 53.3s\n",
            "461:\tlearn: 0.3804169\ttotal: 45.7s\tremaining: 53.2s\n",
            "462:\tlearn: 0.3793120\ttotal: 45.8s\tremaining: 53.1s\n",
            "463:\tlearn: 0.3785931\ttotal: 45.9s\tremaining: 53s\n",
            "464:\tlearn: 0.3770934\ttotal: 46s\tremaining: 52.9s\n",
            "465:\tlearn: 0.3754974\ttotal: 46.1s\tremaining: 52.8s\n",
            "466:\tlearn: 0.3748761\ttotal: 46.1s\tremaining: 52.7s\n",
            "467:\tlearn: 0.3738073\ttotal: 46.2s\tremaining: 52.5s\n",
            "468:\tlearn: 0.3728023\ttotal: 46.3s\tremaining: 52.4s\n",
            "469:\tlearn: 0.3721043\ttotal: 46.4s\tremaining: 52.3s\n",
            "470:\tlearn: 0.3712557\ttotal: 46.5s\tremaining: 52.3s\n",
            "471:\tlearn: 0.3710952\ttotal: 46.6s\tremaining: 52.2s\n",
            "472:\tlearn: 0.3706807\ttotal: 46.7s\tremaining: 52.1s\n",
            "473:\tlearn: 0.3694765\ttotal: 46.8s\tremaining: 52s\n",
            "474:\tlearn: 0.3686402\ttotal: 46.9s\tremaining: 51.8s\n",
            "475:\tlearn: 0.3680495\ttotal: 47s\tremaining: 51.7s\n",
            "476:\tlearn: 0.3671589\ttotal: 47.1s\tremaining: 51.6s\n",
            "477:\tlearn: 0.3659574\ttotal: 47.2s\tremaining: 51.5s\n",
            "478:\tlearn: 0.3647604\ttotal: 47.3s\tremaining: 51.4s\n",
            "479:\tlearn: 0.3640582\ttotal: 47.3s\tremaining: 51.3s\n",
            "480:\tlearn: 0.3622966\ttotal: 47.4s\tremaining: 51.2s\n",
            "481:\tlearn: 0.3612925\ttotal: 47.5s\tremaining: 51.1s\n",
            "482:\tlearn: 0.3606310\ttotal: 47.6s\tremaining: 51s\n",
            "483:\tlearn: 0.3593427\ttotal: 47.7s\tremaining: 50.9s\n",
            "484:\tlearn: 0.3576353\ttotal: 47.8s\tremaining: 50.8s\n",
            "485:\tlearn: 0.3564371\ttotal: 47.9s\tremaining: 50.6s\n",
            "486:\tlearn: 0.3553853\ttotal: 48s\tremaining: 50.5s\n",
            "487:\tlearn: 0.3551018\ttotal: 48.1s\tremaining: 50.4s\n",
            "488:\tlearn: 0.3540365\ttotal: 48.1s\tremaining: 50.3s\n",
            "489:\tlearn: 0.3523439\ttotal: 48.2s\tremaining: 50.2s\n",
            "490:\tlearn: 0.3516291\ttotal: 48.3s\tremaining: 50.1s\n",
            "491:\tlearn: 0.3498959\ttotal: 48.4s\tremaining: 50s\n",
            "492:\tlearn: 0.3494173\ttotal: 48.6s\tremaining: 49.9s\n",
            "493:\tlearn: 0.3483891\ttotal: 48.6s\tremaining: 49.8s\n",
            "494:\tlearn: 0.3479910\ttotal: 48.7s\tremaining: 49.7s\n",
            "495:\tlearn: 0.3462848\ttotal: 48.8s\tremaining: 49.6s\n",
            "496:\tlearn: 0.3455348\ttotal: 48.9s\tremaining: 49.5s\n",
            "497:\tlearn: 0.3442790\ttotal: 49s\tremaining: 49.4s\n",
            "498:\tlearn: 0.3434311\ttotal: 49.1s\tremaining: 49.3s\n",
            "499:\tlearn: 0.3420871\ttotal: 49.3s\tremaining: 49.3s\n",
            "500:\tlearn: 0.3406344\ttotal: 49.4s\tremaining: 49.2s\n",
            "501:\tlearn: 0.3399517\ttotal: 49.6s\tremaining: 49.2s\n",
            "502:\tlearn: 0.3392435\ttotal: 49.8s\tremaining: 49.2s\n",
            "503:\tlearn: 0.3379244\ttotal: 50s\tremaining: 49.2s\n",
            "504:\tlearn: 0.3374498\ttotal: 50.2s\tremaining: 49.2s\n",
            "505:\tlearn: 0.3370229\ttotal: 50.4s\tremaining: 49.2s\n",
            "506:\tlearn: 0.3363820\ttotal: 50.5s\tremaining: 49.1s\n",
            "507:\tlearn: 0.3360306\ttotal: 50.7s\tremaining: 49.1s\n",
            "508:\tlearn: 0.3353837\ttotal: 50.9s\tremaining: 49.1s\n",
            "509:\tlearn: 0.3336187\ttotal: 51.1s\tremaining: 49.1s\n",
            "510:\tlearn: 0.3330490\ttotal: 51.4s\tremaining: 49.2s\n",
            "511:\tlearn: 0.3319656\ttotal: 51.6s\tremaining: 49.1s\n",
            "512:\tlearn: 0.3309770\ttotal: 51.9s\tremaining: 49.3s\n",
            "513:\tlearn: 0.3302132\ttotal: 52.1s\tremaining: 49.3s\n",
            "514:\tlearn: 0.3297904\ttotal: 52.3s\tremaining: 49.2s\n",
            "515:\tlearn: 0.3283034\ttotal: 52.5s\tremaining: 49.2s\n",
            "516:\tlearn: 0.3278128\ttotal: 52.8s\tremaining: 49.3s\n",
            "517:\tlearn: 0.3266096\ttotal: 53s\tremaining: 49.4s\n",
            "518:\tlearn: 0.3256598\ttotal: 53.2s\tremaining: 49.3s\n",
            "519:\tlearn: 0.3247310\ttotal: 53.4s\tremaining: 49.3s\n",
            "520:\tlearn: 0.3239020\ttotal: 53.6s\tremaining: 49.3s\n",
            "521:\tlearn: 0.3235604\ttotal: 53.9s\tremaining: 49.3s\n",
            "522:\tlearn: 0.3227021\ttotal: 54.1s\tremaining: 49.3s\n",
            "523:\tlearn: 0.3210347\ttotal: 54.4s\tremaining: 49.5s\n",
            "524:\tlearn: 0.3202664\ttotal: 54.6s\tremaining: 49.4s\n",
            "525:\tlearn: 0.3196090\ttotal: 54.7s\tremaining: 49.3s\n",
            "526:\tlearn: 0.3191003\ttotal: 54.8s\tremaining: 49.2s\n",
            "527:\tlearn: 0.3185495\ttotal: 54.9s\tremaining: 49.1s\n",
            "528:\tlearn: 0.3181181\ttotal: 55s\tremaining: 49s\n",
            "529:\tlearn: 0.3177696\ttotal: 55.1s\tremaining: 48.9s\n",
            "530:\tlearn: 0.3169856\ttotal: 55.2s\tremaining: 48.8s\n",
            "531:\tlearn: 0.3160572\ttotal: 55.3s\tremaining: 48.6s\n",
            "532:\tlearn: 0.3150362\ttotal: 55.4s\tremaining: 48.5s\n",
            "533:\tlearn: 0.3144305\ttotal: 55.5s\tremaining: 48.5s\n",
            "534:\tlearn: 0.3136621\ttotal: 55.7s\tremaining: 48.4s\n",
            "535:\tlearn: 0.3130717\ttotal: 56s\tremaining: 48.4s\n",
            "536:\tlearn: 0.3123835\ttotal: 56.1s\tremaining: 48.4s\n",
            "537:\tlearn: 0.3119158\ttotal: 56.3s\tremaining: 48.4s\n",
            "538:\tlearn: 0.3110101\ttotal: 56.5s\tremaining: 48.3s\n",
            "539:\tlearn: 0.3096165\ttotal: 56.7s\tremaining: 48.3s\n",
            "540:\tlearn: 0.3089505\ttotal: 56.9s\tremaining: 48.2s\n",
            "541:\tlearn: 0.3082646\ttotal: 57.1s\tremaining: 48.2s\n",
            "542:\tlearn: 0.3072523\ttotal: 57.3s\tremaining: 48.2s\n",
            "543:\tlearn: 0.3062111\ttotal: 57.4s\tremaining: 48.1s\n",
            "544:\tlearn: 0.3057417\ttotal: 57.5s\tremaining: 48s\n",
            "545:\tlearn: 0.3047814\ttotal: 57.6s\tremaining: 47.9s\n",
            "546:\tlearn: 0.3041700\ttotal: 57.7s\tremaining: 47.8s\n",
            "547:\tlearn: 0.3033330\ttotal: 57.8s\tremaining: 47.6s\n",
            "548:\tlearn: 0.3029482\ttotal: 57.9s\tremaining: 47.5s\n",
            "549:\tlearn: 0.3023394\ttotal: 58s\tremaining: 47.4s\n",
            "550:\tlearn: 0.3015952\ttotal: 58.1s\tremaining: 47.3s\n",
            "551:\tlearn: 0.3008366\ttotal: 58.2s\tremaining: 47.2s\n",
            "552:\tlearn: 0.3000310\ttotal: 58.2s\tremaining: 47.1s\n",
            "553:\tlearn: 0.2992811\ttotal: 58.3s\tremaining: 47s\n",
            "554:\tlearn: 0.2988177\ttotal: 58.4s\tremaining: 46.8s\n",
            "555:\tlearn: 0.2977567\ttotal: 58.5s\tremaining: 46.7s\n",
            "556:\tlearn: 0.2969451\ttotal: 58.6s\tremaining: 46.6s\n",
            "557:\tlearn: 0.2967367\ttotal: 58.7s\tremaining: 46.5s\n",
            "558:\tlearn: 0.2957146\ttotal: 58.7s\tremaining: 46.3s\n",
            "559:\tlearn: 0.2948292\ttotal: 58.9s\tremaining: 46.2s\n",
            "560:\tlearn: 0.2938567\ttotal: 59s\tremaining: 46.1s\n",
            "561:\tlearn: 0.2929624\ttotal: 59.1s\tremaining: 46s\n",
            "562:\tlearn: 0.2925924\ttotal: 59.2s\tremaining: 45.9s\n",
            "563:\tlearn: 0.2921689\ttotal: 59.3s\tremaining: 45.8s\n",
            "564:\tlearn: 0.2911762\ttotal: 59.3s\tremaining: 45.7s\n",
            "565:\tlearn: 0.2901434\ttotal: 59.4s\tremaining: 45.6s\n",
            "566:\tlearn: 0.2894915\ttotal: 59.5s\tremaining: 45.5s\n",
            "567:\tlearn: 0.2886108\ttotal: 59.6s\tremaining: 45.3s\n",
            "568:\tlearn: 0.2880076\ttotal: 59.7s\tremaining: 45.2s\n",
            "569:\tlearn: 0.2869592\ttotal: 59.8s\tremaining: 45.1s\n",
            "570:\tlearn: 0.2861202\ttotal: 59.9s\tremaining: 45s\n",
            "571:\tlearn: 0.2848946\ttotal: 60s\tremaining: 44.9s\n",
            "572:\tlearn: 0.2843512\ttotal: 1m\tremaining: 44.8s\n",
            "573:\tlearn: 0.2841247\ttotal: 1m\tremaining: 44.6s\n",
            "574:\tlearn: 0.2836669\ttotal: 1m\tremaining: 44.5s\n",
            "575:\tlearn: 0.2832405\ttotal: 1m\tremaining: 44.4s\n",
            "576:\tlearn: 0.2827432\ttotal: 1m\tremaining: 44.3s\n",
            "577:\tlearn: 0.2818867\ttotal: 1m\tremaining: 44.2s\n",
            "578:\tlearn: 0.2815550\ttotal: 1m\tremaining: 44.1s\n",
            "579:\tlearn: 0.2809628\ttotal: 1m\tremaining: 44s\n",
            "580:\tlearn: 0.2801362\ttotal: 1m\tremaining: 43.8s\n",
            "581:\tlearn: 0.2792048\ttotal: 1m\tremaining: 43.7s\n",
            "582:\tlearn: 0.2783177\ttotal: 1m\tremaining: 43.6s\n",
            "583:\tlearn: 0.2778331\ttotal: 1m 1s\tremaining: 43.6s\n",
            "584:\tlearn: 0.2775722\ttotal: 1m 1s\tremaining: 43.5s\n",
            "585:\tlearn: 0.2765214\ttotal: 1m 1s\tremaining: 43.4s\n",
            "586:\tlearn: 0.2754807\ttotal: 1m 1s\tremaining: 43.2s\n",
            "587:\tlearn: 0.2744214\ttotal: 1m 1s\tremaining: 43.1s\n",
            "588:\tlearn: 0.2738114\ttotal: 1m 1s\tremaining: 43s\n",
            "589:\tlearn: 0.2733801\ttotal: 1m 1s\tremaining: 42.9s\n",
            "590:\tlearn: 0.2725395\ttotal: 1m 1s\tremaining: 42.8s\n",
            "591:\tlearn: 0.2717350\ttotal: 1m 1s\tremaining: 42.7s\n",
            "592:\tlearn: 0.2708991\ttotal: 1m 2s\tremaining: 42.6s\n",
            "593:\tlearn: 0.2701205\ttotal: 1m 2s\tremaining: 42.6s\n",
            "594:\tlearn: 0.2694232\ttotal: 1m 2s\tremaining: 42.5s\n",
            "595:\tlearn: 0.2686921\ttotal: 1m 2s\tremaining: 42.4s\n",
            "596:\tlearn: 0.2681329\ttotal: 1m 2s\tremaining: 42.4s\n",
            "597:\tlearn: 0.2672040\ttotal: 1m 2s\tremaining: 42.3s\n",
            "598:\tlearn: 0.2666579\ttotal: 1m 3s\tremaining: 42.2s\n",
            "599:\tlearn: 0.2659941\ttotal: 1m 3s\tremaining: 42.2s\n",
            "600:\tlearn: 0.2655695\ttotal: 1m 3s\tremaining: 42.1s\n",
            "601:\tlearn: 0.2649730\ttotal: 1m 3s\tremaining: 42.1s\n",
            "602:\tlearn: 0.2646438\ttotal: 1m 3s\tremaining: 42s\n",
            "603:\tlearn: 0.2644103\ttotal: 1m 3s\tremaining: 41.9s\n",
            "604:\tlearn: 0.2640183\ttotal: 1m 4s\tremaining: 41.8s\n",
            "605:\tlearn: 0.2634928\ttotal: 1m 4s\tremaining: 41.8s\n",
            "606:\tlearn: 0.2627339\ttotal: 1m 4s\tremaining: 41.7s\n",
            "607:\tlearn: 0.2620844\ttotal: 1m 4s\tremaining: 41.6s\n",
            "608:\tlearn: 0.2617379\ttotal: 1m 4s\tremaining: 41.5s\n",
            "609:\tlearn: 0.2610911\ttotal: 1m 4s\tremaining: 41.4s\n",
            "610:\tlearn: 0.2606595\ttotal: 1m 4s\tremaining: 41.2s\n",
            "611:\tlearn: 0.2600877\ttotal: 1m 4s\tremaining: 41.1s\n",
            "612:\tlearn: 0.2593222\ttotal: 1m 4s\tremaining: 41s\n",
            "613:\tlearn: 0.2590962\ttotal: 1m 5s\tremaining: 40.9s\n",
            "614:\tlearn: 0.2587198\ttotal: 1m 5s\tremaining: 40.8s\n",
            "615:\tlearn: 0.2580275\ttotal: 1m 5s\tremaining: 40.7s\n",
            "616:\tlearn: 0.2575547\ttotal: 1m 5s\tremaining: 40.6s\n",
            "617:\tlearn: 0.2570248\ttotal: 1m 5s\tremaining: 40.4s\n",
            "618:\tlearn: 0.2563584\ttotal: 1m 5s\tremaining: 40.3s\n",
            "619:\tlearn: 0.2555549\ttotal: 1m 5s\tremaining: 40.2s\n",
            "620:\tlearn: 0.2548766\ttotal: 1m 5s\tremaining: 40.1s\n",
            "621:\tlearn: 0.2544118\ttotal: 1m 5s\tremaining: 40s\n",
            "622:\tlearn: 0.2533825\ttotal: 1m 5s\tremaining: 39.9s\n",
            "623:\tlearn: 0.2528854\ttotal: 1m 5s\tremaining: 39.7s\n",
            "624:\tlearn: 0.2521244\ttotal: 1m 6s\tremaining: 39.6s\n",
            "625:\tlearn: 0.2518176\ttotal: 1m 6s\tremaining: 39.5s\n",
            "626:\tlearn: 0.2508955\ttotal: 1m 6s\tremaining: 39.4s\n",
            "627:\tlearn: 0.2499859\ttotal: 1m 6s\tremaining: 39.3s\n",
            "628:\tlearn: 0.2490199\ttotal: 1m 6s\tremaining: 39.2s\n",
            "629:\tlearn: 0.2484558\ttotal: 1m 6s\tremaining: 39.1s\n",
            "630:\tlearn: 0.2480300\ttotal: 1m 6s\tremaining: 39s\n",
            "631:\tlearn: 0.2474480\ttotal: 1m 6s\tremaining: 38.9s\n",
            "632:\tlearn: 0.2464744\ttotal: 1m 6s\tremaining: 38.7s\n",
            "633:\tlearn: 0.2460866\ttotal: 1m 6s\tremaining: 38.6s\n",
            "634:\tlearn: 0.2459139\ttotal: 1m 7s\tremaining: 38.5s\n",
            "635:\tlearn: 0.2451724\ttotal: 1m 7s\tremaining: 38.4s\n",
            "636:\tlearn: 0.2444681\ttotal: 1m 7s\tremaining: 38.3s\n",
            "637:\tlearn: 0.2439519\ttotal: 1m 7s\tremaining: 38.2s\n",
            "638:\tlearn: 0.2437595\ttotal: 1m 7s\tremaining: 38.1s\n",
            "639:\tlearn: 0.2432616\ttotal: 1m 7s\tremaining: 38s\n",
            "640:\tlearn: 0.2428866\ttotal: 1m 7s\tremaining: 37.9s\n",
            "641:\tlearn: 0.2425909\ttotal: 1m 7s\tremaining: 37.7s\n",
            "642:\tlearn: 0.2419062\ttotal: 1m 7s\tremaining: 37.6s\n",
            "643:\tlearn: 0.2417309\ttotal: 1m 7s\tremaining: 37.5s\n",
            "644:\tlearn: 0.2409933\ttotal: 1m 7s\tremaining: 37.4s\n",
            "645:\tlearn: 0.2406520\ttotal: 1m 8s\tremaining: 37.3s\n",
            "646:\tlearn: 0.2398156\ttotal: 1m 8s\tremaining: 37.2s\n",
            "647:\tlearn: 0.2394079\ttotal: 1m 8s\tremaining: 37.1s\n",
            "648:\tlearn: 0.2386174\ttotal: 1m 8s\tremaining: 37s\n",
            "649:\tlearn: 0.2377951\ttotal: 1m 8s\tremaining: 36.9s\n",
            "650:\tlearn: 0.2372927\ttotal: 1m 8s\tremaining: 36.7s\n",
            "651:\tlearn: 0.2368280\ttotal: 1m 8s\tremaining: 36.6s\n",
            "652:\tlearn: 0.2361578\ttotal: 1m 8s\tremaining: 36.5s\n",
            "653:\tlearn: 0.2357103\ttotal: 1m 8s\tremaining: 36.4s\n",
            "654:\tlearn: 0.2352650\ttotal: 1m 8s\tremaining: 36.3s\n",
            "655:\tlearn: 0.2349454\ttotal: 1m 8s\tremaining: 36.2s\n",
            "656:\tlearn: 0.2345318\ttotal: 1m 9s\tremaining: 36.1s\n",
            "657:\tlearn: 0.2342473\ttotal: 1m 9s\tremaining: 35.9s\n",
            "658:\tlearn: 0.2339272\ttotal: 1m 9s\tremaining: 35.8s\n",
            "659:\tlearn: 0.2334116\ttotal: 1m 9s\tremaining: 35.7s\n",
            "660:\tlearn: 0.2331291\ttotal: 1m 9s\tremaining: 35.6s\n",
            "661:\tlearn: 0.2327751\ttotal: 1m 9s\tremaining: 35.5s\n",
            "662:\tlearn: 0.2325051\ttotal: 1m 9s\tremaining: 35.4s\n",
            "663:\tlearn: 0.2320615\ttotal: 1m 9s\tremaining: 35.3s\n",
            "664:\tlearn: 0.2313136\ttotal: 1m 9s\tremaining: 35.2s\n",
            "665:\tlearn: 0.2310112\ttotal: 1m 9s\tremaining: 35.1s\n",
            "666:\tlearn: 0.2303565\ttotal: 1m 9s\tremaining: 34.9s\n",
            "667:\tlearn: 0.2299532\ttotal: 1m 10s\tremaining: 34.8s\n",
            "668:\tlearn: 0.2296094\ttotal: 1m 10s\tremaining: 34.7s\n",
            "669:\tlearn: 0.2291207\ttotal: 1m 10s\tremaining: 34.6s\n",
            "670:\tlearn: 0.2285934\ttotal: 1m 10s\tremaining: 34.5s\n",
            "671:\tlearn: 0.2278428\ttotal: 1m 10s\tremaining: 34.4s\n",
            "672:\tlearn: 0.2271562\ttotal: 1m 10s\tremaining: 34.3s\n",
            "673:\tlearn: 0.2267102\ttotal: 1m 10s\tremaining: 34.2s\n",
            "674:\tlearn: 0.2263657\ttotal: 1m 10s\tremaining: 34.1s\n",
            "675:\tlearn: 0.2259536\ttotal: 1m 10s\tremaining: 34s\n",
            "676:\tlearn: 0.2253115\ttotal: 1m 10s\tremaining: 33.8s\n",
            "677:\tlearn: 0.2249172\ttotal: 1m 11s\tremaining: 33.7s\n",
            "678:\tlearn: 0.2244224\ttotal: 1m 11s\tremaining: 33.6s\n",
            "679:\tlearn: 0.2238004\ttotal: 1m 11s\tremaining: 33.5s\n",
            "680:\tlearn: 0.2231067\ttotal: 1m 11s\tremaining: 33.4s\n",
            "681:\tlearn: 0.2226264\ttotal: 1m 11s\tremaining: 33.3s\n",
            "682:\tlearn: 0.2217798\ttotal: 1m 11s\tremaining: 33.2s\n",
            "683:\tlearn: 0.2212068\ttotal: 1m 11s\tremaining: 33.1s\n",
            "684:\tlearn: 0.2209386\ttotal: 1m 11s\tremaining: 33s\n",
            "685:\tlearn: 0.2205859\ttotal: 1m 11s\tremaining: 32.9s\n",
            "686:\tlearn: 0.2200411\ttotal: 1m 11s\tremaining: 32.8s\n",
            "687:\tlearn: 0.2193736\ttotal: 1m 12s\tremaining: 32.7s\n",
            "688:\tlearn: 0.2191697\ttotal: 1m 12s\tremaining: 32.5s\n",
            "689:\tlearn: 0.2186597\ttotal: 1m 12s\tremaining: 32.4s\n",
            "690:\tlearn: 0.2179233\ttotal: 1m 12s\tremaining: 32.3s\n",
            "691:\tlearn: 0.2175536\ttotal: 1m 12s\tremaining: 32.2s\n",
            "692:\tlearn: 0.2170625\ttotal: 1m 12s\tremaining: 32.1s\n",
            "693:\tlearn: 0.2164476\ttotal: 1m 12s\tremaining: 32s\n",
            "694:\tlearn: 0.2156029\ttotal: 1m 12s\tremaining: 31.9s\n",
            "695:\tlearn: 0.2151278\ttotal: 1m 12s\tremaining: 31.8s\n",
            "696:\tlearn: 0.2149621\ttotal: 1m 12s\tremaining: 31.7s\n",
            "697:\tlearn: 0.2145515\ttotal: 1m 12s\tremaining: 31.6s\n",
            "698:\tlearn: 0.2139684\ttotal: 1m 13s\tremaining: 31.4s\n",
            "699:\tlearn: 0.2131904\ttotal: 1m 13s\tremaining: 31.3s\n",
            "700:\tlearn: 0.2129097\ttotal: 1m 13s\tremaining: 31.2s\n",
            "701:\tlearn: 0.2123522\ttotal: 1m 13s\tremaining: 31.1s\n",
            "702:\tlearn: 0.2117724\ttotal: 1m 13s\tremaining: 31s\n",
            "703:\tlearn: 0.2112747\ttotal: 1m 13s\tremaining: 30.9s\n",
            "704:\tlearn: 0.2108477\ttotal: 1m 13s\tremaining: 30.8s\n",
            "705:\tlearn: 0.2106600\ttotal: 1m 13s\tremaining: 30.7s\n",
            "706:\tlearn: 0.2101718\ttotal: 1m 13s\tremaining: 30.6s\n",
            "707:\tlearn: 0.2096353\ttotal: 1m 13s\tremaining: 30.5s\n",
            "708:\tlearn: 0.2092716\ttotal: 1m 13s\tremaining: 30.4s\n",
            "709:\tlearn: 0.2088333\ttotal: 1m 14s\tremaining: 30.3s\n",
            "710:\tlearn: 0.2081568\ttotal: 1m 14s\tremaining: 30.1s\n",
            "711:\tlearn: 0.2076584\ttotal: 1m 14s\tremaining: 30s\n",
            "712:\tlearn: 0.2071117\ttotal: 1m 14s\tremaining: 29.9s\n",
            "713:\tlearn: 0.2066869\ttotal: 1m 14s\tremaining: 29.8s\n",
            "714:\tlearn: 0.2062416\ttotal: 1m 14s\tremaining: 29.7s\n",
            "715:\tlearn: 0.2060014\ttotal: 1m 14s\tremaining: 29.7s\n",
            "716:\tlearn: 0.2057625\ttotal: 1m 14s\tremaining: 29.6s\n",
            "717:\tlearn: 0.2054495\ttotal: 1m 15s\tremaining: 29.5s\n",
            "718:\tlearn: 0.2051625\ttotal: 1m 15s\tremaining: 29.4s\n",
            "719:\tlearn: 0.2047062\ttotal: 1m 15s\tremaining: 29.3s\n",
            "720:\tlearn: 0.2044324\ttotal: 1m 15s\tremaining: 29.3s\n",
            "721:\tlearn: 0.2043619\ttotal: 1m 15s\tremaining: 29.2s\n",
            "722:\tlearn: 0.2039454\ttotal: 1m 15s\tremaining: 29.1s\n",
            "723:\tlearn: 0.2038675\ttotal: 1m 16s\tremaining: 29s\n",
            "724:\tlearn: 0.2034940\ttotal: 1m 16s\tremaining: 28.9s\n",
            "725:\tlearn: 0.2027959\ttotal: 1m 16s\tremaining: 28.8s\n",
            "726:\tlearn: 0.2024197\ttotal: 1m 16s\tremaining: 28.7s\n",
            "727:\tlearn: 0.2022326\ttotal: 1m 16s\tremaining: 28.6s\n",
            "728:\tlearn: 0.2015774\ttotal: 1m 16s\tremaining: 28.6s\n",
            "729:\tlearn: 0.2010624\ttotal: 1m 17s\tremaining: 28.5s\n",
            "730:\tlearn: 0.2004758\ttotal: 1m 17s\tremaining: 28.4s\n",
            "731:\tlearn: 0.2001774\ttotal: 1m 17s\tremaining: 28.3s\n",
            "732:\tlearn: 0.1997850\ttotal: 1m 17s\tremaining: 28.2s\n",
            "733:\tlearn: 0.1992874\ttotal: 1m 17s\tremaining: 28.1s\n",
            "734:\tlearn: 0.1987243\ttotal: 1m 17s\tremaining: 28s\n",
            "735:\tlearn: 0.1982434\ttotal: 1m 17s\tremaining: 27.8s\n",
            "736:\tlearn: 0.1977119\ttotal: 1m 17s\tremaining: 27.7s\n",
            "737:\tlearn: 0.1972506\ttotal: 1m 17s\tremaining: 27.6s\n",
            "738:\tlearn: 0.1966960\ttotal: 1m 17s\tremaining: 27.5s\n",
            "739:\tlearn: 0.1963764\ttotal: 1m 18s\tremaining: 27.4s\n",
            "740:\tlearn: 0.1960311\ttotal: 1m 18s\tremaining: 27.3s\n",
            "741:\tlearn: 0.1957055\ttotal: 1m 18s\tremaining: 27.2s\n",
            "742:\tlearn: 0.1952765\ttotal: 1m 18s\tremaining: 27.1s\n",
            "743:\tlearn: 0.1951560\ttotal: 1m 18s\tremaining: 27s\n",
            "744:\tlearn: 0.1948975\ttotal: 1m 18s\tremaining: 26.9s\n",
            "745:\tlearn: 0.1947676\ttotal: 1m 18s\tremaining: 26.8s\n",
            "746:\tlearn: 0.1943581\ttotal: 1m 18s\tremaining: 26.6s\n",
            "747:\tlearn: 0.1943130\ttotal: 1m 18s\tremaining: 26.5s\n",
            "748:\tlearn: 0.1935634\ttotal: 1m 18s\tremaining: 26.4s\n",
            "749:\tlearn: 0.1932843\ttotal: 1m 18s\tremaining: 26.3s\n",
            "750:\tlearn: 0.1926878\ttotal: 1m 19s\tremaining: 26.2s\n",
            "751:\tlearn: 0.1923769\ttotal: 1m 19s\tremaining: 26.1s\n",
            "752:\tlearn: 0.1920104\ttotal: 1m 19s\tremaining: 26s\n",
            "753:\tlearn: 0.1917428\ttotal: 1m 19s\tremaining: 25.9s\n",
            "754:\tlearn: 0.1913693\ttotal: 1m 19s\tremaining: 25.8s\n",
            "755:\tlearn: 0.1909230\ttotal: 1m 19s\tremaining: 25.7s\n",
            "756:\tlearn: 0.1905029\ttotal: 1m 19s\tremaining: 25.6s\n",
            "757:\tlearn: 0.1901610\ttotal: 1m 19s\tremaining: 25.4s\n",
            "758:\tlearn: 0.1896521\ttotal: 1m 19s\tremaining: 25.3s\n",
            "759:\tlearn: 0.1893948\ttotal: 1m 19s\tremaining: 25.2s\n",
            "760:\tlearn: 0.1889110\ttotal: 1m 19s\tremaining: 25.1s\n",
            "761:\tlearn: 0.1883855\ttotal: 1m 20s\tremaining: 25s\n",
            "762:\tlearn: 0.1877203\ttotal: 1m 20s\tremaining: 24.9s\n",
            "763:\tlearn: 0.1873594\ttotal: 1m 20s\tremaining: 24.8s\n",
            "764:\tlearn: 0.1871173\ttotal: 1m 20s\tremaining: 24.7s\n",
            "765:\tlearn: 0.1867589\ttotal: 1m 20s\tremaining: 24.6s\n",
            "766:\tlearn: 0.1863277\ttotal: 1m 20s\tremaining: 24.5s\n",
            "767:\tlearn: 0.1857349\ttotal: 1m 20s\tremaining: 24.4s\n",
            "768:\tlearn: 0.1852384\ttotal: 1m 20s\tremaining: 24.2s\n",
            "769:\tlearn: 0.1848586\ttotal: 1m 20s\tremaining: 24.1s\n",
            "770:\tlearn: 0.1843838\ttotal: 1m 20s\tremaining: 24s\n",
            "771:\tlearn: 0.1841341\ttotal: 1m 21s\tremaining: 23.9s\n",
            "772:\tlearn: 0.1834587\ttotal: 1m 21s\tremaining: 23.8s\n",
            "773:\tlearn: 0.1830496\ttotal: 1m 21s\tremaining: 23.7s\n",
            "774:\tlearn: 0.1828592\ttotal: 1m 21s\tremaining: 23.6s\n",
            "775:\tlearn: 0.1823240\ttotal: 1m 21s\tremaining: 23.5s\n",
            "776:\tlearn: 0.1818941\ttotal: 1m 21s\tremaining: 23.4s\n",
            "777:\tlearn: 0.1813054\ttotal: 1m 21s\tremaining: 23.3s\n",
            "778:\tlearn: 0.1807379\ttotal: 1m 21s\tremaining: 23.2s\n",
            "779:\tlearn: 0.1803521\ttotal: 1m 21s\tremaining: 23.1s\n",
            "780:\tlearn: 0.1798931\ttotal: 1m 21s\tremaining: 23s\n",
            "781:\tlearn: 0.1794817\ttotal: 1m 22s\tremaining: 22.9s\n",
            "782:\tlearn: 0.1791085\ttotal: 1m 22s\tremaining: 22.8s\n",
            "783:\tlearn: 0.1788825\ttotal: 1m 22s\tremaining: 22.7s\n",
            "784:\tlearn: 0.1784474\ttotal: 1m 22s\tremaining: 22.5s\n",
            "785:\tlearn: 0.1782930\ttotal: 1m 22s\tremaining: 22.4s\n",
            "786:\tlearn: 0.1777175\ttotal: 1m 22s\tremaining: 22.3s\n",
            "787:\tlearn: 0.1772811\ttotal: 1m 22s\tremaining: 22.2s\n",
            "788:\tlearn: 0.1769802\ttotal: 1m 22s\tremaining: 22.1s\n",
            "789:\tlearn: 0.1765509\ttotal: 1m 22s\tremaining: 22s\n",
            "790:\tlearn: 0.1763231\ttotal: 1m 22s\tremaining: 21.9s\n",
            "791:\tlearn: 0.1761145\ttotal: 1m 22s\tremaining: 21.8s\n",
            "792:\tlearn: 0.1758159\ttotal: 1m 23s\tremaining: 21.7s\n",
            "793:\tlearn: 0.1754343\ttotal: 1m 23s\tremaining: 21.6s\n",
            "794:\tlearn: 0.1751300\ttotal: 1m 23s\tremaining: 21.5s\n",
            "795:\tlearn: 0.1746712\ttotal: 1m 23s\tremaining: 21.4s\n",
            "796:\tlearn: 0.1742487\ttotal: 1m 23s\tremaining: 21.3s\n",
            "797:\tlearn: 0.1739211\ttotal: 1m 23s\tremaining: 21.1s\n",
            "798:\tlearn: 0.1734554\ttotal: 1m 23s\tremaining: 21s\n",
            "799:\tlearn: 0.1730706\ttotal: 1m 23s\tremaining: 20.9s\n",
            "800:\tlearn: 0.1727681\ttotal: 1m 23s\tremaining: 20.8s\n",
            "801:\tlearn: 0.1723348\ttotal: 1m 23s\tremaining: 20.7s\n",
            "802:\tlearn: 0.1720797\ttotal: 1m 24s\tremaining: 20.6s\n",
            "803:\tlearn: 0.1716755\ttotal: 1m 24s\tremaining: 20.5s\n",
            "804:\tlearn: 0.1713788\ttotal: 1m 24s\tremaining: 20.4s\n",
            "805:\tlearn: 0.1710121\ttotal: 1m 24s\tremaining: 20.3s\n",
            "806:\tlearn: 0.1709673\ttotal: 1m 24s\tremaining: 20.2s\n",
            "807:\tlearn: 0.1708431\ttotal: 1m 24s\tremaining: 20.1s\n",
            "808:\tlearn: 0.1705719\ttotal: 1m 24s\tremaining: 20s\n",
            "809:\tlearn: 0.1701996\ttotal: 1m 24s\tremaining: 19.9s\n",
            "810:\tlearn: 0.1700377\ttotal: 1m 24s\tremaining: 19.8s\n",
            "811:\tlearn: 0.1698673\ttotal: 1m 24s\tremaining: 19.6s\n",
            "812:\tlearn: 0.1695684\ttotal: 1m 24s\tremaining: 19.5s\n",
            "813:\tlearn: 0.1693645\ttotal: 1m 25s\tremaining: 19.4s\n",
            "814:\tlearn: 0.1689654\ttotal: 1m 25s\tremaining: 19.3s\n",
            "815:\tlearn: 0.1685885\ttotal: 1m 25s\tremaining: 19.2s\n",
            "816:\tlearn: 0.1681978\ttotal: 1m 25s\tremaining: 19.1s\n",
            "817:\tlearn: 0.1680531\ttotal: 1m 25s\tremaining: 19s\n",
            "818:\tlearn: 0.1677561\ttotal: 1m 25s\tremaining: 18.9s\n",
            "819:\tlearn: 0.1673602\ttotal: 1m 25s\tremaining: 18.8s\n",
            "820:\tlearn: 0.1671178\ttotal: 1m 25s\tremaining: 18.7s\n",
            "821:\tlearn: 0.1668007\ttotal: 1m 25s\tremaining: 18.6s\n",
            "822:\tlearn: 0.1664150\ttotal: 1m 25s\tremaining: 18.5s\n",
            "823:\tlearn: 0.1662335\ttotal: 1m 25s\tremaining: 18.4s\n",
            "824:\tlearn: 0.1658071\ttotal: 1m 26s\tremaining: 18.3s\n",
            "825:\tlearn: 0.1655897\ttotal: 1m 26s\tremaining: 18.2s\n",
            "826:\tlearn: 0.1652988\ttotal: 1m 26s\tremaining: 18.1s\n",
            "827:\tlearn: 0.1649384\ttotal: 1m 26s\tremaining: 17.9s\n",
            "828:\tlearn: 0.1646007\ttotal: 1m 26s\tremaining: 17.8s\n",
            "829:\tlearn: 0.1644989\ttotal: 1m 26s\tremaining: 17.7s\n",
            "830:\tlearn: 0.1641032\ttotal: 1m 26s\tremaining: 17.6s\n",
            "831:\tlearn: 0.1636555\ttotal: 1m 26s\tremaining: 17.5s\n",
            "832:\tlearn: 0.1632903\ttotal: 1m 26s\tremaining: 17.4s\n",
            "833:\tlearn: 0.1630300\ttotal: 1m 26s\tremaining: 17.3s\n",
            "834:\tlearn: 0.1628649\ttotal: 1m 27s\tremaining: 17.2s\n",
            "835:\tlearn: 0.1626799\ttotal: 1m 27s\tremaining: 17.1s\n",
            "836:\tlearn: 0.1623040\ttotal: 1m 27s\tremaining: 17s\n",
            "837:\tlearn: 0.1621019\ttotal: 1m 27s\tremaining: 16.9s\n",
            "838:\tlearn: 0.1617100\ttotal: 1m 27s\tremaining: 16.9s\n",
            "839:\tlearn: 0.1613754\ttotal: 1m 28s\tremaining: 16.8s\n",
            "840:\tlearn: 0.1612675\ttotal: 1m 28s\tremaining: 16.7s\n",
            "841:\tlearn: 0.1610885\ttotal: 1m 28s\tremaining: 16.6s\n",
            "842:\tlearn: 0.1608780\ttotal: 1m 28s\tremaining: 16.5s\n",
            "843:\tlearn: 0.1606825\ttotal: 1m 28s\tremaining: 16.4s\n",
            "844:\tlearn: 0.1604064\ttotal: 1m 28s\tremaining: 16.3s\n",
            "845:\tlearn: 0.1600347\ttotal: 1m 29s\tremaining: 16.2s\n",
            "846:\tlearn: 0.1599104\ttotal: 1m 29s\tremaining: 16.1s\n",
            "847:\tlearn: 0.1596001\ttotal: 1m 29s\tremaining: 16s\n",
            "848:\tlearn: 0.1594772\ttotal: 1m 29s\tremaining: 15.9s\n",
            "849:\tlearn: 0.1592758\ttotal: 1m 29s\tremaining: 15.8s\n",
            "850:\tlearn: 0.1589743\ttotal: 1m 29s\tremaining: 15.7s\n",
            "851:\tlearn: 0.1585742\ttotal: 1m 29s\tremaining: 15.6s\n",
            "852:\tlearn: 0.1583514\ttotal: 1m 29s\tremaining: 15.5s\n",
            "853:\tlearn: 0.1580735\ttotal: 1m 29s\tremaining: 15.4s\n",
            "854:\tlearn: 0.1577449\ttotal: 1m 30s\tremaining: 15.3s\n",
            "855:\tlearn: 0.1573777\ttotal: 1m 30s\tremaining: 15.2s\n",
            "856:\tlearn: 0.1572464\ttotal: 1m 30s\tremaining: 15.1s\n",
            "857:\tlearn: 0.1570568\ttotal: 1m 30s\tremaining: 14.9s\n",
            "858:\tlearn: 0.1567077\ttotal: 1m 30s\tremaining: 14.8s\n",
            "859:\tlearn: 0.1563661\ttotal: 1m 30s\tremaining: 14.7s\n",
            "860:\tlearn: 0.1560386\ttotal: 1m 30s\tremaining: 14.6s\n",
            "861:\tlearn: 0.1558781\ttotal: 1m 30s\tremaining: 14.5s\n",
            "862:\tlearn: 0.1555261\ttotal: 1m 30s\tremaining: 14.4s\n",
            "863:\tlearn: 0.1553935\ttotal: 1m 30s\tremaining: 14.3s\n",
            "864:\tlearn: 0.1552529\ttotal: 1m 31s\tremaining: 14.2s\n",
            "865:\tlearn: 0.1548957\ttotal: 1m 31s\tremaining: 14.1s\n",
            "866:\tlearn: 0.1546661\ttotal: 1m 31s\tremaining: 14s\n",
            "867:\tlearn: 0.1543573\ttotal: 1m 31s\tremaining: 13.9s\n",
            "868:\tlearn: 0.1542659\ttotal: 1m 31s\tremaining: 13.8s\n",
            "869:\tlearn: 0.1540831\ttotal: 1m 31s\tremaining: 13.7s\n",
            "870:\tlearn: 0.1538997\ttotal: 1m 31s\tremaining: 13.6s\n",
            "871:\tlearn: 0.1537618\ttotal: 1m 32s\tremaining: 13.5s\n",
            "872:\tlearn: 0.1533436\ttotal: 1m 32s\tremaining: 13.4s\n",
            "873:\tlearn: 0.1531304\ttotal: 1m 32s\tremaining: 13.3s\n",
            "874:\tlearn: 0.1526843\ttotal: 1m 32s\tremaining: 13.2s\n",
            "875:\tlearn: 0.1524428\ttotal: 1m 32s\tremaining: 13.1s\n",
            "876:\tlearn: 0.1523586\ttotal: 1m 32s\tremaining: 13s\n",
            "877:\tlearn: 0.1522633\ttotal: 1m 32s\tremaining: 12.9s\n",
            "878:\tlearn: 0.1521804\ttotal: 1m 32s\tremaining: 12.8s\n",
            "879:\tlearn: 0.1518712\ttotal: 1m 32s\tremaining: 12.7s\n",
            "880:\tlearn: 0.1517141\ttotal: 1m 33s\tremaining: 12.6s\n",
            "881:\tlearn: 0.1516092\ttotal: 1m 33s\tremaining: 12.5s\n",
            "882:\tlearn: 0.1512061\ttotal: 1m 33s\tremaining: 12.3s\n",
            "883:\tlearn: 0.1510642\ttotal: 1m 33s\tremaining: 12.2s\n",
            "884:\tlearn: 0.1507475\ttotal: 1m 33s\tremaining: 12.1s\n",
            "885:\tlearn: 0.1506053\ttotal: 1m 33s\tremaining: 12s\n",
            "886:\tlearn: 0.1503598\ttotal: 1m 33s\tremaining: 11.9s\n",
            "887:\tlearn: 0.1501840\ttotal: 1m 33s\tremaining: 11.8s\n",
            "888:\tlearn: 0.1499288\ttotal: 1m 33s\tremaining: 11.7s\n",
            "889:\tlearn: 0.1496345\ttotal: 1m 33s\tremaining: 11.6s\n",
            "890:\tlearn: 0.1494380\ttotal: 1m 33s\tremaining: 11.5s\n",
            "891:\tlearn: 0.1490944\ttotal: 1m 34s\tremaining: 11.4s\n",
            "892:\tlearn: 0.1488896\ttotal: 1m 34s\tremaining: 11.3s\n",
            "893:\tlearn: 0.1484925\ttotal: 1m 34s\tremaining: 11.2s\n",
            "894:\tlearn: 0.1483067\ttotal: 1m 34s\tremaining: 11.1s\n",
            "895:\tlearn: 0.1479734\ttotal: 1m 34s\tremaining: 11s\n",
            "896:\tlearn: 0.1476650\ttotal: 1m 34s\tremaining: 10.9s\n",
            "897:\tlearn: 0.1475380\ttotal: 1m 34s\tremaining: 10.7s\n",
            "898:\tlearn: 0.1473990\ttotal: 1m 34s\tremaining: 10.6s\n",
            "899:\tlearn: 0.1471621\ttotal: 1m 34s\tremaining: 10.5s\n",
            "900:\tlearn: 0.1468496\ttotal: 1m 34s\tremaining: 10.4s\n",
            "901:\tlearn: 0.1466742\ttotal: 1m 35s\tremaining: 10.3s\n",
            "902:\tlearn: 0.1465562\ttotal: 1m 35s\tremaining: 10.2s\n",
            "903:\tlearn: 0.1462986\ttotal: 1m 35s\tremaining: 10.1s\n",
            "904:\tlearn: 0.1460819\ttotal: 1m 35s\tremaining: 10s\n",
            "905:\tlearn: 0.1458516\ttotal: 1m 35s\tremaining: 9.89s\n",
            "906:\tlearn: 0.1455779\ttotal: 1m 35s\tremaining: 9.79s\n",
            "907:\tlearn: 0.1452901\ttotal: 1m 35s\tremaining: 9.68s\n",
            "908:\tlearn: 0.1449770\ttotal: 1m 35s\tremaining: 9.58s\n",
            "909:\tlearn: 0.1445922\ttotal: 1m 35s\tremaining: 9.47s\n",
            "910:\tlearn: 0.1444331\ttotal: 1m 35s\tremaining: 9.36s\n",
            "911:\tlearn: 0.1442708\ttotal: 1m 35s\tremaining: 9.26s\n",
            "912:\tlearn: 0.1440277\ttotal: 1m 36s\tremaining: 9.15s\n",
            "913:\tlearn: 0.1439237\ttotal: 1m 36s\tremaining: 9.04s\n",
            "914:\tlearn: 0.1437224\ttotal: 1m 36s\tremaining: 8.94s\n",
            "915:\tlearn: 0.1434745\ttotal: 1m 36s\tremaining: 8.83s\n",
            "916:\tlearn: 0.1433125\ttotal: 1m 36s\tremaining: 8.73s\n",
            "917:\tlearn: 0.1429594\ttotal: 1m 36s\tremaining: 8.62s\n",
            "918:\tlearn: 0.1426988\ttotal: 1m 36s\tremaining: 8.52s\n",
            "919:\tlearn: 0.1425717\ttotal: 1m 36s\tremaining: 8.41s\n",
            "920:\tlearn: 0.1424573\ttotal: 1m 36s\tremaining: 8.3s\n",
            "921:\tlearn: 0.1422759\ttotal: 1m 36s\tremaining: 8.2s\n",
            "922:\tlearn: 0.1421254\ttotal: 1m 36s\tremaining: 8.09s\n",
            "923:\tlearn: 0.1417977\ttotal: 1m 37s\tremaining: 7.98s\n",
            "924:\tlearn: 0.1414661\ttotal: 1m 37s\tremaining: 7.88s\n",
            "925:\tlearn: 0.1413359\ttotal: 1m 37s\tremaining: 7.77s\n",
            "926:\tlearn: 0.1412125\ttotal: 1m 37s\tremaining: 7.67s\n",
            "927:\tlearn: 0.1409584\ttotal: 1m 37s\tremaining: 7.56s\n",
            "928:\tlearn: 0.1407997\ttotal: 1m 37s\tremaining: 7.46s\n",
            "929:\tlearn: 0.1404769\ttotal: 1m 37s\tremaining: 7.35s\n",
            "930:\tlearn: 0.1403804\ttotal: 1m 37s\tremaining: 7.25s\n",
            "931:\tlearn: 0.1403446\ttotal: 1m 37s\tremaining: 7.14s\n",
            "932:\tlearn: 0.1402231\ttotal: 1m 37s\tremaining: 7.03s\n",
            "933:\tlearn: 0.1400639\ttotal: 1m 38s\tremaining: 6.93s\n",
            "934:\tlearn: 0.1397941\ttotal: 1m 38s\tremaining: 6.82s\n",
            "935:\tlearn: 0.1395353\ttotal: 1m 38s\tremaining: 6.72s\n",
            "936:\tlearn: 0.1391741\ttotal: 1m 38s\tremaining: 6.61s\n",
            "937:\tlearn: 0.1389315\ttotal: 1m 38s\tremaining: 6.5s\n",
            "938:\tlearn: 0.1388035\ttotal: 1m 38s\tremaining: 6.4s\n",
            "939:\tlearn: 0.1385935\ttotal: 1m 38s\tremaining: 6.29s\n",
            "940:\tlearn: 0.1383652\ttotal: 1m 38s\tremaining: 6.19s\n",
            "941:\tlearn: 0.1380490\ttotal: 1m 38s\tremaining: 6.08s\n",
            "942:\tlearn: 0.1378962\ttotal: 1m 38s\tremaining: 5.98s\n",
            "943:\tlearn: 0.1375155\ttotal: 1m 39s\tremaining: 5.87s\n",
            "944:\tlearn: 0.1374612\ttotal: 1m 39s\tremaining: 5.77s\n",
            "945:\tlearn: 0.1371983\ttotal: 1m 39s\tremaining: 5.66s\n",
            "946:\tlearn: 0.1368891\ttotal: 1m 39s\tremaining: 5.55s\n",
            "947:\tlearn: 0.1367453\ttotal: 1m 39s\tremaining: 5.45s\n",
            "948:\tlearn: 0.1365595\ttotal: 1m 39s\tremaining: 5.34s\n",
            "949:\tlearn: 0.1362749\ttotal: 1m 39s\tremaining: 5.24s\n",
            "950:\tlearn: 0.1360992\ttotal: 1m 39s\tremaining: 5.14s\n",
            "951:\tlearn: 0.1359133\ttotal: 1m 39s\tremaining: 5.04s\n",
            "952:\tlearn: 0.1356457\ttotal: 1m 40s\tremaining: 4.94s\n",
            "953:\tlearn: 0.1354486\ttotal: 1m 40s\tremaining: 4.84s\n",
            "954:\tlearn: 0.1351581\ttotal: 1m 40s\tremaining: 4.73s\n",
            "955:\tlearn: 0.1348876\ttotal: 1m 40s\tremaining: 4.64s\n",
            "956:\tlearn: 0.1345615\ttotal: 1m 41s\tremaining: 4.55s\n",
            "957:\tlearn: 0.1342816\ttotal: 1m 41s\tremaining: 4.46s\n",
            "958:\tlearn: 0.1340306\ttotal: 1m 41s\tremaining: 4.35s\n",
            "959:\tlearn: 0.1338781\ttotal: 1m 42s\tremaining: 4.25s\n",
            "960:\tlearn: 0.1336737\ttotal: 1m 42s\tremaining: 4.16s\n",
            "961:\tlearn: 0.1335039\ttotal: 1m 42s\tremaining: 4.06s\n",
            "962:\tlearn: 0.1332248\ttotal: 1m 42s\tremaining: 3.95s\n",
            "963:\tlearn: 0.1330961\ttotal: 1m 42s\tremaining: 3.85s\n",
            "964:\tlearn: 0.1327787\ttotal: 1m 43s\tremaining: 3.74s\n",
            "965:\tlearn: 0.1325255\ttotal: 1m 43s\tremaining: 3.63s\n",
            "966:\tlearn: 0.1323156\ttotal: 1m 43s\tremaining: 3.52s\n",
            "967:\tlearn: 0.1321475\ttotal: 1m 43s\tremaining: 3.42s\n",
            "968:\tlearn: 0.1319679\ttotal: 1m 43s\tremaining: 3.31s\n",
            "969:\tlearn: 0.1317797\ttotal: 1m 43s\tremaining: 3.2s\n",
            "970:\tlearn: 0.1315636\ttotal: 1m 43s\tremaining: 3.1s\n",
            "971:\tlearn: 0.1314777\ttotal: 1m 43s\tremaining: 2.99s\n",
            "972:\tlearn: 0.1313093\ttotal: 1m 43s\tremaining: 2.88s\n",
            "973:\tlearn: 0.1311972\ttotal: 1m 43s\tremaining: 2.77s\n",
            "974:\tlearn: 0.1309576\ttotal: 1m 44s\tremaining: 2.67s\n",
            "975:\tlearn: 0.1308286\ttotal: 1m 44s\tremaining: 2.56s\n",
            "976:\tlearn: 0.1306789\ttotal: 1m 44s\tremaining: 2.45s\n",
            "977:\tlearn: 0.1305466\ttotal: 1m 44s\tremaining: 2.35s\n",
            "978:\tlearn: 0.1303668\ttotal: 1m 44s\tremaining: 2.24s\n",
            "979:\tlearn: 0.1301034\ttotal: 1m 44s\tremaining: 2.13s\n",
            "980:\tlearn: 0.1298322\ttotal: 1m 44s\tremaining: 2.02s\n",
            "981:\tlearn: 0.1295473\ttotal: 1m 44s\tremaining: 1.92s\n",
            "982:\tlearn: 0.1292783\ttotal: 1m 44s\tremaining: 1.81s\n",
            "983:\tlearn: 0.1291559\ttotal: 1m 44s\tremaining: 1.7s\n",
            "984:\tlearn: 0.1289168\ttotal: 1m 44s\tremaining: 1.6s\n",
            "985:\tlearn: 0.1286873\ttotal: 1m 45s\tremaining: 1.49s\n",
            "986:\tlearn: 0.1284925\ttotal: 1m 45s\tremaining: 1.38s\n",
            "987:\tlearn: 0.1283124\ttotal: 1m 45s\tremaining: 1.28s\n",
            "988:\tlearn: 0.1281324\ttotal: 1m 45s\tremaining: 1.17s\n",
            "989:\tlearn: 0.1279961\ttotal: 1m 45s\tremaining: 1.06s\n",
            "990:\tlearn: 0.1277680\ttotal: 1m 45s\tremaining: 959ms\n",
            "991:\tlearn: 0.1276394\ttotal: 1m 45s\tremaining: 852ms\n",
            "992:\tlearn: 0.1274447\ttotal: 1m 45s\tremaining: 745ms\n",
            "993:\tlearn: 0.1272338\ttotal: 1m 45s\tremaining: 639ms\n",
            "994:\tlearn: 0.1271034\ttotal: 1m 45s\tremaining: 532ms\n",
            "995:\tlearn: 0.1269159\ttotal: 1m 46s\tremaining: 426ms\n",
            "996:\tlearn: 0.1267390\ttotal: 1m 46s\tremaining: 319ms\n",
            "997:\tlearn: 0.1266427\ttotal: 1m 46s\tremaining: 213ms\n",
            "998:\tlearn: 0.1265574\ttotal: 1m 46s\tremaining: 106ms\n",
            "999:\tlearn: 0.1264640\ttotal: 1m 46s\tremaining: 0us\n",
            "[2.79308746e+01 1.50335563e+01 1.26738592e-02 6.60311490e+00\n",
            " 7.91495347e-01 6.77211370e+00 6.43722704e+00 6.69790958e+00\n",
            " 8.24161225e+00 7.32272996e-03 2.14720996e+01]\n"
          ]
        }
      ]
    },
    {
      "cell_type": "code",
      "source": [
        "results = model.get_feature_importance(prettified=True)\n",
        "results"
      ],
      "metadata": {
        "colab": {
          "base_uri": "https://localhost:8080/",
          "height": 394
        },
        "id": "GFiKarWjsLlU",
        "outputId": "1a0f93c1-4637-4e9d-8903-d259c6a53e8c"
      },
      "execution_count": 24,
      "outputs": [
        {
          "output_type": "execute_result",
          "data": {
            "text/plain": [
              "       Feature Id  Importances\n",
              "0           model    27.930875\n",
              "1       work_type    21.472100\n",
              "2        car_type    15.033556\n",
              "3      user_rides     8.241612\n",
              "4          riders     6.772114\n",
              "5     user_rating     6.697910\n",
              "6      car_rating     6.603115\n",
              "7             age     6.437227\n",
              "8   year_to_start     0.791495\n",
              "9       fuel_type     0.012674\n",
              "10       fix_date     0.007323"
            ],
            "text/html": [
              "\n",
              "  <div id=\"df-463631f7-eac3-408b-b9a1-0633dfa5e2e2\" class=\"colab-df-container\">\n",
              "    <div>\n",
              "<style scoped>\n",
              "    .dataframe tbody tr th:only-of-type {\n",
              "        vertical-align: middle;\n",
              "    }\n",
              "\n",
              "    .dataframe tbody tr th {\n",
              "        vertical-align: top;\n",
              "    }\n",
              "\n",
              "    .dataframe thead th {\n",
              "        text-align: right;\n",
              "    }\n",
              "</style>\n",
              "<table border=\"1\" class=\"dataframe\">\n",
              "  <thead>\n",
              "    <tr style=\"text-align: right;\">\n",
              "      <th></th>\n",
              "      <th>Feature Id</th>\n",
              "      <th>Importances</th>\n",
              "    </tr>\n",
              "  </thead>\n",
              "  <tbody>\n",
              "    <tr>\n",
              "      <th>0</th>\n",
              "      <td>model</td>\n",
              "      <td>27.930875</td>\n",
              "    </tr>\n",
              "    <tr>\n",
              "      <th>1</th>\n",
              "      <td>work_type</td>\n",
              "      <td>21.472100</td>\n",
              "    </tr>\n",
              "    <tr>\n",
              "      <th>2</th>\n",
              "      <td>car_type</td>\n",
              "      <td>15.033556</td>\n",
              "    </tr>\n",
              "    <tr>\n",
              "      <th>3</th>\n",
              "      <td>user_rides</td>\n",
              "      <td>8.241612</td>\n",
              "    </tr>\n",
              "    <tr>\n",
              "      <th>4</th>\n",
              "      <td>riders</td>\n",
              "      <td>6.772114</td>\n",
              "    </tr>\n",
              "    <tr>\n",
              "      <th>5</th>\n",
              "      <td>user_rating</td>\n",
              "      <td>6.697910</td>\n",
              "    </tr>\n",
              "    <tr>\n",
              "      <th>6</th>\n",
              "      <td>car_rating</td>\n",
              "      <td>6.603115</td>\n",
              "    </tr>\n",
              "    <tr>\n",
              "      <th>7</th>\n",
              "      <td>age</td>\n",
              "      <td>6.437227</td>\n",
              "    </tr>\n",
              "    <tr>\n",
              "      <th>8</th>\n",
              "      <td>year_to_start</td>\n",
              "      <td>0.791495</td>\n",
              "    </tr>\n",
              "    <tr>\n",
              "      <th>9</th>\n",
              "      <td>fuel_type</td>\n",
              "      <td>0.012674</td>\n",
              "    </tr>\n",
              "    <tr>\n",
              "      <th>10</th>\n",
              "      <td>fix_date</td>\n",
              "      <td>0.007323</td>\n",
              "    </tr>\n",
              "  </tbody>\n",
              "</table>\n",
              "</div>\n",
              "    <div class=\"colab-df-buttons\">\n",
              "\n",
              "  <div class=\"colab-df-container\">\n",
              "    <button class=\"colab-df-convert\" onclick=\"convertToInteractive('df-463631f7-eac3-408b-b9a1-0633dfa5e2e2')\"\n",
              "            title=\"Convert this dataframe to an interactive table.\"\n",
              "            style=\"display:none;\">\n",
              "\n",
              "  <svg xmlns=\"http://www.w3.org/2000/svg\" height=\"24px\" viewBox=\"0 -960 960 960\">\n",
              "    <path d=\"M120-120v-720h720v720H120Zm60-500h600v-160H180v160Zm220 220h160v-160H400v160Zm0 220h160v-160H400v160ZM180-400h160v-160H180v160Zm440 0h160v-160H620v160ZM180-180h160v-160H180v160Zm440 0h160v-160H620v160Z\"/>\n",
              "  </svg>\n",
              "    </button>\n",
              "\n",
              "  <style>\n",
              "    .colab-df-container {\n",
              "      display:flex;\n",
              "      gap: 12px;\n",
              "    }\n",
              "\n",
              "    .colab-df-convert {\n",
              "      background-color: #E8F0FE;\n",
              "      border: none;\n",
              "      border-radius: 50%;\n",
              "      cursor: pointer;\n",
              "      display: none;\n",
              "      fill: #1967D2;\n",
              "      height: 32px;\n",
              "      padding: 0 0 0 0;\n",
              "      width: 32px;\n",
              "    }\n",
              "\n",
              "    .colab-df-convert:hover {\n",
              "      background-color: #E2EBFA;\n",
              "      box-shadow: 0px 1px 2px rgba(60, 64, 67, 0.3), 0px 1px 3px 1px rgba(60, 64, 67, 0.15);\n",
              "      fill: #174EA6;\n",
              "    }\n",
              "\n",
              "    .colab-df-buttons div {\n",
              "      margin-bottom: 4px;\n",
              "    }\n",
              "\n",
              "    [theme=dark] .colab-df-convert {\n",
              "      background-color: #3B4455;\n",
              "      fill: #D2E3FC;\n",
              "    }\n",
              "\n",
              "    [theme=dark] .colab-df-convert:hover {\n",
              "      background-color: #434B5C;\n",
              "      box-shadow: 0px 1px 3px 1px rgba(0, 0, 0, 0.15);\n",
              "      filter: drop-shadow(0px 1px 2px rgba(0, 0, 0, 0.3));\n",
              "      fill: #FFFFFF;\n",
              "    }\n",
              "  </style>\n",
              "\n",
              "    <script>\n",
              "      const buttonEl =\n",
              "        document.querySelector('#df-463631f7-eac3-408b-b9a1-0633dfa5e2e2 button.colab-df-convert');\n",
              "      buttonEl.style.display =\n",
              "        google.colab.kernel.accessAllowed ? 'block' : 'none';\n",
              "\n",
              "      async function convertToInteractive(key) {\n",
              "        const element = document.querySelector('#df-463631f7-eac3-408b-b9a1-0633dfa5e2e2');\n",
              "        const dataTable =\n",
              "          await google.colab.kernel.invokeFunction('convertToInteractive',\n",
              "                                                    [key], {});\n",
              "        if (!dataTable) return;\n",
              "\n",
              "        const docLinkHtml = 'Like what you see? Visit the ' +\n",
              "          '<a target=\"_blank\" href=https://colab.research.google.com/notebooks/data_table.ipynb>data table notebook</a>'\n",
              "          + ' to learn more about interactive tables.';\n",
              "        element.innerHTML = '';\n",
              "        dataTable['output_type'] = 'display_data';\n",
              "        await google.colab.output.renderOutput(dataTable, element);\n",
              "        const docLink = document.createElement('div');\n",
              "        docLink.innerHTML = docLinkHtml;\n",
              "        element.appendChild(docLink);\n",
              "      }\n",
              "    </script>\n",
              "  </div>\n",
              "\n",
              "\n",
              "<div id=\"df-4e8d5065-306e-431c-a1df-0bc284c665a3\">\n",
              "  <button class=\"colab-df-quickchart\" onclick=\"quickchart('df-4e8d5065-306e-431c-a1df-0bc284c665a3')\"\n",
              "            title=\"Suggest charts\"\n",
              "            style=\"display:none;\">\n",
              "\n",
              "<svg xmlns=\"http://www.w3.org/2000/svg\" height=\"24px\"viewBox=\"0 0 24 24\"\n",
              "     width=\"24px\">\n",
              "    <g>\n",
              "        <path d=\"M19 3H5c-1.1 0-2 .9-2 2v14c0 1.1.9 2 2 2h14c1.1 0 2-.9 2-2V5c0-1.1-.9-2-2-2zM9 17H7v-7h2v7zm4 0h-2V7h2v10zm4 0h-2v-4h2v4z\"/>\n",
              "    </g>\n",
              "</svg>\n",
              "  </button>\n",
              "\n",
              "<style>\n",
              "  .colab-df-quickchart {\n",
              "      --bg-color: #E8F0FE;\n",
              "      --fill-color: #1967D2;\n",
              "      --hover-bg-color: #E2EBFA;\n",
              "      --hover-fill-color: #174EA6;\n",
              "      --disabled-fill-color: #AAA;\n",
              "      --disabled-bg-color: #DDD;\n",
              "  }\n",
              "\n",
              "  [theme=dark] .colab-df-quickchart {\n",
              "      --bg-color: #3B4455;\n",
              "      --fill-color: #D2E3FC;\n",
              "      --hover-bg-color: #434B5C;\n",
              "      --hover-fill-color: #FFFFFF;\n",
              "      --disabled-bg-color: #3B4455;\n",
              "      --disabled-fill-color: #666;\n",
              "  }\n",
              "\n",
              "  .colab-df-quickchart {\n",
              "    background-color: var(--bg-color);\n",
              "    border: none;\n",
              "    border-radius: 50%;\n",
              "    cursor: pointer;\n",
              "    display: none;\n",
              "    fill: var(--fill-color);\n",
              "    height: 32px;\n",
              "    padding: 0;\n",
              "    width: 32px;\n",
              "  }\n",
              "\n",
              "  .colab-df-quickchart:hover {\n",
              "    background-color: var(--hover-bg-color);\n",
              "    box-shadow: 0 1px 2px rgba(60, 64, 67, 0.3), 0 1px 3px 1px rgba(60, 64, 67, 0.15);\n",
              "    fill: var(--button-hover-fill-color);\n",
              "  }\n",
              "\n",
              "  .colab-df-quickchart-complete:disabled,\n",
              "  .colab-df-quickchart-complete:disabled:hover {\n",
              "    background-color: var(--disabled-bg-color);\n",
              "    fill: var(--disabled-fill-color);\n",
              "    box-shadow: none;\n",
              "  }\n",
              "\n",
              "  .colab-df-spinner {\n",
              "    border: 2px solid var(--fill-color);\n",
              "    border-color: transparent;\n",
              "    border-bottom-color: var(--fill-color);\n",
              "    animation:\n",
              "      spin 1s steps(1) infinite;\n",
              "  }\n",
              "\n",
              "  @keyframes spin {\n",
              "    0% {\n",
              "      border-color: transparent;\n",
              "      border-bottom-color: var(--fill-color);\n",
              "      border-left-color: var(--fill-color);\n",
              "    }\n",
              "    20% {\n",
              "      border-color: transparent;\n",
              "      border-left-color: var(--fill-color);\n",
              "      border-top-color: var(--fill-color);\n",
              "    }\n",
              "    30% {\n",
              "      border-color: transparent;\n",
              "      border-left-color: var(--fill-color);\n",
              "      border-top-color: var(--fill-color);\n",
              "      border-right-color: var(--fill-color);\n",
              "    }\n",
              "    40% {\n",
              "      border-color: transparent;\n",
              "      border-right-color: var(--fill-color);\n",
              "      border-top-color: var(--fill-color);\n",
              "    }\n",
              "    60% {\n",
              "      border-color: transparent;\n",
              "      border-right-color: var(--fill-color);\n",
              "    }\n",
              "    80% {\n",
              "      border-color: transparent;\n",
              "      border-right-color: var(--fill-color);\n",
              "      border-bottom-color: var(--fill-color);\n",
              "    }\n",
              "    90% {\n",
              "      border-color: transparent;\n",
              "      border-bottom-color: var(--fill-color);\n",
              "    }\n",
              "  }\n",
              "</style>\n",
              "\n",
              "  <script>\n",
              "    async function quickchart(key) {\n",
              "      const quickchartButtonEl =\n",
              "        document.querySelector('#' + key + ' button');\n",
              "      quickchartButtonEl.disabled = true;  // To prevent multiple clicks.\n",
              "      quickchartButtonEl.classList.add('colab-df-spinner');\n",
              "      try {\n",
              "        const charts = await google.colab.kernel.invokeFunction(\n",
              "            'suggestCharts', [key], {});\n",
              "      } catch (error) {\n",
              "        console.error('Error during call to suggestCharts:', error);\n",
              "      }\n",
              "      quickchartButtonEl.classList.remove('colab-df-spinner');\n",
              "      quickchartButtonEl.classList.add('colab-df-quickchart-complete');\n",
              "    }\n",
              "    (() => {\n",
              "      let quickchartButtonEl =\n",
              "        document.querySelector('#df-4e8d5065-306e-431c-a1df-0bc284c665a3 button');\n",
              "      quickchartButtonEl.style.display =\n",
              "        google.colab.kernel.accessAllowed ? 'block' : 'none';\n",
              "    })();\n",
              "  </script>\n",
              "</div>\n",
              "    </div>\n",
              "  </div>\n"
            ],
            "application/vnd.google.colaboratory.intrinsic+json": {
              "type": "dataframe",
              "variable_name": "results",
              "summary": "{\n  \"name\": \"results\",\n  \"rows\": 11,\n  \"fields\": [\n    {\n      \"column\": \"Feature Id\",\n      \"properties\": {\n        \"dtype\": \"string\",\n        \"num_unique_values\": 11,\n        \"samples\": [\n          \"user_rating\",\n          \"model\",\n          \"fuel_type\"\n        ],\n        \"semantic_type\": \"\",\n        \"description\": \"\"\n      }\n    },\n    {\n      \"column\": \"Importances\",\n      \"properties\": {\n        \"dtype\": \"number\",\n        \"std\": 8.957762633823112,\n        \"min\": 0.007322729958479169,\n        \"max\": 27.930874625371192,\n        \"num_unique_values\": 11,\n        \"samples\": [\n          6.697909575288239,\n          27.930874625371192,\n          0.012673859174051165\n        ],\n        \"semantic_type\": \"\",\n        \"description\": \"\"\n      }\n    }\n  ]\n}"
            }
          },
          "metadata": {},
          "execution_count": 24
        }
      ]
    },
    {
      "cell_type": "code",
      "source": [
        "X.columns"
      ],
      "metadata": {
        "colab": {
          "base_uri": "https://localhost:8080/"
        },
        "id": "gKDcm4F2sksR",
        "outputId": "0c1e18af-e54f-46ae-db68-c7f31f2ad46e"
      },
      "execution_count": 31,
      "outputs": [
        {
          "output_type": "execute_result",
          "data": {
            "text/plain": [
              "Index(['model', 'car_type', 'fuel_type', 'car_rating', 'year_to_start',\n",
              "       'riders', 'age', 'user_rating', 'user_rides', 'fix_date', 'work_type'],\n",
              "      dtype='object')"
            ]
          },
          "metadata": {},
          "execution_count": 31
        }
      ]
    },
    {
      "cell_type": "code",
      "source": [
        "# Shap\n",
        "\n",
        "!pip install shap\n",
        "\n",
        "import shap\n",
        "\n",
        "explain = shap.TreeExplainer(model)\n",
        "values = explain.shap_values(X_train)\n",
        "\n",
        "shap.summary_plot(values, X_train)"
      ],
      "metadata": {
        "id": "aFSbTQpFNVhq",
        "colab": {
          "base_uri": "https://localhost:8080/",
          "height": 975
        },
        "outputId": "e466d935-9b32-4051-ead5-128a72155fe2"
      },
      "execution_count": 32,
      "outputs": [
        {
          "output_type": "stream",
          "name": "stdout",
          "text": [
            "Requirement already satisfied: shap in /usr/local/lib/python3.10/dist-packages (0.45.0)\n",
            "Requirement already satisfied: numpy in /usr/local/lib/python3.10/dist-packages (from shap) (1.25.2)\n",
            "Requirement already satisfied: scipy in /usr/local/lib/python3.10/dist-packages (from shap) (1.11.4)\n",
            "Requirement already satisfied: scikit-learn in /usr/local/lib/python3.10/dist-packages (from shap) (1.2.2)\n",
            "Requirement already satisfied: pandas in /usr/local/lib/python3.10/dist-packages (from shap) (1.5.3)\n",
            "Requirement already satisfied: tqdm>=4.27.0 in /usr/local/lib/python3.10/dist-packages (from shap) (4.66.2)\n",
            "Requirement already satisfied: packaging>20.9 in /usr/local/lib/python3.10/dist-packages (from shap) (24.0)\n",
            "Requirement already satisfied: slicer==0.0.7 in /usr/local/lib/python3.10/dist-packages (from shap) (0.0.7)\n",
            "Requirement already satisfied: numba in /usr/local/lib/python3.10/dist-packages (from shap) (0.58.1)\n",
            "Requirement already satisfied: cloudpickle in /usr/local/lib/python3.10/dist-packages (from shap) (2.2.1)\n",
            "Requirement already satisfied: llvmlite<0.42,>=0.41.0dev0 in /usr/local/lib/python3.10/dist-packages (from numba->shap) (0.41.1)\n",
            "Requirement already satisfied: python-dateutil>=2.8.1 in /usr/local/lib/python3.10/dist-packages (from pandas->shap) (2.8.2)\n",
            "Requirement already satisfied: pytz>=2020.1 in /usr/local/lib/python3.10/dist-packages (from pandas->shap) (2023.4)\n",
            "Requirement already satisfied: joblib>=1.1.1 in /usr/local/lib/python3.10/dist-packages (from scikit-learn->shap) (1.3.2)\n",
            "Requirement already satisfied: threadpoolctl>=2.0.0 in /usr/local/lib/python3.10/dist-packages (from scikit-learn->shap) (3.3.0)\n",
            "Requirement already satisfied: six>=1.5 in /usr/local/lib/python3.10/dist-packages (from python-dateutil>=2.8.1->pandas->shap) (1.16.0)\n"
          ]
        },
        {
          "output_type": "display_data",
          "data": {
            "text/plain": [
              "<Figure size 1150x660 with 7 Axes>"
            ],
            "image/png": "[encoded data removed]"
          },
          "metadata": {}
        }
      ]
    },
    {
      "cell_type": "markdown",
      "metadata": {
        "id": "iSjuXdlcbuhx"
      },
      "source": [
        "# Домашнее задание 2. Прогноз времени и вида поломки машин. Настройка ML-модели"
      ]
    },
    {
      "cell_type": "markdown",
      "metadata": {
        "id": "2qoVlxvUbuhx"
      },
      "source": [
        "<div class=\"alert alert-info\">\n",
        "\n",
        "**Цель блока** — составить тренировочную и валидационную выборки, произвести обучение модели `CatBoostClassifier` на тренировочной части и оценить качество на валидационной."
      ]
    },
    {
      "cell_type": "markdown",
      "metadata": {
        "id": "OfqcanLLbuhx"
      },
      "source": [
        "##Обучение первой модели (5 баллов)\n",
        "\n",
        "1.   Новый пункт\n",
        "2.   Новый пункт\n",
        "\n"
      ]
    },
    {
      "cell_type": "markdown",
      "metadata": {
        "id": "ZXhXYJt6buhx"
      },
      "source": [
        "1. Классифицируйте признаки на типы (категориальные, числовые, таргеты).\n",
        "\n",
        "2. Выделите в `X` только признаки, а в `Y` — таргет (для задачи классификации).\n",
        "\n",
        "3. Сделайте разделение данных на *обучающую* и *валидационную* выборки (не забывайте про воспроизводимость результатов).\n",
        "\n",
        "4. Создайте и обучите `CatBoostClassifier` модель (настраивать гиперпараметры сейчас не обязательно).\n",
        "\n",
        "5. Проведите оценку вашей модели, используя метрику `accuracy`.\n",
        "\n",
        "\n",
        "<h4> Критерии оценивания </h4>\n",
        "    \n",
        "- По 1 баллу за каждый корректно выполненный пункт.\n",
        "\n",
        "</div>"
      ]
    },
    {
      "cell_type": "code",
      "execution_count": null,
      "metadata": {
        "id": "klrOFoVpbuhx"
      },
      "outputs": [],
      "source": [
        "from catboost import CatBoostClassifier\n",
        "from sklearn.model_selection import train_test_split\n",
        "from sklearn.metrics import accuracy_score"
      ]
    },
    {
      "cell_type": "code",
      "execution_count": null,
      "metadata": {
        "id": "lqwlTU2gbuhz"
      },
      "outputs": [],
      "source": [
        "features2drop = [...] # то, что надо выбросить\n",
        "targets = [...] # таргеты\n",
        "cat_features = [...] # категориальные признаки\n",
        "\n",
        "num_features = [...] # числовые признаки\n",
        "\n",
        "print('Категориальные признаки:', len(cat_features), cat_features)\n",
        "print('Числовые признаки:', len(num_features), num_features)\n",
        "print('Целевые переменные', targets)"
      ]
    },
    {
      "cell_type": "code",
      "execution_count": null,
      "metadata": {
        "id": "tGK5sgaQbuhz"
      },
      "outputs": [],
      "source": [
        "# YOUR CODE HERE"
      ]
    },
    {
      "cell_type": "markdown",
      "metadata": {
        "id": "pWAOjGCIbuhz"
      },
      "source": [
        "# Дополнительное задание. Визуализация прогнозов, ошибок модели и важности признаков"
      ]
    },
    {
      "cell_type": "markdown",
      "metadata": {
        "id": "oCvZU_ksbuhz"
      },
      "source": [
        "<div class=\"alert alert-info\">\n",
        "\n",
        "**Цель блока** — визуализировать результаты прогнозирования, ошибки модели и важность признаков для лучшего понимания и анализа модели."
      ]
    },
    {
      "cell_type": "markdown",
      "metadata": {
        "id": "onsptUygbuhz"
      },
      "source": [
        "## Визуализация (5 баллов)"
      ]
    },
    {
      "cell_type": "markdown",
      "metadata": {
        "id": "t3gAT3YHbuhz"
      },
      "source": [
        "   \n",
        "1. Визуализируйте важность признаков встроенным методом в `CatBoost`  (помните, что не стоит сильно доверять этому рейтингу важности, т. к. для сильно скоррелированных признаков важность делится пополам — оба признака могут улететь вниз).\n",
        "\n",
        "2. Постройте `waterfall_plot` из библиотеки `SHAP` (подробнее во втором ноутбуке из полезных ссылок ниже).\n",
        "    \n",
        "3. Постройте `classification_report` из библиотеки `scikit-learn`.\n",
        "\n",
        "4. Постройте и визуализируйте матрицу смежности (`confusion_matrix`), посмотрите, в каких классах модель больше всего ошибается.\n",
        "    \n",
        "5. Для каждого графика/примененного метода проинтерпретируйте результаты и сделайте выводы.\n",
        "\n",
        "\n",
        "<h4> Критерии оценивания </h4>\n",
        "    \n",
        "- По 1 баллу за каждый корректно выполненный пункт.\n",
        "    \n",
        "</div>\n",
        "\n",
        "<div class=\"alert alert-success\">\n",
        "\n",
        "Визуализация может помочь даже после того, как мы **уже обучили** какую-нибудь модель. Например:\n",
        "\n",
        "- Понять, что мешает модели или чего не хватает, чтобы не допускать ошибки.\n",
        "- Сделать выводы, как можно улучшить точность в последующих экспериментах.\n",
        "- Визуализировать ошибки модели.\n",
        "- Отсеять лишние признаки.\n",
        "- Найти идеи для новых признаков.\n",
        "- Все зависит от типа ваших данных.\n",
        "\n",
        "<h3> Полезные источники </h3>\n",
        "    \n",
        "- Занятие про визуализацию и Seaborn.\n",
        "- Занятие про продвинутую визуализацию и анализ ошибок модели.\n",
        "\n",
        "</div>    "
      ]
    },
    {
      "cell_type": "code",
      "execution_count": null,
      "metadata": {
        "id": "EYvkiOcrbuh0"
      },
      "outputs": [],
      "source": [
        "# YOUR CODE HERE"
      ]
    },
    {
      "cell_type": "markdown",
      "metadata": {
        "id": "pL8evJIMbuh0"
      },
      "source": [
        "# Домашнее задание 3. Оптимизация. Тюнинг гиперпараметров с помощью `Optuna`"
      ]
    },
    {
      "cell_type": "markdown",
      "metadata": {
        "id": "ZmanV8V8buh0"
      },
      "source": [
        "<div class=\"alert alert-info\">\n",
        "\n",
        "**Цель блока** — улучшить качество предсказания, произведя подбор гиперпараметров для модели с помощью `Optuna`."
      ]
    },
    {
      "cell_type": "markdown",
      "metadata": {
        "id": "qEbxkZf8buh1"
      },
      "source": [
        "## Подбор гиперпараметров (3 балла)"
      ]
    },
    {
      "cell_type": "markdown",
      "metadata": {
        "id": "XogayH7Hbuh1"
      },
      "source": [
        "1. Напишите `objective` функцию и запустите `Optuna`.\n",
        "2. Подберите гиперпараметры для `CatBoostClassifier` (минимум 3).\n",
        "3. Обучите модель с новыми гиперпараметрами, сравните качество и сделайте выводы.\n",
        "\n",
        "    \n",
        "<h4> Критерии оценивания </h4>\n",
        "    \n",
        "- 1 балл за каждый корректно выполненный пункт.\n",
        "    \n",
        "</div>"
      ]
    },
    {
      "cell_type": "code",
      "execution_count": null,
      "metadata": {
        "id": "UrNbom9qbuh1"
      },
      "outputs": [],
      "source": [
        "# YOUR CODE HERE"
      ]
    },
    {
      "cell_type": "markdown",
      "source": [
        "### Общая информация по `Optuna`"
      ],
      "metadata": {
        "id": "ayIdErsgjayi"
      }
    },
    {
      "cell_type": "markdown",
      "metadata": {
        "tags": [],
        "id": "a6Y35ioqbuh0"
      },
      "source": [
        "#### Ключевые особенности <code>Optuna</code>\n",
        "\n"
      ]
    },
    {
      "cell_type": "markdown",
      "source": [
        "- Легковесность и универсальность — можно подбирать оптимальные параметры под любые функции и метрики.\n",
        "- SOTA-алгоритмы, адаптированные для поиска гиперпараметров.\n",
        "- Параллелизация и различные методы прунинга.\n",
        "- Встроенная визуализация.\n",
        "- Интеграция со множеством популярных библиотек (бустинги, sklearn, PyTorch, W&B и другие).\n",
        "\n",
        "Разберем Optuna по частям, чтобы понять, как ее использовать."
      ],
      "metadata": {
        "id": "EFwQ3_NStdFY"
      }
    },
    {
      "cell_type": "markdown",
      "source": [
        "#### <code>Study</code>: оптимизация, базирующаяся на <code>Objective</code> функции"
      ],
      "metadata": {
        "id": "GIT2J4INtxaf"
      }
    },
    {
      "cell_type": "markdown",
      "metadata": {
        "id": "wqPh6XVybuh0"
      },
      "source": [
        "\n",
        "\n",
        "В `Objective`-функцию нужно написать код подсчета метрики, которую возвращаем. `Objective` вызывается Optuna много раз для подбора лучших параметров.\n",
        "```python\n",
        "def objective(trial, ...):\n",
        "    # calculate score...\n",
        "    return score\n",
        "```\n",
        "\n",
        "<h4> <code>Trial</code> — одно выполнение <code>Objective</code>-функции</h4>\n",
        "\n",
        "В `trial`-объекте мы передаем параметры для «перебора», используя для каждого типа свой метод. Например:\n",
        "\n",
        "```python\n",
        "# метод `suggest_float` показывает, что перебираем `float` значения, от 0 и до 1.5 границы\n",
        "param = trial.suggest_float('param', 0, 1.5)\n",
        "\n",
        "# Категориальное значение\n",
        "loss_function = trial.suggest_categorical('loss', ['Logloss', 'CrossEntropy'])\n",
        "\n",
        "# Целочисленное значение\n",
        "depth = trial.suggest_int('depth', 5, 8)\n",
        "\n",
        "# Равномерное распределение\n",
        "learning_rate = trial.suggest_uniform('learning_rate', 0.0, 1.0)\n",
        "```"
      ]
    },
    {
      "cell_type": "markdown",
      "source": [
        "#### `Study` parameters"
      ],
      "metadata": {
        "id": "4huC_vW7uI4o"
      }
    },
    {
      "cell_type": "markdown",
      "metadata": {
        "id": "Cq94BjhWbuh0"
      },
      "source": [
        "Инициализируем объект `study`, который начнет перебор и сохранит в себе историю результатов.\n",
        "Если мы стараемся увеличить метрику, а не уменьшить ошибку, то используем `create_study(direction='maximize')`.\n",
        "```python\n",
        "study = optuna.create_study()\n",
        "study.optimize(objective, n_trials=10)\n",
        "```"
      ]
    },
    {
      "cell_type": "markdown",
      "metadata": {
        "id": "x9AvfTv4buh0"
      },
      "source": [
        "<div class=\"alert alert-info\">\n",
        "    \n",
        "В [`Optuna`](https://optuna.readthedocs.io/en/stable/index.html) реализовано несколько методов (`sampler`) подбора параметров (в том числе классические):\n",
        "* `GridSampler`\n",
        "* `RandomSampler`\n",
        "* `Tree-Structed Parzen Estimator` (`TPESampler` — самый популярный, дефолтный)\n",
        "* `BruteForceSampler`\n",
        "* [Другие 4 метода](https://optuna.readthedocs.io/en/stable/reference/samplers/index.html#module-optuna.samplers) (можно написать собственный семплер)"
      ]
    },
    {
      "cell_type": "markdown",
      "metadata": {
        "tags": [],
        "id": "3g4-aEHabuh0"
      },
      "source": [
        "### Советы по перебору параметров"
      ]
    },
    {
      "cell_type": "markdown",
      "source": [
        "- Иметь понимание важности параметров.\n",
        "- Число `iterations` лучше взять с запасом и зафиксировать, при этом ограничив через `early_stopping_rounds`.\n",
        "- Подсмотреть или чувствовать диапазоны и шаг значений.\n",
        "- Исключить то, что перебирать не нужно (`random_seed` , `eval_metric`, `thread_count` и прочее).\n",
        "- Используйте информацию с прошлых попыток."
      ],
      "metadata": {
        "id": "g3b8cs4Mt7pq"
      }
    },
    {
      "cell_type": "markdown",
      "metadata": {
        "id": "dXv8NCp_buh1"
      },
      "source": [
        "# Домашнее задание 4. Блендинг"
      ]
    },
    {
      "cell_type": "markdown",
      "metadata": {
        "id": "8-bhQKWGbuh1"
      },
      "source": [
        "<div class=\"alert alert-info\">\n",
        "\n",
        "**Цель блока** — улучшить качество предсказания, объединив несколько моделей вместе методом блендинга."
      ]
    },
    {
      "cell_type": "markdown",
      "metadata": {
        "id": "ZtI-eK3xbuh1"
      },
      "source": [
        "## Задание 6. Блендинг (10 баллов)"
      ]
    },
    {
      "cell_type": "markdown",
      "metadata": {
        "id": "8v9Onoo9buh1"
      },
      "source": [
        "1. Построить и обучить модели:\n",
        "    - `CatBoostClassifier`,\n",
        "    - `LightGBMClassifier (goss)`,\n",
        "    - `XGBoostClassifier (dart)`,\n",
        "    - `RandomForestClassifier`.\n",
        "2. Сделать предсказания каждой моделью, оценить качество.\n",
        "3. Реализовать блендинг двумя способами, оценить качество и сравнить с предыдущим пунктом:\n",
        "    - `Hard Voting` —  метод, при котором делаем голосование всех моделей и выбираем самый популярный класс.\n",
        "    - `Soft Voting` —  метод, при котором мы складываем вероятности предсказания всех моделей по каждому классу и потом выбираем самый класс с максимальной суммой.\n",
        "    \n",
        "<h4> Критерии оценивания </h4>\n",
        "    \n",
        "- Обучены 4 модели — 1 балл за каждую обученную модель, всего 4 балла.\n",
        "- Для модели проведен подбор гиперпараметров — 0,5 балла за каждый параметр, всего 2 балла.\n",
        "- Сделаны предсказания каждой модели и оценено качество — 1 балл.\n",
        "- Реализован `Hard Voting` — 1 балл.\n",
        "- Реализован `Soft Voting` — 1 балл.\n",
        "- Сделаны выводы — 1 балл.\n",
        "    \n",
        "</div>"
      ]
    },
    {
      "cell_type": "code",
      "execution_count": null,
      "metadata": {
        "id": "Mfi_sxnjbuh2"
      },
      "outputs": [],
      "source": [
        "# YOUR CODE HERE"
      ]
    },
    {
      "cell_type": "markdown",
      "source": [
        "### Общая информация о блендинге"
      ],
      "metadata": {
        "id": "O2utYsm3mShl"
      }
    },
    {
      "cell_type": "markdown",
      "metadata": {
        "id": "-JNyyolfbuh1"
      },
      "source": [
        "**Основная идея** — взять от каждого алгоритма лучшее и совместить несколько разных ML-моделей в одну.\n",
        "\n",
        "Что это дает:\n",
        "- Увеличивается обобщающая способность финальной модели и качество улучшается.\n",
        "- Модель становится более стабильной, что позволяет не слететь на приватном лидерборде.\n",
        "\n",
        "Особенно хорошо накидывает блендинг, если смешиваемые модели имеют разную природу — например, нейронные сети, kNN и решающие деревья. Они выучивают разные зависимости и хорошо дополняют друг друга.\n",
        "\n",
        "</div>"
      ]
    },
    {
      "cell_type": "markdown",
      "metadata": {
        "id": "C5w0RwnYbuh3"
      },
      "source": [
        "# <center id=\"part6\"> Отправка финального решения на лидерборд на Kaggle"
      ]
    },
    {
      "cell_type": "markdown",
      "metadata": {
        "id": "wpt2Bdimbuh3"
      },
      "source": [
        "<div class=\"alert alert-info\">\n",
        "\n",
        "**Цель блока** — сделать предсказание с помощью блендинга для тестовой части датасета, отправить результат [в соревнование на Kaggle](https://www.kaggle.com/competitions/competative-data-science-course-by-data-feeling/overview)."
      ]
    },
    {
      "cell_type": "markdown",
      "metadata": {
        "id": "gfYqF37Cbuh3"
      },
      "source": [
        "## Задание 8. Предсказание на тестовом датасете и отправка на Kaggle"
      ]
    },
    {
      "cell_type": "markdown",
      "metadata": {
        "id": "m_ExuGjabuh3"
      },
      "source": [
        "1. Сделать предобработку для тестового датасета, присоединить к нему информацию из других датасетов и добавить признаки, которые генерировали для тренировочного датасета.\n",
        "2. Сделать предсказания каждой моделью, которую хотите включить в ансамбль, но минимум их должно быть 3.\n",
        "3. Сделать блендинг с помощью `Hard Voting` или `Soft Voting` на ваш выбор.\n",
        "4. Сохранить результат предсказания в `csv` файл и отправить решение на Kaggle.\n",
        "    \n",
        "<h4> Критерии оценивания </h4>\n",
        "    \n",
        "- 0 баллов за задание, если итоговый скор на лидерборде меньше чем `0.9`.\n",
        "- 1 балл за каждый выполненный пункт.\n",
        "\n",
        "</div>"
      ]
    },
    {
      "cell_type": "code",
      "execution_count": null,
      "metadata": {
        "id": "Cnp6usAybuh4"
      },
      "outputs": [],
      "source": [
        "car_test = pd.read_csv('https://raw.githubusercontent.com/a-milenkin/Competitive_Data_Science/main/data/car_test.csv')\n",
        "car_test.head(3)"
      ]
    },
    {
      "cell_type": "code",
      "execution_count": null,
      "metadata": {
        "id": "ZEZhf8gabuh4"
      },
      "outputs": [],
      "source": [
        "# YOUR CODE HERE"
      ]
    },
    {
      "cell_type": "markdown",
      "metadata": {
        "id": "cUuphISJbuh4"
      },
      "source": [
        "### Советы по отправке кода на Kaggle\n"
      ]
    },
    {
      "cell_type": "markdown",
      "source": [
        "\n",
        "Если пишете код на `Kaggle`, то для отправки решения:\n",
        "\n",
        "1. Нажать Save Version.\n",
        "2. Проверить, что в Advanced Settings выбрано «Всегда сохранять результаты ноутбука».\n",
        "3. Выбрать тип сохранения Save & Run All (Commit).\n",
        "4. Нажать кнопку Save."
      ],
      "metadata": {
        "id": "ZAQLSpKWu4aI"
      }
    }
  ],
  "metadata": {
    "kernelspec": {
      "display_name": "Python 3 (ipykernel)",
      "language": "python",
      "name": "python3"
    },
    "language_info": {
      "codemirror_mode": {
        "name": "ipython",
        "version": 3
      },
      "file_extension": ".py",
      "mimetype": "text/x-python",
      "name": "python",
      "nbconvert_exporter": "python",
      "pygments_lexer": "ipython3",
      "version": "3.10.13"
    },
    "colab": {
      "provenance": []
    },
    "widgets": {
      "application/vnd.jupyter.widget-state+json": {
        "4c88d23f8e6c4e44843d56a76acde713": {
          "model_module": "catboost-widget",
          "model_name": "CatboostWidgetModel",
          "model_module_version": "^1.0.0",
          "state": {
            "_dom_classes": [],
            "_model_module": "catboost-widget",
            "_model_module_version": "^1.0.0",
            "_model_name": "CatboostWidgetModel",
            "_view_count": null,
            "_view_module": "catboost-widget",
            "_view_module_version": "^1.0.0",
            "_view_name": "CatboostWidgetView",
            "data": {
              "catboost_info": {
                "path": "catboost_info",
                "name": "catboost_info",
                "content": {
                  "passed_iterations": 999,
                  "total_iterations": 1000,
                  "data": {
                    "iterations": [
                      {
                        "learn": [
                          2.188333098
                        ],
                        "iteration": 0,
                        "passed_time": 0.1872336365,
                        "remaining_time": 187.0464029
                      },
                      {
                        "learn": [
                          2.179017669
                        ],
                        "iteration": 1,
                        "passed_time": 0.3346398361,
                        "remaining_time": 166.9852782
                      },
                      {
                        "learn": [
                          2.166900159
                        ],
                        "iteration": 2,
                        "passed_time": 0.5106667897,
                        "remaining_time": 169.7115964
                      },
                      {
                        "learn": [
                          2.156567826
                        ],
                        "iteration": 3,
                        "passed_time": 0.6858700564,
                        "remaining_time": 170.7816441
                      },
                      {
                        "learn": [
                          2.142999951
                        ],
                        "iteration": 4,
                        "passed_time": 0.8366194463,
                        "remaining_time": 166.4872698
                      },
                      {
                        "learn": [
                          2.133058888
                        ],
                        "iteration": 5,
                        "passed_time": 0.9675467451,
                        "remaining_time": 160.2902441
                      },
                      {
                        "learn": [
                          2.131696532
                        ],
                        "iteration": 6,
                        "passed_time": 0.9734692769,
                        "remaining_time": 138.0935703
                      },
                      {
                        "learn": [
                          2.118012873
                        ],
                        "iteration": 7,
                        "passed_time": 1.146608163,
                        "remaining_time": 142.1794123
                      },
                      {
                        "learn": [
                          2.108831285
                        ],
                        "iteration": 8,
                        "passed_time": 1.270482974,
                        "remaining_time": 139.8942919
                      },
                      {
                        "learn": [
                          2.106475307
                        ],
                        "iteration": 9,
                        "passed_time": 1.284917841,
                        "remaining_time": 127.2068662
                      },
                      {
                        "learn": [
                          2.094752425
                        ],
                        "iteration": 10,
                        "passed_time": 1.444469514,
                        "remaining_time": 129.8709408
                      },
                      {
                        "learn": [
                          2.089861939
                        ],
                        "iteration": 11,
                        "passed_time": 1.592001534,
                        "remaining_time": 131.0747929
                      },
                      {
                        "learn": [
                          2.08861431
                        ],
                        "iteration": 12,
                        "passed_time": 1.618208659,
                        "remaining_time": 122.8593805
                      },
                      {
                        "learn": [
                          2.087901735
                        ],
                        "iteration": 13,
                        "passed_time": 1.636032372,
                        "remaining_time": 115.2234228
                      },
                      {
                        "learn": [
                          2.075132053
                        ],
                        "iteration": 14,
                        "passed_time": 1.808401925,
                        "remaining_time": 118.7517264
                      },
                      {
                        "learn": [
                          2.068841697
                        ],
                        "iteration": 15,
                        "passed_time": 1.900970909,
                        "remaining_time": 116.9097109
                      },
                      {
                        "learn": [
                          2.057428373
                        ],
                        "iteration": 16,
                        "passed_time": 1.995133928,
                        "remaining_time": 115.3656854
                      },
                      {
                        "learn": [
                          2.051747321
                        ],
                        "iteration": 17,
                        "passed_time": 2.071221086,
                        "remaining_time": 112.996617
                      },
                      {
                        "learn": [
                          2.047115796
                        ],
                        "iteration": 18,
                        "passed_time": 2.173207745,
                        "remaining_time": 112.2061473
                      },
                      {
                        "learn": [
                          2.046239234
                        ],
                        "iteration": 19,
                        "passed_time": 2.18652173,
                        "remaining_time": 107.1395648
                      },
                      {
                        "learn": [
                          2.039493292
                        ],
                        "iteration": 20,
                        "passed_time": 2.271918207,
                        "remaining_time": 105.9146631
                      },
                      {
                        "learn": [
                          2.031178045
                        ],
                        "iteration": 21,
                        "passed_time": 2.356597802,
                        "remaining_time": 104.7614841
                      },
                      {
                        "learn": [
                          2.022975859
                        ],
                        "iteration": 22,
                        "passed_time": 2.426010727,
                        "remaining_time": 103.0527165
                      },
                      {
                        "learn": [
                          2.011817503
                        ],
                        "iteration": 23,
                        "passed_time": 2.491761468,
                        "remaining_time": 101.331633
                      },
                      {
                        "learn": [
                          2.001141805
                        ],
                        "iteration": 24,
                        "passed_time": 2.567864242,
                        "remaining_time": 100.1467054
                      },
                      {
                        "learn": [
                          1.989331004
                        ],
                        "iteration": 25,
                        "passed_time": 2.650684835,
                        "remaining_time": 99.29873188
                      },
                      {
                        "learn": [
                          1.983428595
                        ],
                        "iteration": 26,
                        "passed_time": 2.716921845,
                        "remaining_time": 97.90981315
                      },
                      {
                        "learn": [
                          1.979197994
                        ],
                        "iteration": 27,
                        "passed_time": 2.833582946,
                        "remaining_time": 98.36580798
                      },
                      {
                        "learn": [
                          1.972335372
                        ],
                        "iteration": 28,
                        "passed_time": 2.900379076,
                        "remaining_time": 97.11269252
                      },
                      {
                        "learn": [
                          1.967973631
                        ],
                        "iteration": 29,
                        "passed_time": 2.976180029,
                        "remaining_time": 96.22982094
                      },
                      {
                        "learn": [
                          1.95917876
                        ],
                        "iteration": 30,
                        "passed_time": 3.058109217,
                        "remaining_time": 95.59057519
                      },
                      {
                        "learn": [
                          1.951709916
                        ],
                        "iteration": 31,
                        "passed_time": 3.147540078,
                        "remaining_time": 95.21308736
                      },
                      {
                        "learn": [
                          1.945463246
                        ],
                        "iteration": 32,
                        "passed_time": 3.222876339,
                        "remaining_time": 94.44004301
                      },
                      {
                        "learn": [
                          1.938626514
                        ],
                        "iteration": 33,
                        "passed_time": 3.301139268,
                        "remaining_time": 93.79119215
                      },
                      {
                        "learn": [
                          1.928217036
                        ],
                        "iteration": 34,
                        "passed_time": 3.391915004,
                        "remaining_time": 93.51994224
                      },
                      {
                        "learn": [
                          1.921083572
                        ],
                        "iteration": 35,
                        "passed_time": 3.486649951,
                        "remaining_time": 93.36473758
                      },
                      {
                        "learn": [
                          1.912051253
                        ],
                        "iteration": 36,
                        "passed_time": 3.562374035,
                        "remaining_time": 92.71800529
                      },
                      {
                        "learn": [
                          1.907121142
                        ],
                        "iteration": 37,
                        "passed_time": 3.639218231,
                        "remaining_time": 92.12968258
                      },
                      {
                        "learn": [
                          1.896000549
                        ],
                        "iteration": 38,
                        "passed_time": 3.727263397,
                        "remaining_time": 91.84359294
                      },
                      {
                        "learn": [
                          1.889721775
                        ],
                        "iteration": 39,
                        "passed_time": 3.801265334,
                        "remaining_time": 91.23036803
                      },
                      {
                        "learn": [
                          1.88248108
                        ],
                        "iteration": 40,
                        "passed_time": 3.87453369,
                        "remaining_time": 90.62628801
                      },
                      {
                        "learn": [
                          1.877210263
                        ],
                        "iteration": 41,
                        "passed_time": 3.971611515,
                        "remaining_time": 90.59056742
                      },
                      {
                        "learn": [
                          1.869761964
                        ],
                        "iteration": 42,
                        "passed_time": 4.067860026,
                        "remaining_time": 90.53353593
                      },
                      {
                        "learn": [
                          1.863683845
                        ],
                        "iteration": 43,
                        "passed_time": 4.16002159,
                        "remaining_time": 90.38592363
                      },
                      {
                        "learn": [
                          1.860584259
                        ],
                        "iteration": 44,
                        "passed_time": 4.220153021,
                        "remaining_time": 89.56102522
                      },
                      {
                        "learn": [
                          1.853624064
                        ],
                        "iteration": 45,
                        "passed_time": 4.3051409,
                        "remaining_time": 89.28487866
                      },
                      {
                        "learn": [
                          1.847995087
                        ],
                        "iteration": 46,
                        "passed_time": 4.393696106,
                        "remaining_time": 89.08919977
                      },
                      {
                        "learn": [
                          1.837101185
                        ],
                        "iteration": 47,
                        "passed_time": 4.473483088,
                        "remaining_time": 88.72408125
                      },
                      {
                        "learn": [
                          1.833462717
                        ],
                        "iteration": 48,
                        "passed_time": 4.55755895,
                        "remaining_time": 88.45384819
                      },
                      {
                        "learn": [
                          1.826437124
                        ],
                        "iteration": 49,
                        "passed_time": 4.633265567,
                        "remaining_time": 88.03204578
                      },
                      {
                        "learn": [
                          1.822594249
                        ],
                        "iteration": 50,
                        "passed_time": 4.732527718,
                        "remaining_time": 88.06213343
                      },
                      {
                        "learn": [
                          1.817790287
                        ],
                        "iteration": 51,
                        "passed_time": 4.819577748,
                        "remaining_time": 87.86460971
                      },
                      {
                        "learn": [
                          1.80959505
                        ],
                        "iteration": 52,
                        "passed_time": 4.91320634,
                        "remaining_time": 87.78880008
                      },
                      {
                        "learn": [
                          1.807332702
                        ],
                        "iteration": 53,
                        "passed_time": 4.9936712,
                        "remaining_time": 87.48172139
                      },
                      {
                        "learn": [
                          1.797650275
                        ],
                        "iteration": 54,
                        "passed_time": 5.059420427,
                        "remaining_time": 86.93004187
                      },
                      {
                        "learn": [
                          1.790520409
                        ],
                        "iteration": 55,
                        "passed_time": 5.139034323,
                        "remaining_time": 86.62943573
                      },
                      {
                        "learn": [
                          1.785201438
                        ],
                        "iteration": 56,
                        "passed_time": 5.24897972,
                        "remaining_time": 86.83838379
                      },
                      {
                        "learn": [
                          1.784448673
                        ],
                        "iteration": 57,
                        "passed_time": 5.2759557,
                        "remaining_time": 85.68879775
                      },
                      {
                        "learn": [
                          1.778372427
                        ],
                        "iteration": 58,
                        "passed_time": 5.345369951,
                        "remaining_time": 85.25412074
                      },
                      {
                        "learn": [
                          1.775310289
                        ],
                        "iteration": 59,
                        "passed_time": 5.409814535,
                        "remaining_time": 84.75376105
                      },
                      {
                        "learn": [
                          1.767249619
                        ],
                        "iteration": 60,
                        "passed_time": 5.488783813,
                        "remaining_time": 84.49127869
                      },
                      {
                        "learn": [
                          1.757049265
                        ],
                        "iteration": 61,
                        "passed_time": 5.582402979,
                        "remaining_time": 84.45635474
                      },
                      {
                        "learn": [
                          1.752692685
                        ],
                        "iteration": 62,
                        "passed_time": 5.670047769,
                        "remaining_time": 84.33071047
                      },
                      {
                        "learn": [
                          1.744675979
                        ],
                        "iteration": 63,
                        "passed_time": 5.743703602,
                        "remaining_time": 84.00166518
                      },
                      {
                        "learn": [
                          1.737462312
                        ],
                        "iteration": 64,
                        "passed_time": 5.833052416,
                        "remaining_time": 83.90621552
                      },
                      {
                        "learn": [
                          1.728801908
                        ],
                        "iteration": 65,
                        "passed_time": 5.907019468,
                        "remaining_time": 83.5932755
                      },
                      {
                        "learn": [
                          1.718697482
                        ],
                        "iteration": 66,
                        "passed_time": 6.039574352,
                        "remaining_time": 84.10332643
                      },
                      {
                        "learn": [
                          1.709401857
                        ],
                        "iteration": 67,
                        "passed_time": 6.113327459,
                        "remaining_time": 83.78854694
                      },
                      {
                        "learn": [
                          1.703616613
                        ],
                        "iteration": 68,
                        "passed_time": 6.179009612,
                        "remaining_time": 83.37185433
                      },
                      {
                        "learn": [
                          1.693265132
                        ],
                        "iteration": 69,
                        "passed_time": 6.290402628,
                        "remaining_time": 83.57249206
                      },
                      {
                        "learn": [
                          1.68860194
                        ],
                        "iteration": 70,
                        "passed_time": 6.378067784,
                        "remaining_time": 83.45387284
                      },
                      {
                        "learn": [
                          1.682077101
                        ],
                        "iteration": 71,
                        "passed_time": 6.448623842,
                        "remaining_time": 83.11559618
                      },
                      {
                        "learn": [
                          1.677882618
                        ],
                        "iteration": 72,
                        "passed_time": 6.520837771,
                        "remaining_time": 82.80570704
                      },
                      {
                        "learn": [
                          1.673760225
                        ],
                        "iteration": 73,
                        "passed_time": 6.63390605,
                        "remaining_time": 83.01347301
                      },
                      {
                        "learn": [
                          1.670151132
                        ],
                        "iteration": 74,
                        "passed_time": 6.706315589,
                        "remaining_time": 82.71122559
                      },
                      {
                        "learn": [
                          1.666695204
                        ],
                        "iteration": 75,
                        "passed_time": 6.777737715,
                        "remaining_time": 82.40302169
                      },
                      {
                        "learn": [
                          1.656689682
                        ],
                        "iteration": 76,
                        "passed_time": 6.883308117,
                        "remaining_time": 82.5103038
                      },
                      {
                        "learn": [
                          1.649634054
                        ],
                        "iteration": 77,
                        "passed_time": 6.975019093,
                        "remaining_time": 82.44830261
                      },
                      {
                        "learn": [
                          1.641448275
                        ],
                        "iteration": 78,
                        "passed_time": 7.051308449,
                        "remaining_time": 82.20576052
                      },
                      {
                        "learn": [
                          1.633201021
                        ],
                        "iteration": 79,
                        "passed_time": 7.119734974,
                        "remaining_time": 81.8769522
                      },
                      {
                        "learn": [
                          1.627476277
                        ],
                        "iteration": 80,
                        "passed_time": 7.221836664,
                        "remaining_time": 81.93664067
                      },
                      {
                        "learn": [
                          1.623206058
                        ],
                        "iteration": 81,
                        "passed_time": 7.3067772,
                        "remaining_time": 81.80026183
                      },
                      {
                        "learn": [
                          1.611855235
                        ],
                        "iteration": 82,
                        "passed_time": 7.383647877,
                        "remaining_time": 81.5759651
                      },
                      {
                        "learn": [
                          1.603297464
                        ],
                        "iteration": 83,
                        "passed_time": 7.487013659,
                        "remaining_time": 81.64410133
                      },
                      {
                        "learn": [
                          1.596166791
                        ],
                        "iteration": 84,
                        "passed_time": 7.581743745,
                        "remaining_time": 81.61524149
                      },
                      {
                        "learn": [
                          1.590142984
                        ],
                        "iteration": 85,
                        "passed_time": 7.665658311,
                        "remaining_time": 81.46990344
                      },
                      {
                        "learn": [
                          1.583779366
                        ],
                        "iteration": 86,
                        "passed_time": 7.740061498,
                        "remaining_time": 81.22616262
                      },
                      {
                        "learn": [
                          1.574303744
                        ],
                        "iteration": 87,
                        "passed_time": 7.823867431,
                        "remaining_time": 81.08371701
                      },
                      {
                        "learn": [
                          1.571238043
                        ],
                        "iteration": 88,
                        "passed_time": 7.897361875,
                        "remaining_time": 80.83704122
                      },
                      {
                        "learn": [
                          1.56235513
                        ],
                        "iteration": 89,
                        "passed_time": 8.005869083,
                        "remaining_time": 80.94823184
                      },
                      {
                        "learn": [
                          1.558856981
                        ],
                        "iteration": 90,
                        "passed_time": 8.074555326,
                        "remaining_time": 80.65682188
                      },
                      {
                        "learn": [
                          1.550987447
                        ],
                        "iteration": 91,
                        "passed_time": 8.157605391,
                        "remaining_time": 80.51201843
                      },
                      {
                        "learn": [
                          1.547451124
                        ],
                        "iteration": 92,
                        "passed_time": 8.262428404,
                        "remaining_time": 80.58088776
                      },
                      {
                        "learn": [
                          1.539202011
                        ],
                        "iteration": 93,
                        "passed_time": 8.365657309,
                        "remaining_time": 80.63069704
                      },
                      {
                        "learn": [
                          1.534682434
                        ],
                        "iteration": 94,
                        "passed_time": 8.455604146,
                        "remaining_time": 80.55075529
                      },
                      {
                        "learn": [
                          1.528875234
                        ],
                        "iteration": 95,
                        "passed_time": 8.542360819,
                        "remaining_time": 80.44056438
                      },
                      {
                        "learn": [
                          1.524871549
                        ],
                        "iteration": 96,
                        "passed_time": 8.620326116,
                        "remaining_time": 80.24901528
                      },
                      {
                        "learn": [
                          1.514364354
                        ],
                        "iteration": 97,
                        "passed_time": 8.696826902,
                        "remaining_time": 80.04630475
                      },
                      {
                        "learn": [
                          1.508033533
                        ],
                        "iteration": 98,
                        "passed_time": 8.778919491,
                        "remaining_time": 79.89703497
                      },
                      {
                        "learn": [
                          1.502095862
                        ],
                        "iteration": 99,
                        "passed_time": 8.885822668,
                        "remaining_time": 79.97240401
                      },
                      {
                        "learn": [
                          1.492509465
                        ],
                        "iteration": 100,
                        "passed_time": 8.988800219,
                        "remaining_time": 80.00922175
                      },
                      {
                        "learn": [
                          1.490146243
                        ],
                        "iteration": 101,
                        "passed_time": 9.077854321,
                        "remaining_time": 79.92071745
                      },
                      {
                        "learn": [
                          1.484552112
                        ],
                        "iteration": 102,
                        "passed_time": 9.164262947,
                        "remaining_time": 79.80916372
                      },
                      {
                        "learn": [
                          1.475520271
                        ],
                        "iteration": 103,
                        "passed_time": 9.261453044,
                        "remaining_time": 79.79098007
                      },
                      {
                        "learn": [
                          1.469374294
                        ],
                        "iteration": 104,
                        "passed_time": 9.369925375,
                        "remaining_time": 79.86745915
                      },
                      {
                        "learn": [
                          1.46467887
                        ],
                        "iteration": 105,
                        "passed_time": 9.442448254,
                        "remaining_time": 79.63725226
                      },
                      {
                        "learn": [
                          1.462248775
                        ],
                        "iteration": 106,
                        "passed_time": 9.526779234,
                        "remaining_time": 79.50854071
                      },
                      {
                        "learn": [
                          1.459277838
                        ],
                        "iteration": 107,
                        "passed_time": 9.631604129,
                        "remaining_time": 79.54991558
                      },
                      {
                        "learn": [
                          1.45569279
                        ],
                        "iteration": 108,
                        "passed_time": 9.731819981,
                        "remaining_time": 79.55093214
                      },
                      {
                        "learn": [
                          1.448429417
                        ],
                        "iteration": 109,
                        "passed_time": 9.820172399,
                        "remaining_time": 79.45412214
                      },
                      {
                        "learn": [
                          1.443981079
                        ],
                        "iteration": 110,
                        "passed_time": 9.904832731,
                        "remaining_time": 79.32789458
                      },
                      {
                        "learn": [
                          1.439664033
                        ],
                        "iteration": 111,
                        "passed_time": 9.981365563,
                        "remaining_time": 79.13796982
                      },
                      {
                        "learn": [
                          1.436106933
                        ],
                        "iteration": 112,
                        "passed_time": 10.06182828,
                        "remaining_time": 78.98089989
                      },
                      {
                        "learn": [
                          1.429106444
                        ],
                        "iteration": 113,
                        "passed_time": 10.15512908,
                        "remaining_time": 78.92495061
                      },
                      {
                        "learn": [
                          1.424420345
                        ],
                        "iteration": 114,
                        "passed_time": 10.22997682,
                        "remaining_time": 78.72634333
                      },
                      {
                        "learn": [
                          1.416661138
                        ],
                        "iteration": 115,
                        "passed_time": 10.31525733,
                        "remaining_time": 78.60937479
                      },
                      {
                        "learn": [
                          1.411212204
                        ],
                        "iteration": 116,
                        "passed_time": 10.40170064,
                        "remaining_time": 78.50172366
                      },
                      {
                        "learn": [
                          1.402506526
                        ],
                        "iteration": 117,
                        "passed_time": 10.51275945,
                        "remaining_time": 78.57842234
                      },
                      {
                        "learn": [
                          1.397725847
                        ],
                        "iteration": 118,
                        "passed_time": 10.60928042,
                        "remaining_time": 78.54433653
                      },
                      {
                        "learn": [
                          1.390970133
                        ],
                        "iteration": 119,
                        "passed_time": 10.69653309,
                        "remaining_time": 78.44124264
                      },
                      {
                        "learn": [
                          1.384264728
                        ],
                        "iteration": 120,
                        "passed_time": 10.78092087,
                        "remaining_time": 78.31759874
                      },
                      {
                        "learn": [
                          1.374848342
                        ],
                        "iteration": 121,
                        "passed_time": 10.8729488,
                        "remaining_time": 78.24958237
                      },
                      {
                        "learn": [
                          1.368535734
                        ],
                        "iteration": 122,
                        "passed_time": 10.97421988,
                        "remaining_time": 78.24707994
                      },
                      {
                        "learn": [
                          1.36381351
                        ],
                        "iteration": 123,
                        "passed_time": 11.07033802,
                        "remaining_time": 78.20658151
                      },
                      {
                        "learn": [
                          1.355871449
                        ],
                        "iteration": 124,
                        "passed_time": 11.15677716,
                        "remaining_time": 78.09744011
                      },
                      {
                        "learn": [
                          1.34524208
                        ],
                        "iteration": 125,
                        "passed_time": 11.24589692,
                        "remaining_time": 78.00725321
                      },
                      {
                        "learn": [
                          1.336950242
                        ],
                        "iteration": 126,
                        "passed_time": 11.35183057,
                        "remaining_time": 78.0326621
                      },
                      {
                        "learn": [
                          1.331992795
                        ],
                        "iteration": 127,
                        "passed_time": 11.44643867,
                        "remaining_time": 77.97886341
                      },
                      {
                        "learn": [
                          1.325917271
                        ],
                        "iteration": 128,
                        "passed_time": 11.52814026,
                        "remaining_time": 77.83728808
                      },
                      {
                        "learn": [
                          1.319251045
                        ],
                        "iteration": 129,
                        "passed_time": 11.62351809,
                        "remaining_time": 77.78815955
                      },
                      {
                        "learn": [
                          1.311673982
                        ],
                        "iteration": 130,
                        "passed_time": 11.70234312,
                        "remaining_time": 77.6285204
                      },
                      {
                        "learn": [
                          1.306647836
                        ],
                        "iteration": 131,
                        "passed_time": 11.79194672,
                        "remaining_time": 77.54098295
                      },
                      {
                        "learn": [
                          1.297525515
                        ],
                        "iteration": 132,
                        "passed_time": 11.95556303,
                        "remaining_time": 77.93588831
                      },
                      {
                        "learn": [
                          1.291294153
                        ],
                        "iteration": 133,
                        "passed_time": 12.10832009,
                        "remaining_time": 78.25227761
                      },
                      {
                        "learn": [
                          1.285616076
                        ],
                        "iteration": 134,
                        "passed_time": 12.27745596,
                        "remaining_time": 78.66666223
                      },
                      {
                        "learn": [
                          1.278018055
                        ],
                        "iteration": 135,
                        "passed_time": 12.43722476,
                        "remaining_time": 79.01295733
                      },
                      {
                        "learn": [
                          1.271480975
                        ],
                        "iteration": 136,
                        "passed_time": 12.60893736,
                        "remaining_time": 79.42710178
                      },
                      {
                        "learn": [
                          1.265501324
                        ],
                        "iteration": 137,
                        "passed_time": 12.77864478,
                        "remaining_time": 79.82023041
                      },
                      {
                        "learn": [
                          1.257835489
                        ],
                        "iteration": 138,
                        "passed_time": 12.95260847,
                        "remaining_time": 80.23162513
                      },
                      {
                        "learn": [
                          1.248970552
                        ],
                        "iteration": 139,
                        "passed_time": 13.12934505,
                        "remaining_time": 80.65169104
                      },
                      {
                        "learn": [
                          1.245620039
                        ],
                        "iteration": 140,
                        "passed_time": 13.28649481,
                        "remaining_time": 80.94396486
                      },
                      {
                        "learn": [
                          1.240866806
                        ],
                        "iteration": 141,
                        "passed_time": 13.46314298,
                        "remaining_time": 81.34772309
                      },
                      {
                        "learn": [
                          1.235938495
                        ],
                        "iteration": 142,
                        "passed_time": 13.61734945,
                        "remaining_time": 81.60887047
                      },
                      {
                        "learn": [
                          1.228217473
                        ],
                        "iteration": 143,
                        "passed_time": 13.76848824,
                        "remaining_time": 81.84601344
                      },
                      {
                        "learn": [
                          1.221117527
                        ],
                        "iteration": 144,
                        "passed_time": 13.91844456,
                        "remaining_time": 82.07082827
                      },
                      {
                        "learn": [
                          1.216710132
                        ],
                        "iteration": 145,
                        "passed_time": 14.08770097,
                        "remaining_time": 82.40340156
                      },
                      {
                        "learn": [
                          1.216114633
                        ],
                        "iteration": 146,
                        "passed_time": 14.24533263,
                        "remaining_time": 82.66169209
                      },
                      {
                        "learn": [
                          1.211377628
                        ],
                        "iteration": 147,
                        "passed_time": 14.35954098,
                        "remaining_time": 82.66438454
                      },
                      {
                        "learn": [
                          1.203859113
                        ],
                        "iteration": 148,
                        "passed_time": 14.452116,
                        "remaining_time": 82.54195114
                      },
                      {
                        "learn": [
                          1.20053431
                        ],
                        "iteration": 149,
                        "passed_time": 14.54254184,
                        "remaining_time": 82.40773709
                      },
                      {
                        "learn": [
                          1.194350121
                        ],
                        "iteration": 150,
                        "passed_time": 14.63388617,
                        "remaining_time": 82.27926728
                      },
                      {
                        "learn": [
                          1.186803198
                        ],
                        "iteration": 151,
                        "passed_time": 14.72870537,
                        "remaining_time": 82.17067208
                      },
                      {
                        "learn": [
                          1.183634184
                        ],
                        "iteration": 152,
                        "passed_time": 14.82016081,
                        "remaining_time": 82.04363534
                      },
                      {
                        "learn": [
                          1.176387506
                        ],
                        "iteration": 153,
                        "passed_time": 14.91851452,
                        "remaining_time": 81.95495642
                      },
                      {
                        "learn": [
                          1.172938378
                        ],
                        "iteration": 154,
                        "passed_time": 15.01604124,
                        "remaining_time": 81.86164418
                      },
                      {
                        "learn": [
                          1.169253104
                        ],
                        "iteration": 155,
                        "passed_time": 15.11953005,
                        "remaining_time": 81.80053437
                      },
                      {
                        "learn": [
                          1.161159439
                        ],
                        "iteration": 156,
                        "passed_time": 15.21238483,
                        "remaining_time": 81.68178607
                      },
                      {
                        "learn": [
                          1.156869094
                        ],
                        "iteration": 157,
                        "passed_time": 15.30489221,
                        "remaining_time": 81.56151418
                      },
                      {
                        "learn": [
                          1.155498407
                        ],
                        "iteration": 158,
                        "passed_time": 15.39260261,
                        "remaining_time": 81.41621882
                      },
                      {
                        "learn": [
                          1.149985962
                        ],
                        "iteration": 159,
                        "passed_time": 15.487675,
                        "remaining_time": 81.31029374
                      },
                      {
                        "learn": [
                          1.144650992
                        ],
                        "iteration": 160,
                        "passed_time": 15.58440155,
                        "remaining_time": 81.21312361
                      },
                      {
                        "learn": [
                          1.139512529
                        ],
                        "iteration": 161,
                        "passed_time": 15.68791768,
                        "remaining_time": 81.15108034
                      },
                      {
                        "learn": [
                          1.135000443
                        ],
                        "iteration": 162,
                        "passed_time": 15.77876128,
                        "remaining_time": 81.02345518
                      },
                      {
                        "learn": [
                          1.12951702
                        ],
                        "iteration": 163,
                        "passed_time": 15.8682185,
                        "remaining_time": 80.88921137
                      },
                      {
                        "learn": [
                          1.122465385
                        ],
                        "iteration": 164,
                        "passed_time": 15.9566095,
                        "remaining_time": 80.75011474
                      },
                      {
                        "learn": [
                          1.117745444
                        ],
                        "iteration": 165,
                        "passed_time": 16.05519082,
                        "remaining_time": 80.66282617
                      },
                      {
                        "learn": [
                          1.116767651
                        ],
                        "iteration": 166,
                        "passed_time": 16.1508479,
                        "remaining_time": 80.56081618
                      },
                      {
                        "learn": [
                          1.113812335
                        ],
                        "iteration": 167,
                        "passed_time": 16.23438625,
                        "remaining_time": 80.39886524
                      },
                      {
                        "learn": [
                          1.106892081
                        ],
                        "iteration": 168,
                        "passed_time": 16.31960946,
                        "remaining_time": 80.24612699
                      },
                      {
                        "learn": [
                          1.10300059
                        ],
                        "iteration": 169,
                        "passed_time": 16.41871751,
                        "remaining_time": 80.16197372
                      },
                      {
                        "learn": [
                          1.10091146
                        ],
                        "iteration": 170,
                        "passed_time": 16.53081877,
                        "remaining_time": 80.14063604
                      },
                      {
                        "learn": [
                          1.097501201
                        ],
                        "iteration": 171,
                        "passed_time": 16.61299743,
                        "remaining_time": 79.97419693
                      },
                      {
                        "learn": [
                          1.095570358
                        ],
                        "iteration": 172,
                        "passed_time": 16.64992653,
                        "remaining_time": 79.59242336
                      },
                      {
                        "learn": [
                          1.093384622
                        ],
                        "iteration": 173,
                        "passed_time": 16.73721288,
                        "remaining_time": 79.45366573
                      },
                      {
                        "learn": [
                          1.089630503
                        ],
                        "iteration": 174,
                        "passed_time": 16.8174612,
                        "remaining_time": 79.28231711
                      },
                      {
                        "learn": [
                          1.081599439
                        ],
                        "iteration": 175,
                        "passed_time": 16.90909474,
                        "remaining_time": 79.16530718
                      },
                      {
                        "learn": [
                          1.079249292
                        ],
                        "iteration": 176,
                        "passed_time": 17.01220375,
                        "remaining_time": 79.10194172
                      },
                      {
                        "learn": [
                          1.075999746
                        ],
                        "iteration": 177,
                        "passed_time": 17.10602347,
                        "remaining_time": 78.99523198
                      },
                      {
                        "learn": [
                          1.071585042
                        ],
                        "iteration": 178,
                        "passed_time": 17.2053161,
                        "remaining_time": 78.91376827
                      },
                      {
                        "learn": [
                          1.070557229
                        ],
                        "iteration": 179,
                        "passed_time": 17.29507883,
                        "remaining_time": 78.78869243
                      },
                      {
                        "learn": [
                          1.062859061
                        ],
                        "iteration": 180,
                        "passed_time": 17.39016078,
                        "remaining_time": 78.68807556
                      },
                      {
                        "learn": [
                          1.055031496
                        ],
                        "iteration": 181,
                        "passed_time": 17.48013061,
                        "remaining_time": 78.56454305
                      },
                      {
                        "learn": [
                          1.052893121
                        ],
                        "iteration": 182,
                        "passed_time": 17.58770812,
                        "remaining_time": 78.51998651
                      },
                      {
                        "learn": [
                          1.050539213
                        ],
                        "iteration": 183,
                        "passed_time": 17.67734541,
                        "remaining_time": 78.395184
                      },
                      {
                        "learn": [
                          1.048531554
                        ],
                        "iteration": 184,
                        "passed_time": 17.77086833,
                        "remaining_time": 78.28787942
                      },
                      {
                        "learn": [
                          1.045411934
                        ],
                        "iteration": 185,
                        "passed_time": 17.8669692,
                        "remaining_time": 78.19200501
                      },
                      {
                        "learn": [
                          1.041074233
                        ],
                        "iteration": 186,
                        "passed_time": 17.95102402,
                        "remaining_time": 78.04375684
                      },
                      {
                        "learn": [
                          1.037159313
                        ],
                        "iteration": 187,
                        "passed_time": 18.04877684,
                        "remaining_time": 77.95535529
                      },
                      {
                        "learn": [
                          1.033293393
                        ],
                        "iteration": 188,
                        "passed_time": 18.15180133,
                        "remaining_time": 77.88947555
                      },
                      {
                        "learn": [
                          1.029937576
                        ],
                        "iteration": 189,
                        "passed_time": 18.24579933,
                        "remaining_time": 77.78472344
                      },
                      {
                        "learn": [
                          1.024733299
                        ],
                        "iteration": 190,
                        "passed_time": 18.34120317,
                        "remaining_time": 77.68603856
                      },
                      {
                        "learn": [
                          1.017907553
                        ],
                        "iteration": 191,
                        "passed_time": 18.4316256,
                        "remaining_time": 77.56642439
                      },
                      {
                        "learn": [
                          1.011828699
                        ],
                        "iteration": 192,
                        "passed_time": 18.52032568,
                        "remaining_time": 77.439911
                      },
                      {
                        "learn": [
                          1.005827317
                        ],
                        "iteration": 193,
                        "passed_time": 18.62302688,
                        "remaining_time": 77.37195705
                      },
                      {
                        "learn": [
                          1.000722718
                        ],
                        "iteration": 194,
                        "passed_time": 18.71413802,
                        "remaining_time": 77.25580053
                      },
                      {
                        "learn": [
                          0.9975221677
                        ],
                        "iteration": 195,
                        "passed_time": 18.8041638,
                        "remaining_time": 77.13544742
                      },
                      {
                        "learn": [
                          0.9934081098
                        ],
                        "iteration": 196,
                        "passed_time": 18.87972679,
                        "remaining_time": 76.95644982
                      },
                      {
                        "learn": [
                          0.9886799667
                        ],
                        "iteration": 197,
                        "passed_time": 18.9676815,
                        "remaining_time": 76.82868972
                      },
                      {
                        "learn": [
                          0.985605779
                        ],
                        "iteration": 198,
                        "passed_time": 19.08387849,
                        "remaining_time": 76.81500841
                      },
                      {
                        "learn": [
                          0.9796274598
                        ],
                        "iteration": 199,
                        "passed_time": 19.18582081,
                        "remaining_time": 76.74328323
                      },
                      {
                        "learn": [
                          0.9760348979
                        ],
                        "iteration": 200,
                        "passed_time": 19.26822424,
                        "remaining_time": 76.59358791
                      },
                      {
                        "learn": [
                          0.9716925491
                        ],
                        "iteration": 201,
                        "passed_time": 19.37088053,
                        "remaining_time": 76.52456762
                      },
                      {
                        "learn": [
                          0.9666254439
                        ],
                        "iteration": 202,
                        "passed_time": 19.45669462,
                        "remaining_time": 76.38909168
                      },
                      {
                        "learn": [
                          0.9627374802
                        ],
                        "iteration": 203,
                        "passed_time": 19.54278346,
                        "remaining_time": 76.25517466
                      },
                      {
                        "learn": [
                          0.9562511365
                        ],
                        "iteration": 204,
                        "passed_time": 19.66200275,
                        "remaining_time": 76.25020578
                      },
                      {
                        "learn": [
                          0.9543098759
                        ],
                        "iteration": 205,
                        "passed_time": 19.75572855,
                        "remaining_time": 76.14586637
                      },
                      {
                        "learn": [
                          0.948996679
                        ],
                        "iteration": 206,
                        "passed_time": 19.84943135,
                        "remaining_time": 76.04154136
                      },
                      {
                        "learn": [
                          0.9454947727
                        ],
                        "iteration": 207,
                        "passed_time": 19.94089375,
                        "remaining_time": 75.92878775
                      },
                      {
                        "learn": [
                          0.9415196005
                        ],
                        "iteration": 208,
                        "passed_time": 20.02725256,
                        "remaining_time": 75.79692238
                      },
                      {
                        "learn": [
                          0.9385993214
                        ],
                        "iteration": 209,
                        "passed_time": 20.11923619,
                        "remaining_time": 75.68665042
                      },
                      {
                        "learn": [
                          0.9350490903
                        ],
                        "iteration": 210,
                        "passed_time": 20.2019917,
                        "remaining_time": 75.54204481
                      },
                      {
                        "learn": [
                          0.9314916239
                        ],
                        "iteration": 211,
                        "passed_time": 20.30211248,
                        "remaining_time": 75.46256902
                      },
                      {
                        "learn": [
                          0.9284708693
                        ],
                        "iteration": 212,
                        "passed_time": 20.38476037,
                        "remaining_time": 75.31833997
                      },
                      {
                        "learn": [
                          0.9247850338
                        ],
                        "iteration": 213,
                        "passed_time": 20.47655912,
                        "remaining_time": 75.20829656
                      },
                      {
                        "learn": [
                          0.9203181705
                        ],
                        "iteration": 214,
                        "passed_time": 20.56906274,
                        "remaining_time": 75.10099653
                      },
                      {
                        "learn": [
                          0.9172259352
                        ],
                        "iteration": 215,
                        "passed_time": 20.68150475,
                        "remaining_time": 75.06620243
                      },
                      {
                        "learn": [
                          0.9124714234
                        ],
                        "iteration": 216,
                        "passed_time": 20.76173117,
                        "remaining_time": 74.91444934
                      },
                      {
                        "learn": [
                          0.9098256409
                        ],
                        "iteration": 217,
                        "passed_time": 20.84739503,
                        "remaining_time": 74.78285741
                      },
                      {
                        "learn": [
                          0.9064356065
                        ],
                        "iteration": 218,
                        "passed_time": 20.93974423,
                        "remaining_time": 74.67552622
                      },
                      {
                        "learn": [
                          0.9022223637
                        ],
                        "iteration": 219,
                        "passed_time": 21.01143915,
                        "remaining_time": 74.49510245
                      },
                      {
                        "learn": [
                          0.8979391726
                        ],
                        "iteration": 220,
                        "passed_time": 21.10270058,
                        "remaining_time": 74.38463237
                      },
                      {
                        "learn": [
                          0.8943621467
                        ],
                        "iteration": 221,
                        "passed_time": 21.18841616,
                        "remaining_time": 74.25489987
                      },
                      {
                        "learn": [
                          0.8914524934
                        ],
                        "iteration": 222,
                        "passed_time": 21.2841745,
                        "remaining_time": 74.16055418
                      },
                      {
                        "learn": [
                          0.8864604666
                        ],
                        "iteration": 223,
                        "passed_time": 21.3736394,
                        "remaining_time": 74.04439362
                      },
                      {
                        "learn": [
                          0.8818193028
                        ],
                        "iteration": 224,
                        "passed_time": 21.46908383,
                        "remaining_time": 73.94906652
                      },
                      {
                        "learn": [
                          0.8800074709
                        ],
                        "iteration": 225,
                        "passed_time": 21.5401496,
                        "remaining_time": 73.77024685
                      },
                      {
                        "learn": [
                          0.8765458695
                        ],
                        "iteration": 226,
                        "passed_time": 21.62372064,
                        "remaining_time": 73.63496059
                      },
                      {
                        "learn": [
                          0.874942513
                        ],
                        "iteration": 227,
                        "passed_time": 21.74699271,
                        "remaining_time": 73.63455426
                      },
                      {
                        "learn": [
                          0.8713901574
                        ],
                        "iteration": 228,
                        "passed_time": 21.82787311,
                        "remaining_time": 73.49035008
                      },
                      {
                        "learn": [
                          0.8684913398
                        ],
                        "iteration": 229,
                        "passed_time": 21.91604389,
                        "remaining_time": 73.37110347
                      },
                      {
                        "learn": [
                          0.8632940041
                        ],
                        "iteration": 230,
                        "passed_time": 22.01508427,
                        "remaining_time": 73.28831084
                      },
                      {
                        "learn": [
                          0.8600894555
                        ],
                        "iteration": 231,
                        "passed_time": 22.12562528,
                        "remaining_time": 73.2434492
                      },
                      {
                        "learn": [
                          0.8569893258
                        ],
                        "iteration": 232,
                        "passed_time": 22.21079486,
                        "remaining_time": 73.11450498
                      },
                      {
                        "learn": [
                          0.852893845
                        ],
                        "iteration": 233,
                        "passed_time": 22.3158265,
                        "remaining_time": 73.05095343
                      },
                      {
                        "learn": [
                          0.8474422687
                        ],
                        "iteration": 234,
                        "passed_time": 22.40338734,
                        "remaining_time": 72.93017582
                      },
                      {
                        "learn": [
                          0.8428664251
                        ],
                        "iteration": 235,
                        "passed_time": 22.48834396,
                        "remaining_time": 72.8012491
                      },
                      {
                        "learn": [
                          0.8383632415
                        ],
                        "iteration": 236,
                        "passed_time": 22.57853527,
                        "remaining_time": 72.68954603
                      },
                      {
                        "learn": [
                          0.834878494
                        ],
                        "iteration": 237,
                        "passed_time": 22.66233054,
                        "remaining_time": 72.55754567
                      },
                      {
                        "learn": [
                          0.8333549243
                        ],
                        "iteration": 238,
                        "passed_time": 22.76428855,
                        "remaining_time": 72.48378071
                      },
                      {
                        "learn": [
                          0.8309564001
                        ],
                        "iteration": 239,
                        "passed_time": 22.86651161,
                        "remaining_time": 72.4106201
                      },
                      {
                        "learn": [
                          0.828525252
                        ],
                        "iteration": 240,
                        "passed_time": 22.95840497,
                        "remaining_time": 72.30468619
                      },
                      {
                        "learn": [
                          0.8261869096
                        ],
                        "iteration": 241,
                        "passed_time": 23.05216026,
                        "remaining_time": 72.20470032
                      },
                      {
                        "learn": [
                          0.8234879443
                        ],
                        "iteration": 242,
                        "passed_time": 23.16304505,
                        "remaining_time": 72.158128
                      },
                      {
                        "learn": [
                          0.8185827322
                        ],
                        "iteration": 243,
                        "passed_time": 23.26086419,
                        "remaining_time": 72.07054643
                      },
                      {
                        "learn": [
                          0.8148802814
                        ],
                        "iteration": 244,
                        "passed_time": 23.35794999,
                        "remaining_time": 71.98062139
                      },
                      {
                        "learn": [
                          0.811534085
                        ],
                        "iteration": 245,
                        "passed_time": 23.44479845,
                        "remaining_time": 71.85926031
                      },
                      {
                        "learn": [
                          0.8095708575
                        ],
                        "iteration": 246,
                        "passed_time": 23.54117741,
                        "remaining_time": 71.76723315
                      },
                      {
                        "learn": [
                          0.8053216093
                        ],
                        "iteration": 247,
                        "passed_time": 23.63893844,
                        "remaining_time": 71.67936171
                      },
                      {
                        "learn": [
                          0.8032428895
                        ],
                        "iteration": 248,
                        "passed_time": 23.73606083,
                        "remaining_time": 71.58948467
                      },
                      {
                        "learn": [
                          0.8021759608
                        ],
                        "iteration": 249,
                        "passed_time": 23.83530243,
                        "remaining_time": 71.5059073
                      },
                      {
                        "learn": [
                          0.8000459585
                        ],
                        "iteration": 250,
                        "passed_time": 23.93309272,
                        "remaining_time": 71.41787429
                      },
                      {
                        "learn": [
                          0.7987920646
                        ],
                        "iteration": 251,
                        "passed_time": 24.02342754,
                        "remaining_time": 71.30763413
                      },
                      {
                        "learn": [
                          0.7962782566
                        ],
                        "iteration": 252,
                        "passed_time": 24.14087232,
                        "remaining_time": 71.27759535
                      },
                      {
                        "learn": [
                          0.7923356879
                        ],
                        "iteration": 253,
                        "passed_time": 24.25881559,
                        "remaining_time": 71.24833241
                      },
                      {
                        "learn": [
                          0.7880861558
                        ],
                        "iteration": 254,
                        "passed_time": 24.39387613,
                        "remaining_time": 71.26838321
                      },
                      {
                        "learn": [
                          0.7846798349
                        ],
                        "iteration": 255,
                        "passed_time": 24.54995031,
                        "remaining_time": 71.34829308
                      },
                      {
                        "learn": [
                          0.7812439865
                        ],
                        "iteration": 256,
                        "passed_time": 24.70456049,
                        "remaining_time": 71.42213403
                      },
                      {
                        "learn": [
                          0.7784176016
                        ],
                        "iteration": 257,
                        "passed_time": 24.84816265,
                        "remaining_time": 71.4625453
                      },
                      {
                        "learn": [
                          0.7749059972
                        ],
                        "iteration": 258,
                        "passed_time": 24.96921984,
                        "remaining_time": 71.43703436
                      },
                      {
                        "learn": [
                          0.7712263349
                        ],
                        "iteration": 259,
                        "passed_time": 25.14927207,
                        "remaining_time": 71.57869742
                      },
                      {
                        "learn": [
                          0.7697926212
                        ],
                        "iteration": 260,
                        "passed_time": 25.31110102,
                        "remaining_time": 71.66629753
                      },
                      {
                        "learn": [
                          0.7659094855
                        ],
                        "iteration": 261,
                        "passed_time": 25.47162727,
                        "remaining_time": 71.74832415
                      },
                      {
                        "learn": [
                          0.7634824919
                        ],
                        "iteration": 262,
                        "passed_time": 25.60984519,
                        "remaining_time": 71.76599202
                      },
                      {
                        "learn": [
                          0.7605221783
                        ],
                        "iteration": 263,
                        "passed_time": 25.79947752,
                        "remaining_time": 71.92581612
                      },
                      {
                        "learn": [
                          0.7579980557
                        ],
                        "iteration": 264,
                        "passed_time": 25.96550115,
                        "remaining_time": 72.01752205
                      },
                      {
                        "learn": [
                          0.7535006654
                        ],
                        "iteration": 265,
                        "passed_time": 26.13179285,
                        "remaining_time": 72.10802989
                      },
                      {
                        "learn": [
                          0.7504990864
                        ],
                        "iteration": 266,
                        "passed_time": 26.30053525,
                        "remaining_time": 72.20334209
                      },
                      {
                        "learn": [
                          0.7467202558
                        ],
                        "iteration": 267,
                        "passed_time": 26.4522002,
                        "remaining_time": 72.25003935
                      },
                      {
                        "learn": [
                          0.7427102119
                        ],
                        "iteration": 268,
                        "passed_time": 26.62707042,
                        "remaining_time": 72.35832147
                      },
                      {
                        "learn": [
                          0.7408481441
                        ],
                        "iteration": 269,
                        "passed_time": 26.78469206,
                        "remaining_time": 72.41787111
                      },
                      {
                        "learn": [
                          0.7383635254
                        ],
                        "iteration": 270,
                        "passed_time": 26.88918279,
                        "remaining_time": 72.33289392
                      },
                      {
                        "learn": [
                          0.7353176328
                        ],
                        "iteration": 271,
                        "passed_time": 26.97106932,
                        "remaining_time": 72.18727377
                      },
                      {
                        "learn": [
                          0.7320973196
                        ],
                        "iteration": 272,
                        "passed_time": 27.05479651,
                        "remaining_time": 72.04702222
                      },
                      {
                        "learn": [
                          0.7290286344
                        ],
                        "iteration": 273,
                        "passed_time": 27.13999202,
                        "remaining_time": 71.91107374
                      },
                      {
                        "learn": [
                          0.7258059036
                        ],
                        "iteration": 274,
                        "passed_time": 27.26013973,
                        "remaining_time": 71.8676411
                      },
                      {
                        "learn": [
                          0.7241502319
                        ],
                        "iteration": 275,
                        "passed_time": 27.36084264,
                        "remaining_time": 71.77264518
                      },
                      {
                        "learn": [
                          0.7212790115
                        ],
                        "iteration": 276,
                        "passed_time": 27.44831262,
                        "remaining_time": 71.64306868
                      },
                      {
                        "learn": [
                          0.7191929917
                        ],
                        "iteration": 277,
                        "passed_time": 27.53883654,
                        "remaining_time": 71.52172657
                      },
                      {
                        "learn": [
                          0.7151055753
                        ],
                        "iteration": 278,
                        "passed_time": 27.63495293,
                        "remaining_time": 71.41505758
                      },
                      {
                        "learn": [
                          0.7098025198
                        ],
                        "iteration": 279,
                        "passed_time": 27.72249229,
                        "remaining_time": 71.28640875
                      },
                      {
                        "learn": [
                          0.7075098921
                        ],
                        "iteration": 280,
                        "passed_time": 27.80495857,
                        "remaining_time": 71.14507193
                      },
                      {
                        "learn": [
                          0.7033290543
                        ],
                        "iteration": 281,
                        "passed_time": 27.90234136,
                        "remaining_time": 71.04213154
                      },
                      {
                        "learn": [
                          0.7018364626
                        ],
                        "iteration": 282,
                        "passed_time": 27.9842377,
                        "remaining_time": 70.89999446
                      },
                      {
                        "learn": [
                          0.6979965559
                        ],
                        "iteration": 283,
                        "passed_time": 28.06526267,
                        "remaining_time": 70.75608476
                      },
                      {
                        "learn": [
                          0.6933444492
                        ],
                        "iteration": 284,
                        "passed_time": 28.15216071,
                        "remaining_time": 70.62735056
                      },
                      {
                        "learn": [
                          0.6902459968
                        ],
                        "iteration": 285,
                        "passed_time": 28.26496868,
                        "remaining_time": 70.56359314
                      },
                      {
                        "learn": [
                          0.6884981661
                        ],
                        "iteration": 286,
                        "passed_time": 28.34550663,
                        "remaining_time": 70.41932483
                      },
                      {
                        "learn": [
                          0.6849266769
                        ],
                        "iteration": 287,
                        "passed_time": 28.42787134,
                        "remaining_time": 70.28001525
                      },
                      {
                        "learn": [
                          0.6831480844
                        ],
                        "iteration": 288,
                        "passed_time": 28.50542353,
                        "remaining_time": 70.12925996
                      },
                      {
                        "learn": [
                          0.6808445661
                        ],
                        "iteration": 289,
                        "passed_time": 28.589354,
                        "remaining_time": 69.99462532
                      },
                      {
                        "learn": [
                          0.6797099274
                        ],
                        "iteration": 290,
                        "passed_time": 28.67977353,
                        "remaining_time": 69.87614925
                      },
                      {
                        "learn": [
                          0.6791214936
                        ],
                        "iteration": 291,
                        "passed_time": 28.7707022,
                        "remaining_time": 69.75909986
                      },
                      {
                        "learn": [
                          0.6777076905
                        ],
                        "iteration": 292,
                        "passed_time": 28.86868999,
                        "remaining_time": 69.65926218
                      },
                      {
                        "learn": [
                          0.6754052203
                        ],
                        "iteration": 293,
                        "passed_time": 28.96627339,
                        "remaining_time": 69.55846604
                      },
                      {
                        "learn": [
                          0.6723227314
                        ],
                        "iteration": 294,
                        "passed_time": 29.04878717,
                        "remaining_time": 69.4216778
                      },
                      {
                        "learn": [
                          0.6703852443
                        ],
                        "iteration": 295,
                        "passed_time": 29.14034571,
                        "remaining_time": 69.30676817
                      },
                      {
                        "learn": [
                          0.6671091753
                        ],
                        "iteration": 296,
                        "passed_time": 29.25702247,
                        "remaining_time": 69.25147069
                      },
                      {
                        "learn": [
                          0.6641344577
                        ],
                        "iteration": 297,
                        "passed_time": 29.34993383,
                        "remaining_time": 69.139777
                      },
                      {
                        "learn": [
                          0.6615986683
                        ],
                        "iteration": 298,
                        "passed_time": 29.44411748,
                        "remaining_time": 69.03119181
                      },
                      {
                        "learn": [
                          0.6601215409
                        ],
                        "iteration": 299,
                        "passed_time": 29.50827759,
                        "remaining_time": 68.85264771
                      },
                      {
                        "learn": [
                          0.6585193641
                        ],
                        "iteration": 300,
                        "passed_time": 29.59875864,
                        "remaining_time": 68.73598766
                      },
                      {
                        "learn": [
                          0.6554451954
                        ],
                        "iteration": 301,
                        "passed_time": 29.68994525,
                        "remaining_time": 68.62113173
                      },
                      {
                        "learn": [
                          0.6531855054
                        ],
                        "iteration": 302,
                        "passed_time": 29.78287451,
                        "remaining_time": 68.5104407
                      },
                      {
                        "learn": [
                          0.6499297586
                        ],
                        "iteration": 303,
                        "passed_time": 29.87689454,
                        "remaining_time": 68.40236381
                      },
                      {
                        "learn": [
                          0.648432726
                        ],
                        "iteration": 304,
                        "passed_time": 29.97358209,
                        "remaining_time": 68.30045756
                      },
                      {
                        "learn": [
                          0.6467154111
                        ],
                        "iteration": 305,
                        "passed_time": 30.06724018,
                        "remaining_time": 68.19171465
                      },
                      {
                        "learn": [
                          0.6455999749
                        ],
                        "iteration": 306,
                        "passed_time": 30.16098964,
                        "remaining_time": 68.0832763
                      },
                      {
                        "learn": [
                          0.6421915439
                        ],
                        "iteration": 307,
                        "passed_time": 30.27925873,
                        "remaining_time": 68.03002286
                      },
                      {
                        "learn": [
                          0.6410846623
                        ],
                        "iteration": 308,
                        "passed_time": 30.37280504,
                        "remaining_time": 67.9210624
                      },
                      {
                        "learn": [
                          0.6399137808
                        ],
                        "iteration": 309,
                        "passed_time": 30.46933764,
                        "remaining_time": 67.81884831
                      },
                      {
                        "learn": [
                          0.6382571342
                        ],
                        "iteration": 310,
                        "passed_time": 30.55266916,
                        "remaining_time": 67.6874246
                      },
                      {
                        "learn": [
                          0.636163843
                        ],
                        "iteration": 311,
                        "passed_time": 30.6428544,
                        "remaining_time": 67.57142253
                      },
                      {
                        "learn": [
                          0.634676476
                        ],
                        "iteration": 312,
                        "passed_time": 30.72944094,
                        "remaining_time": 67.44768667
                      },
                      {
                        "learn": [
                          0.6319340925
                        ],
                        "iteration": 313,
                        "passed_time": 30.82324046,
                        "remaining_time": 67.33994571
                      },
                      {
                        "learn": [
                          0.6292597136
                        ],
                        "iteration": 314,
                        "passed_time": 30.91783941,
                        "remaining_time": 67.23403172
                      },
                      {
                        "learn": [
                          0.6277048151
                        ],
                        "iteration": 315,
                        "passed_time": 31.02016974,
                        "remaining_time": 67.14492438
                      },
                      {
                        "learn": [
                          0.6242809076
                        ],
                        "iteration": 316,
                        "passed_time": 31.11159954,
                        "remaining_time": 67.0322476
                      },
                      {
                        "learn": [
                          0.6218266449
                        ],
                        "iteration": 317,
                        "passed_time": 31.21180452,
                        "remaining_time": 66.93852416
                      },
                      {
                        "learn": [
                          0.6189479723
                        ],
                        "iteration": 318,
                        "passed_time": 31.31421011,
                        "remaining_time": 66.84945794
                      },
                      {
                        "learn": [
                          0.6155841454
                        ],
                        "iteration": 319,
                        "passed_time": 31.40773415,
                        "remaining_time": 66.74143506
                      },
                      {
                        "learn": [
                          0.6113450492
                        ],
                        "iteration": 320,
                        "passed_time": 31.49139762,
                        "remaining_time": 66.61264482
                      },
                      {
                        "learn": [
                          0.6099264587
                        ],
                        "iteration": 321,
                        "passed_time": 31.57591916,
                        "remaining_time": 66.48594158
                      },
                      {
                        "learn": [
                          0.6086912001
                        ],
                        "iteration": 322,
                        "passed_time": 31.66941186,
                        "remaining_time": 66.37830287
                      },
                      {
                        "learn": [
                          0.6060305884
                        ],
                        "iteration": 323,
                        "passed_time": 31.76448672,
                        "remaining_time": 66.27405254
                      },
                      {
                        "learn": [
                          0.6027968216
                        ],
                        "iteration": 324,
                        "passed_time": 31.85048041,
                        "remaining_time": 66.15099777
                      },
                      {
                        "learn": [
                          0.6015348135
                        ],
                        "iteration": 325,
                        "passed_time": 31.93140493,
                        "remaining_time": 66.01768995
                      },
                      {
                        "learn": [
                          0.5992635404
                        ],
                        "iteration": 326,
                        "passed_time": 32.0406259,
                        "remaining_time": 65.94293955
                      },
                      {
                        "learn": [
                          0.5957767123
                        ],
                        "iteration": 327,
                        "passed_time": 32.12354896,
                        "remaining_time": 65.8141003
                      },
                      {
                        "learn": [
                          0.5927497373
                        ],
                        "iteration": 328,
                        "passed_time": 32.23137623,
                        "remaining_time": 65.73633267
                      },
                      {
                        "learn": [
                          0.5902447482
                        ],
                        "iteration": 329,
                        "passed_time": 32.33572515,
                        "remaining_time": 65.65132077
                      },
                      {
                        "learn": [
                          0.5877956186
                        ],
                        "iteration": 330,
                        "passed_time": 32.41295247,
                        "remaining_time": 65.51137523
                      },
                      {
                        "learn": [
                          0.586341453
                        ],
                        "iteration": 331,
                        "passed_time": 32.47877607,
                        "remaining_time": 65.34886269
                      },
                      {
                        "learn": [
                          0.5837072911
                        ],
                        "iteration": 332,
                        "passed_time": 32.56824187,
                        "remaining_time": 65.23428626
                      },
                      {
                        "learn": [
                          0.5809649166
                        ],
                        "iteration": 333,
                        "passed_time": 32.65603849,
                        "remaining_time": 65.11653183
                      },
                      {
                        "learn": [
                          0.5784875081
                        ],
                        "iteration": 334,
                        "passed_time": 32.73512476,
                        "remaining_time": 64.98166558
                      },
                      {
                        "learn": [
                          0.5759873498
                        ],
                        "iteration": 335,
                        "passed_time": 32.81757482,
                        "remaining_time": 64.8537788
                      },
                      {
                        "learn": [
                          0.5737110673
                        ],
                        "iteration": 336,
                        "passed_time": 32.91505604,
                        "remaining_time": 64.7557334
                      },
                      {
                        "learn": [
                          0.5721879945
                        ],
                        "iteration": 337,
                        "passed_time": 33.01295622,
                        "remaining_time": 64.65851188
                      },
                      {
                        "learn": [
                          0.5709766411
                        ],
                        "iteration": 338,
                        "passed_time": 33.11131901,
                        "remaining_time": 64.56218839
                      },
                      {
                        "learn": [
                          0.5685447342
                        ],
                        "iteration": 339,
                        "passed_time": 33.20154007,
                        "remaining_time": 64.45004837
                      },
                      {
                        "learn": [
                          0.5647539839
                        ],
                        "iteration": 340,
                        "passed_time": 33.3073168,
                        "remaining_time": 64.36809903
                      },
                      {
                        "learn": [
                          0.5642905882
                        ],
                        "iteration": 341,
                        "passed_time": 33.38763298,
                        "remaining_time": 64.23702485
                      },
                      {
                        "learn": [
                          0.5616538623
                        ],
                        "iteration": 342,
                        "passed_time": 33.47496794,
                        "remaining_time": 64.11969077
                      },
                      {
                        "learn": [
                          0.5590787062
                        ],
                        "iteration": 343,
                        "passed_time": 33.56881189,
                        "remaining_time": 64.0149436
                      },
                      {
                        "learn": [
                          0.5566898255
                        ],
                        "iteration": 344,
                        "passed_time": 33.66127634,
                        "remaining_time": 63.90764059
                      },
                      {
                        "learn": [
                          0.5542271623
                        ],
                        "iteration": 345,
                        "passed_time": 33.74594577,
                        "remaining_time": 63.78568941
                      },
                      {
                        "learn": [
                          0.5526113601
                        ],
                        "iteration": 346,
                        "passed_time": 33.82552024,
                        "remaining_time": 63.65436517
                      },
                      {
                        "learn": [
                          0.5513435713
                        ],
                        "iteration": 347,
                        "passed_time": 33.91627466,
                        "remaining_time": 63.54428471
                      },
                      {
                        "learn": [
                          0.5494224428
                        ],
                        "iteration": 348,
                        "passed_time": 34.01683506,
                        "remaining_time": 63.45260638
                      },
                      {
                        "learn": [
                          0.5478923225
                        ],
                        "iteration": 349,
                        "passed_time": 34.11150147,
                        "remaining_time": 63.34993129
                      },
                      {
                        "learn": [
                          0.5465263329
                        ],
                        "iteration": 350,
                        "passed_time": 34.20725585,
                        "remaining_time": 63.24931353
                      },
                      {
                        "learn": [
                          0.5450556051
                        ],
                        "iteration": 351,
                        "passed_time": 34.31322196,
                        "remaining_time": 63.16752225
                      },
                      {
                        "learn": [
                          0.54356966
                        ],
                        "iteration": 352,
                        "passed_time": 34.39768614,
                        "remaining_time": 63.04618395
                      },
                      {
                        "learn": [
                          0.5428854058
                        ],
                        "iteration": 353,
                        "passed_time": 34.50371315,
                        "remaining_time": 62.9644031
                      },
                      {
                        "learn": [
                          0.5423323286
                        ],
                        "iteration": 354,
                        "passed_time": 34.59600391,
                        "remaining_time": 62.85752823
                      },
                      {
                        "learn": [
                          0.5408027173
                        ],
                        "iteration": 355,
                        "passed_time": 34.68589174,
                        "remaining_time": 62.74638843
                      },
                      {
                        "learn": [
                          0.5389963484
                        ],
                        "iteration": 356,
                        "passed_time": 34.78608752,
                        "remaining_time": 62.65393355
                      },
                      {
                        "learn": [
                          0.5367744564
                        ],
                        "iteration": 357,
                        "passed_time": 34.8670692,
                        "remaining_time": 62.52697885
                      },
                      {
                        "learn": [
                          0.5347194402
                        ],
                        "iteration": 358,
                        "passed_time": 34.96506123,
                        "remaining_time": 62.43065251
                      },
                      {
                        "learn": [
                          0.5344423697
                        ],
                        "iteration": 359,
                        "passed_time": 35.07045529,
                        "remaining_time": 62.34747608
                      },
                      {
                        "learn": [
                          0.5331325257
                        ],
                        "iteration": 360,
                        "passed_time": 35.17042162,
                        "remaining_time": 62.25456901
                      },
                      {
                        "learn": [
                          0.5315698117
                        ],
                        "iteration": 361,
                        "passed_time": 35.26201085,
                        "remaining_time": 62.14685891
                      },
                      {
                        "learn": [
                          0.5297930318
                        ],
                        "iteration": 362,
                        "passed_time": 35.36336419,
                        "remaining_time": 62.05637187
                      },
                      {
                        "learn": [
                          0.5276554728
                        ],
                        "iteration": 363,
                        "passed_time": 35.45938887,
                        "remaining_time": 61.95651462
                      },
                      {
                        "learn": [
                          0.5263454298
                        ],
                        "iteration": 364,
                        "passed_time": 35.55142847,
                        "remaining_time": 61.84974543
                      },
                      {
                        "learn": [
                          0.5236088209
                        ],
                        "iteration": 365,
                        "passed_time": 35.65290191,
                        "remaining_time": 61.75939839
                      },
                      {
                        "learn": [
                          0.5211842999
                        ],
                        "iteration": 366,
                        "passed_time": 35.74787025,
                        "remaining_time": 61.65777075
                      },
                      {
                        "learn": [
                          0.5192375424
                        ],
                        "iteration": 367,
                        "passed_time": 35.83174577,
                        "remaining_time": 61.53712861
                      },
                      {
                        "learn": [
                          0.5180812217
                        ],
                        "iteration": 368,
                        "passed_time": 35.9199376,
                        "remaining_time": 61.42406674
                      },
                      {
                        "learn": [
                          0.5154951231
                        ],
                        "iteration": 369,
                        "passed_time": 36.00546511,
                        "remaining_time": 61.30660276
                      },
                      {
                        "learn": [
                          0.5129419003
                        ],
                        "iteration": 370,
                        "passed_time": 36.10846552,
                        "remaining_time": 61.2189348
                      },
                      {
                        "learn": [
                          0.5109231131
                        ],
                        "iteration": 371,
                        "passed_time": 36.23041188,
                        "remaining_time": 61.16316844
                      },
                      {
                        "learn": [
                          0.5097983583
                        ],
                        "iteration": 372,
                        "passed_time": 36.33556823,
                        "remaining_time": 61.07882382
                      },
                      {
                        "learn": [
                          0.5079479725
                        ],
                        "iteration": 373,
                        "passed_time": 36.4245378,
                        "remaining_time": 60.9672745
                      },
                      {
                        "learn": [
                          0.5052833639
                        ],
                        "iteration": 374,
                        "passed_time": 36.51378146,
                        "remaining_time": 60.85630243
                      },
                      {
                        "learn": [
                          0.5038486768
                        ],
                        "iteration": 375,
                        "passed_time": 36.59598597,
                        "remaining_time": 60.73376394
                      },
                      {
                        "learn": [
                          0.5016215083
                        ],
                        "iteration": 376,
                        "passed_time": 36.68169589,
                        "remaining_time": 60.6172322
                      },
                      {
                        "learn": [
                          0.5009368816
                        ],
                        "iteration": 377,
                        "passed_time": 36.81195991,
                        "remaining_time": 60.57417741
                      },
                      {
                        "learn": [
                          0.4996641924
                        ],
                        "iteration": 378,
                        "passed_time": 36.94390986,
                        "remaining_time": 60.53342487
                      },
                      {
                        "learn": [
                          0.4975623573
                        ],
                        "iteration": 379,
                        "passed_time": 37.11750186,
                        "remaining_time": 60.56013461
                      },
                      {
                        "learn": [
                          0.4952033558
                        ],
                        "iteration": 380,
                        "passed_time": 37.30548698,
                        "remaining_time": 60.609177
                      },
                      {
                        "learn": [
                          0.4942921178
                        ],
                        "iteration": 381,
                        "passed_time": 37.47356516,
                        "remaining_time": 60.62477296
                      },
                      {
                        "learn": [
                          0.4919281768
                        ],
                        "iteration": 382,
                        "passed_time": 37.64718165,
                        "remaining_time": 60.6483318
                      },
                      {
                        "learn": [
                          0.4894388349
                        ],
                        "iteration": 383,
                        "passed_time": 37.79826793,
                        "remaining_time": 60.63472148
                      },
                      {
                        "learn": [
                          0.4879482553
                        ],
                        "iteration": 384,
                        "passed_time": 37.95694536,
                        "remaining_time": 60.63252311
                      },
                      {
                        "learn": [
                          0.4864954017
                        ],
                        "iteration": 385,
                        "passed_time": 38.1382954,
                        "remaining_time": 60.6655787
                      },
                      {
                        "learn": [
                          0.4835038837
                        ],
                        "iteration": 386,
                        "passed_time": 38.31829646,
                        "remaining_time": 60.69538948
                      },
                      {
                        "learn": [
                          0.4826001278
                        ],
                        "iteration": 387,
                        "passed_time": 38.49070149,
                        "remaining_time": 60.7121374
                      },
                      {
                        "learn": [
                          0.4814338093
                        ],
                        "iteration": 388,
                        "passed_time": 38.65506767,
                        "remaining_time": 60.71528624
                      },
                      {
                        "learn": [
                          0.480232988
                        ],
                        "iteration": 389,
                        "passed_time": 38.81565833,
                        "remaining_time": 60.71167073
                      },
                      {
                        "learn": [
                          0.4778563061
                        ],
                        "iteration": 390,
                        "passed_time": 38.9597097,
                        "remaining_time": 60.68149157
                      },
                      {
                        "learn": [
                          0.4746679835
                        ],
                        "iteration": 391,
                        "passed_time": 39.11479656,
                        "remaining_time": 60.66784772
                      },
                      {
                        "learn": [
                          0.4733388464
                        ],
                        "iteration": 392,
                        "passed_time": 39.24242626,
                        "remaining_time": 60.61107567
                      },
                      {
                        "learn": [
                          0.4724917693
                        ],
                        "iteration": 393,
                        "passed_time": 39.34179609,
                        "remaining_time": 60.51047825
                      },
                      {
                        "learn": [
                          0.4707961262
                        ],
                        "iteration": 394,
                        "passed_time": 39.4382643,
                        "remaining_time": 60.40544279
                      },
                      {
                        "learn": [
                          0.4681095384
                        ],
                        "iteration": 395,
                        "passed_time": 39.5204677,
                        "remaining_time": 60.27869316
                      },
                      {
                        "learn": [
                          0.4670577253
                        ],
                        "iteration": 396,
                        "passed_time": 39.61511593,
                        "remaining_time": 60.17107029
                      },
                      {
                        "learn": [
                          0.4650850993
                        ],
                        "iteration": 397,
                        "passed_time": 39.69121711,
                        "remaining_time": 60.03545905
                      },
                      {
                        "learn": [
                          0.4637781474
                        ],
                        "iteration": 398,
                        "passed_time": 39.77656017,
                        "remaining_time": 59.91406683
                      },
                      {
                        "learn": [
                          0.4622124394
                        ],
                        "iteration": 399,
                        "passed_time": 39.85741846,
                        "remaining_time": 59.78612768
                      },
                      {
                        "learn": [
                          0.4607024107
                        ],
                        "iteration": 400,
                        "passed_time": 39.96008522,
                        "remaining_time": 59.69100012
                      },
                      {
                        "learn": [
                          0.4593677759
                        ],
                        "iteration": 401,
                        "passed_time": 40.04516193,
                        "remaining_time": 59.56966874
                      },
                      {
                        "learn": [
                          0.4572031093
                        ],
                        "iteration": 402,
                        "passed_time": 40.142451,
                        "remaining_time": 59.46660855
                      },
                      {
                        "learn": [
                          0.4561572299
                        ],
                        "iteration": 403,
                        "passed_time": 40.24706699,
                        "remaining_time": 59.37438596
                      },
                      {
                        "learn": [
                          0.455074536
                        ],
                        "iteration": 404,
                        "passed_time": 40.35888761,
                        "remaining_time": 59.29268673
                      },
                      {
                        "learn": [
                          0.4537482534
                        ],
                        "iteration": 405,
                        "passed_time": 40.45959032,
                        "remaining_time": 59.19457303
                      },
                      {
                        "learn": [
                          0.4515794008
                        ],
                        "iteration": 406,
                        "passed_time": 40.55793671,
                        "remaining_time": 59.09301343
                      },
                      {
                        "learn": [
                          0.4499732995
                        ],
                        "iteration": 407,
                        "passed_time": 40.65559472,
                        "remaining_time": 58.99047077
                      },
                      {
                        "learn": [
                          0.4476410185
                        ],
                        "iteration": 408,
                        "passed_time": 40.7471334,
                        "remaining_time": 58.87910963
                      },
                      {
                        "learn": [
                          0.4462666973
                        ],
                        "iteration": 409,
                        "passed_time": 40.83607987,
                        "remaining_time": 58.76411494
                      },
                      {
                        "learn": [
                          0.4447489382
                        ],
                        "iteration": 410,
                        "passed_time": 40.91801906,
                        "remaining_time": 58.63920494
                      },
                      {
                        "learn": [
                          0.4420422119
                        ],
                        "iteration": 411,
                        "passed_time": 41.00546098,
                        "remaining_time": 58.52235693
                      },
                      {
                        "learn": [
                          0.4400480283
                        ],
                        "iteration": 412,
                        "passed_time": 41.09712723,
                        "remaining_time": 58.41165541
                      },
                      {
                        "learn": [
                          0.4389561787
                        ],
                        "iteration": 413,
                        "passed_time": 41.18879872,
                        "remaining_time": 58.30105326
                      },
                      {
                        "learn": [
                          0.4382141086
                        ],
                        "iteration": 414,
                        "passed_time": 41.28601508,
                        "remaining_time": 58.19835861
                      },
                      {
                        "learn": [
                          0.43780822
                        ],
                        "iteration": 415,
                        "passed_time": 41.38480459,
                        "remaining_time": 58.09789876
                      },
                      {
                        "learn": [
                          0.4364584658
                        ],
                        "iteration": 416,
                        "passed_time": 41.46287789,
                        "remaining_time": 57.96848396
                      },
                      {
                        "learn": [
                          0.4351198749
                        ],
                        "iteration": 417,
                        "passed_time": 41.5406986,
                        "remaining_time": 57.83896312
                      },
                      {
                        "learn": [
                          0.43282125
                        ],
                        "iteration": 418,
                        "passed_time": 41.63768274,
                        "remaining_time": 57.73626174
                      },
                      {
                        "learn": [
                          0.4311951799
                        ],
                        "iteration": 419,
                        "passed_time": 41.73429807,
                        "remaining_time": 57.63307829
                      },
                      {
                        "learn": [
                          0.4298778062
                        ],
                        "iteration": 420,
                        "passed_time": 41.82764684,
                        "remaining_time": 57.52543355
                      },
                      {
                        "learn": [
                          0.4286470597
                        ],
                        "iteration": 421,
                        "passed_time": 41.92295535,
                        "remaining_time": 57.42054074
                      },
                      {
                        "learn": [
                          0.4265806957
                        ],
                        "iteration": 422,
                        "passed_time": 42.00880409,
                        "remaining_time": 57.30278951
                      },
                      {
                        "learn": [
                          0.4259225342
                        ],
                        "iteration": 423,
                        "passed_time": 42.09708449,
                        "remaining_time": 57.18849213
                      },
                      {
                        "learn": [
                          0.425321244
                        ],
                        "iteration": 424,
                        "passed_time": 42.18558977,
                        "remaining_time": 57.07462145
                      },
                      {
                        "learn": [
                          0.4234800975
                        ],
                        "iteration": 425,
                        "passed_time": 42.28478523,
                        "remaining_time": 56.975274
                      },
                      {
                        "learn": [
                          0.4223499712
                        ],
                        "iteration": 426,
                        "passed_time": 42.39874906,
                        "remaining_time": 56.89574522
                      },
                      {
                        "learn": [
                          0.4209850443
                        ],
                        "iteration": 427,
                        "passed_time": 42.50009731,
                        "remaining_time": 56.79919547
                      },
                      {
                        "learn": [
                          0.4195584583
                        ],
                        "iteration": 428,
                        "passed_time": 42.59965888,
                        "remaining_time": 56.70024527
                      },
                      {
                        "learn": [
                          0.4178378672
                        ],
                        "iteration": 429,
                        "passed_time": 42.68667218,
                        "remaining_time": 56.58465848
                      },
                      {
                        "learn": [
                          0.4166141578
                        ],
                        "iteration": 430,
                        "passed_time": 42.77464753,
                        "remaining_time": 56.47047435
                      },
                      {
                        "learn": [
                          0.4148974104
                        ],
                        "iteration": 431,
                        "passed_time": 42.86136753,
                        "remaining_time": 56.35476101
                      },
                      {
                        "learn": [
                          0.4134772756
                        ],
                        "iteration": 432,
                        "passed_time": 42.95439166,
                        "remaining_time": 56.24743665
                      },
                      {
                        "learn": [
                          0.4120870386
                        ],
                        "iteration": 433,
                        "passed_time": 43.02840947,
                        "remaining_time": 56.11539115
                      },
                      {
                        "learn": [
                          0.4114018254
                        ],
                        "iteration": 434,
                        "passed_time": 43.120392,
                        "remaining_time": 56.00694593
                      },
                      {
                        "learn": [
                          0.4093819287
                        ],
                        "iteration": 435,
                        "passed_time": 43.19714682,
                        "remaining_time": 55.87887799
                      },
                      {
                        "learn": [
                          0.4079167738
                        ],
                        "iteration": 436,
                        "passed_time": 43.27771288,
                        "remaining_time": 55.75595504
                      },
                      {
                        "learn": [
                          0.4068771035
                        ],
                        "iteration": 437,
                        "passed_time": 43.38071654,
                        "remaining_time": 55.66201529
                      },
                      {
                        "learn": [
                          0.4054940666
                        ],
                        "iteration": 438,
                        "passed_time": 43.53533184,
                        "remaining_time": 55.63398898
                      },
                      {
                        "learn": [
                          0.4039688771
                        ],
                        "iteration": 439,
                        "passed_time": 43.6270323,
                        "remaining_time": 55.52531383
                      },
                      {
                        "learn": [
                          0.4025125902
                        ],
                        "iteration": 440,
                        "passed_time": 43.71620327,
                        "remaining_time": 55.41350936
                      },
                      {
                        "learn": [
                          0.4011999262
                        ],
                        "iteration": 441,
                        "passed_time": 43.80418416,
                        "remaining_time": 55.30030489
                      },
                      {
                        "learn": [
                          0.3993368711
                        ],
                        "iteration": 442,
                        "passed_time": 43.89738229,
                        "remaining_time": 55.19377412
                      },
                      {
                        "learn": [
                          0.3983154422
                        ],
                        "iteration": 443,
                        "passed_time": 43.97885561,
                        "remaining_time": 55.07262099
                      },
                      {
                        "learn": [
                          0.3965869486
                        ],
                        "iteration": 444,
                        "passed_time": 44.07078708,
                        "remaining_time": 54.9646895
                      },
                      {
                        "learn": [
                          0.3953688146
                        ],
                        "iteration": 445,
                        "passed_time": 44.1496166,
                        "remaining_time": 54.84055515
                      },
                      {
                        "learn": [
                          0.3945355077
                        ],
                        "iteration": 446,
                        "passed_time": 44.23873711,
                        "remaining_time": 54.72935486
                      },
                      {
                        "learn": [
                          0.3937498031
                        ],
                        "iteration": 447,
                        "passed_time": 44.3154693,
                        "remaining_time": 54.60298896
                      },
                      {
                        "learn": [
                          0.3929238135
                        ],
                        "iteration": 448,
                        "passed_time": 44.43405164,
                        "remaining_time": 54.52820146
                      },
                      {
                        "learn": [
                          0.3909798085
                        ],
                        "iteration": 449,
                        "passed_time": 44.54658425,
                        "remaining_time": 54.44582519
                      },
                      {
                        "learn": [
                          0.3897683787
                        ],
                        "iteration": 450,
                        "passed_time": 44.63705281,
                        "remaining_time": 54.33645674
                      },
                      {
                        "learn": [
                          0.3892873671
                        ],
                        "iteration": 451,
                        "passed_time": 44.73091733,
                        "remaining_time": 54.23128915
                      },
                      {
                        "learn": [
                          0.3879472027
                        ],
                        "iteration": 452,
                        "passed_time": 44.82730374,
                        "remaining_time": 54.12921666
                      },
                      {
                        "learn": [
                          0.3868308411
                        ],
                        "iteration": 453,
                        "passed_time": 44.92121126,
                        "remaining_time": 54.02418799
                      },
                      {
                        "learn": [
                          0.3854990629
                        ],
                        "iteration": 454,
                        "passed_time": 45.01597757,
                        "remaining_time": 53.92023687
                      },
                      {
                        "learn": [
                          0.3849926636
                        ],
                        "iteration": 455,
                        "passed_time": 45.11017756,
                        "remaining_time": 53.81565043
                      },
                      {
                        "learn": [
                          0.3838315951
                        ],
                        "iteration": 456,
                        "passed_time": 45.19303643,
                        "remaining_time": 53.69763409
                      },
                      {
                        "learn": [
                          0.3829074651
                        ],
                        "iteration": 457,
                        "passed_time": 45.29095883,
                        "remaining_time": 53.59759757
                      },
                      {
                        "learn": [
                          0.3821146735
                        ],
                        "iteration": 458,
                        "passed_time": 45.38349511,
                        "remaining_time": 53.49122191
                      },
                      {
                        "learn": [
                          0.3814722983
                        ],
                        "iteration": 459,
                        "passed_time": 45.51907688,
                        "remaining_time": 53.43543807
                      },
                      {
                        "learn": [
                          0.3812686774
                        ],
                        "iteration": 460,
                        "passed_time": 45.60719175,
                        "remaining_time": 53.32380988
                      },
                      {
                        "learn": [
                          0.3804169076
                        ],
                        "iteration": 461,
                        "passed_time": 45.69467683,
                        "remaining_time": 53.21155007
                      },
                      {
                        "learn": [
                          0.3793119642
                        ],
                        "iteration": 462,
                        "passed_time": 45.77602939,
                        "remaining_time": 53.09228463
                      },
                      {
                        "learn": [
                          0.3785931133
                        ],
                        "iteration": 463,
                        "passed_time": 45.88177679,
                        "remaining_time": 53.00136285
                      },
                      {
                        "learn": [
                          0.3770933559
                        ],
                        "iteration": 464,
                        "passed_time": 45.97094719,
                        "remaining_time": 52.89130483
                      },
                      {
                        "learn": [
                          0.3754973639
                        ],
                        "iteration": 465,
                        "passed_time": 46.06435093,
                        "remaining_time": 52.78618755
                      },
                      {
                        "learn": [
                          0.3748761082
                        ],
                        "iteration": 466,
                        "passed_time": 46.14289473,
                        "remaining_time": 52.66416037
                      },
                      {
                        "learn": [
                          0.3738072863
                        ],
                        "iteration": 467,
                        "passed_time": 46.22192041,
                        "remaining_time": 52.54286679
                      },
                      {
                        "learn": [
                          0.3728023098
                        ],
                        "iteration": 468,
                        "passed_time": 46.31374368,
                        "remaining_time": 52.43624285
                      },
                      {
                        "learn": [
                          0.3721042604
                        ],
                        "iteration": 469,
                        "passed_time": 46.41602357,
                        "remaining_time": 52.34147339
                      },
                      {
                        "learn": [
                          0.371255702
                        ],
                        "iteration": 470,
                        "passed_time": 46.54576555,
                        "remaining_time": 52.27751588
                      },
                      {
                        "learn": [
                          0.3710952319
                        ],
                        "iteration": 471,
                        "passed_time": 46.62542538,
                        "remaining_time": 52.15725551
                      },
                      {
                        "learn": [
                          0.3706807017
                        ],
                        "iteration": 472,
                        "passed_time": 46.71894341,
                        "remaining_time": 52.05260714
                      },
                      {
                        "learn": [
                          0.3694765254
                        ],
                        "iteration": 473,
                        "passed_time": 46.81943853,
                        "remaining_time": 51.95574824
                      },
                      {
                        "learn": [
                          0.3686401589
                        ],
                        "iteration": 474,
                        "passed_time": 46.90913309,
                        "remaining_time": 51.84693657
                      },
                      {
                        "learn": [
                          0.3680494899
                        ],
                        "iteration": 475,
                        "passed_time": 47.0023877,
                        "remaining_time": 51.74212427
                      },
                      {
                        "learn": [
                          0.3671589343
                        ],
                        "iteration": 476,
                        "passed_time": 47.07629112,
                        "remaining_time": 51.61614309
                      },
                      {
                        "learn": [
                          0.3659573895
                        ],
                        "iteration": 477,
                        "passed_time": 47.15807365,
                        "remaining_time": 51.49898419
                      },
                      {
                        "learn": [
                          0.3647603858
                        ],
                        "iteration": 478,
                        "passed_time": 47.25023818,
                        "remaining_time": 51.39326533
                      },
                      {
                        "learn": [
                          0.3640581785
                        ],
                        "iteration": 479,
                        "passed_time": 47.34039086,
                        "remaining_time": 51.28542343
                      },
                      {
                        "learn": [
                          0.3622965911
                        ],
                        "iteration": 480,
                        "passed_time": 47.44114123,
                        "remaining_time": 51.18909001
                      },
                      {
                        "learn": [
                          0.3612924728
                        ],
                        "iteration": 481,
                        "passed_time": 47.53993121,
                        "remaining_time": 51.09063146
                      },
                      {
                        "learn": [
                          0.3606309562
                        ],
                        "iteration": 482,
                        "passed_time": 47.62570533,
                        "remaining_time": 50.97823945
                      },
                      {
                        "learn": [
                          0.3593426836
                        ],
                        "iteration": 483,
                        "passed_time": 47.72281902,
                        "remaining_time": 50.87804673
                      },
                      {
                        "learn": [
                          0.3576353192
                        ],
                        "iteration": 484,
                        "passed_time": 47.80383791,
                        "remaining_time": 50.76077634
                      },
                      {
                        "learn": [
                          0.3564370866
                        ],
                        "iteration": 485,
                        "passed_time": 47.88191407,
                        "remaining_time": 50.64054287
                      },
                      {
                        "learn": [
                          0.3553852865
                        ],
                        "iteration": 486,
                        "passed_time": 47.97535264,
                        "remaining_time": 50.5366651
                      },
                      {
                        "learn": [
                          0.355101825
                        ],
                        "iteration": 487,
                        "passed_time": 48.05935189,
                        "remaining_time": 50.42292657
                      },
                      {
                        "learn": [
                          0.3540365136
                        ],
                        "iteration": 488,
                        "passed_time": 48.13365724,
                        "remaining_time": 50.29917965
                      },
                      {
                        "learn": [
                          0.3523439327
                        ],
                        "iteration": 489,
                        "passed_time": 48.23129292,
                        "remaining_time": 50.19991712
                      },
                      {
                        "learn": [
                          0.3516290681
                        ],
                        "iteration": 490,
                        "passed_time": 48.33156077,
                        "remaining_time": 50.10338989
                      },
                      {
                        "learn": [
                          0.3498959369
                        ],
                        "iteration": 491,
                        "passed_time": 48.42553397,
                        "remaining_time": 50.00034809
                      },
                      {
                        "learn": [
                          0.3494172838
                        ],
                        "iteration": 492,
                        "passed_time": 48.56165658,
                        "remaining_time": 49.94068942
                      },
                      {
                        "learn": [
                          0.3483890956
                        ],
                        "iteration": 493,
                        "passed_time": 48.64795549,
                        "remaining_time": 49.8296872
                      },
                      {
                        "learn": [
                          0.3479909611
                        ],
                        "iteration": 494,
                        "passed_time": 48.7370117,
                        "remaining_time": 49.7215978
                      },
                      {
                        "learn": [
                          0.3462848374
                        ],
                        "iteration": 495,
                        "passed_time": 48.83477524,
                        "remaining_time": 49.6224329
                      },
                      {
                        "learn": [
                          0.3455348034
                        ],
                        "iteration": 496,
                        "passed_time": 48.92573968,
                        "remaining_time": 49.51639247
                      },
                      {
                        "learn": [
                          0.3442790323
                        ],
                        "iteration": 497,
                        "passed_time": 49.01926523,
                        "remaining_time": 49.41299427
                      },
                      {
                        "learn": [
                          0.3434310819
                        ],
                        "iteration": 498,
                        "passed_time": 49.11085414,
                        "remaining_time": 49.30769123
                      },
                      {
                        "learn": [
                          0.3420871408
                        ],
                        "iteration": 499,
                        "passed_time": 49.25999051,
                        "remaining_time": 49.25999051
                      },
                      {
                        "learn": [
                          0.3406344194
                        ],
                        "iteration": 500,
                        "passed_time": 49.42352478,
                        "remaining_time": 49.22622528
                      },
                      {
                        "learn": [
                          0.3399517297
                        ],
                        "iteration": 501,
                        "passed_time": 49.64067695,
                        "remaining_time": 49.24513371
                      },
                      {
                        "learn": [
                          0.3392435402
                        ],
                        "iteration": 502,
                        "passed_time": 49.82464355,
                        "remaining_time": 49.2303138
                      },
                      {
                        "learn": [
                          0.337924446
                        ],
                        "iteration": 503,
                        "passed_time": 50.00446571,
                        "remaining_time": 49.21074403
                      },
                      {
                        "learn": [
                          0.3374497687
                        ],
                        "iteration": 504,
                        "passed_time": 50.16611296,
                        "remaining_time": 49.17272458
                      },
                      {
                        "learn": [
                          0.337022858
                        ],
                        "iteration": 505,
                        "passed_time": 50.35807652,
                        "remaining_time": 49.16381383
                      },
                      {
                        "learn": [
                          0.3363819783
                        ],
                        "iteration": 506,
                        "passed_time": 50.53694017,
                        "remaining_time": 49.1414428
                      },
                      {
                        "learn": [
                          0.3360306045
                        ],
                        "iteration": 507,
                        "passed_time": 50.7139197,
                        "remaining_time": 49.11663089
                      },
                      {
                        "learn": [
                          0.3353836629
                        ],
                        "iteration": 508,
                        "passed_time": 50.87288079,
                        "remaining_time": 49.07383982
                      },
                      {
                        "learn": [
                          0.3336186831
                        ],
                        "iteration": 509,
                        "passed_time": 51.12242748,
                        "remaining_time": 49.1176264
                      },
                      {
                        "learn": [
                          0.3330489678
                        ],
                        "iteration": 510,
                        "passed_time": 51.37445509,
                        "remaining_time": 49.16263902
                      },
                      {
                        "learn": [
                          0.3319655831
                        ],
                        "iteration": 511,
                        "passed_time": 51.56690885,
                        "remaining_time": 49.14971
                      },
                      {
                        "learn": [
                          0.330976981
                        ],
                        "iteration": 512,
                        "passed_time": 51.88873675,
                        "remaining_time": 49.25889824
                      },
                      {
                        "learn": [
                          0.3302132341
                        ],
                        "iteration": 513,
                        "passed_time": 52.12647869,
                        "remaining_time": 49.28690398
                      },
                      {
                        "learn": [
                          0.3297904444
                        ],
                        "iteration": 514,
                        "passed_time": 52.29012826,
                        "remaining_time": 49.24410137
                      },
                      {
                        "learn": [
                          0.328303398
                        ],
                        "iteration": 515,
                        "passed_time": 52.50497886,
                        "remaining_time": 49.24885614
                      },
                      {
                        "learn": [
                          0.3278127996
                        ],
                        "iteration": 516,
                        "passed_time": 52.78550707,
                        "remaining_time": 49.31411976
                      },
                      {
                        "learn": [
                          0.3266095893
                        ],
                        "iteration": 517,
                        "passed_time": 53.04183842,
                        "remaining_time": 49.35553304
                      },
                      {
                        "learn": [
                          0.3256597735
                        ],
                        "iteration": 518,
                        "passed_time": 53.22627702,
                        "remaining_time": 49.32917003
                      },
                      {
                        "learn": [
                          0.3247309643
                        ],
                        "iteration": 519,
                        "passed_time": 53.41791755,
                        "remaining_time": 49.30884697
                      },
                      {
                        "learn": [
                          0.3239020114
                        ],
                        "iteration": 520,
                        "passed_time": 53.61673234,
                        "remaining_time": 49.29446217
                      },
                      {
                        "learn": [
                          0.3235603662
                        ],
                        "iteration": 521,
                        "passed_time": 53.87158455,
                        "remaining_time": 49.3306847
                      },
                      {
                        "learn": [
                          0.3227020816
                        ],
                        "iteration": 522,
                        "passed_time": 54.09260082,
                        "remaining_time": 49.33493421
                      },
                      {
                        "learn": [
                          0.3210346708
                        ],
                        "iteration": 523,
                        "passed_time": 54.44157416,
                        "remaining_time": 49.45455973
                      },
                      {
                        "learn": [
                          0.3202663993
                        ],
                        "iteration": 524,
                        "passed_time": 54.61032769,
                        "remaining_time": 49.4093441
                      },
                      {
                        "learn": [
                          0.3196090254
                        ],
                        "iteration": 525,
                        "passed_time": 54.70307381,
                        "remaining_time": 49.29516538
                      },
                      {
                        "learn": [
                          0.3191003195
                        ],
                        "iteration": 526,
                        "passed_time": 54.82353607,
                        "remaining_time": 49.20594414
                      },
                      {
                        "learn": [
                          0.3185495364
                        ],
                        "iteration": 527,
                        "passed_time": 54.93174412,
                        "remaining_time": 49.10565004
                      },
                      {
                        "learn": [
                          0.3181181353
                        ],
                        "iteration": 528,
                        "passed_time": 55.01495621,
                        "remaining_time": 48.98307065
                      },
                      {
                        "learn": [
                          0.3177696423
                        ],
                        "iteration": 529,
                        "passed_time": 55.1109921,
                        "remaining_time": 48.87201186
                      },
                      {
                        "learn": [
                          0.3169855705
                        ],
                        "iteration": 530,
                        "passed_time": 55.20097134,
                        "remaining_time": 48.75566019
                      },
                      {
                        "learn": [
                          0.316057246
                        ],
                        "iteration": 531,
                        "passed_time": 55.28789765,
                        "remaining_time": 48.63672199
                      },
                      {
                        "learn": [
                          0.3150361599
                        ],
                        "iteration": 532,
                        "passed_time": 55.40991758,
                        "remaining_time": 48.54865199
                      },
                      {
                        "learn": [
                          0.3144305371
                        ],
                        "iteration": 533,
                        "passed_time": 55.53853045,
                        "remaining_time": 48.46620822
                      },
                      {
                        "learn": [
                          0.3136621331
                        ],
                        "iteration": 534,
                        "passed_time": 55.72215147,
                        "remaining_time": 48.43140268
                      },
                      {
                        "learn": [
                          0.313071678
                        ],
                        "iteration": 535,
                        "passed_time": 55.96380405,
                        "remaining_time": 48.44627813
                      },
                      {
                        "learn": [
                          0.3123835435
                        ],
                        "iteration": 536,
                        "passed_time": 56.12050572,
                        "remaining_time": 48.38695372
                      },
                      {
                        "learn": [
                          0.3119158107
                        ],
                        "iteration": 537,
                        "passed_time": 56.30963415,
                        "remaining_time": 48.35511334
                      },
                      {
                        "learn": [
                          0.3110100746
                        ],
                        "iteration": 538,
                        "passed_time": 56.49117172,
                        "remaining_time": 48.31619696
                      },
                      {
                        "learn": [
                          0.3096164769
                        ],
                        "iteration": 539,
                        "passed_time": 56.66843224,
                        "remaining_time": 48.27310894
                      },
                      {
                        "learn": [
                          0.3089504858
                        ],
                        "iteration": 540,
                        "passed_time": 56.86674806,
                        "remaining_time": 48.24738884
                      },
                      {
                        "learn": [
                          0.3082646499
                        ],
                        "iteration": 541,
                        "passed_time": 57.06342077,
                        "remaining_time": 48.21964338
                      },
                      {
                        "learn": [
                          0.3072522548
                        ],
                        "iteration": 542,
                        "passed_time": 57.31094491,
                        "remaining_time": 48.23407334
                      },
                      {
                        "learn": [
                          0.3062110593
                        ],
                        "iteration": 543,
                        "passed_time": 57.41915291,
                        "remaining_time": 48.13076053
                      },
                      {
                        "learn": [
                          0.3057417436
                        ],
                        "iteration": 544,
                        "passed_time": 57.50339866,
                        "remaining_time": 48.00742457
                      },
                      {
                        "learn": [
                          0.3047814222
                        ],
                        "iteration": 545,
                        "passed_time": 57.58675317,
                        "remaining_time": 47.88349073
                      },
                      {
                        "learn": [
                          0.3041700112
                        ],
                        "iteration": 546,
                        "passed_time": 57.68078298,
                        "remaining_time": 47.76854605
                      },
                      {
                        "learn": [
                          0.3033329511
                        ],
                        "iteration": 547,
                        "passed_time": 57.76994523,
                        "remaining_time": 47.64966285
                      },
                      {
                        "learn": [
                          0.3029482054
                        ],
                        "iteration": 548,
                        "passed_time": 57.86636775,
                        "remaining_time": 47.53685219
                      },
                      {
                        "learn": [
                          0.3023393531
                        ],
                        "iteration": 549,
                        "passed_time": 57.96524696,
                        "remaining_time": 47.42611115
                      },
                      {
                        "learn": [
                          0.3015951962
                        ],
                        "iteration": 550,
                        "passed_time": 58.06910321,
                        "remaining_time": 47.31946886
                      },
                      {
                        "learn": [
                          0.3008366246
                        ],
                        "iteration": 551,
                        "passed_time": 58.16653109,
                        "remaining_time": 47.20761943
                      },
                      {
                        "learn": [
                          0.3000310328
                        ],
                        "iteration": 552,
                        "passed_time": 58.244927,
                        "remaining_time": 47.08043828
                      },
                      {
                        "learn": [
                          0.2992810968
                        ],
                        "iteration": 553,
                        "passed_time": 58.33703782,
                        "remaining_time": 46.96447449
                      },
                      {
                        "learn": [
                          0.2988177467
                        ],
                        "iteration": 554,
                        "passed_time": 58.41158201,
                        "remaining_time": 46.8345117
                      },
                      {
                        "learn": [
                          0.2977566771
                        ],
                        "iteration": 555,
                        "passed_time": 58.49577055,
                        "remaining_time": 46.71244986
                      },
                      {
                        "learn": [
                          0.2969450876
                        ],
                        "iteration": 556,
                        "passed_time": 58.56934826,
                        "remaining_time": 46.58208488
                      },
                      {
                        "learn": [
                          0.2967367453
                        ],
                        "iteration": 557,
                        "passed_time": 58.65730032,
                        "remaining_time": 46.46330957
                      },
                      {
                        "learn": [
                          0.2957146437
                        ],
                        "iteration": 558,
                        "passed_time": 58.74473347,
                        "remaining_time": 46.34423517
                      },
                      {
                        "learn": [
                          0.2948291916
                        ],
                        "iteration": 559,
                        "passed_time": 58.85351313,
                        "remaining_time": 46.24204603
                      },
                      {
                        "learn": [
                          0.2938567035
                        ],
                        "iteration": 560,
                        "passed_time": 58.95894037,
                        "remaining_time": 46.13721003
                      },
                      {
                        "learn": [
                          0.2929624409
                        ],
                        "iteration": 561,
                        "passed_time": 59.08369755,
                        "remaining_time": 46.04743688
                      },
                      {
                        "learn": [
                          0.292592415
                        ],
                        "iteration": 562,
                        "passed_time": 59.17864545,
                        "remaining_time": 45.93440153
                      },
                      {
                        "learn": [
                          0.2921688632
                        ],
                        "iteration": 563,
                        "passed_time": 59.26670058,
                        "remaining_time": 45.81610187
                      },
                      {
                        "learn": [
                          0.2911762128
                        ],
                        "iteration": 564,
                        "passed_time": 59.34924397,
                        "remaining_time": 45.69366571
                      },
                      {
                        "learn": [
                          0.2901433727
                        ],
                        "iteration": 565,
                        "passed_time": 59.43155822,
                        "remaining_time": 45.57119482
                      },
                      {
                        "learn": [
                          0.2894915075
                        ],
                        "iteration": 566,
                        "passed_time": 59.51693181,
                        "remaining_time": 45.45120189
                      },
                      {
                        "learn": [
                          0.2886108445
                        ],
                        "iteration": 567,
                        "passed_time": 59.60979584,
                        "remaining_time": 45.33702783
                      },
                      {
                        "learn": [
                          0.2880076266
                        ],
                        "iteration": 568,
                        "passed_time": 59.70052315,
                        "remaining_time": 45.22131015
                      },
                      {
                        "learn": [
                          0.2869592431
                        ],
                        "iteration": 569,
                        "passed_time": 59.7962781,
                        "remaining_time": 45.10947295
                      },
                      {
                        "learn": [
                          0.2861202129
                        ],
                        "iteration": 570,
                        "passed_time": 59.87303734,
                        "remaining_time": 44.98342035
                      },
                      {
                        "learn": [
                          0.2848946365
                        ],
                        "iteration": 571,
                        "passed_time": 59.95347936,
                        "remaining_time": 44.86029575
                      },
                      {
                        "learn": [
                          0.2843512239
                        ],
                        "iteration": 572,
                        "passed_time": 60.0721555,
                        "remaining_time": 44.76581222
                      },
                      {
                        "learn": [
                          0.2841246677
                        ],
                        "iteration": 573,
                        "passed_time": 60.15019164,
                        "remaining_time": 44.641083
                      },
                      {
                        "learn": [
                          0.2836668774
                        ],
                        "iteration": 574,
                        "passed_time": 60.24619851,
                        "remaining_time": 44.5297989
                      },
                      {
                        "learn": [
                          0.2832405203
                        ],
                        "iteration": 575,
                        "passed_time": 60.32324562,
                        "remaining_time": 44.40461136
                      },
                      {
                        "learn": [
                          0.2827432236
                        ],
                        "iteration": 576,
                        "passed_time": 60.42401912,
                        "remaining_time": 44.29698455
                      },
                      {
                        "learn": [
                          0.2818866883
                        ],
                        "iteration": 577,
                        "passed_time": 60.50781463,
                        "remaining_time": 44.17698577
                      },
                      {
                        "learn": [
                          0.2815550159
                        ],
                        "iteration": 578,
                        "passed_time": 60.60159313,
                        "remaining_time": 44.06437082
                      },
                      {
                        "learn": [
                          0.2809627905
                        ],
                        "iteration": 579,
                        "passed_time": 60.69386077,
                        "remaining_time": 43.95072676
                      },
                      {
                        "learn": [
                          0.2801361838
                        ],
                        "iteration": 580,
                        "passed_time": 60.78649748,
                        "remaining_time": 43.83742245
                      },
                      {
                        "learn": [
                          0.27920485
                        ],
                        "iteration": 581,
                        "passed_time": 60.88220198,
                        "remaining_time": 43.72639249
                      },
                      {
                        "learn": [
                          0.2783176597
                        ],
                        "iteration": 582,
                        "passed_time": 60.98435553,
                        "remaining_time": 43.62002789
                      },
                      {
                        "learn": [
                          0.2778331341
                        ],
                        "iteration": 583,
                        "passed_time": 61.19584051,
                        "remaining_time": 43.59155762
                      },
                      {
                        "learn": [
                          0.2775721934
                        ],
                        "iteration": 584,
                        "passed_time": 61.26621304,
                        "remaining_time": 43.46235626
                      },
                      {
                        "learn": [
                          0.2765213896
                        ],
                        "iteration": 585,
                        "passed_time": 61.36848633,
                        "remaining_time": 43.35589307
                      },
                      {
                        "learn": [
                          0.2754807253
                        ],
                        "iteration": 586,
                        "passed_time": 61.4565308,
                        "remaining_time": 43.23943309
                      },
                      {
                        "learn": [
                          0.2744214217
                        ],
                        "iteration": 587,
                        "passed_time": 61.53927977,
                        "remaining_time": 43.11935929
                      },
                      {
                        "learn": [
                          0.2738113622
                        ],
                        "iteration": 588,
                        "passed_time": 61.64207248,
                        "remaining_time": 43.01339862
                      },
                      {
                        "learn": [
                          0.2733800667
                        ],
                        "iteration": 589,
                        "passed_time": 61.7238909,
                        "remaining_time": 42.89287334
                      },
                      {
                        "learn": [
                          0.2725395384
                        ],
                        "iteration": 590,
                        "passed_time": 61.8060622,
                        "remaining_time": 42.77272325
                      },
                      {
                        "learn": [
                          0.2717349872
                        ],
                        "iteration": 591,
                        "passed_time": 61.95474629,
                        "remaining_time": 42.69854136
                      },
                      {
                        "learn": [
                          0.2708991273
                        ],
                        "iteration": 592,
                        "passed_time": 62.10421036,
                        "remaining_time": 42.62464353
                      },
                      {
                        "learn": [
                          0.2701205358
                        ],
                        "iteration": 593,
                        "passed_time": 62.29488872,
                        "remaining_time": 42.57866131
                      },
                      {
                        "learn": [
                          0.2694232454
                        ],
                        "iteration": 594,
                        "passed_time": 62.4409005,
                        "remaining_time": 42.50178942
                      },
                      {
                        "learn": [
                          0.2686920658
                        ],
                        "iteration": 595,
                        "passed_time": 62.62255216,
                        "remaining_time": 42.44884408
                      },
                      {
                        "learn": [
                          0.2681328747
                        ],
                        "iteration": 596,
                        "passed_time": 62.7838654,
                        "remaining_time": 42.38173829
                      },
                      {
                        "learn": [
                          0.2672039519
                        ],
                        "iteration": 597,
                        "passed_time": 62.94851932,
                        "remaining_time": 42.31656315
                      },
                      {
                        "learn": [
                          0.2666579003
                        ],
                        "iteration": 598,
                        "passed_time": 63.0883957,
                        "remaining_time": 42.23446857
                      },
                      {
                        "learn": [
                          0.2659941496
                        ],
                        "iteration": 599,
                        "passed_time": 63.289677,
                        "remaining_time": 42.193118
                      },
                      {
                        "learn": [
                          0.2655695276
                        ],
                        "iteration": 600,
                        "passed_time": 63.46674055,
                        "remaining_time": 42.1351572
                      },
                      {
                        "learn": [
                          0.2649729572
                        ],
                        "iteration": 601,
                        "passed_time": 63.63862232,
                        "remaining_time": 42.07337489
                      },
                      {
                        "learn": [
                          0.2646437829
                        ],
                        "iteration": 602,
                        "passed_time": 63.74374702,
                        "remaining_time": 41.96727623
                      },
                      {
                        "learn": [
                          0.264410286
                        ],
                        "iteration": 603,
                        "passed_time": 63.89745164,
                        "remaining_time": 41.89303121
                      },
                      {
                        "learn": [
                          0.2640183308
                        ],
                        "iteration": 604,
                        "passed_time": 64.04642682,
                        "remaining_time": 41.81543569
                      },
                      {
                        "learn": [
                          0.2634928406
                        ],
                        "iteration": 605,
                        "passed_time": 64.22328418,
                        "remaining_time": 41.75573262
                      },
                      {
                        "learn": [
                          0.2627338776
                        ],
                        "iteration": 606,
                        "passed_time": 64.42223019,
                        "remaining_time": 41.70994475
                      },
                      {
                        "learn": [
                          0.2620844184
                        ],
                        "iteration": 607,
                        "passed_time": 64.52963664,
                        "remaining_time": 41.60463415
                      },
                      {
                        "learn": [
                          0.2617378592
                        ],
                        "iteration": 608,
                        "passed_time": 64.61650088,
                        "remaining_time": 41.48612782
                      },
                      {
                        "learn": [
                          0.2610910536
                        ],
                        "iteration": 609,
                        "passed_time": 64.70037744,
                        "remaining_time": 41.36581509
                      },
                      {
                        "learn": [
                          0.2606594985
                        ],
                        "iteration": 610,
                        "passed_time": 64.79066715,
                        "remaining_time": 41.24970462
                      },
                      {
                        "learn": [
                          0.2600876537
                        ],
                        "iteration": 611,
                        "passed_time": 64.88660633,
                        "remaining_time": 41.13726022
                      },
                      {
                        "learn": [
                          0.2593221841
                        ],
                        "iteration": 612,
                        "passed_time": 64.96682043,
                        "remaining_time": 41.0149421
                      },
                      {
                        "learn": [
                          0.2590961511
                        ],
                        "iteration": 613,
                        "passed_time": 65.04901112,
                        "remaining_time": 40.89400373
                      },
                      {
                        "learn": [
                          0.2587197975
                        ],
                        "iteration": 614,
                        "passed_time": 65.14382372,
                        "remaining_time": 40.7810929
                      },
                      {
                        "learn": [
                          0.2580274899
                        ],
                        "iteration": 615,
                        "passed_time": 65.23653194,
                        "remaining_time": 40.666929
                      },
                      {
                        "learn": [
                          0.2575546674
                        ],
                        "iteration": 616,
                        "passed_time": 65.32892542,
                        "remaining_time": 40.55263928
                      },
                      {
                        "learn": [
                          0.257024766
                        ],
                        "iteration": 617,
                        "passed_time": 65.42805117,
                        "remaining_time": 40.44258179
                      },
                      {
                        "learn": [
                          0.256358396
                        ],
                        "iteration": 618,
                        "passed_time": 65.52453354,
                        "remaining_time": 40.3309326
                      },
                      {
                        "learn": [
                          0.2555548537
                        ],
                        "iteration": 619,
                        "passed_time": 65.62122653,
                        "remaining_time": 40.21946142
                      },
                      {
                        "learn": [
                          0.2548765816
                        ],
                        "iteration": 620,
                        "passed_time": 65.6871882,
                        "remaining_time": 40.08928233
                      },
                      {
                        "learn": [
                          0.2544117753
                        ],
                        "iteration": 621,
                        "passed_time": 65.78793048,
                        "remaining_time": 39.9804465
                      },
                      {
                        "learn": [
                          0.2533824664
                        ],
                        "iteration": 622,
                        "passed_time": 65.87521089,
                        "remaining_time": 39.86349038
                      },
                      {
                        "learn": [
                          0.2528853785
                        ],
                        "iteration": 623,
                        "passed_time": 65.96502124,
                        "remaining_time": 39.74815382
                      },
                      {
                        "learn": [
                          0.2521244351
                        ],
                        "iteration": 624,
                        "passed_time": 66.04906986,
                        "remaining_time": 39.62944192
                      },
                      {
                        "learn": [
                          0.2518175648
                        ],
                        "iteration": 625,
                        "passed_time": 66.15700831,
                        "remaining_time": 39.52511359
                      },
                      {
                        "learn": [
                          0.2508955204
                        ],
                        "iteration": 626,
                        "passed_time": 66.24075722,
                        "remaining_time": 39.40638348
                      },
                      {
                        "learn": [
                          0.2499859048
                        ],
                        "iteration": 627,
                        "passed_time": 66.34228394,
                        "remaining_time": 39.29829558
                      },
                      {
                        "learn": [
                          0.2490198808
                        ],
                        "iteration": 628,
                        "passed_time": 66.47500749,
                        "remaining_time": 39.20862922
                      },
                      {
                        "learn": [
                          0.2484557883
                        ],
                        "iteration": 629,
                        "passed_time": 66.56856931,
                        "remaining_time": 39.09582642
                      },
                      {
                        "learn": [
                          0.2480300098
                        ],
                        "iteration": 630,
                        "passed_time": 66.65750125,
                        "remaining_time": 38.98037712
                      },
                      {
                        "learn": [
                          0.2474479971
                        ],
                        "iteration": 631,
                        "passed_time": 66.74073135,
                        "remaining_time": 38.86169167
                      },
                      {
                        "learn": [
                          0.2464744203
                        ],
                        "iteration": 632,
                        "passed_time": 66.82838516,
                        "remaining_time": 38.74568302
                      },
                      {
                        "learn": [
                          0.2460865594
                        ],
                        "iteration": 633,
                        "passed_time": 66.91407508,
                        "remaining_time": 38.62863009
                      },
                      {
                        "learn": [
                          0.2459139348
                        ],
                        "iteration": 634,
                        "passed_time": 67.00919146,
                        "remaining_time": 38.5170943
                      },
                      {
                        "learn": [
                          0.2451723791
                        ],
                        "iteration": 635,
                        "passed_time": 67.08261424,
                        "remaining_time": 38.39319431
                      },
                      {
                        "learn": [
                          0.2444681474
                        ],
                        "iteration": 636,
                        "passed_time": 67.18041924,
                        "remaining_time": 38.28334723
                      },
                      {
                        "learn": [
                          0.2439519314
                        ],
                        "iteration": 637,
                        "passed_time": 67.27440958,
                        "remaining_time": 38.17137346
                      },
                      {
                        "learn": [
                          0.2437594736
                        ],
                        "iteration": 638,
                        "passed_time": 67.37458799,
                        "remaining_time": 38.0629519
                      },
                      {
                        "learn": [
                          0.2432616109
                        ],
                        "iteration": 639,
                        "passed_time": 67.50645843,
                        "remaining_time": 37.97238287
                      },
                      {
                        "learn": [
                          0.2428865805
                        ],
                        "iteration": 640,
                        "passed_time": 67.58947683,
                        "remaining_time": 37.85432478
                      },
                      {
                        "learn": [
                          0.2425908652
                        ],
                        "iteration": 641,
                        "passed_time": 67.67683386,
                        "remaining_time": 37.7387952
                      },
                      {
                        "learn": [
                          0.2419062229
                        ],
                        "iteration": 642,
                        "passed_time": 67.78422936,
                        "remaining_time": 37.63447882
                      },
                      {
                        "learn": [
                          0.2417308952
                        ],
                        "iteration": 643,
                        "passed_time": 67.87755493,
                        "remaining_time": 37.52237508
                      },
                      {
                        "learn": [
                          0.2409932631
                        ],
                        "iteration": 644,
                        "passed_time": 67.96795389,
                        "remaining_time": 37.40871881
                      },
                      {
                        "learn": [
                          0.2406520148
                        ],
                        "iteration": 645,
                        "passed_time": 68.06120809,
                        "remaining_time": 37.29669917
                      },
                      {
                        "learn": [
                          0.2398155531
                        ],
                        "iteration": 646,
                        "passed_time": 68.14876477,
                        "remaining_time": 37.181629
                      },
                      {
                        "learn": [
                          0.239407887
                        ],
                        "iteration": 647,
                        "passed_time": 68.25113224,
                        "remaining_time": 37.07468912
                      },
                      {
                        "learn": [
                          0.2386173919
                        ],
                        "iteration": 648,
                        "passed_time": 68.3439472,
                        "remaining_time": 36.96259702
                      },
                      {
                        "learn": [
                          0.2377950655
                        ],
                        "iteration": 649,
                        "passed_time": 68.44049125,
                        "remaining_time": 36.85257221
                      },
                      {
                        "learn": [
                          0.237292706
                        ],
                        "iteration": 650,
                        "passed_time": 68.53250485,
                        "remaining_time": 36.74016005
                      },
                      {
                        "learn": [
                          0.2368280481
                        ],
                        "iteration": 651,
                        "passed_time": 68.61220999,
                        "remaining_time": 36.62124092
                      },
                      {
                        "learn": [
                          0.2361578002
                        ],
                        "iteration": 652,
                        "passed_time": 68.69504534,
                        "remaining_time": 36.50410525
                      },
                      {
                        "learn": [
                          0.2357102624
                        ],
                        "iteration": 653,
                        "passed_time": 68.78938661,
                        "remaining_time": 36.39316172
                      },
                      {
                        "learn": [
                          0.2352650213
                        ],
                        "iteration": 654,
                        "passed_time": 68.88587498,
                        "remaining_time": 36.2833998
                      },
                      {
                        "learn": [
                          0.2349453938
                        ],
                        "iteration": 655,
                        "passed_time": 68.9699731,
                        "remaining_time": 36.16718102
                      },
                      {
                        "learn": [
                          0.234531819
                        ],
                        "iteration": 656,
                        "passed_time": 69.06141729,
                        "remaining_time": 36.05489517
                      },
                      {
                        "learn": [
                          0.234247292
                        ],
                        "iteration": 657,
                        "passed_time": 69.16261329,
                        "remaining_time": 35.94774126
                      },
                      {
                        "learn": [
                          0.2339271577
                        ],
                        "iteration": 658,
                        "passed_time": 69.25820269,
                        "remaining_time": 35.83770428
                      },
                      {
                        "learn": [
                          0.233411565
                        ],
                        "iteration": 659,
                        "passed_time": 69.34069017,
                        "remaining_time": 35.7209616
                      },
                      {
                        "learn": [
                          0.2331291288
                        ],
                        "iteration": 660,
                        "passed_time": 69.42899892,
                        "remaining_time": 35.60730807
                      },
                      {
                        "learn": [
                          0.2327751291
                        ],
                        "iteration": 661,
                        "passed_time": 69.5363935,
                        "remaining_time": 35.50347583
                      },
                      {
                        "learn": [
                          0.2325051206
                        ],
                        "iteration": 662,
                        "passed_time": 69.6227339,
                        "remaining_time": 35.38893111
                      },
                      {
                        "learn": [
                          0.2320615044
                        ],
                        "iteration": 663,
                        "passed_time": 69.71924775,
                        "remaining_time": 35.27961935
                      },
                      {
                        "learn": [
                          0.2313136331
                        ],
                        "iteration": 664,
                        "passed_time": 69.81488036,
                        "remaining_time": 35.16990214
                      },
                      {
                        "learn": [
                          0.2310111502
                        ],
                        "iteration": 665,
                        "passed_time": 69.89977137,
                        "remaining_time": 35.0548403
                      },
                      {
                        "learn": [
                          0.2303564874
                        ],
                        "iteration": 666,
                        "passed_time": 69.99079308,
                        "remaining_time": 34.94292968
                      },
                      {
                        "learn": [
                          0.2299532123
                        ],
                        "iteration": 667,
                        "passed_time": 70.08884247,
                        "remaining_time": 34.8345744
                      },
                      {
                        "learn": [
                          0.2296093976
                        ],
                        "iteration": 668,
                        "passed_time": 70.17783498,
                        "remaining_time": 34.72176887
                      },
                      {
                        "learn": [
                          0.2291206987
                        ],
                        "iteration": 669,
                        "passed_time": 70.28988529,
                        "remaining_time": 34.62039126
                      },
                      {
                        "learn": [
                          0.2285933924
                        ],
                        "iteration": 670,
                        "passed_time": 70.37534808,
                        "remaining_time": 34.50594563
                      },
                      {
                        "learn": [
                          0.2278427621
                        ],
                        "iteration": 671,
                        "passed_time": 70.48890123,
                        "remaining_time": 34.40529703
                      },
                      {
                        "learn": [
                          0.2271561566
                        ],
                        "iteration": 672,
                        "passed_time": 70.6025497,
                        "remaining_time": 34.30465639
                      },
                      {
                        "learn": [
                          0.2267101522
                        ],
                        "iteration": 673,
                        "passed_time": 70.68352075,
                        "remaining_time": 34.18817176
                      },
                      {
                        "learn": [
                          0.2263657212
                        ],
                        "iteration": 674,
                        "passed_time": 70.78150689,
                        "remaining_time": 34.0799848
                      },
                      {
                        "learn": [
                          0.2259536135
                        ],
                        "iteration": 675,
                        "passed_time": 70.86965184,
                        "remaining_time": 33.96711124
                      },
                      {
                        "learn": [
                          0.2253115497
                        ],
                        "iteration": 676,
                        "passed_time": 70.94769462,
                        "remaining_time": 33.84949093
                      },
                      {
                        "learn": [
                          0.2249171704
                        ],
                        "iteration": 677,
                        "passed_time": 71.04359879,
                        "remaining_time": 33.74047022
                      },
                      {
                        "learn": [
                          0.2244223628
                        ],
                        "iteration": 678,
                        "passed_time": 71.13594842,
                        "remaining_time": 33.62980772
                      },
                      {
                        "learn": [
                          0.2238003787
                        ],
                        "iteration": 679,
                        "passed_time": 71.22331681,
                        "remaining_time": 33.51685497
                      },
                      {
                        "learn": [
                          0.2231066839
                        ],
                        "iteration": 680,
                        "passed_time": 71.32426638,
                        "remaining_time": 33.41033917
                      },
                      {
                        "learn": [
                          0.2226264392
                        ],
                        "iteration": 681,
                        "passed_time": 71.42426151,
                        "remaining_time": 33.30339467
                      },
                      {
                        "learn": [
                          0.2217797997
                        ],
                        "iteration": 682,
                        "passed_time": 71.52975209,
                        "remaining_time": 33.1990211
                      },
                      {
                        "learn": [
                          0.2212068421
                        ],
                        "iteration": 683,
                        "passed_time": 71.63414102,
                        "remaining_time": 33.09413532
                      },
                      {
                        "learn": [
                          0.2209386464
                        ],
                        "iteration": 684,
                        "passed_time": 71.70349157,
                        "remaining_time": 32.97313846
                      },
                      {
                        "learn": [
                          0.2205858847
                        ],
                        "iteration": 685,
                        "passed_time": 71.81097169,
                        "remaining_time": 32.86974506
                      },
                      {
                        "learn": [
                          0.2200411034
                        ],
                        "iteration": 686,
                        "passed_time": 71.90856271,
                        "remaining_time": 32.76183425
                      },
                      {
                        "learn": [
                          0.2193735821
                        ],
                        "iteration": 687,
                        "passed_time": 72.00009496,
                        "remaining_time": 32.65120585
                      },
                      {
                        "learn": [
                          0.2191696899
                        ],
                        "iteration": 688,
                        "passed_time": 72.08762105,
                        "remaining_time": 32.5388246
                      },
                      {
                        "learn": [
                          0.2186597494
                        ],
                        "iteration": 689,
                        "passed_time": 72.18237126,
                        "remaining_time": 32.429761
                      },
                      {
                        "learn": [
                          0.2179232965
                        ],
                        "iteration": 690,
                        "passed_time": 72.27332821,
                        "remaining_time": 32.31904257
                      },
                      {
                        "learn": [
                          0.2175535584
                        ],
                        "iteration": 691,
                        "passed_time": 72.36793291,
                        "remaining_time": 32.21000482
                      },
                      {
                        "learn": [
                          0.2170625001
                        ],
                        "iteration": 692,
                        "passed_time": 72.45001302,
                        "remaining_time": 32.09546031
                      },
                      {
                        "learn": [
                          0.2164476227
                        ],
                        "iteration": 693,
                        "passed_time": 72.54963365,
                        "remaining_time": 31.98874337
                      },
                      {
                        "learn": [
                          0.2156028667
                        ],
                        "iteration": 694,
                        "passed_time": 72.66100308,
                        "remaining_time": 31.88720279
                      },
                      {
                        "learn": [
                          0.2151277561
                        ],
                        "iteration": 695,
                        "passed_time": 72.7468012,
                        "remaining_time": 31.77446489
                      },
                      {
                        "learn": [
                          0.214962083
                        ],
                        "iteration": 696,
                        "passed_time": 72.84446783,
                        "remaining_time": 31.66696378
                      },
                      {
                        "learn": [
                          0.2145514804
                        ],
                        "iteration": 697,
                        "passed_time": 72.94330965,
                        "remaining_time": 31.5599993
                      },
                      {
                        "learn": [
                          0.213968428
                        ],
                        "iteration": 698,
                        "passed_time": 73.03693545,
                        "remaining_time": 31.45081197
                      },
                      {
                        "learn": [
                          0.2131904162
                        ],
                        "iteration": 699,
                        "passed_time": 73.11694848,
                        "remaining_time": 31.33583506
                      },
                      {
                        "learn": [
                          0.2129097059
                        ],
                        "iteration": 700,
                        "passed_time": 73.20734683,
                        "remaining_time": 31.22538759
                      },
                      {
                        "learn": [
                          0.2123521794
                        ],
                        "iteration": 701,
                        "passed_time": 73.30573491,
                        "remaining_time": 31.11838889
                      },
                      {
                        "learn": [
                          0.2117724108
                        ],
                        "iteration": 702,
                        "passed_time": 73.38807542,
                        "remaining_time": 31.00463499
                      },
                      {
                        "learn": [
                          0.21127472
                        ],
                        "iteration": 703,
                        "passed_time": 73.48469375,
                        "remaining_time": 30.89697351
                      },
                      {
                        "learn": [
                          0.210847692
                        ],
                        "iteration": 704,
                        "passed_time": 73.59718452,
                        "remaining_time": 30.79598501
                      },
                      {
                        "learn": [
                          0.2106599544
                        ],
                        "iteration": 705,
                        "passed_time": 73.71809275,
                        "remaining_time": 30.69846922
                      },
                      {
                        "learn": [
                          0.2101718031
                        ],
                        "iteration": 706,
                        "passed_time": 73.80965601,
                        "remaining_time": 30.5887259
                      },
                      {
                        "learn": [
                          0.2096353214
                        ],
                        "iteration": 707,
                        "passed_time": 73.9014181,
                        "remaining_time": 30.47911594
                      },
                      {
                        "learn": [
                          0.209271583
                        ],
                        "iteration": 708,
                        "passed_time": 73.99674499,
                        "remaining_time": 30.37101945
                      },
                      {
                        "learn": [
                          0.2088332964
                        ],
                        "iteration": 709,
                        "passed_time": 74.08735364,
                        "remaining_time": 30.26103177
                      },
                      {
                        "learn": [
                          0.2081568361
                        ],
                        "iteration": 710,
                        "passed_time": 74.17189738,
                        "remaining_time": 30.1486334
                      },
                      {
                        "learn": [
                          0.2076584226
                        ],
                        "iteration": 711,
                        "passed_time": 74.259506,
                        "remaining_time": 30.03755299
                      },
                      {
                        "learn": [
                          0.207111652
                        ],
                        "iteration": 712,
                        "passed_time": 74.35437957,
                        "remaining_time": 29.92946274
                      },
                      {
                        "learn": [
                          0.2066868802
                        ],
                        "iteration": 713,
                        "passed_time": 74.4573384,
                        "remaining_time": 29.82464815
                      },
                      {
                        "learn": [
                          0.2062415612
                        ],
                        "iteration": 714,
                        "passed_time": 74.62068466,
                        "remaining_time": 29.74390927
                      },
                      {
                        "learn": [
                          0.2060013522
                        ],
                        "iteration": 715,
                        "passed_time": 74.79542111,
                        "remaining_time": 29.66745754
                      },
                      {
                        "learn": [
                          0.2057624767
                        ],
                        "iteration": 716,
                        "passed_time": 74.96256384,
                        "remaining_time": 29.5877344
                      },
                      {
                        "learn": [
                          0.2054495221
                        ],
                        "iteration": 717,
                        "passed_time": 75.13072621,
                        "remaining_time": 29.50816823
                      },
                      {
                        "learn": [
                          0.2051625025
                        ],
                        "iteration": 718,
                        "passed_time": 75.28049925,
                        "remaining_time": 29.42116869
                      },
                      {
                        "learn": [
                          0.2047062126
                        ],
                        "iteration": 719,
                        "passed_time": 75.42083657,
                        "remaining_time": 29.33032533
                      },
                      {
                        "learn": [
                          0.2044324209
                        ],
                        "iteration": 720,
                        "passed_time": 75.59144485,
                        "remaining_time": 29.25105841
                      },
                      {
                        "learn": [
                          0.2043618646
                        ],
                        "iteration": 721,
                        "passed_time": 75.80457721,
                        "remaining_time": 29.187912
                      },
                      {
                        "learn": [
                          0.2039453622
                        ],
                        "iteration": 722,
                        "passed_time": 75.9526191,
                        "remaining_time": 29.09941285
                      },
                      {
                        "learn": [
                          0.2038675067
                        ],
                        "iteration": 723,
                        "passed_time": 76.07971184,
                        "remaining_time": 29.00276308
                      },
                      {
                        "learn": [
                          0.2034940018
                        ],
                        "iteration": 724,
                        "passed_time": 76.23686144,
                        "remaining_time": 28.9174302
                      },
                      {
                        "learn": [
                          0.2027958914
                        ],
                        "iteration": 725,
                        "passed_time": 76.39340575,
                        "remaining_time": 28.83167104
                      },
                      {
                        "learn": [
                          0.2024196735
                        ],
                        "iteration": 726,
                        "passed_time": 76.54036958,
                        "remaining_time": 28.74211953
                      },
                      {
                        "learn": [
                          0.2022325687
                        ],
                        "iteration": 727,
                        "passed_time": 76.68265277,
                        "remaining_time": 28.65066148
                      },
                      {
                        "learn": [
                          0.2015774037
                        ],
                        "iteration": 728,
                        "passed_time": 76.87715012,
                        "remaining_time": 28.57847419
                      },
                      {
                        "learn": [
                          0.2010624035
                        ],
                        "iteration": 729,
                        "passed_time": 77.05673031,
                        "remaining_time": 28.5004345
                      },
                      {
                        "learn": [
                          0.2004758194
                        ],
                        "iteration": 730,
                        "passed_time": 77.14217961,
                        "remaining_time": 28.38747786
                      },
                      {
                        "learn": [
                          0.2001773944
                        ],
                        "iteration": 731,
                        "passed_time": 77.22844612,
                        "remaining_time": 28.27489558
                      },
                      {
                        "learn": [
                          0.199784975
                        ],
                        "iteration": 732,
                        "passed_time": 77.32547565,
                        "remaining_time": 28.16630559
                      },
                      {
                        "learn": [
                          0.1992874395
                        ],
                        "iteration": 733,
                        "passed_time": 77.42460711,
                        "remaining_time": 28.05850884
                      },
                      {
                        "learn": [
                          0.1987243014
                        ],
                        "iteration": 734,
                        "passed_time": 77.53782663,
                        "remaining_time": 27.95581504
                      },
                      {
                        "learn": [
                          0.1982434088
                        ],
                        "iteration": 735,
                        "passed_time": 77.63175007,
                        "remaining_time": 27.84617122
                      },
                      {
                        "learn": [
                          0.1977118551
                        ],
                        "iteration": 736,
                        "passed_time": 77.72627758,
                        "remaining_time": 27.73678562
                      },
                      {
                        "learn": [
                          0.1972506394
                        ],
                        "iteration": 737,
                        "passed_time": 77.84695874,
                        "remaining_time": 27.63672519
                      },
                      {
                        "learn": [
                          0.1966960066
                        ],
                        "iteration": 738,
                        "passed_time": 77.95737917,
                        "remaining_time": 27.53298506
                      },
                      {
                        "learn": [
                          0.1963764247
                        ],
                        "iteration": 739,
                        "passed_time": 78.03870015,
                        "remaining_time": 27.41900276
                      },
                      {
                        "learn": [
                          0.1960310778
                        ],
                        "iteration": 740,
                        "passed_time": 78.12551539,
                        "remaining_time": 27.307029
                      },
                      {
                        "learn": [
                          0.1957054635
                        ],
                        "iteration": 741,
                        "passed_time": 78.21187254,
                        "remaining_time": 27.19496377
                      },
                      {
                        "learn": [
                          0.1952765321
                        ],
                        "iteration": 742,
                        "passed_time": 78.2997704,
                        "remaining_time": 27.08350066
                      },
                      {
                        "learn": [
                          0.1951560315
                        ],
                        "iteration": 743,
                        "passed_time": 78.40591555,
                        "remaining_time": 26.97837955
                      },
                      {
                        "learn": [
                          0.1948974946
                        ],
                        "iteration": 744,
                        "passed_time": 78.48393217,
                        "remaining_time": 26.86362779
                      },
                      {
                        "learn": [
                          0.1947675895
                        ],
                        "iteration": 745,
                        "passed_time": 78.57493231,
                        "remaining_time": 26.75339518
                      },
                      {
                        "learn": [
                          0.1943581044
                        ],
                        "iteration": 746,
                        "passed_time": 78.68776626,
                        "remaining_time": 26.65060892
                      },
                      {
                        "learn": [
                          0.1943129939
                        ],
                        "iteration": 747,
                        "passed_time": 78.76451249,
                        "remaining_time": 26.5356379
                      },
                      {
                        "learn": [
                          0.1935634287
                        ],
                        "iteration": 748,
                        "passed_time": 78.86390146,
                        "remaining_time": 26.42835683
                      },
                      {
                        "learn": [
                          0.1932842614
                        ],
                        "iteration": 749,
                        "passed_time": 78.97344496,
                        "remaining_time": 26.32448165
                      },
                      {
                        "learn": [
                          0.1926878332
                        ],
                        "iteration": 750,
                        "passed_time": 79.06488022,
                        "remaining_time": 26.21458745
                      },
                      {
                        "learn": [
                          0.1923769283
                        ],
                        "iteration": 751,
                        "passed_time": 79.16046963,
                        "remaining_time": 26.10611233
                      },
                      {
                        "learn": [
                          0.1920104101
                        ],
                        "iteration": 752,
                        "passed_time": 79.23778543,
                        "remaining_time": 25.99167729
                      },
                      {
                        "learn": [
                          0.1917427551
                        ],
                        "iteration": 753,
                        "passed_time": 79.31789425,
                        "remaining_time": 25.87825197
                      },
                      {
                        "learn": [
                          0.1913692805
                        ],
                        "iteration": 754,
                        "passed_time": 79.40267878,
                        "remaining_time": 25.76643219
                      },
                      {
                        "learn": [
                          0.1909229613
                        ],
                        "iteration": 755,
                        "passed_time": 79.5040551,
                        "remaining_time": 25.66003895
                      },
                      {
                        "learn": [
                          0.1905028693
                        ],
                        "iteration": 756,
                        "passed_time": 79.61123545,
                        "remaining_time": 25.55552208
                      },
                      {
                        "learn": [
                          0.1901610323
                        ],
                        "iteration": 757,
                        "passed_time": 79.68730488,
                        "remaining_time": 25.44106567
                      },
                      {
                        "learn": [
                          0.1896521482
                        ],
                        "iteration": 758,
                        "passed_time": 79.77251284,
                        "remaining_time": 25.32961211
                      },
                      {
                        "learn": [
                          0.1893947995
                        ],
                        "iteration": 759,
                        "passed_time": 79.85861566,
                        "remaining_time": 25.21851021
                      },
                      {
                        "learn": [
                          0.1889110177
                        ],
                        "iteration": 760,
                        "passed_time": 79.97526376,
                        "remaining_time": 25.11706707
                      },
                      {
                        "learn": [
                          0.1883855374
                        ],
                        "iteration": 761,
                        "passed_time": 80.06813322,
                        "remaining_time": 25.00815709
                      },
                      {
                        "learn": [
                          0.1877202842
                        ],
                        "iteration": 762,
                        "passed_time": 80.16767967,
                        "remaining_time": 24.90136315
                      },
                      {
                        "learn": [
                          0.1873593938
                        ],
                        "iteration": 763,
                        "passed_time": 80.26268317,
                        "remaining_time": 24.79318485
                      },
                      {
                        "learn": [
                          0.1871172573
                        ],
                        "iteration": 764,
                        "passed_time": 80.35164194,
                        "remaining_time": 24.68318412
                      },
                      {
                        "learn": [
                          0.1867589241
                        ],
                        "iteration": 765,
                        "passed_time": 80.4414142,
                        "remaining_time": 24.57348684
                      },
                      {
                        "learn": [
                          0.1863276979
                        ],
                        "iteration": 766,
                        "passed_time": 80.53878017,
                        "remaining_time": 24.46614834
                      },
                      {
                        "learn": [
                          0.185734906
                        ],
                        "iteration": 767,
                        "passed_time": 80.64201143,
                        "remaining_time": 24.36060762
                      },
                      {
                        "learn": [
                          0.1852384099
                        ],
                        "iteration": 768,
                        "passed_time": 80.72411916,
                        "remaining_time": 24.2487276
                      },
                      {
                        "learn": [
                          0.1848586122
                        ],
                        "iteration": 769,
                        "passed_time": 80.82650736,
                        "remaining_time": 24.14298272
                      },
                      {
                        "learn": [
                          0.184383778
                        ],
                        "iteration": 770,
                        "passed_time": 80.94946622,
                        "remaining_time": 24.04335637
                      },
                      {
                        "learn": [
                          0.1841340519
                        ],
                        "iteration": 771,
                        "passed_time": 81.0417429,
                        "remaining_time": 23.93460801
                      },
                      {
                        "learn": [
                          0.1834587194
                        ],
                        "iteration": 772,
                        "passed_time": 81.14433383,
                        "remaining_time": 23.82893115
                      },
                      {
                        "learn": [
                          0.1830496488
                        ],
                        "iteration": 773,
                        "passed_time": 81.23736199,
                        "remaining_time": 23.72047004
                      },
                      {
                        "learn": [
                          0.1828592193
                        ],
                        "iteration": 774,
                        "passed_time": 81.32649342,
                        "remaining_time": 23.61091744
                      },
                      {
                        "learn": [
                          0.1823239819
                        ],
                        "iteration": 775,
                        "passed_time": 81.42044807,
                        "remaining_time": 23.50280975
                      },
                      {
                        "learn": [
                          0.1818941498
                        ],
                        "iteration": 776,
                        "passed_time": 81.51838618,
                        "remaining_time": 23.39588175
                      },
                      {
                        "learn": [
                          0.181305359
                        ],
                        "iteration": 777,
                        "passed_time": 81.62723935,
                        "remaining_time": 23.29209143
                      },
                      {
                        "learn": [
                          0.18073792
                        ],
                        "iteration": 778,
                        "passed_time": 81.71986299,
                        "remaining_time": 23.18368385
                      },
                      {
                        "learn": [
                          0.1803521235
                        ],
                        "iteration": 779,
                        "passed_time": 81.81601237,
                        "remaining_time": 23.07631118
                      },
                      {
                        "learn": [
                          0.1798930633
                        ],
                        "iteration": 780,
                        "passed_time": 81.93278552,
                        "remaining_time": 22.97475036
                      },
                      {
                        "learn": [
                          0.1794817278
                        ],
                        "iteration": 781,
                        "passed_time": 82.04310888,
                        "remaining_time": 22.8713526
                      },
                      {
                        "learn": [
                          0.1791084677
                        ],
                        "iteration": 782,
                        "passed_time": 82.14273743,
                        "remaining_time": 22.76497321
                      },
                      {
                        "learn": [
                          0.1788824875
                        ],
                        "iteration": 783,
                        "passed_time": 82.22820991,
                        "remaining_time": 22.65471089
                      },
                      {
                        "learn": [
                          0.1784474056
                        ],
                        "iteration": 784,
                        "passed_time": 82.31761854,
                        "remaining_time": 22.54558979
                      },
                      {
                        "learn": [
                          0.1782929829
                        ],
                        "iteration": 785,
                        "passed_time": 82.41458591,
                        "remaining_time": 22.43857682
                      },
                      {
                        "learn": [
                          0.1777175265
                        ],
                        "iteration": 786,
                        "passed_time": 82.50512603,
                        "remaining_time": 22.32984987
                      },
                      {
                        "learn": [
                          0.1772811372
                        ],
                        "iteration": 787,
                        "passed_time": 82.62068036,
                        "remaining_time": 22.22789878
                      },
                      {
                        "learn": [
                          0.1769802414
                        ],
                        "iteration": 788,
                        "passed_time": 82.71603255,
                        "remaining_time": 22.12051061
                      },
                      {
                        "learn": [
                          0.1765509469
                        ],
                        "iteration": 789,
                        "passed_time": 82.79929759,
                        "remaining_time": 22.00993987
                      },
                      {
                        "learn": [
                          0.1763230749
                        ],
                        "iteration": 790,
                        "passed_time": 82.8734597,
                        "remaining_time": 21.89703297
                      },
                      {
                        "learn": [
                          0.1761145211
                        ],
                        "iteration": 791,
                        "passed_time": 82.97675541,
                        "remaining_time": 21.79187516
                      },
                      {
                        "learn": [
                          0.1758159097
                        ],
                        "iteration": 792,
                        "passed_time": 83.06609782,
                        "remaining_time": 21.68307976
                      },
                      {
                        "learn": [
                          0.175434275
                        ],
                        "iteration": 793,
                        "passed_time": 83.16844503,
                        "remaining_time": 21.5777074
                      },
                      {
                        "learn": [
                          0.1751300235
                        ],
                        "iteration": 794,
                        "passed_time": 83.26873054,
                        "remaining_time": 21.47181102
                      },
                      {
                        "learn": [
                          0.1746711646
                        ],
                        "iteration": 795,
                        "passed_time": 83.35862451,
                        "remaining_time": 21.36326558
                      },
                      {
                        "learn": [
                          0.1742486643
                        ],
                        "iteration": 796,
                        "passed_time": 83.44980226,
                        "remaining_time": 21.25509392
                      },
                      {
                        "learn": [
                          0.1739211242
                        ],
                        "iteration": 797,
                        "passed_time": 83.53005925,
                        "remaining_time": 21.14420046
                      },
                      {
                        "learn": [
                          0.1734554449
                        ],
                        "iteration": 798,
                        "passed_time": 83.6332585,
                        "remaining_time": 21.03915514
                      },
                      {
                        "learn": [
                          0.1730705597
                        ],
                        "iteration": 799,
                        "passed_time": 83.72473973,
                        "remaining_time": 20.93118493
                      },
                      {
                        "learn": [
                          0.172768127
                        ],
                        "iteration": 800,
                        "passed_time": 83.80401415,
                        "remaining_time": 20.82022324
                      },
                      {
                        "learn": [
                          0.1723347867
                        ],
                        "iteration": 801,
                        "passed_time": 83.90160382,
                        "remaining_time": 20.71386229
                      },
                      {
                        "learn": [
                          0.1720796526
                        ],
                        "iteration": 802,
                        "passed_time": 84.02404118,
                        "remaining_time": 20.61361907
                      },
                      {
                        "learn": [
                          0.1716754699
                        ],
                        "iteration": 803,
                        "passed_time": 84.14101866,
                        "remaining_time": 20.51198962
                      },
                      {
                        "learn": [
                          0.1713787519
                        ],
                        "iteration": 804,
                        "passed_time": 84.23575102,
                        "remaining_time": 20.40493348
                      },
                      {
                        "learn": [
                          0.1710121354
                        ],
                        "iteration": 805,
                        "passed_time": 84.31416647,
                        "remaining_time": 20.29398051
                      },
                      {
                        "learn": [
                          0.1709672555
                        ],
                        "iteration": 806,
                        "passed_time": 84.39045313,
                        "remaining_time": 20.18259907
                      },
                      {
                        "learn": [
                          0.1708430985
                        ],
                        "iteration": 807,
                        "passed_time": 84.47890751,
                        "remaining_time": 20.07419585
                      },
                      {
                        "learn": [
                          0.170571929
                        ],
                        "iteration": 808,
                        "passed_time": 84.56140693,
                        "remaining_time": 19.964436
                      },
                      {
                        "learn": [
                          0.1701995761
                        ],
                        "iteration": 809,
                        "passed_time": 84.66324599,
                        "remaining_time": 19.85927992
                      },
                      {
                        "learn": [
                          0.170037695
                        ],
                        "iteration": 810,
                        "passed_time": 84.76774853,
                        "remaining_time": 19.75475274
                      },
                      {
                        "learn": [
                          0.1698673424
                        ],
                        "iteration": 811,
                        "passed_time": 84.86155335,
                        "remaining_time": 19.64774881
                      },
                      {
                        "learn": [
                          0.1695683901
                        ],
                        "iteration": 812,
                        "passed_time": 84.95157116,
                        "remaining_time": 19.53990628
                      },
                      {
                        "learn": [
                          0.1693645001
                        ],
                        "iteration": 813,
                        "passed_time": 85.06419871,
                        "remaining_time": 19.43727391
                      },
                      {
                        "learn": [
                          0.1689653941
                        ],
                        "iteration": 814,
                        "passed_time": 85.15486122,
                        "remaining_time": 19.32963107
                      },
                      {
                        "learn": [
                          0.1685884744
                        ],
                        "iteration": 815,
                        "passed_time": 85.24047925,
                        "remaining_time": 19.22089238
                      },
                      {
                        "learn": [
                          0.1681978263
                        ],
                        "iteration": 816,
                        "passed_time": 85.3391555,
                        "remaining_time": 19.1151352
                      },
                      {
                        "learn": [
                          0.1680531396
                        ],
                        "iteration": 817,
                        "passed_time": 85.42765207,
                        "remaining_time": 19.00713041
                      },
                      {
                        "learn": [
                          0.1677560757
                        ],
                        "iteration": 818,
                        "passed_time": 85.52252928,
                        "remaining_time": 18.90058339
                      },
                      {
                        "learn": [
                          0.1673601744
                        ],
                        "iteration": 819,
                        "passed_time": 85.62205064,
                        "remaining_time": 18.79508429
                      },
                      {
                        "learn": [
                          0.1671178433
                        ],
                        "iteration": 820,
                        "passed_time": 85.72890699,
                        "remaining_time": 18.69119897
                      },
                      {
                        "learn": [
                          0.1668006991
                        ],
                        "iteration": 821,
                        "passed_time": 85.8174887,
                        "remaining_time": 18.58334913
                      },
                      {
                        "learn": [
                          0.1664150269
                        ],
                        "iteration": 822,
                        "passed_time": 85.8972181,
                        "remaining_time": 18.47364229
                      },
                      {
                        "learn": [
                          0.1662335123
                        ],
                        "iteration": 823,
                        "passed_time": 85.99842419,
                        "remaining_time": 18.36859546
                      },
                      {
                        "learn": [
                          0.1658071419
                        ],
                        "iteration": 824,
                        "passed_time": 86.10671632,
                        "remaining_time": 18.26506104
                      },
                      {
                        "learn": [
                          0.1655896853
                        ],
                        "iteration": 825,
                        "passed_time": 86.21200135,
                        "remaining_time": 18.16088164
                      },
                      {
                        "learn": [
                          0.1652988074
                        ],
                        "iteration": 826,
                        "passed_time": 86.31191113,
                        "remaining_time": 18.05557512
                      },
                      {
                        "learn": [
                          0.1649384272
                        ],
                        "iteration": 827,
                        "passed_time": 86.39377399,
                        "remaining_time": 17.94653276
                      },
                      {
                        "learn": [
                          0.1646007086
                        ],
                        "iteration": 828,
                        "passed_time": 86.48361975,
                        "remaining_time": 17.83920263
                      },
                      {
                        "learn": [
                          0.1644988672
                        ],
                        "iteration": 829,
                        "passed_time": 86.56376404,
                        "remaining_time": 17.72992757
                      },
                      {
                        "learn": [
                          0.1641032227
                        ],
                        "iteration": 830,
                        "passed_time": 86.64580099,
                        "remaining_time": 17.62110754
                      },
                      {
                        "learn": [
                          0.1636555211
                        ],
                        "iteration": 831,
                        "passed_time": 86.75148,
                        "remaining_time": 17.51712577
                      },
                      {
                        "learn": [
                          0.1632903402
                        ],
                        "iteration": 832,
                        "passed_time": 86.84884653,
                        "remaining_time": 17.41147343
                      },
                      {
                        "learn": [
                          0.1630299606
                        ],
                        "iteration": 833,
                        "passed_time": 86.94808323,
                        "remaining_time": 17.30621321
                      },
                      {
                        "learn": [
                          0.1628649253
                        ],
                        "iteration": 834,
                        "passed_time": 87.076487,
                        "remaining_time": 17.20673096
                      },
                      {
                        "learn": [
                          0.162679921
                        ],
                        "iteration": 835,
                        "passed_time": 87.28890152,
                        "remaining_time": 17.12366011
                      },
                      {
                        "learn": [
                          0.1623040261
                        ],
                        "iteration": 836,
                        "passed_time": 87.47588891,
                        "remaining_time": 17.03532843
                      },
                      {
                        "learn": [
                          0.1621019449
                        ],
                        "iteration": 837,
                        "passed_time": 87.65843418,
                        "remaining_time": 16.94590255
                      },
                      {
                        "learn": [
                          0.1617100407
                        ],
                        "iteration": 838,
                        "passed_time": 87.83677829,
                        "remaining_time": 16.85544852
                      },
                      {
                        "learn": [
                          0.1613754099
                        ],
                        "iteration": 839,
                        "passed_time": 88.00542409,
                        "remaining_time": 16.76293792
                      },
                      {
                        "learn": [
                          0.1612674778
                        ],
                        "iteration": 840,
                        "passed_time": 88.18749258,
                        "remaining_time": 16.67278397
                      },
                      {
                        "learn": [
                          0.1610885431
                        ],
                        "iteration": 841,
                        "passed_time": 88.35384367,
                        "remaining_time": 16.57946235
                      },
                      {
                        "learn": [
                          0.1608780074
                        ],
                        "iteration": 842,
                        "passed_time": 88.52002177,
                        "remaining_time": 16.48593525
                      },
                      {
                        "learn": [
                          0.1606824917
                        ],
                        "iteration": 843,
                        "passed_time": 88.70270099,
                        "remaining_time": 16.39528596
                      },
                      {
                        "learn": [
                          0.160406392
                        ],
                        "iteration": 844,
                        "passed_time": 88.85976702,
                        "remaining_time": 16.29972058
                      },
                      {
                        "learn": [
                          0.1600346627
                        ],
                        "iteration": 845,
                        "passed_time": 89.00668323,
                        "remaining_time": 16.2021622
                      },
                      {
                        "learn": [
                          0.1599104463
                        ],
                        "iteration": 846,
                        "passed_time": 89.16014506,
                        "remaining_time": 16.10566965
                      },
                      {
                        "learn": [
                          0.1596000779
                        ],
                        "iteration": 847,
                        "passed_time": 89.28875686,
                        "remaining_time": 16.00458849
                      },
                      {
                        "learn": [
                          0.159477156
                        ],
                        "iteration": 848,
                        "passed_time": 89.46251813,
                        "remaining_time": 15.9114726
                      },
                      {
                        "learn": [
                          0.1592758185
                        ],
                        "iteration": 849,
                        "passed_time": 89.60050216,
                        "remaining_time": 15.81185332
                      },
                      {
                        "learn": [
                          0.1589742805
                        ],
                        "iteration": 850,
                        "passed_time": 89.68977169,
                        "remaining_time": 15.70361455
                      },
                      {
                        "learn": [
                          0.1585742216
                        ],
                        "iteration": 851,
                        "passed_time": 89.78998365,
                        "remaining_time": 15.5973211
                      },
                      {
                        "learn": [
                          0.1583513569
                        ],
                        "iteration": 852,
                        "passed_time": 89.89744889,
                        "remaining_time": 15.4922919
                      },
                      {
                        "learn": [
                          0.15807355
                        ],
                        "iteration": 853,
                        "passed_time": 89.98462827,
                        "remaining_time": 15.38378891
                      },
                      {
                        "learn": [
                          0.1577449384
                        ],
                        "iteration": 854,
                        "passed_time": 90.0602341,
                        "remaining_time": 15.27337303
                      },
                      {
                        "learn": [
                          0.1573777187
                        ],
                        "iteration": 855,
                        "passed_time": 90.14808199,
                        "remaining_time": 15.1650979
                      },
                      {
                        "learn": [
                          0.1572463949
                        ],
                        "iteration": 856,
                        "passed_time": 90.21780735,
                        "remaining_time": 15.0538465
                      },
                      {
                        "learn": [
                          0.1570568038
                        ],
                        "iteration": 857,
                        "passed_time": 90.31958734,
                        "remaining_time": 14.94799697
                      },
                      {
                        "learn": [
                          0.1567076675
                        ],
                        "iteration": 858,
                        "passed_time": 90.45275001,
                        "remaining_time": 14.84730821
                      },
                      {
                        "learn": [
                          0.1563660769
                        ],
                        "iteration": 859,
                        "passed_time": 90.54554474,
                        "remaining_time": 14.7399724
                      },
                      {
                        "learn": [
                          0.1560386283
                        ],
                        "iteration": 860,
                        "passed_time": 90.63835282,
                        "remaining_time": 14.63267252
                      },
                      {
                        "learn": [
                          0.1558781299
                        ],
                        "iteration": 861,
                        "passed_time": 90.72435466,
                        "remaining_time": 14.52431664
                      },
                      {
                        "learn": [
                          0.1555260635
                        ],
                        "iteration": 862,
                        "passed_time": 90.81304055,
                        "remaining_time": 14.41643865
                      },
                      {
                        "learn": [
                          0.1553935372
                        ],
                        "iteration": 863,
                        "passed_time": 90.90915656,
                        "remaining_time": 14.30977464
                      },
                      {
                        "learn": [
                          0.1552529008
                        ],
                        "iteration": 864,
                        "passed_time": 91.00479466,
                        "remaining_time": 14.20306044
                      },
                      {
                        "learn": [
                          0.1548956626
                        ],
                        "iteration": 865,
                        "passed_time": 91.08029943,
                        "remaining_time": 14.09325649
                      },
                      {
                        "learn": [
                          0.1546660594
                        ],
                        "iteration": 866,
                        "passed_time": 91.1661506,
                        "remaining_time": 13.98511883
                      },
                      {
                        "learn": [
                          0.1543572524
                        ],
                        "iteration": 867,
                        "passed_time": 91.34282523,
                        "remaining_time": 13.89084439
                      },
                      {
                        "learn": [
                          0.1542659244
                        ],
                        "iteration": 868,
                        "passed_time": 91.57952406,
                        "remaining_time": 13.80542883
                      },
                      {
                        "learn": [
                          0.1540830928
                        ],
                        "iteration": 869,
                        "passed_time": 91.7502177,
                        "remaining_time": 13.70980264
                      },
                      {
                        "learn": [
                          0.1538997496
                        ],
                        "iteration": 870,
                        "passed_time": 91.95929063,
                        "remaining_time": 13.61968828
                      },
                      {
                        "learn": [
                          0.1537618327
                        ],
                        "iteration": 871,
                        "passed_time": 92.14657802,
                        "remaining_time": 13.52610319
                      },
                      {
                        "learn": [
                          0.1533436152
                        ],
                        "iteration": 872,
                        "passed_time": 92.24156234,
                        "remaining_time": 13.41887562
                      },
                      {
                        "learn": [
                          0.1531303671
                        ],
                        "iteration": 873,
                        "passed_time": 92.32522601,
                        "remaining_time": 13.31004402
                      },
                      {
                        "learn": [
                          0.1526843084
                        ],
                        "iteration": 874,
                        "passed_time": 92.41628046,
                        "remaining_time": 13.20232578
                      },
                      {
                        "learn": [
                          0.1524427674
                        ],
                        "iteration": 875,
                        "passed_time": 92.55047468,
                        "remaining_time": 13.10075212
                      },
                      {
                        "learn": [
                          0.1523585897
                        ],
                        "iteration": 876,
                        "passed_time": 92.63344635,
                        "remaining_time": 12.99192007
                      },
                      {
                        "learn": [
                          0.1522632971
                        ],
                        "iteration": 877,
                        "passed_time": 92.71561875,
                        "remaining_time": 12.88303586
                      },
                      {
                        "learn": [
                          0.1521804157
                        ],
                        "iteration": 878,
                        "passed_time": 92.80739233,
                        "remaining_time": 12.7755341
                      },
                      {
                        "learn": [
                          0.1518711907
                        ],
                        "iteration": 879,
                        "passed_time": 92.9101415,
                        "remaining_time": 12.66956475
                      },
                      {
                        "learn": [
                          0.1517141053
                        ],
                        "iteration": 880,
                        "passed_time": 93.01903615,
                        "remaining_time": 12.56443281
                      },
                      {
                        "learn": [
                          0.1516091989
                        ],
                        "iteration": 881,
                        "passed_time": 93.10870278,
                        "remaining_time": 12.45671987
                      },
                      {
                        "learn": [
                          0.1512060831
                        ],
                        "iteration": 882,
                        "passed_time": 93.18603172,
                        "remaining_time": 12.34741304
                      },
                      {
                        "learn": [
                          0.1510641895
                        ],
                        "iteration": 883,
                        "passed_time": 93.28198018,
                        "remaining_time": 12.24062183
                      },
                      {
                        "learn": [
                          0.1507475491
                        ],
                        "iteration": 884,
                        "passed_time": 93.3743826,
                        "remaining_time": 12.13339435
                      },
                      {
                        "learn": [
                          0.1506052921
                        ],
                        "iteration": 885,
                        "passed_time": 93.46123154,
                        "remaining_time": 12.02548577
                      },
                      {
                        "learn": [
                          0.1503597794
                        ],
                        "iteration": 886,
                        "passed_time": 93.58502683,
                        "remaining_time": 11.92233149
                      },
                      {
                        "learn": [
                          0.1501839912
                        ],
                        "iteration": 887,
                        "passed_time": 93.69047999,
                        "remaining_time": 11.8168173
                      },
                      {
                        "learn": [
                          0.1499287921
                        ],
                        "iteration": 888,
                        "passed_time": 93.78166834,
                        "remaining_time": 11.70952214
                      },
                      {
                        "learn": [
                          0.1496344806
                        ],
                        "iteration": 889,
                        "passed_time": 93.88826465,
                        "remaining_time": 11.60416754
                      },
                      {
                        "learn": [
                          0.1494379735
                        ],
                        "iteration": 890,
                        "passed_time": 93.98539739,
                        "remaining_time": 11.49765243
                      },
                      {
                        "learn": [
                          0.1490944197
                        ],
                        "iteration": 891,
                        "passed_time": 94.07050519,
                        "remaining_time": 11.38970242
                      },
                      {
                        "learn": [
                          0.148889635
                        ],
                        "iteration": 892,
                        "passed_time": 94.16708413,
                        "remaining_time": 11.28317805
                      },
                      {
                        "learn": [
                          0.1484924644
                        ],
                        "iteration": 893,
                        "passed_time": 94.26160173,
                        "remaining_time": 11.17643152
                      },
                      {
                        "learn": [
                          0.1483067022
                        ],
                        "iteration": 894,
                        "passed_time": 94.34941599,
                        "remaining_time": 11.0689259
                      },
                      {
                        "learn": [
                          0.1479734404
                        ],
                        "iteration": 895,
                        "passed_time": 94.43729799,
                        "remaining_time": 10.96147209
                      },
                      {
                        "learn": [
                          0.1476649535
                        ],
                        "iteration": 896,
                        "passed_time": 94.54672431,
                        "remaining_time": 10.85653579
                      },
                      {
                        "learn": [
                          0.1475380308
                        ],
                        "iteration": 897,
                        "passed_time": 94.6266641,
                        "remaining_time": 10.74824024
                      },
                      {
                        "learn": [
                          0.1473990319
                        ],
                        "iteration": 898,
                        "passed_time": 94.72699595,
                        "remaining_time": 10.64229877
                      },
                      {
                        "learn": [
                          0.1471620856
                        ],
                        "iteration": 899,
                        "passed_time": 94.81084788,
                        "remaining_time": 10.53453865
                      },
                      {
                        "learn": [
                          0.1468495921
                        ],
                        "iteration": 900,
                        "passed_time": 94.91691578,
                        "remaining_time": 10.42927266
                      },
                      {
                        "learn": [
                          0.1466741578
                        ],
                        "iteration": 901,
                        "passed_time": 95.01139514,
                        "remaining_time": 10.32274581
                      },
                      {
                        "learn": [
                          0.1465562002
                        ],
                        "iteration": 902,
                        "passed_time": 95.09541664,
                        "remaining_time": 10.21512227
                      },
                      {
                        "learn": [
                          0.1462986372
                        ],
                        "iteration": 903,
                        "passed_time": 95.18815813,
                        "remaining_time": 10.10847697
                      },
                      {
                        "learn": [
                          0.1460818837
                        ],
                        "iteration": 904,
                        "passed_time": 95.26203213,
                        "remaining_time": 9.999881826
                      },
                      {
                        "learn": [
                          0.1458516318
                        ],
                        "iteration": 905,
                        "passed_time": 95.34351702,
                        "remaining_time": 9.89215298
                      },
                      {
                        "learn": [
                          0.1455779122
                        ],
                        "iteration": 906,
                        "passed_time": 95.43553948,
                        "remaining_time": 9.785562482
                      },
                      {
                        "learn": [
                          0.1452901172
                        ],
                        "iteration": 907,
                        "passed_time": 95.55029773,
                        "remaining_time": 9.681307699
                      },
                      {
                        "learn": [
                          0.1449770471
                        ],
                        "iteration": 908,
                        "passed_time": 95.66573992,
                        "remaining_time": 9.577098276
                      },
                      {
                        "learn": [
                          0.1445922355
                        ],
                        "iteration": 909,
                        "passed_time": 95.76342882,
                        "remaining_time": 9.471108344
                      },
                      {
                        "learn": [
                          0.1444331314
                        ],
                        "iteration": 910,
                        "passed_time": 95.84202672,
                        "remaining_time": 9.363271545
                      },
                      {
                        "learn": [
                          0.1442708148
                        ],
                        "iteration": 911,
                        "passed_time": 95.95037505,
                        "remaining_time": 9.258369522
                      },
                      {
                        "learn": [
                          0.1440276557
                        ],
                        "iteration": 912,
                        "passed_time": 96.05187908,
                        "remaining_time": 9.152807755
                      },
                      {
                        "learn": [
                          0.1439237377
                        ],
                        "iteration": 913,
                        "passed_time": 96.13242498,
                        "remaining_time": 9.045282875
                      },
                      {
                        "learn": [
                          0.1437223678
                        ],
                        "iteration": 914,
                        "passed_time": 96.21389099,
                        "remaining_time": 8.937902441
                      },
                      {
                        "learn": [
                          0.1434744799
                        ],
                        "iteration": 915,
                        "passed_time": 96.3204899,
                        "remaining_time": 8.832883353
                      },
                      {
                        "learn": [
                          0.1433125447
                        ],
                        "iteration": 916,
                        "passed_time": 96.40851511,
                        "remaining_time": 8.726179667
                      },
                      {
                        "learn": [
                          0.1429594286
                        ],
                        "iteration": 917,
                        "passed_time": 96.4951112,
                        "remaining_time": 8.619389018
                      },
                      {
                        "learn": [
                          0.1426987948
                        ],
                        "iteration": 918,
                        "passed_time": 96.6114964,
                        "remaining_time": 8.515267909
                      },
                      {
                        "learn": [
                          0.1425716816
                        ],
                        "iteration": 919,
                        "passed_time": 96.71367562,
                        "remaining_time": 8.409884837
                      },
                      {
                        "learn": [
                          0.1424573325
                        ],
                        "iteration": 920,
                        "passed_time": 96.7986718,
                        "remaining_time": 8.303034823
                      },
                      {
                        "learn": [
                          0.1422758828
                        ],
                        "iteration": 921,
                        "passed_time": 96.88324078,
                        "remaining_time": 8.196196075
                      },
                      {
                        "learn": [
                          0.1421254232
                        ],
                        "iteration": 922,
                        "passed_time": 96.98810551,
                        "remaining_time": 8.091098726
                      },
                      {
                        "learn": [
                          0.1417976589
                        ],
                        "iteration": 923,
                        "passed_time": 97.06688662,
                        "remaining_time": 7.983856475
                      },
                      {
                        "learn": [
                          0.1414661246
                        ],
                        "iteration": 924,
                        "passed_time": 97.18013712,
                        "remaining_time": 7.879470578
                      },
                      {
                        "learn": [
                          0.1413358502
                        ],
                        "iteration": 925,
                        "passed_time": 97.26784164,
                        "remaining_time": 7.773024062
                      },
                      {
                        "learn": [
                          0.1412124687
                        ],
                        "iteration": 926,
                        "passed_time": 97.3560564,
                        "remaining_time": 7.666658163
                      },
                      {
                        "learn": [
                          0.1409584269
                        ],
                        "iteration": 927,
                        "passed_time": 97.45370219,
                        "remaining_time": 7.561063101
                      },
                      {
                        "learn": [
                          0.1407996954
                        ],
                        "iteration": 928,
                        "passed_time": 97.54785164,
                        "remaining_time": 7.455217941
                      },
                      {
                        "learn": [
                          0.1404769058
                        ],
                        "iteration": 929,
                        "passed_time": 97.67033984,
                        "remaining_time": 7.351530956
                      },
                      {
                        "learn": [
                          0.1403804032
                        ],
                        "iteration": 930,
                        "passed_time": 97.77090862,
                        "remaining_time": 7.246179049
                      },
                      {
                        "learn": [
                          0.1403446279
                        ],
                        "iteration": 931,
                        "passed_time": 97.84595355,
                        "remaining_time": 7.138975152
                      },
                      {
                        "learn": [
                          0.1402231361
                        ],
                        "iteration": 932,
                        "passed_time": 97.93777567,
                        "remaining_time": 7.033044984
                      },
                      {
                        "learn": [
                          0.1400639222
                        ],
                        "iteration": 933,
                        "passed_time": 98.04260888,
                        "remaining_time": 6.928064439
                      },
                      {
                        "learn": [
                          0.1397940647
                        ],
                        "iteration": 934,
                        "passed_time": 98.14005159,
                        "remaining_time": 6.822570432
                      },
                      {
                        "learn": [
                          0.139535338
                        ],
                        "iteration": 935,
                        "passed_time": 98.23808473,
                        "remaining_time": 6.717133999
                      },
                      {
                        "learn": [
                          0.1391740572
                        ],
                        "iteration": 936,
                        "passed_time": 98.31856671,
                        "remaining_time": 6.610533301
                      },
                      {
                        "learn": [
                          0.1389314729
                        ],
                        "iteration": 937,
                        "passed_time": 98.41472824,
                        "remaining_time": 6.505024681
                      },
                      {
                        "learn": [
                          0.1388034634
                        ],
                        "iteration": 938,
                        "passed_time": 98.50509851,
                        "remaining_time": 6.399159754
                      },
                      {
                        "learn": [
                          0.1385934756
                        ],
                        "iteration": 939,
                        "passed_time": 98.59070319,
                        "remaining_time": 6.293023608
                      },
                      {
                        "learn": [
                          0.1383651772
                        ],
                        "iteration": 940,
                        "passed_time": 98.72762102,
                        "remaining_time": 6.190148395
                      },
                      {
                        "learn": [
                          0.138048997
                        ],
                        "iteration": 941,
                        "passed_time": 98.81956612,
                        "remaining_time": 6.084431884
                      },
                      {
                        "learn": [
                          0.1378962022
                        ],
                        "iteration": 942,
                        "passed_time": 98.91317876,
                        "remaining_time": 5.978845376
                      },
                      {
                        "learn": [
                          0.1375155159
                        ],
                        "iteration": 943,
                        "passed_time": 99.01211778,
                        "remaining_time": 5.873600207
                      },
                      {
                        "learn": [
                          0.1374612308
                        ],
                        "iteration": 944,
                        "passed_time": 99.10377019,
                        "remaining_time": 5.767944297
                      },
                      {
                        "learn": [
                          0.1371983366
                        ],
                        "iteration": 945,
                        "passed_time": 99.18533143,
                        "remaining_time": 5.661741963
                      },
                      {
                        "learn": [
                          0.1368890557
                        ],
                        "iteration": 946,
                        "passed_time": 99.26009613,
                        "remaining_time": 5.555211293
                      },
                      {
                        "learn": [
                          0.1367452738
                        ],
                        "iteration": 947,
                        "passed_time": 99.34482089,
                        "remaining_time": 5.449293973
                      },
                      {
                        "learn": [
                          0.1365594666
                        ],
                        "iteration": 948,
                        "passed_time": 99.45437758,
                        "remaining_time": 5.344755802
                      },
                      {
                        "learn": [
                          0.1362748626
                        ],
                        "iteration": 949,
                        "passed_time": 99.59794071,
                        "remaining_time": 5.241996879
                      },
                      {
                        "learn": [
                          0.1360991933
                        ],
                        "iteration": 950,
                        "passed_time": 99.78359259,
                        "remaining_time": 5.141320754
                      },
                      {
                        "learn": [
                          0.1359132593
                        ],
                        "iteration": 951,
                        "passed_time": 99.95589682,
                        "remaining_time": 5.039793117
                      },
                      {
                        "learn": [
                          0.1356457223
                        ],
                        "iteration": 952,
                        "passed_time": 100.137595,
                        "remaining_time": 4.938580237
                      },
                      {
                        "learn": [
                          0.1354486105
                        ],
                        "iteration": 953,
                        "passed_time": 100.3044641,
                        "remaining_time": 4.836483592
                      },
                      {
                        "learn": [
                          0.1351580715
                        ],
                        "iteration": 954,
                        "passed_time": 100.4520555,
                        "remaining_time": 4.733342929
                      },
                      {
                        "learn": [
                          0.1348876145
                        ],
                        "iteration": 955,
                        "passed_time": 100.7678322,
                        "remaining_time": 4.637850019
                      },
                      {
                        "learn": [
                          0.1345614905
                        ],
                        "iteration": 956,
                        "passed_time": 101.3524368,
                        "remaining_time": 4.553975738
                      },
                      {
                        "learn": [
                          0.1342816216
                        ],
                        "iteration": 957,
                        "passed_time": 101.7090715,
                        "remaining_time": 4.459061589
                      },
                      {
                        "learn": [
                          0.1340305917
                        ],
                        "iteration": 958,
                        "passed_time": 101.8544058,
                        "remaining_time": 4.354567923
                      },
                      {
                        "learn": [
                          0.1338780921
                        ],
                        "iteration": 959,
                        "passed_time": 102.0485292,
                        "remaining_time": 4.25202205
                      },
                      {
                        "learn": [
                          0.1336737449
                        ],
                        "iteration": 960,
                        "passed_time": 102.4542862,
                        "remaining_time": 4.157874259
                      },
                      {
                        "learn": [
                          0.1335039284
                        ],
                        "iteration": 961,
                        "passed_time": 102.7508998,
                        "remaining_time": 4.058767352
                      },
                      {
                        "learn": [
                          0.1332248033
                        ],
                        "iteration": 962,
                        "passed_time": 102.8814972,
                        "remaining_time": 3.952871648
                      },
                      {
                        "learn": [
                          0.1330960632
                        ],
                        "iteration": 963,
                        "passed_time": 102.9707621,
                        "remaining_time": 3.845381156
                      },
                      {
                        "learn": [
                          0.1327787245
                        ],
                        "iteration": 964,
                        "passed_time": 103.0693696,
                        "remaining_time": 3.738267291
                      },
                      {
                        "learn": [
                          0.1325255232
                        ],
                        "iteration": 965,
                        "passed_time": 103.1537627,
                        "remaining_time": 3.630670736
                      },
                      {
                        "learn": [
                          0.1323155673
                        ],
                        "iteration": 966,
                        "passed_time": 103.2515061,
                        "remaining_time": 3.523577767
                      },
                      {
                        "learn": [
                          0.132147515
                        ],
                        "iteration": 967,
                        "passed_time": 103.3607857,
                        "remaining_time": 3.416885479
                      },
                      {
                        "learn": [
                          0.1319679196
                        ],
                        "iteration": 968,
                        "passed_time": 103.4700886,
                        "remaining_time": 3.310188592
                      },
                      {
                        "learn": [
                          0.1317796987
                        ],
                        "iteration": 969,
                        "passed_time": 103.5486159,
                        "remaining_time": 3.202534513
                      },
                      {
                        "learn": [
                          0.1315635859
                        ],
                        "iteration": 970,
                        "passed_time": 103.6351328,
                        "remaining_time": 3.095179043
                      },
                      {
                        "learn": [
                          0.1314776945
                        ],
                        "iteration": 971,
                        "passed_time": 103.7405116,
                        "remaining_time": 2.9884098
                      },
                      {
                        "learn": [
                          0.1313092944
                        ],
                        "iteration": 972,
                        "passed_time": 103.8270981,
                        "remaining_time": 2.88112194
                      },
                      {
                        "learn": [
                          0.1311972195
                        ],
                        "iteration": 973,
                        "passed_time": 103.9163698,
                        "remaining_time": 2.773948269
                      },
                      {
                        "learn": [
                          0.130957613
                        ],
                        "iteration": 974,
                        "passed_time": 104.0092176,
                        "remaining_time": 2.666903016
                      },
                      {
                        "learn": [
                          0.1308286072
                        ],
                        "iteration": 975,
                        "passed_time": 104.0956853,
                        "remaining_time": 2.559729966
                      },
                      {
                        "learn": [
                          0.1306789082
                        ],
                        "iteration": 976,
                        "passed_time": 104.1873098,
                        "remaining_time": 2.452720702
                      },
                      {
                        "learn": [
                          0.1305465645
                        ],
                        "iteration": 977,
                        "passed_time": 104.2869503,
                        "remaining_time": 2.345923218
                      },
                      {
                        "learn": [
                          0.130366766
                        ],
                        "iteration": 978,
                        "passed_time": 104.3605956,
                        "remaining_time": 2.238582746
                      },
                      {
                        "learn": [
                          0.1301034229
                        ],
                        "iteration": 979,
                        "passed_time": 104.4742176,
                        "remaining_time": 2.132126889
                      },
                      {
                        "learn": [
                          0.1298321555
                        ],
                        "iteration": 980,
                        "passed_time": 104.5794618,
                        "remaining_time": 2.025494163
                      },
                      {
                        "learn": [
                          0.129547265
                        ],
                        "iteration": 981,
                        "passed_time": 104.6634217,
                        "remaining_time": 1.918474125
                      },
                      {
                        "learn": [
                          0.1292782702
                        ],
                        "iteration": 982,
                        "passed_time": 104.7515386,
                        "remaining_time": 1.811572895
                      },
                      {
                        "learn": [
                          0.1291559151
                        ],
                        "iteration": 983,
                        "passed_time": 104.8512385,
                        "remaining_time": 1.704898187
                      },
                      {
                        "learn": [
                          0.1289168212
                        ],
                        "iteration": 984,
                        "passed_time": 104.9416265,
                        "remaining_time": 1.598095835
                      },
                      {
                        "learn": [
                          0.1286873406
                        ],
                        "iteration": 985,
                        "passed_time": 105.037565,
                        "remaining_time": 1.491405588
                      },
                      {
                        "learn": [
                          0.1284924913
                        ],
                        "iteration": 986,
                        "passed_time": 105.1372707,
                        "remaining_time": 1.384786747
                      },
                      {
                        "learn": [
                          0.1283123537
                        ],
                        "iteration": 987,
                        "passed_time": 105.2474148,
                        "remaining_time": 1.278308682
                      },
                      {
                        "learn": [
                          0.1281323845
                        ],
                        "iteration": 988,
                        "passed_time": 105.3465909,
                        "remaining_time": 1.171701213
                      },
                      {
                        "learn": [
                          0.1279960568
                        ],
                        "iteration": 989,
                        "passed_time": 105.4605765,
                        "remaining_time": 1.065258349
                      },
                      {
                        "learn": [
                          0.1277679808
                        ],
                        "iteration": 990,
                        "passed_time": 105.5558177,
                        "remaining_time": 0.9586300293
                      },
                      {
                        "learn": [
                          0.1276393841
                        ],
                        "iteration": 991,
                        "passed_time": 105.6510146,
                        "remaining_time": 0.8520243113
                      },
                      {
                        "learn": [
                          0.1274446728
                        ],
                        "iteration": 992,
                        "passed_time": 105.7449197,
                        "remaining_time": 0.7454324652
                      },
                      {
                        "learn": [
                          0.1272337796
                        ],
                        "iteration": 993,
                        "passed_time": 105.8549617,
                        "remaining_time": 0.6389635512
                      },
                      {
                        "learn": [
                          0.127103443
                        ],
                        "iteration": 994,
                        "passed_time": 105.9628736,
                        "remaining_time": 0.5324767516
                      },
                      {
                        "learn": [
                          0.1269158664
                        ],
                        "iteration": 995,
                        "passed_time": 106.0578861,
                        "remaining_time": 0.4259352855
                      },
                      {
                        "learn": [
                          0.126738976
                        ],
                        "iteration": 996,
                        "passed_time": 106.1622893,
                        "remaining_time": 0.3194452035
                      },
                      {
                        "learn": [
                          0.1266427083
                        ],
                        "iteration": 997,
                        "passed_time": 106.2726787,
                        "remaining_time": 0.2129713
                      },
                      {
                        "learn": [
                          0.1265574323
                        ],
                        "iteration": 998,
                        "passed_time": 106.3714892,
                        "remaining_time": 0.1064779672
                      },
                      {
                        "learn": [
                          0.1264639801
                        ],
                        "iteration": 999,
                        "passed_time": 106.443845,
                        "remaining_time": 0
                      }
                    ],
                    "meta": {
                      "test_sets": [],
                      "test_metrics": [],
                      "learn_metrics": [
                        {
                          "best_value": "Min",
                          "name": "MultiClass"
                        }
                      ],
                      "launch_mode": "Train",
                      "parameters": "",
                      "iteration_count": 1000,
                      "learn_sets": [
                        "learn"
                      ],
                      "name": "experiment"
                    }
                  }
                }
              }
            },
            "layout": "IPY_MODEL_2ccba6ac93ed4e28bd6646d6040f7b0c"
          }
        }
      }
    }
  },
  "nbformat": 4,
  "nbformat_minor": 0
}